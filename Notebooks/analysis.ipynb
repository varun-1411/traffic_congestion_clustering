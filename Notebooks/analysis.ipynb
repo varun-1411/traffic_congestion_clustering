{
 "cells": [
  {
   "cell_type": "code",
   "execution_count": 1,
   "metadata": {},
   "outputs": [],
   "source": [
    "import pandas as pd\n",
    "import numpy as np"
   ]
  },
  {
   "cell_type": "code",
   "execution_count": 3,
   "metadata": {},
   "outputs": [],
   "source": [
    "gps_data = pd.read_csv('../Datasets/gps_point2.csv')\n",
    "edges_data = pd.read_csv('../Datasets/edges.csv')  "
   ]
  },
  {
   "cell_type": "code",
   "execution_count": 4,
   "metadata": {},
   "outputs": [
    {
     "data": {
      "text/html": [
       "<div>\n",
       "<style scoped>\n",
       "    .dataframe tbody tr th:only-of-type {\n",
       "        vertical-align: middle;\n",
       "    }\n",
       "\n",
       "    .dataframe tbody tr th {\n",
       "        vertical-align: top;\n",
       "    }\n",
       "\n",
       "    .dataframe thead th {\n",
       "        text-align: right;\n",
       "    }\n",
       "</style>\n",
       "<table border=\"1\" class=\"dataframe\">\n",
       "  <thead>\n",
       "    <tr style=\"text-align: right;\">\n",
       "      <th></th>\n",
       "      <th>DEVICE_ID</th>\n",
       "      <th>IST_DATE</th>\n",
       "      <th>LAT</th>\n",
       "      <th>LONGITUDE</th>\n",
       "      <th>YEAR</th>\n",
       "      <th>DAY</th>\n",
       "      <th>DATE</th>\n",
       "      <th>TIME</th>\n",
       "      <th>PREV_LAT</th>\n",
       "      <th>PREV_LONGITUDE</th>\n",
       "      <th>...</th>\n",
       "      <th>length</th>\n",
       "      <th>geometry</th>\n",
       "      <th>reversed</th>\n",
       "      <th>oneway</th>\n",
       "      <th>u</th>\n",
       "      <th>v</th>\n",
       "      <th>lat_u</th>\n",
       "      <th>long_u</th>\n",
       "      <th>lat_v</th>\n",
       "      <th>long_v</th>\n",
       "    </tr>\n",
       "  </thead>\n",
       "  <tbody>\n",
       "    <tr>\n",
       "      <th>0</th>\n",
       "      <td>150211826</td>\n",
       "      <td>2019-10-13 08:53:51</td>\n",
       "      <td>13.043451</td>\n",
       "      <td>77.594177</td>\n",
       "      <td>2019</td>\n",
       "      <td>6</td>\n",
       "      <td>2019-10-13</td>\n",
       "      <td>08:53:51</td>\n",
       "      <td>13.043492</td>\n",
       "      <td>77.593880</td>\n",
       "      <td>...</td>\n",
       "      <td>NaN</td>\n",
       "      <td>NaN</td>\n",
       "      <td>NaN</td>\n",
       "      <td>NaN</td>\n",
       "      <td>NaN</td>\n",
       "      <td>NaN</td>\n",
       "      <td>NaN</td>\n",
       "      <td>NaN</td>\n",
       "      <td>NaN</td>\n",
       "      <td>NaN</td>\n",
       "    </tr>\n",
       "    <tr>\n",
       "      <th>1</th>\n",
       "      <td>150211826</td>\n",
       "      <td>2019-10-13 08:54:11</td>\n",
       "      <td>13.043905</td>\n",
       "      <td>77.594383</td>\n",
       "      <td>2019</td>\n",
       "      <td>6</td>\n",
       "      <td>2019-10-13</td>\n",
       "      <td>08:54:11</td>\n",
       "      <td>13.043580</td>\n",
       "      <td>77.594345</td>\n",
       "      <td>...</td>\n",
       "      <td>NaN</td>\n",
       "      <td>NaN</td>\n",
       "      <td>NaN</td>\n",
       "      <td>NaN</td>\n",
       "      <td>NaN</td>\n",
       "      <td>NaN</td>\n",
       "      <td>NaN</td>\n",
       "      <td>NaN</td>\n",
       "      <td>NaN</td>\n",
       "      <td>NaN</td>\n",
       "    </tr>\n",
       "    <tr>\n",
       "      <th>2</th>\n",
       "      <td>150211826</td>\n",
       "      <td>2019-10-13 08:54:21</td>\n",
       "      <td>13.043978</td>\n",
       "      <td>77.594055</td>\n",
       "      <td>2019</td>\n",
       "      <td>6</td>\n",
       "      <td>2019-10-13</td>\n",
       "      <td>08:54:21</td>\n",
       "      <td>13.043905</td>\n",
       "      <td>77.594383</td>\n",
       "      <td>...</td>\n",
       "      <td>NaN</td>\n",
       "      <td>NaN</td>\n",
       "      <td>NaN</td>\n",
       "      <td>NaN</td>\n",
       "      <td>NaN</td>\n",
       "      <td>NaN</td>\n",
       "      <td>NaN</td>\n",
       "      <td>NaN</td>\n",
       "      <td>NaN</td>\n",
       "      <td>NaN</td>\n",
       "    </tr>\n",
       "    <tr>\n",
       "      <th>3</th>\n",
       "      <td>150211826</td>\n",
       "      <td>2019-10-13 09:14:08</td>\n",
       "      <td>13.043552</td>\n",
       "      <td>77.594284</td>\n",
       "      <td>2019</td>\n",
       "      <td>6</td>\n",
       "      <td>2019-10-13</td>\n",
       "      <td>09:14:08</td>\n",
       "      <td>13.043483</td>\n",
       "      <td>77.594017</td>\n",
       "      <td>...</td>\n",
       "      <td>NaN</td>\n",
       "      <td>NaN</td>\n",
       "      <td>NaN</td>\n",
       "      <td>NaN</td>\n",
       "      <td>NaN</td>\n",
       "      <td>NaN</td>\n",
       "      <td>NaN</td>\n",
       "      <td>NaN</td>\n",
       "      <td>NaN</td>\n",
       "      <td>NaN</td>\n",
       "    </tr>\n",
       "    <tr>\n",
       "      <th>4</th>\n",
       "      <td>150211826</td>\n",
       "      <td>2019-10-13 09:14:18</td>\n",
       "      <td>13.043908</td>\n",
       "      <td>77.594345</td>\n",
       "      <td>2019</td>\n",
       "      <td>6</td>\n",
       "      <td>2019-10-13</td>\n",
       "      <td>09:14:18</td>\n",
       "      <td>13.043552</td>\n",
       "      <td>77.594284</td>\n",
       "      <td>...</td>\n",
       "      <td>NaN</td>\n",
       "      <td>NaN</td>\n",
       "      <td>NaN</td>\n",
       "      <td>NaN</td>\n",
       "      <td>NaN</td>\n",
       "      <td>NaN</td>\n",
       "      <td>NaN</td>\n",
       "      <td>NaN</td>\n",
       "      <td>NaN</td>\n",
       "      <td>NaN</td>\n",
       "    </tr>\n",
       "  </tbody>\n",
       "</table>\n",
       "<p>5 rows × 29 columns</p>\n",
       "</div>"
      ],
      "text/plain": [
       "   DEVICE_ID             IST_DATE        LAT  LONGITUDE  YEAR  DAY  \\\n",
       "0  150211826  2019-10-13 08:53:51  13.043451  77.594177  2019    6   \n",
       "1  150211826  2019-10-13 08:54:11  13.043905  77.594383  2019    6   \n",
       "2  150211826  2019-10-13 08:54:21  13.043978  77.594055  2019    6   \n",
       "3  150211826  2019-10-13 09:14:08  13.043552  77.594284  2019    6   \n",
       "4  150211826  2019-10-13 09:14:18  13.043908  77.594345  2019    6   \n",
       "\n",
       "         DATE      TIME   PREV_LAT  PREV_LONGITUDE  ... length  geometry  \\\n",
       "0  2019-10-13  08:53:51  13.043492       77.593880  ...    NaN       NaN   \n",
       "1  2019-10-13  08:54:11  13.043580       77.594345  ...    NaN       NaN   \n",
       "2  2019-10-13  08:54:21  13.043905       77.594383  ...    NaN       NaN   \n",
       "3  2019-10-13  09:14:08  13.043483       77.594017  ...    NaN       NaN   \n",
       "4  2019-10-13  09:14:18  13.043552       77.594284  ...    NaN       NaN   \n",
       "\n",
       "   reversed  oneway   u   v  lat_u long_u lat_v  long_v  \n",
       "0       NaN     NaN NaN NaN    NaN    NaN   NaN     NaN  \n",
       "1       NaN     NaN NaN NaN    NaN    NaN   NaN     NaN  \n",
       "2       NaN     NaN NaN NaN    NaN    NaN   NaN     NaN  \n",
       "3       NaN     NaN NaN NaN    NaN    NaN   NaN     NaN  \n",
       "4       NaN     NaN NaN NaN    NaN    NaN   NaN     NaN  \n",
       "\n",
       "[5 rows x 29 columns]"
      ]
     },
     "execution_count": 4,
     "metadata": {},
     "output_type": "execute_result"
    }
   ],
   "source": [
    "gps_data.head()"
   ]
  },
  {
   "cell_type": "code",
   "execution_count": 6,
   "metadata": {},
   "outputs": [
    {
     "data": {
      "text/plain": [
       "Index(['DEVICE_ID', 'IST_DATE', 'LAT', 'LONGITUDE', 'YEAR', 'DAY', 'DATE',\n",
       "       'TIME', 'PREV_LAT', 'PREV_LONGITUDE', 'PREV_IST_DATE', 'DISTANCE',\n",
       "       'TIME_DIFF', 'SPEED', 'STOP_TIME', 'segment_id', 'index', 'osmid',\n",
       "       'highway', 'length', 'geometry', 'reversed', 'oneway', 'u', 'v',\n",
       "       'lat_u', 'long_u', 'lat_v', 'long_v'],\n",
       "      dtype='object')"
      ]
     },
     "execution_count": 6,
     "metadata": {},
     "output_type": "execute_result"
    }
   ],
   "source": [
    "gps_data.columns"
   ]
  },
  {
   "cell_type": "code",
   "execution_count": 5,
   "metadata": {},
   "outputs": [
    {
     "data": {
      "text/html": [
       "<div>\n",
       "<style scoped>\n",
       "    .dataframe tbody tr th:only-of-type {\n",
       "        vertical-align: middle;\n",
       "    }\n",
       "\n",
       "    .dataframe tbody tr th {\n",
       "        vertical-align: top;\n",
       "    }\n",
       "\n",
       "    .dataframe thead th {\n",
       "        text-align: right;\n",
       "    }\n",
       "</style>\n",
       "<table border=\"1\" class=\"dataframe\">\n",
       "  <thead>\n",
       "    <tr style=\"text-align: right;\">\n",
       "      <th></th>\n",
       "      <th>osmid</th>\n",
       "      <th>highway</th>\n",
       "      <th>length</th>\n",
       "      <th>geometry</th>\n",
       "      <th>reversed</th>\n",
       "      <th>oneway</th>\n",
       "      <th>u</th>\n",
       "      <th>v</th>\n",
       "      <th>lat_u</th>\n",
       "      <th>long_u</th>\n",
       "      <th>lat_v</th>\n",
       "      <th>long_v</th>\n",
       "    </tr>\n",
       "  </thead>\n",
       "  <tbody>\n",
       "    <tr>\n",
       "      <th>0</th>\n",
       "      <td>1166304119</td>\n",
       "      <td>secondary</td>\n",
       "      <td>29.724</td>\n",
       "      <td>LINESTRING (77.5987208 12.9105419, 77.5989944 ...</td>\n",
       "      <td>False</td>\n",
       "      <td>True</td>\n",
       "      <td>17327095</td>\n",
       "      <td>305154531</td>\n",
       "      <td>12.910542</td>\n",
       "      <td>77.598721</td>\n",
       "      <td>12.910560</td>\n",
       "      <td>77.598994</td>\n",
       "    </tr>\n",
       "    <tr>\n",
       "      <th>1</th>\n",
       "      <td>45443685</td>\n",
       "      <td>residential</td>\n",
       "      <td>122.135</td>\n",
       "      <td>LINESTRING (77.5793296 12.9859581, 77.5784053 ...</td>\n",
       "      <td>False</td>\n",
       "      <td>False</td>\n",
       "      <td>17327433</td>\n",
       "      <td>578121591</td>\n",
       "      <td>12.985958</td>\n",
       "      <td>77.579330</td>\n",
       "      <td>12.986587</td>\n",
       "      <td>77.578405</td>\n",
       "    </tr>\n",
       "    <tr>\n",
       "      <th>2</th>\n",
       "      <td>148319042</td>\n",
       "      <td>tertiary</td>\n",
       "      <td>33.303</td>\n",
       "      <td>LINESTRING (77.5793296 12.9859581, 77.5795074 ...</td>\n",
       "      <td>False</td>\n",
       "      <td>False</td>\n",
       "      <td>17327433</td>\n",
       "      <td>10279595643</td>\n",
       "      <td>12.985958</td>\n",
       "      <td>77.579330</td>\n",
       "      <td>12.986202</td>\n",
       "      <td>77.579507</td>\n",
       "    </tr>\n",
       "    <tr>\n",
       "      <th>3</th>\n",
       "      <td>148319042</td>\n",
       "      <td>tertiary</td>\n",
       "      <td>84.413</td>\n",
       "      <td>LINESTRING (77.5793296 12.9859581, 77.5792085 ...</td>\n",
       "      <td>True</td>\n",
       "      <td>False</td>\n",
       "      <td>17327433</td>\n",
       "      <td>429286716</td>\n",
       "      <td>12.985958</td>\n",
       "      <td>77.579330</td>\n",
       "      <td>12.985321</td>\n",
       "      <td>77.578905</td>\n",
       "    </tr>\n",
       "    <tr>\n",
       "      <th>4</th>\n",
       "      <td>23029696</td>\n",
       "      <td>secondary</td>\n",
       "      <td>107.589</td>\n",
       "      <td>LINESTRING (77.6048004 12.970899, 77.6047617 1...</td>\n",
       "      <td>False</td>\n",
       "      <td>True</td>\n",
       "      <td>60952254</td>\n",
       "      <td>423784673</td>\n",
       "      <td>12.970899</td>\n",
       "      <td>77.604800</td>\n",
       "      <td>12.971792</td>\n",
       "      <td>77.604417</td>\n",
       "    </tr>\n",
       "  </tbody>\n",
       "</table>\n",
       "</div>"
      ],
      "text/plain": [
       "        osmid      highway   length  \\\n",
       "0  1166304119    secondary   29.724   \n",
       "1    45443685  residential  122.135   \n",
       "2   148319042     tertiary   33.303   \n",
       "3   148319042     tertiary   84.413   \n",
       "4    23029696    secondary  107.589   \n",
       "\n",
       "                                            geometry reversed  oneway  \\\n",
       "0  LINESTRING (77.5987208 12.9105419, 77.5989944 ...    False    True   \n",
       "1  LINESTRING (77.5793296 12.9859581, 77.5784053 ...    False   False   \n",
       "2  LINESTRING (77.5793296 12.9859581, 77.5795074 ...    False   False   \n",
       "3  LINESTRING (77.5793296 12.9859581, 77.5792085 ...     True   False   \n",
       "4  LINESTRING (77.6048004 12.970899, 77.6047617 1...    False    True   \n",
       "\n",
       "          u            v      lat_u     long_u      lat_v     long_v  \n",
       "0  17327095    305154531  12.910542  77.598721  12.910560  77.598994  \n",
       "1  17327433    578121591  12.985958  77.579330  12.986587  77.578405  \n",
       "2  17327433  10279595643  12.985958  77.579330  12.986202  77.579507  \n",
       "3  17327433    429286716  12.985958  77.579330  12.985321  77.578905  \n",
       "4  60952254    423784673  12.970899  77.604800  12.971792  77.604417  "
      ]
     },
     "execution_count": 5,
     "metadata": {},
     "output_type": "execute_result"
    }
   ],
   "source": [
    "edges_data.head()"
   ]
  },
  {
   "cell_type": "code",
   "execution_count": 20,
   "metadata": {},
   "outputs": [
    {
     "data": {
      "text/plain": [
       "(5295, 29)"
      ]
     },
     "execution_count": 20,
     "metadata": {},
     "output_type": "execute_result"
    }
   ],
   "source": [
    "# number of points where speed is 0 and they have NaN values\n",
    "gps_data[(gps_data['SPEED'] >= 120) & (gps_data['u'].isnull())].shape"
   ]
  },
  {
   "cell_type": "code",
   "execution_count": 10,
   "metadata": {},
   "outputs": [
    {
     "data": {
      "text/plain": [
       "Index(['DEVICE_ID', 'IST_DATE', 'LAT', 'LONGITUDE', 'YEAR', 'DAY', 'DATE',\n",
       "       'TIME', 'PREV_LAT', 'PREV_LONGITUDE', 'PREV_IST_DATE', 'DISTANCE',\n",
       "       'TIME_DIFF', 'SPEED', 'STOP_TIME', 'segment_id', 'index', 'osmid',\n",
       "       'highway', 'length', 'geometry', 'reversed', 'oneway', 'u', 'v',\n",
       "       'lat_u', 'long_u', 'lat_v', 'long_v'],\n",
       "      dtype='object')"
      ]
     },
     "execution_count": 10,
     "metadata": {},
     "output_type": "execute_result"
    }
   ],
   "source": [
    "gps_data.columns"
   ]
  },
  {
   "cell_type": "code",
   "execution_count": 18,
   "metadata": {},
   "outputs": [
    {
     "data": {
      "text/plain": [
       "179.9984827986611"
      ]
     },
     "execution_count": 18,
     "metadata": {},
     "output_type": "execute_result"
    }
   ],
   "source": [
    "gps_data.SPEED.max()"
   ]
  },
  {
   "cell_type": "code",
   "execution_count": 19,
   "metadata": {},
   "outputs": [
    {
     "data": {
      "text/plain": [
       "(14106, 29)"
      ]
     },
     "execution_count": 19,
     "metadata": {},
     "output_type": "execute_result"
    }
   ],
   "source": [
    "gps_data[gps_data['SPEED'] >= 120].shape"
   ]
  },
  {
   "cell_type": "code",
   "execution_count": 21,
   "metadata": {},
   "outputs": [],
   "source": [
    "gps_data = gps_data[gps_data['SPEED'] < 120]"
   ]
  },
  {
   "cell_type": "code",
   "execution_count": 24,
   "metadata": {},
   "outputs": [
    {
     "data": {
      "text/plain": [
       "(7350033, 29)"
      ]
     },
     "execution_count": 24,
     "metadata": {},
     "output_type": "execute_result"
    }
   ],
   "source": [
    "gps_data.shape"
   ]
  },
  {
   "cell_type": "code",
   "execution_count": 23,
   "metadata": {},
   "outputs": [
    {
     "name": "stderr",
     "output_type": "stream",
     "text": [
      "C:\\Users\\CiSTUP\\AppData\\Local\\Temp\\ipykernel_16788\\415835181.py:1: SettingWithCopyWarning: \n",
      "A value is trying to be set on a copy of a slice from a DataFrame\n",
      "\n",
      "See the caveats in the documentation: https://pandas.pydata.org/pandas-docs/stable/user_guide/indexing.html#returning-a-view-versus-a-copy\n",
      "  gps_data.dropna(inplace=True)\n"
     ]
    }
   ],
   "source": [
    "gps_data.dropna(inplace=True)"
   ]
  },
  {
   "cell_type": "code",
   "execution_count": 29,
   "metadata": {},
   "outputs": [
    {
     "data": {
      "text/plain": [
       "(46909,)"
      ]
     },
     "execution_count": 29,
     "metadata": {},
     "output_type": "execute_result"
    }
   ],
   "source": [
    "gps_data.segment_id.unique().shape"
   ]
  },
  {
   "cell_type": "code",
   "execution_count": 30,
   "metadata": {},
   "outputs": [
    {
     "data": {
      "text/plain": [
       "(25128,)"
      ]
     },
     "execution_count": 30,
     "metadata": {},
     "output_type": "execute_result"
    }
   ],
   "source": [
    "gps_data.osmid.unique().shape"
   ]
  },
  {
   "cell_type": "code",
   "execution_count": 31,
   "metadata": {},
   "outputs": [
    {
     "data": {
      "text/plain": [
       "1.907"
      ]
     },
     "execution_count": 31,
     "metadata": {},
     "output_type": "execute_result"
    }
   ],
   "source": [
    "gps_data.length.min()"
   ]
  },
  {
   "cell_type": "code",
   "execution_count": 38,
   "metadata": {},
   "outputs": [
    {
     "data": {
      "text/plain": [
       "(1272,)"
      ]
     },
     "execution_count": 38,
     "metadata": {},
     "output_type": "execute_result"
    }
   ],
   "source": [
    "gps_data[gps_data['length'] <=10 ]['segment_id'].unique().shape\n"
   ]
  },
  {
   "cell_type": "code",
   "execution_count": 43,
   "metadata": {},
   "outputs": [],
   "source": [
    "gps_data = gps_data[gps_data['length'] > 10]"
   ]
  },
  {
   "cell_type": "code",
   "execution_count": 39,
   "metadata": {},
   "outputs": [
    {
     "name": "stderr",
     "output_type": "stream",
     "text": [
      "C:\\Users\\CiSTUP\\AppData\\Local\\Temp\\ipykernel_16788\\4081802123.py:2: SettingWithCopyWarning: \n",
      "A value is trying to be set on a copy of a slice from a DataFrame.\n",
      "Try using .loc[row_indexer,col_indexer] = value instead\n",
      "\n",
      "See the caveats in the documentation: https://pandas.pydata.org/pandas-docs/stable/user_guide/indexing.html#returning-a-view-versus-a-copy\n",
      "  gps_data['hour'] = pd.to_datetime(gps_data['IST_DATE']).dt.hour\n"
     ]
    }
   ],
   "source": [
    "# calculate the hour block of the day from IST_DATE \n",
    "gps_data['hour'] = pd.to_datetime(gps_data['IST_DATE']).dt.hour\n"
   ]
  },
  {
   "cell_type": "code",
   "execution_count": 44,
   "metadata": {},
   "outputs": [
    {
     "data": {
      "text/plain": [
       "hour\n",
       "17    606375\n",
       "8     576824\n",
       "9     567508\n",
       "18    534000\n",
       "7     488572\n",
       "16    448764\n",
       "19    439092\n",
       "10    425328\n",
       "20    413901\n",
       "15    410442\n",
       "11    396425\n",
       "6     369536\n",
       "14    342479\n",
       "12    313956\n",
       "21    281035\n",
       "13    276957\n",
       "5     187588\n",
       "22    102618\n",
       "4      55447\n",
       "23     36842\n",
       "0      21720\n",
       "3      18500\n",
       "2      14939\n",
       "1      14753\n",
       "Name: count, dtype: int64"
      ]
     },
     "execution_count": 44,
     "metadata": {},
     "output_type": "execute_result"
    }
   ],
   "source": [
    "gps_data.hour.value_counts()"
   ]
  },
  {
   "cell_type": "code",
   "execution_count": null,
   "metadata": {},
   "outputs": [],
   "source": [
    "# plot segment "
   ]
  }
 ],
 "metadata": {
  "kernelspec": {
   "display_name": "Python 3",
   "language": "python",
   "name": "python3"
  },
  "language_info": {
   "codemirror_mode": {
    "name": "ipython",
    "version": 3
   },
   "file_extension": ".py",
   "mimetype": "text/x-python",
   "name": "python",
   "nbconvert_exporter": "python",
   "pygments_lexer": "ipython3",
   "version": "3.11.6"
  }
 },
 "nbformat": 4,
 "nbformat_minor": 2
}
