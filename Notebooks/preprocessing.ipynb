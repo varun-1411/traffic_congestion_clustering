{
 "cells": [
  {
   "cell_type": "code",
   "execution_count": 21,
   "id": "initial_id",
   "metadata": {
    "collapsed": true,
    "ExecuteTime": {
     "end_time": "2023-11-03T11:33:51.157079100Z",
     "start_time": "2023-11-03T11:33:51.125296100Z"
    }
   },
   "outputs": [],
   "source": [
    "import pandas as pd\n",
    "from haversine import haversine_vector, Unit"
   ]
  },
  {
   "cell_type": "code",
   "execution_count": 23,
   "outputs": [
    {
     "name": "stderr",
     "output_type": "stream",
     "text": [
      "C:\\Users\\Adarsh\\AppData\\Local\\Temp\\ipykernel_46508\\2268917618.py:1: DtypeWarning: Columns (6,16,17,18,19,21,22,23,25,26,27,28,29,32,35,36,40,53,58,59,61) have mixed types. Specify dtype option on import or set low_memory=False.\n",
      "  stops_df = pd.read_csv(r\"../Dataset/bus_stop.csv\")\n"
     ]
    }
   ],
   "source": [
    "stops_df = pd.read_csv(r\"../Dataset/bus_stop.csv\")"
   ],
   "metadata": {
    "collapsed": false,
    "ExecuteTime": {
     "end_time": "2023-11-03T11:38:46.403728200Z",
     "start_time": "2023-11-03T11:38:46.208213600Z"
    }
   },
   "id": "b5f5c444c3a6c31f"
  },
  {
   "cell_type": "code",
   "execution_count": 76,
   "outputs": [],
   "source": [
    "gps_df = pd.read_csv(r\"../Dataset/GPS.csv\")"
   ],
   "metadata": {
    "collapsed": false,
    "ExecuteTime": {
     "end_time": "2023-11-03T13:03:33.851942600Z",
     "start_time": "2023-11-03T13:03:22.293294200Z"
    }
   },
   "id": "c0b871044e81286d"
  },
  {
   "cell_type": "code",
   "execution_count": 77,
   "outputs": [
    {
     "name": "stdout",
     "output_type": "stream",
     "text": [
      "28246781\n"
     ]
    },
    {
     "data": {
      "text/plain": "    DEVICE_ID             IST_DATE        LAT  LONGITUDE\n0   181221399  2000-10-13 06:30:00   0.000000  77.701782\n1   181221399  2000-10-13 06:30:00   0.000000  77.701782\n2   181221399  2000-10-13 06:30:00   0.000000  77.701782\n3  9999572791  2019-10-13 00:15:18  13.029256  77.593023\n4  9999572791  2019-10-13 00:15:33  13.029256  77.593023",
      "text/html": "<div>\n<style scoped>\n    .dataframe tbody tr th:only-of-type {\n        vertical-align: middle;\n    }\n\n    .dataframe tbody tr th {\n        vertical-align: top;\n    }\n\n    .dataframe thead th {\n        text-align: right;\n    }\n</style>\n<table border=\"1\" class=\"dataframe\">\n  <thead>\n    <tr style=\"text-align: right;\">\n      <th></th>\n      <th>DEVICE_ID</th>\n      <th>IST_DATE</th>\n      <th>LAT</th>\n      <th>LONGITUDE</th>\n    </tr>\n  </thead>\n  <tbody>\n    <tr>\n      <th>0</th>\n      <td>181221399</td>\n      <td>2000-10-13 06:30:00</td>\n      <td>0.000000</td>\n      <td>77.701782</td>\n    </tr>\n    <tr>\n      <th>1</th>\n      <td>181221399</td>\n      <td>2000-10-13 06:30:00</td>\n      <td>0.000000</td>\n      <td>77.701782</td>\n    </tr>\n    <tr>\n      <th>2</th>\n      <td>181221399</td>\n      <td>2000-10-13 06:30:00</td>\n      <td>0.000000</td>\n      <td>77.701782</td>\n    </tr>\n    <tr>\n      <th>3</th>\n      <td>9999572791</td>\n      <td>2019-10-13 00:15:18</td>\n      <td>13.029256</td>\n      <td>77.593023</td>\n    </tr>\n    <tr>\n      <th>4</th>\n      <td>9999572791</td>\n      <td>2019-10-13 00:15:33</td>\n      <td>13.029256</td>\n      <td>77.593023</td>\n    </tr>\n  </tbody>\n</table>\n</div>"
     },
     "execution_count": 77,
     "metadata": {},
     "output_type": "execute_result"
    }
   ],
   "source": [
    "print(len(gps_df))\n",
    "gps_df.head()"
   ],
   "metadata": {
    "collapsed": false,
    "ExecuteTime": {
     "end_time": "2023-11-03T13:03:33.865122400Z",
     "start_time": "2023-11-03T13:03:33.851942600Z"
    }
   },
   "id": "cd02695e7b4ba920"
  },
  {
   "cell_type": "code",
   "execution_count": 78,
   "outputs": [],
   "source": [
    "# Drop duplicate based on DEVICE_ID, IST_DATE, LAT and LONGITUDE\n",
    "gps_df = gps_df.drop_duplicates(subset=['DEVICE_ID','IST_DATE','LAT','LONGITUDE'])"
   ],
   "metadata": {
    "collapsed": false,
    "ExecuteTime": {
     "end_time": "2023-11-03T13:03:55.972587800Z",
     "start_time": "2023-11-03T13:03:39.555264500Z"
    }
   },
   "id": "d3520e27597bd953"
  },
  {
   "cell_type": "code",
   "execution_count": 80,
   "outputs": [
    {
     "name": "stdout",
     "output_type": "stream",
     "text": [
      "25447194\n"
     ]
    },
    {
     "data": {
      "text/plain": "    DEVICE_ID            IST_DATE        LAT  LONGITUDE  YEAR  DAY  \\\n3  9999572791 2019-10-13 00:15:18  13.029256  77.593023  2019    6   \n4  9999572791 2019-10-13 00:15:33  13.029256  77.593023  2019    6   \n5  9999572791 2019-10-13 00:15:46  13.029256  77.593023  2019    6   \n6  9999572791 2019-10-13 00:16:03  13.029256  77.593023  2019    6   \n7  9999572791 2019-10-13 00:16:18  13.029299  77.592891  2019    6   \n\n         DATE      TIME  \n3  2019-10-13  00:15:18  \n4  2019-10-13  00:15:33  \n5  2019-10-13  00:15:46  \n6  2019-10-13  00:16:03  \n7  2019-10-13  00:16:18  ",
      "text/html": "<div>\n<style scoped>\n    .dataframe tbody tr th:only-of-type {\n        vertical-align: middle;\n    }\n\n    .dataframe tbody tr th {\n        vertical-align: top;\n    }\n\n    .dataframe thead th {\n        text-align: right;\n    }\n</style>\n<table border=\"1\" class=\"dataframe\">\n  <thead>\n    <tr style=\"text-align: right;\">\n      <th></th>\n      <th>DEVICE_ID</th>\n      <th>IST_DATE</th>\n      <th>LAT</th>\n      <th>LONGITUDE</th>\n      <th>YEAR</th>\n      <th>DAY</th>\n      <th>DATE</th>\n      <th>TIME</th>\n    </tr>\n  </thead>\n  <tbody>\n    <tr>\n      <th>3</th>\n      <td>9999572791</td>\n      <td>2019-10-13 00:15:18</td>\n      <td>13.029256</td>\n      <td>77.593023</td>\n      <td>2019</td>\n      <td>6</td>\n      <td>2019-10-13</td>\n      <td>00:15:18</td>\n    </tr>\n    <tr>\n      <th>4</th>\n      <td>9999572791</td>\n      <td>2019-10-13 00:15:33</td>\n      <td>13.029256</td>\n      <td>77.593023</td>\n      <td>2019</td>\n      <td>6</td>\n      <td>2019-10-13</td>\n      <td>00:15:33</td>\n    </tr>\n    <tr>\n      <th>5</th>\n      <td>9999572791</td>\n      <td>2019-10-13 00:15:46</td>\n      <td>13.029256</td>\n      <td>77.593023</td>\n      <td>2019</td>\n      <td>6</td>\n      <td>2019-10-13</td>\n      <td>00:15:46</td>\n    </tr>\n    <tr>\n      <th>6</th>\n      <td>9999572791</td>\n      <td>2019-10-13 00:16:03</td>\n      <td>13.029256</td>\n      <td>77.593023</td>\n      <td>2019</td>\n      <td>6</td>\n      <td>2019-10-13</td>\n      <td>00:16:03</td>\n    </tr>\n    <tr>\n      <th>7</th>\n      <td>9999572791</td>\n      <td>2019-10-13 00:16:18</td>\n      <td>13.029299</td>\n      <td>77.592891</td>\n      <td>2019</td>\n      <td>6</td>\n      <td>2019-10-13</td>\n      <td>00:16:18</td>\n    </tr>\n  </tbody>\n</table>\n</div>"
     },
     "execution_count": 80,
     "metadata": {},
     "output_type": "execute_result"
    }
   ],
   "source": [
    "# Filter the rows which LAT and LONGITUDE are between 12 and 14 and 77 and 79\n",
    "gps_df = gps_df[(gps_df['LAT'] > 12) & (gps_df['LAT'] < 14) & (gps_df['LONGITUDE'] > 77) & (gps_df['LONGITUDE'] < 79)]\n",
    "print(len(gps_df))\n",
    "gps_df.head()"
   ],
   "metadata": {
    "collapsed": false,
    "ExecuteTime": {
     "end_time": "2023-11-03T13:04:59.596292800Z",
     "start_time": "2023-11-03T13:04:57.771405500Z"
    }
   },
   "id": "836d5faf87b54bb6"
  },
  {
   "cell_type": "code",
   "execution_count": null,
   "outputs": [],
   "source": [
    "# Plot the data point based on year, Day and date\n",
    "gps_df['IST_DATE'] = pd.to_datetime(gps_df['IST_DATE'])\n",
    "gps_df['YEAR'] = gps_df['IST_DATE'].dt.year\n",
    "gps_df['DAY'] = gps_df['IST_DATE'].dt.dayofweek\n",
    "gps_df['DATE'] = gps_df['IST_DATE'].dt.date\n",
    "gps_df['TIME'] = gps_df['IST_DATE'].dt.time"
   ],
   "metadata": {
    "collapsed": false
   },
   "id": "1a28ddd5002b5c45"
  },
  {
   "cell_type": "code",
   "execution_count": 81,
   "outputs": [
    {
     "data": {
      "text/plain": "DATE\n2019-10-13    25447188\n2000-10-13           3\n2001-10-13           2\n1970-10-13           1\nName: count, dtype: int64"
     },
     "execution_count": 81,
     "metadata": {},
     "output_type": "execute_result"
    }
   ],
   "source": [
    "gps_df['DATE'].value_counts()"
   ],
   "metadata": {
    "collapsed": false,
    "ExecuteTime": {
     "end_time": "2023-11-03T13:05:11.305259300Z",
     "start_time": "2023-11-03T13:05:10.289111900Z"
    }
   },
   "id": "36d8cbac53ee49f"
  },
  {
   "cell_type": "code",
   "execution_count": 82,
   "outputs": [],
   "source": [
    "# Remove the data points which are not in 2019\n",
    "gps_df = gps_df[gps_df['YEAR'] == 2019]"
   ],
   "metadata": {
    "collapsed": false,
    "ExecuteTime": {
     "end_time": "2023-11-03T13:05:43.143199400Z",
     "start_time": "2023-11-03T13:05:41.667553800Z"
    }
   },
   "id": "31542f2a751040fe"
  },
  {
   "cell_type": "code",
   "execution_count": 103,
   "outputs": [],
   "source": [
    "# Filter with respect to DEVICE_ID which having more than 1000 data points\n",
    "gps_df = gps_df.groupby('DEVICE_ID').filter(lambda x: len(x) > 1000)"
   ],
   "metadata": {
    "collapsed": false,
    "ExecuteTime": {
     "end_time": "2023-11-03T13:22:51.386711800Z",
     "start_time": "2023-11-03T13:22:39.449562600Z"
    }
   },
   "id": "96b75bb039594e8a"
  },
  {
   "cell_type": "code",
   "execution_count": 104,
   "outputs": [
    {
     "data": {
      "text/plain": "      DEVICE_ID            IST_DATE        LAT  LONGITUDE  YEAR  DAY  \\\n4050  150211826 2019-10-13 00:00:13  13.043971  77.594109  2019    6   \n5156  150211826 2019-10-13 00:00:23  13.043971  77.594109  2019    6   \n6241  150211826 2019-10-13 00:00:33  13.043971  77.594109  2019    6   \n7208  150211826 2019-10-13 00:00:43  13.043971  77.594109  2019    6   \n8146  150211826 2019-10-13 00:00:53  13.043971  77.594109  2019    6   \n\n            DATE      TIME   PREV_LAT  PREV_LONGITUDE       PREV_IST_DATE  \\\n4050  2019-10-13  00:00:13  13.043971       77.594109 2019-10-13 00:00:03   \n5156  2019-10-13  00:00:23  13.043971       77.594109 2019-10-13 00:00:13   \n6241  2019-10-13  00:00:33  13.043971       77.594109 2019-10-13 00:00:23   \n7208  2019-10-13  00:00:43  13.043971       77.594109 2019-10-13 00:00:33   \n8146  2019-10-13  00:00:53  13.043971       77.594109 2019-10-13 00:00:43   \n\n      DISTANCE  TIME_DIFF  SPEED  \n4050       0.0       10.0    0.0  \n5156       0.0       10.0    0.0  \n6241       0.0       10.0    0.0  \n7208       0.0       10.0    0.0  \n8146       0.0       10.0    0.0  ",
      "text/html": "<div>\n<style scoped>\n    .dataframe tbody tr th:only-of-type {\n        vertical-align: middle;\n    }\n\n    .dataframe tbody tr th {\n        vertical-align: top;\n    }\n\n    .dataframe thead th {\n        text-align: right;\n    }\n</style>\n<table border=\"1\" class=\"dataframe\">\n  <thead>\n    <tr style=\"text-align: right;\">\n      <th></th>\n      <th>DEVICE_ID</th>\n      <th>IST_DATE</th>\n      <th>LAT</th>\n      <th>LONGITUDE</th>\n      <th>YEAR</th>\n      <th>DAY</th>\n      <th>DATE</th>\n      <th>TIME</th>\n      <th>PREV_LAT</th>\n      <th>PREV_LONGITUDE</th>\n      <th>PREV_IST_DATE</th>\n      <th>DISTANCE</th>\n      <th>TIME_DIFF</th>\n      <th>SPEED</th>\n    </tr>\n  </thead>\n  <tbody>\n    <tr>\n      <th>4050</th>\n      <td>150211826</td>\n      <td>2019-10-13 00:00:13</td>\n      <td>13.043971</td>\n      <td>77.594109</td>\n      <td>2019</td>\n      <td>6</td>\n      <td>2019-10-13</td>\n      <td>00:00:13</td>\n      <td>13.043971</td>\n      <td>77.594109</td>\n      <td>2019-10-13 00:00:03</td>\n      <td>0.0</td>\n      <td>10.0</td>\n      <td>0.0</td>\n    </tr>\n    <tr>\n      <th>5156</th>\n      <td>150211826</td>\n      <td>2019-10-13 00:00:23</td>\n      <td>13.043971</td>\n      <td>77.594109</td>\n      <td>2019</td>\n      <td>6</td>\n      <td>2019-10-13</td>\n      <td>00:00:23</td>\n      <td>13.043971</td>\n      <td>77.594109</td>\n      <td>2019-10-13 00:00:13</td>\n      <td>0.0</td>\n      <td>10.0</td>\n      <td>0.0</td>\n    </tr>\n    <tr>\n      <th>6241</th>\n      <td>150211826</td>\n      <td>2019-10-13 00:00:33</td>\n      <td>13.043971</td>\n      <td>77.594109</td>\n      <td>2019</td>\n      <td>6</td>\n      <td>2019-10-13</td>\n      <td>00:00:33</td>\n      <td>13.043971</td>\n      <td>77.594109</td>\n      <td>2019-10-13 00:00:23</td>\n      <td>0.0</td>\n      <td>10.0</td>\n      <td>0.0</td>\n    </tr>\n    <tr>\n      <th>7208</th>\n      <td>150211826</td>\n      <td>2019-10-13 00:00:43</td>\n      <td>13.043971</td>\n      <td>77.594109</td>\n      <td>2019</td>\n      <td>6</td>\n      <td>2019-10-13</td>\n      <td>00:00:43</td>\n      <td>13.043971</td>\n      <td>77.594109</td>\n      <td>2019-10-13 00:00:33</td>\n      <td>0.0</td>\n      <td>10.0</td>\n      <td>0.0</td>\n    </tr>\n    <tr>\n      <th>8146</th>\n      <td>150211826</td>\n      <td>2019-10-13 00:00:53</td>\n      <td>13.043971</td>\n      <td>77.594109</td>\n      <td>2019</td>\n      <td>6</td>\n      <td>2019-10-13</td>\n      <td>00:00:53</td>\n      <td>13.043971</td>\n      <td>77.594109</td>\n      <td>2019-10-13 00:00:43</td>\n      <td>0.0</td>\n      <td>10.0</td>\n      <td>0.0</td>\n    </tr>\n  </tbody>\n</table>\n</div>"
     },
     "execution_count": 104,
     "metadata": {},
     "output_type": "execute_result"
    }
   ],
   "source": [
    "# Sort the dataframe by DEVICE_ID and then by IST_DATE\n",
    "gps_df = gps_df.sort_values(by=['DEVICE_ID','IST_DATE'])\n",
    "gps_df.head()"
   ],
   "metadata": {
    "collapsed": false,
    "ExecuteTime": {
     "end_time": "2023-11-03T13:23:13.205136400Z",
     "start_time": "2023-11-03T13:22:58.039127200Z"
    }
   },
   "id": "4106d9dea507f390"
  },
  {
   "cell_type": "code",
   "execution_count": 84,
   "outputs": [
    {
     "data": {
      "text/plain": "      DEVICE_ID            IST_DATE        LAT  LONGITUDE  YEAR  DAY  \\\n2916  150211826 2019-10-13 00:00:03  13.043971  77.594109  2019    6   \n4050  150211826 2019-10-13 00:00:13  13.043971  77.594109  2019    6   \n5156  150211826 2019-10-13 00:00:23  13.043971  77.594109  2019    6   \n6241  150211826 2019-10-13 00:00:33  13.043971  77.594109  2019    6   \n7208  150211826 2019-10-13 00:00:43  13.043971  77.594109  2019    6   \n\n            DATE      TIME   PREV_LAT  PREV_LONGITUDE       PREV_IST_DATE  \n2916  2019-10-13  00:00:03        NaN             NaN                 NaT  \n4050  2019-10-13  00:00:13  13.043971       77.594109 2019-10-13 00:00:03  \n5156  2019-10-13  00:00:23  13.043971       77.594109 2019-10-13 00:00:13  \n6241  2019-10-13  00:00:33  13.043971       77.594109 2019-10-13 00:00:23  \n7208  2019-10-13  00:00:43  13.043971       77.594109 2019-10-13 00:00:33  ",
      "text/html": "<div>\n<style scoped>\n    .dataframe tbody tr th:only-of-type {\n        vertical-align: middle;\n    }\n\n    .dataframe tbody tr th {\n        vertical-align: top;\n    }\n\n    .dataframe thead th {\n        text-align: right;\n    }\n</style>\n<table border=\"1\" class=\"dataframe\">\n  <thead>\n    <tr style=\"text-align: right;\">\n      <th></th>\n      <th>DEVICE_ID</th>\n      <th>IST_DATE</th>\n      <th>LAT</th>\n      <th>LONGITUDE</th>\n      <th>YEAR</th>\n      <th>DAY</th>\n      <th>DATE</th>\n      <th>TIME</th>\n      <th>PREV_LAT</th>\n      <th>PREV_LONGITUDE</th>\n      <th>PREV_IST_DATE</th>\n    </tr>\n  </thead>\n  <tbody>\n    <tr>\n      <th>2916</th>\n      <td>150211826</td>\n      <td>2019-10-13 00:00:03</td>\n      <td>13.043971</td>\n      <td>77.594109</td>\n      <td>2019</td>\n      <td>6</td>\n      <td>2019-10-13</td>\n      <td>00:00:03</td>\n      <td>NaN</td>\n      <td>NaN</td>\n      <td>NaT</td>\n    </tr>\n    <tr>\n      <th>4050</th>\n      <td>150211826</td>\n      <td>2019-10-13 00:00:13</td>\n      <td>13.043971</td>\n      <td>77.594109</td>\n      <td>2019</td>\n      <td>6</td>\n      <td>2019-10-13</td>\n      <td>00:00:13</td>\n      <td>13.043971</td>\n      <td>77.594109</td>\n      <td>2019-10-13 00:00:03</td>\n    </tr>\n    <tr>\n      <th>5156</th>\n      <td>150211826</td>\n      <td>2019-10-13 00:00:23</td>\n      <td>13.043971</td>\n      <td>77.594109</td>\n      <td>2019</td>\n      <td>6</td>\n      <td>2019-10-13</td>\n      <td>00:00:23</td>\n      <td>13.043971</td>\n      <td>77.594109</td>\n      <td>2019-10-13 00:00:13</td>\n    </tr>\n    <tr>\n      <th>6241</th>\n      <td>150211826</td>\n      <td>2019-10-13 00:00:33</td>\n      <td>13.043971</td>\n      <td>77.594109</td>\n      <td>2019</td>\n      <td>6</td>\n      <td>2019-10-13</td>\n      <td>00:00:33</td>\n      <td>13.043971</td>\n      <td>77.594109</td>\n      <td>2019-10-13 00:00:23</td>\n    </tr>\n    <tr>\n      <th>7208</th>\n      <td>150211826</td>\n      <td>2019-10-13 00:00:43</td>\n      <td>13.043971</td>\n      <td>77.594109</td>\n      <td>2019</td>\n      <td>6</td>\n      <td>2019-10-13</td>\n      <td>00:00:43</td>\n      <td>13.043971</td>\n      <td>77.594109</td>\n      <td>2019-10-13 00:00:33</td>\n    </tr>\n  </tbody>\n</table>\n</div>"
     },
     "execution_count": 84,
     "metadata": {},
     "output_type": "execute_result"
    }
   ],
   "source": [
    "# Shift the rows by 1 and get the previous row's LAT and LONGITUDE and IST_DATE\n",
    "gps_df['PREV_LAT'] = gps_df.groupby(['DEVICE_ID'])['LAT'].shift(1)\n",
    "gps_df['PREV_LONGITUDE'] = gps_df.groupby(['DEVICE_ID'])['LONGITUDE'].shift(1)\n",
    "gps_df['PREV_IST_DATE'] = gps_df.groupby(['DEVICE_ID'])['IST_DATE'].shift(1)\n",
    "gps_df.head()"
   ],
   "metadata": {
    "collapsed": false,
    "ExecuteTime": {
     "end_time": "2023-11-03T13:06:13.376554100Z",
     "start_time": "2023-11-03T13:06:11.273221400Z"
    }
   },
   "id": "22c94ebc602feea2"
  },
  {
   "cell_type": "code",
   "execution_count": 85,
   "outputs": [],
   "source": [
    "# Drop the na values\n",
    "gps_df = gps_df.dropna()"
   ],
   "metadata": {
    "collapsed": false,
    "ExecuteTime": {
     "end_time": "2023-11-03T13:06:22.834449200Z",
     "start_time": "2023-11-03T13:06:13.376554100Z"
    }
   },
   "id": "c41e214a8295e529"
  },
  {
   "cell_type": "code",
   "execution_count": 86,
   "outputs": [],
   "source": [
    "# Calculate the distance between the current row and the previous row using haversine formula\n",
    "gps_df['DISTANCE'] = haversine_vector(gps_df[['LAT','LONGITUDE']],gps_df[['PREV_LAT','PREV_LONGITUDE']],Unit.METERS)"
   ],
   "metadata": {
    "collapsed": false,
    "ExecuteTime": {
     "end_time": "2023-11-03T13:06:26.018916200Z",
     "start_time": "2023-11-03T13:06:22.843032800Z"
    }
   },
   "id": "52da9167fbe954c9"
  },
  {
   "cell_type": "code",
   "execution_count": 87,
   "outputs": [],
   "source": [
    "# Calculate the time difference between the current row and the previous row\n",
    "gps_df['TIME_DIFF'] = (pd.to_datetime(gps_df['IST_DATE']) - pd.to_datetime(gps_df['PREV_IST_DATE'])).dt.total_seconds()"
   ],
   "metadata": {
    "collapsed": false,
    "ExecuteTime": {
     "end_time": "2023-11-03T13:06:26.648753600Z",
     "start_time": "2023-11-03T13:06:26.018916200Z"
    }
   },
   "id": "32e781fc40785c39"
  },
  {
   "cell_type": "code",
   "execution_count": 88,
   "outputs": [
    {
     "data": {
      "text/plain": "<Figure size 640x480 with 1 Axes>",
      "image/png": "[encoded data removed]"
     },
     "metadata": {},
     "output_type": "display_data"
    }
   ],
   "source": [
    "# PLot the distance and time difference\n",
    "import matplotlib.pyplot as plt\n",
    "plt.scatter(gps_df['DISTANCE'],gps_df['TIME_DIFF'])\n",
    "plt.xlabel('Distance')\n",
    "plt.ylabel('Time Difference')\n",
    "plt.show()"
   ],
   "metadata": {
    "collapsed": false,
    "ExecuteTime": {
     "end_time": "2023-11-03T13:07:19.324977800Z",
     "start_time": "2023-11-03T13:06:26.648753600Z"
    }
   },
   "id": "4cf846f453e1584a"
  },
  {
   "cell_type": "code",
   "execution_count": 89,
   "outputs": [
    {
     "data": {
      "text/plain": "<Figure size 640x480 with 1 Axes>",
      "image/png": "[encoded data removed]"
     },
     "metadata": {},
     "output_type": "display_data"
    }
   ],
   "source": [
    "gps_df['SPEED'] = gps_df['DISTANCE'] / (gps_df['TIME_DIFF'] +0.0001) *18/5\n",
    "\n",
    "# Plot the scatter plot speed with respect index\n",
    "plt.scatter(gps_df.index,gps_df['SPEED'])\n",
    "plt.ylim(0,100)\n",
    "plt.xlabel('Index')\n",
    "plt.ylabel('Speed')\n",
    "plt.show()"
   ],
   "metadata": {
    "collapsed": false,
    "ExecuteTime": {
     "end_time": "2023-11-03T13:08:04.272383800Z",
     "start_time": "2023-11-03T13:07:19.321738400Z"
    }
   },
   "id": "30a09d8fb6020e6c"
  },
  {
   "cell_type": "code",
   "execution_count": 92,
   "outputs": [
    {
     "data": {
      "text/plain": "11581426"
     },
     "execution_count": 92,
     "metadata": {},
     "output_type": "execute_result"
    }
   ],
   "source": [
    "# Value counts of speed\n",
    "gps_df['SPEED'].value_counts()"
   ],
   "metadata": {
    "collapsed": false,
    "ExecuteTime": {
     "end_time": "2023-11-03T13:16:15.351604700Z",
     "start_time": "2023-11-03T13:16:12.417979Z"
    }
   },
   "id": "391caf5f6a68d8ab"
  }
 ],
 "metadata": {
  "kernelspec": {
   "display_name": "Python 3",
   "language": "python",
   "name": "python3"
  },
  "language_info": {
   "codemirror_mode": {
    "name": "ipython",
    "version": 2
   },
   "file_extension": ".py",
   "mimetype": "text/x-python",
   "name": "python",
   "nbconvert_exporter": "python",
   "pygments_lexer": "ipython2",
   "version": "2.7.6"
  }
 },
 "nbformat": 4,
 "nbformat_minor": 5
}
