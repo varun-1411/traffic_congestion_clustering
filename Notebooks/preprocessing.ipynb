{
 "cells": [
  {
   "cell_type": "code",
   "execution_count": 185,
   "id": "8a86908e",
   "metadata": {},
   "outputs": [
    {
     "name": "stdout",
     "output_type": "stream",
     "text": [
      "Requirement already satisfied: osmnx in c:\\users\\cistup\\appdata\\local\\packages\\pythonsoftwarefoundation.python.3.11_qbz5n2kfra8p0\\localcache\\local-packages\\python311\\site-packages (1.7.1)\n",
      "Requirement already satisfied: geopandas>=0.12 in c:\\users\\cistup\\appdata\\local\\packages\\pythonsoftwarefoundation.python.3.11_qbz5n2kfra8p0\\localcache\\local-packages\\python311\\site-packages (from osmnx) (0.14.0)\n",
      "Requirement already satisfied: networkx>=2.5 in c:\\users\\cistup\\appdata\\local\\packages\\pythonsoftwarefoundation.python.3.11_qbz5n2kfra8p0\\localcache\\local-packages\\python311\\site-packages (from osmnx) (3.1)\n",
      "Requirement already satisfied: numpy>=1.20 in c:\\users\\cistup\\appdata\\local\\packages\\pythonsoftwarefoundation.python.3.11_qbz5n2kfra8p0\\localcache\\local-packages\\python311\\site-packages (from osmnx) (1.26.0)\n",
      "Requirement already satisfied: pandas>=1.1 in c:\\users\\cistup\\appdata\\local\\packages\\pythonsoftwarefoundation.python.3.11_qbz5n2kfra8p0\\localcache\\local-packages\\python311\\site-packages (from osmnx) (2.1.1)\n",
      "Requirement already satisfied: requests>=2.27 in c:\\users\\cistup\\appdata\\local\\packages\\pythonsoftwarefoundation.python.3.11_qbz5n2kfra8p0\\localcache\\local-packages\\python311\\site-packages (from osmnx) (2.31.0)\n",
      "Requirement already satisfied: shapely>=2.0 in c:\\users\\cistup\\appdata\\local\\packages\\pythonsoftwarefoundation.python.3.11_qbz5n2kfra8p0\\localcache\\local-packages\\python311\\site-packages (from osmnx) (2.0.2)\n",
      "Requirement already satisfied: fiona>=1.8.21 in c:\\users\\cistup\\appdata\\local\\packages\\pythonsoftwarefoundation.python.3.11_qbz5n2kfra8p0\\localcache\\local-packages\\python311\\site-packages (from geopandas>=0.12->osmnx) (1.9.5)\n",
      "Requirement already satisfied: packaging in c:\\users\\cistup\\appdata\\local\\packages\\pythonsoftwarefoundation.python.3.11_qbz5n2kfra8p0\\localcache\\local-packages\\python311\\site-packages (from geopandas>=0.12->osmnx) (23.1)\n",
      "Requirement already satisfied: pyproj>=3.3.0 in c:\\users\\cistup\\appdata\\local\\packages\\pythonsoftwarefoundation.python.3.11_qbz5n2kfra8p0\\localcache\\local-packages\\python311\\site-packages (from geopandas>=0.12->osmnx) (3.6.1)\n",
      "Requirement already satisfied: python-dateutil>=2.8.2 in c:\\users\\cistup\\appdata\\local\\packages\\pythonsoftwarefoundation.python.3.11_qbz5n2kfra8p0\\localcache\\local-packages\\python311\\site-packages (from pandas>=1.1->osmnx) (2.8.2)\n",
      "Requirement already satisfied: pytz>=2020.1 in c:\\users\\cistup\\appdata\\local\\packages\\pythonsoftwarefoundation.python.3.11_qbz5n2kfra8p0\\localcache\\local-packages\\python311\\site-packages (from pandas>=1.1->osmnx) (2023.3.post1)\n",
      "Requirement already satisfied: tzdata>=2022.1 in c:\\users\\cistup\\appdata\\local\\packages\\pythonsoftwarefoundation.python.3.11_qbz5n2kfra8p0\\localcache\\local-packages\\python311\\site-packages (from pandas>=1.1->osmnx) (2023.3)\n",
      "Requirement already satisfied: charset-normalizer<4,>=2 in c:\\users\\cistup\\appdata\\local\\packages\\pythonsoftwarefoundation.python.3.11_qbz5n2kfra8p0\\localcache\\local-packages\\python311\\site-packages (from requests>=2.27->osmnx) (3.3.0)\n",
      "Requirement already satisfied: idna<4,>=2.5 in c:\\users\\cistup\\appdata\\local\\packages\\pythonsoftwarefoundation.python.3.11_qbz5n2kfra8p0\\localcache\\local-packages\\python311\\site-packages (from requests>=2.27->osmnx) (3.4)\n",
      "Requirement already satisfied: urllib3<3,>=1.21.1 in c:\\users\\cistup\\appdata\\local\\packages\\pythonsoftwarefoundation.python.3.11_qbz5n2kfra8p0\\localcache\\local-packages\\python311\\site-packages (from requests>=2.27->osmnx) (2.0.6)\n",
      "Requirement already satisfied: certifi>=2017.4.17 in c:\\users\\cistup\\appdata\\local\\packages\\pythonsoftwarefoundation.python.3.11_qbz5n2kfra8p0\\localcache\\local-packages\\python311\\site-packages (from requests>=2.27->osmnx) (2023.7.22)\n",
      "Requirement already satisfied: attrs>=19.2.0 in c:\\users\\cistup\\appdata\\local\\packages\\pythonsoftwarefoundation.python.3.11_qbz5n2kfra8p0\\localcache\\local-packages\\python311\\site-packages (from fiona>=1.8.21->geopandas>=0.12->osmnx) (23.1.0)\n",
      "Requirement already satisfied: click~=8.0 in c:\\users\\cistup\\appdata\\local\\packages\\pythonsoftwarefoundation.python.3.11_qbz5n2kfra8p0\\localcache\\local-packages\\python311\\site-packages (from fiona>=1.8.21->geopandas>=0.12->osmnx) (8.1.7)\n",
      "Requirement already satisfied: click-plugins>=1.0 in c:\\users\\cistup\\appdata\\local\\packages\\pythonsoftwarefoundation.python.3.11_qbz5n2kfra8p0\\localcache\\local-packages\\python311\\site-packages (from fiona>=1.8.21->geopandas>=0.12->osmnx) (1.1.1)\n",
      "Requirement already satisfied: cligj>=0.5 in c:\\users\\cistup\\appdata\\local\\packages\\pythonsoftwarefoundation.python.3.11_qbz5n2kfra8p0\\localcache\\local-packages\\python311\\site-packages (from fiona>=1.8.21->geopandas>=0.12->osmnx) (0.7.2)\n",
      "Requirement already satisfied: six in c:\\users\\cistup\\appdata\\local\\packages\\pythonsoftwarefoundation.python.3.11_qbz5n2kfra8p0\\localcache\\local-packages\\python311\\site-packages (from fiona>=1.8.21->geopandas>=0.12->osmnx) (1.16.0)\n",
      "Requirement already satisfied: setuptools in c:\\program files\\windowsapps\\pythonsoftwarefoundation.python.3.11_3.11.1776.0_x64__qbz5n2kfra8p0\\lib\\site-packages (from fiona>=1.8.21->geopandas>=0.12->osmnx) (65.5.0)\n",
      "Requirement already satisfied: colorama in c:\\users\\cistup\\appdata\\local\\packages\\pythonsoftwarefoundation.python.3.11_qbz5n2kfra8p0\\localcache\\local-packages\\python311\\site-packages (from click~=8.0->fiona>=1.8.21->geopandas>=0.12->osmnx) (0.4.6)\n",
      "Note: you may need to restart the kernel to use updated packages.\n"
     ]
    },
    {
     "name": "stderr",
     "output_type": "stream",
     "text": [
      "\n",
      "[notice] A new release of pip is available: 23.2.1 -> 23.3.1\n",
      "[notice] To update, run: C:\\Users\\CiSTUP\\AppData\\Local\\Microsoft\\WindowsApps\\PythonSoftwareFoundation.Python.3.11_qbz5n2kfra8p0\\python.exe -m pip install --upgrade pip\n"
     ]
    }
   ],
   "source": [
    "%pip install osmnx"
   ]
  },
  {
   "cell_type": "code",
   "execution_count": 186,
   "id": "4d9c9bf3",
   "metadata": {},
   "outputs": [
    {
     "name": "stdout",
     "output_type": "stream",
     "text": [
      "Requirement already satisfied: rtree in c:\\users\\cistup\\appdata\\local\\packages\\pythonsoftwarefoundation.python.3.11_qbz5n2kfra8p0\\localcache\\local-packages\\python311\\site-packages (1.1.0)\n",
      "Note: you may need to restart the kernel to use updated packages.\n"
     ]
    },
    {
     "name": "stderr",
     "output_type": "stream",
     "text": [
      "\n",
      "[notice] A new release of pip is available: 23.2.1 -> 23.3.1\n",
      "[notice] To update, run: C:\\Users\\CiSTUP\\AppData\\Local\\Microsoft\\WindowsApps\\PythonSoftwareFoundation.Python.3.11_qbz5n2kfra8p0\\python.exe -m pip install --upgrade pip\n"
     ]
    }
   ],
   "source": [
    "%pip install rtree"
   ]
  },
  {
   "cell_type": "code",
   "execution_count": 187,
   "id": "8d2c04ff",
   "metadata": {},
   "outputs": [
    {
     "name": "stdout",
     "output_type": "stream",
     "text": [
      "Requirement already satisfied: folium in c:\\users\\cistup\\appdata\\local\\packages\\pythonsoftwarefoundation.python.3.11_qbz5n2kfra8p0\\localcache\\local-packages\\python311\\site-packages (0.14.0)\n",
      "Requirement already satisfied: branca>=0.6.0 in c:\\users\\cistup\\appdata\\local\\packages\\pythonsoftwarefoundation.python.3.11_qbz5n2kfra8p0\\localcache\\local-packages\\python311\\site-packages (from folium) (0.6.0)\n",
      "Requirement already satisfied: jinja2>=2.9 in c:\\users\\cistup\\appdata\\local\\packages\\pythonsoftwarefoundation.python.3.11_qbz5n2kfra8p0\\localcache\\local-packages\\python311\\site-packages (from folium) (3.1.2)\n",
      "Requirement already satisfied: numpy in c:\\users\\cistup\\appdata\\local\\packages\\pythonsoftwarefoundation.python.3.11_qbz5n2kfra8p0\\localcache\\local-packages\\python311\\site-packages (from folium) (1.26.0)\n",
      "Requirement already satisfied: requests in c:\\users\\cistup\\appdata\\local\\packages\\pythonsoftwarefoundation.python.3.11_qbz5n2kfra8p0\\localcache\\local-packages\\python311\\site-packages (from folium) (2.31.0)\n",
      "Requirement already satisfied: MarkupSafe>=2.0 in c:\\users\\cistup\\appdata\\local\\packages\\pythonsoftwarefoundation.python.3.11_qbz5n2kfra8p0\\localcache\\local-packages\\python311\\site-packages (from jinja2>=2.9->folium) (2.1.3)\n",
      "Requirement already satisfied: charset-normalizer<4,>=2 in c:\\users\\cistup\\appdata\\local\\packages\\pythonsoftwarefoundation.python.3.11_qbz5n2kfra8p0\\localcache\\local-packages\\python311\\site-packages (from requests->folium) (3.3.0)\n",
      "Requirement already satisfied: idna<4,>=2.5 in c:\\users\\cistup\\appdata\\local\\packages\\pythonsoftwarefoundation.python.3.11_qbz5n2kfra8p0\\localcache\\local-packages\\python311\\site-packages (from requests->folium) (3.4)\n",
      "Requirement already satisfied: urllib3<3,>=1.21.1 in c:\\users\\cistup\\appdata\\local\\packages\\pythonsoftwarefoundation.python.3.11_qbz5n2kfra8p0\\localcache\\local-packages\\python311\\site-packages (from requests->folium) (2.0.6)\n",
      "Requirement already satisfied: certifi>=2017.4.17 in c:\\users\\cistup\\appdata\\local\\packages\\pythonsoftwarefoundation.python.3.11_qbz5n2kfra8p0\\localcache\\local-packages\\python311\\site-packages (from requests->folium) (2023.7.22)\n",
      "Note: you may need to restart the kernel to use updated packages.\n"
     ]
    },
    {
     "name": "stderr",
     "output_type": "stream",
     "text": [
      "\n",
      "[notice] A new release of pip is available: 23.2.1 -> 23.3.1\n",
      "[notice] To update, run: C:\\Users\\CiSTUP\\AppData\\Local\\Microsoft\\WindowsApps\\PythonSoftwareFoundation.Python.3.11_qbz5n2kfra8p0\\python.exe -m pip install --upgrade pip\n"
     ]
    }
   ],
   "source": [
    "%pip install folium"
   ]
  },
  {
   "cell_type": "code",
   "execution_count": 1,
   "id": "initial_id",
   "metadata": {
    "ExecuteTime": {
     "end_time": "2023-11-05T17:54:35.578617900Z",
     "start_time": "2023-11-05T17:54:35.562987600Z"
    },
    "collapsed": true
   },
   "outputs": [],
   "source": [
    "import pandas as pd\n",
    "import matplotlib.pyplot as plt\n",
    "from haversine import haversine_vector, Unit, haversine\n",
    "import osmnx as ox\n",
    "import pickle\n",
    "import os\n",
    "from tqdm import tqdm\n",
    "import folium\n",
    "from rtree import index"
   ]
  },
  {
   "cell_type": "code",
   "execution_count": 2,
   "id": "b5f5c444c3a6c31f",
   "metadata": {
    "ExecuteTime": {
     "end_time": "2023-11-05T15:14:23.672774900Z",
     "start_time": "2023-11-05T15:14:23.484412500Z"
    },
    "collapsed": false
   },
   "outputs": [
    {
     "name": "stderr",
     "output_type": "stream",
     "text": [
      "C:\\Users\\CiSTUP\\AppData\\Local\\Temp\\ipykernel_21460\\2165857006.py:1: DtypeWarning: Columns (6,16,17,18,19,21,22,23,25,26,27,28,29,32,35,36,40,53,58,59,61) have mixed types. Specify dtype option on import or set low_memory=False.\n",
      "  stops_df = pd.read_csv(r\"../Datasets/bus_stop.csv\")\n"
     ]
    }
   ],
   "source": [
    "stops_df = pd.read_csv(r\"../Datasets/bus_stop.csv\")"
   ]
  },
  {
   "cell_type": "code",
   "execution_count": 98,
   "id": "c0b871044e81286d",
   "metadata": {
    "ExecuteTime": {
     "end_time": "2023-11-05T17:32:55.719335100Z",
     "start_time": "2023-11-05T17:32:55.265546300Z"
    },
    "collapsed": false
   },
   "outputs": [],
   "source": [
    "gps_df = pd.read_csv(r\"../Datasets/GPS.csv\")"
   ]
  },
  {
   "cell_type": "code",
   "execution_count": 4,
   "id": "cd02695e7b4ba920",
   "metadata": {
    "ExecuteTime": {
     "end_time": "2023-11-05T17:32:55.781910700Z",
     "start_time": "2023-11-05T17:32:55.750765300Z"
    },
    "collapsed": false
   },
   "outputs": [
    {
     "name": "stdout",
     "output_type": "stream",
     "text": [
      "1000000\n"
     ]
    },
    {
     "data": {
      "text/html": [
       "<div>\n",
       "<style scoped>\n",
       "    .dataframe tbody tr th:only-of-type {\n",
       "        vertical-align: middle;\n",
       "    }\n",
       "\n",
       "    .dataframe tbody tr th {\n",
       "        vertical-align: top;\n",
       "    }\n",
       "\n",
       "    .dataframe thead th {\n",
       "        text-align: right;\n",
       "    }\n",
       "</style>\n",
       "<table border=\"1\" class=\"dataframe\">\n",
       "  <thead>\n",
       "    <tr style=\"text-align: right;\">\n",
       "      <th></th>\n",
       "      <th>DEVICE_ID</th>\n",
       "      <th>IST_DATE</th>\n",
       "      <th>LAT</th>\n",
       "      <th>LONGITUDE</th>\n",
       "    </tr>\n",
       "  </thead>\n",
       "  <tbody>\n",
       "    <tr>\n",
       "      <th>0</th>\n",
       "      <td>181221399</td>\n",
       "      <td>2000-10-13 06:30:00</td>\n",
       "      <td>0.000000</td>\n",
       "      <td>77.701782</td>\n",
       "    </tr>\n",
       "    <tr>\n",
       "      <th>1</th>\n",
       "      <td>181221399</td>\n",
       "      <td>2000-10-13 06:30:00</td>\n",
       "      <td>0.000000</td>\n",
       "      <td>77.701782</td>\n",
       "    </tr>\n",
       "    <tr>\n",
       "      <th>2</th>\n",
       "      <td>181221399</td>\n",
       "      <td>2000-10-13 06:30:00</td>\n",
       "      <td>0.000000</td>\n",
       "      <td>77.701782</td>\n",
       "    </tr>\n",
       "    <tr>\n",
       "      <th>3</th>\n",
       "      <td>9999572791</td>\n",
       "      <td>2019-10-13 00:15:18</td>\n",
       "      <td>13.029256</td>\n",
       "      <td>77.593023</td>\n",
       "    </tr>\n",
       "    <tr>\n",
       "      <th>4</th>\n",
       "      <td>9999572791</td>\n",
       "      <td>2019-10-13 00:15:33</td>\n",
       "      <td>13.029256</td>\n",
       "      <td>77.593023</td>\n",
       "    </tr>\n",
       "  </tbody>\n",
       "</table>\n",
       "</div>"
      ],
      "text/plain": [
       "    DEVICE_ID             IST_DATE        LAT  LONGITUDE\n",
       "0   181221399  2000-10-13 06:30:00   0.000000  77.701782\n",
       "1   181221399  2000-10-13 06:30:00   0.000000  77.701782\n",
       "2   181221399  2000-10-13 06:30:00   0.000000  77.701782\n",
       "3  9999572791  2019-10-13 00:15:18  13.029256  77.593023\n",
       "4  9999572791  2019-10-13 00:15:33  13.029256  77.593023"
      ]
     },
     "execution_count": 4,
     "metadata": {},
     "output_type": "execute_result"
    }
   ],
   "source": [
    "print(len(gps_df))\n",
    "gps_df.head()"
   ]
  },
  {
   "cell_type": "code",
   "execution_count": 99,
   "id": "d3520e27597bd953",
   "metadata": {
    "ExecuteTime": {
     "end_time": "2023-11-05T17:32:57.331646700Z",
     "start_time": "2023-11-05T17:32:57.017850200Z"
    },
    "collapsed": false
   },
   "outputs": [],
   "source": [
    "# Drop duplicate based on DEVICE_ID, IST_DATE, LAT and LONGITUDE\n",
    "gps_df = gps_df.drop_duplicates(subset=['DEVICE_ID','IST_DATE','LAT','LONGITUDE'])"
   ]
  },
  {
   "cell_type": "code",
   "execution_count": 100,
   "id": "836d5faf87b54bb6",
   "metadata": {
    "ExecuteTime": {
     "end_time": "2023-11-05T17:32:57.414931600Z",
     "start_time": "2023-11-05T17:32:57.337580900Z"
    },
    "collapsed": false
   },
   "outputs": [
    {
     "name": "stdout",
     "output_type": "stream",
     "text": [
      "25153843\n"
     ]
    },
    {
     "data": {
      "text/html": [
       "<div>\n",
       "<style scoped>\n",
       "    .dataframe tbody tr th:only-of-type {\n",
       "        vertical-align: middle;\n",
       "    }\n",
       "\n",
       "    .dataframe tbody tr th {\n",
       "        vertical-align: top;\n",
       "    }\n",
       "\n",
       "    .dataframe thead th {\n",
       "        text-align: right;\n",
       "    }\n",
       "</style>\n",
       "<table border=\"1\" class=\"dataframe\">\n",
       "  <thead>\n",
       "    <tr style=\"text-align: right;\">\n",
       "      <th></th>\n",
       "      <th>DEVICE_ID</th>\n",
       "      <th>IST_DATE</th>\n",
       "      <th>LAT</th>\n",
       "      <th>LONGITUDE</th>\n",
       "    </tr>\n",
       "  </thead>\n",
       "  <tbody>\n",
       "    <tr>\n",
       "      <th>3</th>\n",
       "      <td>9999572791</td>\n",
       "      <td>2019-10-13 00:15:18</td>\n",
       "      <td>13.029256</td>\n",
       "      <td>77.593023</td>\n",
       "    </tr>\n",
       "    <tr>\n",
       "      <th>4</th>\n",
       "      <td>9999572791</td>\n",
       "      <td>2019-10-13 00:15:33</td>\n",
       "      <td>13.029256</td>\n",
       "      <td>77.593023</td>\n",
       "    </tr>\n",
       "    <tr>\n",
       "      <th>5</th>\n",
       "      <td>9999572791</td>\n",
       "      <td>2019-10-13 00:15:46</td>\n",
       "      <td>13.029256</td>\n",
       "      <td>77.593023</td>\n",
       "    </tr>\n",
       "    <tr>\n",
       "      <th>6</th>\n",
       "      <td>9999572791</td>\n",
       "      <td>2019-10-13 00:16:03</td>\n",
       "      <td>13.029256</td>\n",
       "      <td>77.593023</td>\n",
       "    </tr>\n",
       "    <tr>\n",
       "      <th>7</th>\n",
       "      <td>9999572791</td>\n",
       "      <td>2019-10-13 00:16:18</td>\n",
       "      <td>13.029299</td>\n",
       "      <td>77.592891</td>\n",
       "    </tr>\n",
       "  </tbody>\n",
       "</table>\n",
       "</div>"
      ],
      "text/plain": [
       "    DEVICE_ID             IST_DATE        LAT  LONGITUDE\n",
       "3  9999572791  2019-10-13 00:15:18  13.029256  77.593023\n",
       "4  9999572791  2019-10-13 00:15:33  13.029256  77.593023\n",
       "5  9999572791  2019-10-13 00:15:46  13.029256  77.593023\n",
       "6  9999572791  2019-10-13 00:16:03  13.029256  77.593023\n",
       "7  9999572791  2019-10-13 00:16:18  13.029299  77.592891"
      ]
     },
     "execution_count": 100,
     "metadata": {},
     "output_type": "execute_result"
    }
   ],
   "source": [
    "# Filter the rows which LAT and LONGITUDE are between 12 and 14 and 77 and 79\n",
    "stops_df = stops_df[(stops_df['latitude_current'] > 12.8265) & (stops_df['latitude_current'] < 13.2694) & (stops_df['longitude_current'] > 77.3740) & (stops_df['longitude_current'] < 77.8313)]\n",
    "gps_df = gps_df[(gps_df['LAT'] > 12) & (gps_df['LAT'] < 13.2694) & (gps_df['LONGITUDE'] > 77.3740) & (gps_df['LONGITUDE'] < 77.8313)]\n",
    "print(len(gps_df))\n",
    "gps_df.head()"
   ]
  },
  {
   "cell_type": "code",
   "execution_count": 101,
   "id": "1a28ddd5002b5c45",
   "metadata": {
    "ExecuteTime": {
     "end_time": "2023-11-05T17:32:59.391961900Z",
     "start_time": "2023-11-05T17:32:58.689998600Z"
    },
    "collapsed": false
   },
   "outputs": [],
   "source": [
    "# Plot the data point based on year, Day and date\n",
    "gps_df['IST_DATE'] = pd.to_datetime(gps_df['IST_DATE'])\n",
    "gps_df['YEAR'] = gps_df['IST_DATE'].dt.year\n",
    "gps_df['DAY'] = gps_df['IST_DATE'].dt.dayofweek\n",
    "gps_df['DATE'] = gps_df['IST_DATE'].dt.date\n",
    "gps_df['TIME'] = gps_df['IST_DATE'].dt.time"
   ]
  },
  {
   "cell_type": "code",
   "execution_count": 102,
   "id": "36d8cbac53ee49f",
   "metadata": {
    "ExecuteTime": {
     "end_time": "2023-11-05T17:33:00.441944500Z",
     "start_time": "2023-11-05T17:33:00.274984200Z"
    },
    "collapsed": false
   },
   "outputs": [
    {
     "data": {
      "text/plain": [
       "DATE\n",
       "2019-10-13    25153837\n",
       "2000-10-13           3\n",
       "2001-10-13           2\n",
       "1970-10-13           1\n",
       "Name: count, dtype: int64"
      ]
     },
     "execution_count": 102,
     "metadata": {},
     "output_type": "execute_result"
    }
   ],
   "source": [
    "gps_df['DATE'].value_counts()"
   ]
  },
  {
   "cell_type": "code",
   "execution_count": 103,
   "id": "31542f2a751040fe",
   "metadata": {
    "ExecuteTime": {
     "end_time": "2023-11-05T17:33:01.764421100Z",
     "start_time": "2023-11-05T17:33:01.642658900Z"
    },
    "collapsed": false
   },
   "outputs": [],
   "source": [
    "# Remove the data points which are not in 2019\n",
    "gps_df = gps_df[gps_df['YEAR'] == 2019]"
   ]
  },
  {
   "cell_type": "code",
   "execution_count": 104,
   "id": "4106d9dea507f390",
   "metadata": {
    "ExecuteTime": {
     "end_time": "2023-11-05T17:33:03.084120300Z",
     "start_time": "2023-11-05T17:33:02.486259300Z"
    },
    "collapsed": false
   },
   "outputs": [
    {
     "data": {
      "text/html": [
       "<div>\n",
       "<style scoped>\n",
       "    .dataframe tbody tr th:only-of-type {\n",
       "        vertical-align: middle;\n",
       "    }\n",
       "\n",
       "    .dataframe tbody tr th {\n",
       "        vertical-align: top;\n",
       "    }\n",
       "\n",
       "    .dataframe thead th {\n",
       "        text-align: right;\n",
       "    }\n",
       "</style>\n",
       "<table border=\"1\" class=\"dataframe\">\n",
       "  <thead>\n",
       "    <tr style=\"text-align: right;\">\n",
       "      <th></th>\n",
       "      <th>DEVICE_ID</th>\n",
       "      <th>IST_DATE</th>\n",
       "      <th>LAT</th>\n",
       "      <th>LONGITUDE</th>\n",
       "      <th>YEAR</th>\n",
       "      <th>DAY</th>\n",
       "      <th>DATE</th>\n",
       "      <th>TIME</th>\n",
       "    </tr>\n",
       "  </thead>\n",
       "  <tbody>\n",
       "    <tr>\n",
       "      <th>2916</th>\n",
       "      <td>150211826</td>\n",
       "      <td>2019-10-13 00:00:03</td>\n",
       "      <td>13.043971</td>\n",
       "      <td>77.594109</td>\n",
       "      <td>2019</td>\n",
       "      <td>6</td>\n",
       "      <td>2019-10-13</td>\n",
       "      <td>00:00:03</td>\n",
       "    </tr>\n",
       "    <tr>\n",
       "      <th>4050</th>\n",
       "      <td>150211826</td>\n",
       "      <td>2019-10-13 00:00:13</td>\n",
       "      <td>13.043971</td>\n",
       "      <td>77.594109</td>\n",
       "      <td>2019</td>\n",
       "      <td>6</td>\n",
       "      <td>2019-10-13</td>\n",
       "      <td>00:00:13</td>\n",
       "    </tr>\n",
       "    <tr>\n",
       "      <th>5156</th>\n",
       "      <td>150211826</td>\n",
       "      <td>2019-10-13 00:00:23</td>\n",
       "      <td>13.043971</td>\n",
       "      <td>77.594109</td>\n",
       "      <td>2019</td>\n",
       "      <td>6</td>\n",
       "      <td>2019-10-13</td>\n",
       "      <td>00:00:23</td>\n",
       "    </tr>\n",
       "    <tr>\n",
       "      <th>6241</th>\n",
       "      <td>150211826</td>\n",
       "      <td>2019-10-13 00:00:33</td>\n",
       "      <td>13.043971</td>\n",
       "      <td>77.594109</td>\n",
       "      <td>2019</td>\n",
       "      <td>6</td>\n",
       "      <td>2019-10-13</td>\n",
       "      <td>00:00:33</td>\n",
       "    </tr>\n",
       "    <tr>\n",
       "      <th>7208</th>\n",
       "      <td>150211826</td>\n",
       "      <td>2019-10-13 00:00:43</td>\n",
       "      <td>13.043971</td>\n",
       "      <td>77.594109</td>\n",
       "      <td>2019</td>\n",
       "      <td>6</td>\n",
       "      <td>2019-10-13</td>\n",
       "      <td>00:00:43</td>\n",
       "    </tr>\n",
       "  </tbody>\n",
       "</table>\n",
       "</div>"
      ],
      "text/plain": [
       "      DEVICE_ID            IST_DATE        LAT  LONGITUDE  YEAR  DAY  \\\n",
       "2916  150211826 2019-10-13 00:00:03  13.043971  77.594109  2019    6   \n",
       "4050  150211826 2019-10-13 00:00:13  13.043971  77.594109  2019    6   \n",
       "5156  150211826 2019-10-13 00:00:23  13.043971  77.594109  2019    6   \n",
       "6241  150211826 2019-10-13 00:00:33  13.043971  77.594109  2019    6   \n",
       "7208  150211826 2019-10-13 00:00:43  13.043971  77.594109  2019    6   \n",
       "\n",
       "            DATE      TIME  \n",
       "2916  2019-10-13  00:00:03  \n",
       "4050  2019-10-13  00:00:13  \n",
       "5156  2019-10-13  00:00:23  \n",
       "6241  2019-10-13  00:00:33  \n",
       "7208  2019-10-13  00:00:43  "
      ]
     },
     "execution_count": 104,
     "metadata": {},
     "output_type": "execute_result"
    }
   ],
   "source": [
    "# Sort the dataframe by DEVICE_ID and then by IST_DATE\n",
    "gps_df = gps_df.sort_values(by=['DEVICE_ID','IST_DATE'])\n",
    "gps_df.head()"
   ]
  },
  {
   "cell_type": "code",
   "execution_count": 105,
   "id": "22c94ebc602feea2",
   "metadata": {
    "ExecuteTime": {
     "end_time": "2023-11-05T17:33:03.272026100Z",
     "start_time": "2023-11-05T17:33:03.115380300Z"
    },
    "collapsed": false
   },
   "outputs": [
    {
     "data": {
      "text/html": [
       "<div>\n",
       "<style scoped>\n",
       "    .dataframe tbody tr th:only-of-type {\n",
       "        vertical-align: middle;\n",
       "    }\n",
       "\n",
       "    .dataframe tbody tr th {\n",
       "        vertical-align: top;\n",
       "    }\n",
       "\n",
       "    .dataframe thead th {\n",
       "        text-align: right;\n",
       "    }\n",
       "</style>\n",
       "<table border=\"1\" class=\"dataframe\">\n",
       "  <thead>\n",
       "    <tr style=\"text-align: right;\">\n",
       "      <th></th>\n",
       "      <th>DEVICE_ID</th>\n",
       "      <th>IST_DATE</th>\n",
       "      <th>LAT</th>\n",
       "      <th>LONGITUDE</th>\n",
       "      <th>YEAR</th>\n",
       "      <th>DAY</th>\n",
       "      <th>DATE</th>\n",
       "      <th>TIME</th>\n",
       "      <th>PREV_LAT</th>\n",
       "      <th>PREV_LONGITUDE</th>\n",
       "      <th>PREV_IST_DATE</th>\n",
       "    </tr>\n",
       "  </thead>\n",
       "  <tbody>\n",
       "    <tr>\n",
       "      <th>2916</th>\n",
       "      <td>150211826</td>\n",
       "      <td>2019-10-13 00:00:03</td>\n",
       "      <td>13.043971</td>\n",
       "      <td>77.594109</td>\n",
       "      <td>2019</td>\n",
       "      <td>6</td>\n",
       "      <td>2019-10-13</td>\n",
       "      <td>00:00:03</td>\n",
       "      <td>NaN</td>\n",
       "      <td>NaN</td>\n",
       "      <td>NaT</td>\n",
       "    </tr>\n",
       "    <tr>\n",
       "      <th>4050</th>\n",
       "      <td>150211826</td>\n",
       "      <td>2019-10-13 00:00:13</td>\n",
       "      <td>13.043971</td>\n",
       "      <td>77.594109</td>\n",
       "      <td>2019</td>\n",
       "      <td>6</td>\n",
       "      <td>2019-10-13</td>\n",
       "      <td>00:00:13</td>\n",
       "      <td>13.043971</td>\n",
       "      <td>77.594109</td>\n",
       "      <td>2019-10-13 00:00:03</td>\n",
       "    </tr>\n",
       "    <tr>\n",
       "      <th>5156</th>\n",
       "      <td>150211826</td>\n",
       "      <td>2019-10-13 00:00:23</td>\n",
       "      <td>13.043971</td>\n",
       "      <td>77.594109</td>\n",
       "      <td>2019</td>\n",
       "      <td>6</td>\n",
       "      <td>2019-10-13</td>\n",
       "      <td>00:00:23</td>\n",
       "      <td>13.043971</td>\n",
       "      <td>77.594109</td>\n",
       "      <td>2019-10-13 00:00:13</td>\n",
       "    </tr>\n",
       "    <tr>\n",
       "      <th>6241</th>\n",
       "      <td>150211826</td>\n",
       "      <td>2019-10-13 00:00:33</td>\n",
       "      <td>13.043971</td>\n",
       "      <td>77.594109</td>\n",
       "      <td>2019</td>\n",
       "      <td>6</td>\n",
       "      <td>2019-10-13</td>\n",
       "      <td>00:00:33</td>\n",
       "      <td>13.043971</td>\n",
       "      <td>77.594109</td>\n",
       "      <td>2019-10-13 00:00:23</td>\n",
       "    </tr>\n",
       "    <tr>\n",
       "      <th>7208</th>\n",
       "      <td>150211826</td>\n",
       "      <td>2019-10-13 00:00:43</td>\n",
       "      <td>13.043971</td>\n",
       "      <td>77.594109</td>\n",
       "      <td>2019</td>\n",
       "      <td>6</td>\n",
       "      <td>2019-10-13</td>\n",
       "      <td>00:00:43</td>\n",
       "      <td>13.043971</td>\n",
       "      <td>77.594109</td>\n",
       "      <td>2019-10-13 00:00:33</td>\n",
       "    </tr>\n",
       "  </tbody>\n",
       "</table>\n",
       "</div>"
      ],
      "text/plain": [
       "      DEVICE_ID            IST_DATE        LAT  LONGITUDE  YEAR  DAY  \\\n",
       "2916  150211826 2019-10-13 00:00:03  13.043971  77.594109  2019    6   \n",
       "4050  150211826 2019-10-13 00:00:13  13.043971  77.594109  2019    6   \n",
       "5156  150211826 2019-10-13 00:00:23  13.043971  77.594109  2019    6   \n",
       "6241  150211826 2019-10-13 00:00:33  13.043971  77.594109  2019    6   \n",
       "7208  150211826 2019-10-13 00:00:43  13.043971  77.594109  2019    6   \n",
       "\n",
       "            DATE      TIME   PREV_LAT  PREV_LONGITUDE       PREV_IST_DATE  \n",
       "2916  2019-10-13  00:00:03        NaN             NaN                 NaT  \n",
       "4050  2019-10-13  00:00:13  13.043971       77.594109 2019-10-13 00:00:03  \n",
       "5156  2019-10-13  00:00:23  13.043971       77.594109 2019-10-13 00:00:13  \n",
       "6241  2019-10-13  00:00:33  13.043971       77.594109 2019-10-13 00:00:23  \n",
       "7208  2019-10-13  00:00:43  13.043971       77.594109 2019-10-13 00:00:33  "
      ]
     },
     "execution_count": 105,
     "metadata": {},
     "output_type": "execute_result"
    }
   ],
   "source": [
    "# Shift the rows by 1 and get the previous row's LAT and LONGITUDE and IST_DATE\n",
    "gps_df['PREV_LAT'] = gps_df.groupby(['DEVICE_ID'])['LAT'].shift(1)\n",
    "gps_df['PREV_LONGITUDE'] = gps_df.groupby(['DEVICE_ID'])['LONGITUDE'].shift(1)\n",
    "gps_df['PREV_IST_DATE'] = gps_df.groupby(['DEVICE_ID'])['IST_DATE'].shift(1)\n",
    "gps_df.head()"
   ]
  },
  {
   "cell_type": "code",
   "execution_count": 106,
   "id": "c41e214a8295e529",
   "metadata": {
    "ExecuteTime": {
     "end_time": "2023-11-05T17:33:05.151810900Z",
     "start_time": "2023-11-05T17:33:04.860881600Z"
    },
    "collapsed": false
   },
   "outputs": [],
   "source": [
    "# Drop the na values\n",
    "gps_df = gps_df.dropna()"
   ]
  },
  {
   "cell_type": "code",
   "execution_count": 107,
   "id": "52da9167fbe954c9",
   "metadata": {
    "ExecuteTime": {
     "end_time": "2023-11-05T17:33:06.481065600Z",
     "start_time": "2023-11-05T17:33:06.353789400Z"
    },
    "collapsed": false
   },
   "outputs": [],
   "source": [
    "# Calculate the distance between the current row and the previous row using haversine formula\n",
    "gps_df['DISTANCE'] = haversine_vector(gps_df[['LAT','LONGITUDE']],gps_df[['PREV_LAT','PREV_LONGITUDE']],Unit.METERS)"
   ]
  },
  {
   "cell_type": "code",
   "execution_count": 108,
   "id": "32e781fc40785c39",
   "metadata": {
    "ExecuteTime": {
     "end_time": "2023-11-05T17:33:07.545458400Z",
     "start_time": "2023-11-05T17:33:07.465287300Z"
    },
    "collapsed": false
   },
   "outputs": [],
   "source": [
    "# Calculate the time difference between the current row and the previous row\n",
    "gps_df['TIME_DIFF'] = (pd.to_datetime(gps_df['IST_DATE']) - pd.to_datetime(gps_df['PREV_IST_DATE'])).dt.total_seconds()"
   ]
  },
  {
   "cell_type": "code",
   "execution_count": 64,
   "id": "50dbba99",
   "metadata": {},
   "outputs": [
    {
     "name": "stdout",
     "output_type": "stream",
     "text": [
      "25148761\n"
     ]
    },
    {
     "data": {
      "text/html": [
       "<div>\n",
       "<style scoped>\n",
       "    .dataframe tbody tr th:only-of-type {\n",
       "        vertical-align: middle;\n",
       "    }\n",
       "\n",
       "    .dataframe tbody tr th {\n",
       "        vertical-align: top;\n",
       "    }\n",
       "\n",
       "    .dataframe thead th {\n",
       "        text-align: right;\n",
       "    }\n",
       "</style>\n",
       "<table border=\"1\" class=\"dataframe\">\n",
       "  <thead>\n",
       "    <tr style=\"text-align: right;\">\n",
       "      <th></th>\n",
       "      <th>DEVICE_ID</th>\n",
       "      <th>IST_DATE</th>\n",
       "      <th>LAT</th>\n",
       "      <th>LONGITUDE</th>\n",
       "      <th>YEAR</th>\n",
       "      <th>DAY</th>\n",
       "      <th>DATE</th>\n",
       "      <th>TIME</th>\n",
       "      <th>PREV_LAT</th>\n",
       "      <th>PREV_LONGITUDE</th>\n",
       "      <th>PREV_IST_DATE</th>\n",
       "      <th>DISTANCE</th>\n",
       "      <th>TIME_DIFF</th>\n",
       "    </tr>\n",
       "  </thead>\n",
       "  <tbody>\n",
       "    <tr>\n",
       "      <th>4050</th>\n",
       "      <td>150211826</td>\n",
       "      <td>2019-10-13 00:00:13</td>\n",
       "      <td>13.043971</td>\n",
       "      <td>77.594109</td>\n",
       "      <td>2019</td>\n",
       "      <td>6</td>\n",
       "      <td>2019-10-13</td>\n",
       "      <td>00:00:13</td>\n",
       "      <td>13.043971</td>\n",
       "      <td>77.594109</td>\n",
       "      <td>2019-10-13 00:00:03</td>\n",
       "      <td>0.0</td>\n",
       "      <td>10.0</td>\n",
       "    </tr>\n",
       "    <tr>\n",
       "      <th>5156</th>\n",
       "      <td>150211826</td>\n",
       "      <td>2019-10-13 00:00:23</td>\n",
       "      <td>13.043971</td>\n",
       "      <td>77.594109</td>\n",
       "      <td>2019</td>\n",
       "      <td>6</td>\n",
       "      <td>2019-10-13</td>\n",
       "      <td>00:00:23</td>\n",
       "      <td>13.043971</td>\n",
       "      <td>77.594109</td>\n",
       "      <td>2019-10-13 00:00:13</td>\n",
       "      <td>0.0</td>\n",
       "      <td>10.0</td>\n",
       "    </tr>\n",
       "    <tr>\n",
       "      <th>6241</th>\n",
       "      <td>150211826</td>\n",
       "      <td>2019-10-13 00:00:33</td>\n",
       "      <td>13.043971</td>\n",
       "      <td>77.594109</td>\n",
       "      <td>2019</td>\n",
       "      <td>6</td>\n",
       "      <td>2019-10-13</td>\n",
       "      <td>00:00:33</td>\n",
       "      <td>13.043971</td>\n",
       "      <td>77.594109</td>\n",
       "      <td>2019-10-13 00:00:23</td>\n",
       "      <td>0.0</td>\n",
       "      <td>10.0</td>\n",
       "    </tr>\n",
       "    <tr>\n",
       "      <th>7208</th>\n",
       "      <td>150211826</td>\n",
       "      <td>2019-10-13 00:00:43</td>\n",
       "      <td>13.043971</td>\n",
       "      <td>77.594109</td>\n",
       "      <td>2019</td>\n",
       "      <td>6</td>\n",
       "      <td>2019-10-13</td>\n",
       "      <td>00:00:43</td>\n",
       "      <td>13.043971</td>\n",
       "      <td>77.594109</td>\n",
       "      <td>2019-10-13 00:00:33</td>\n",
       "      <td>0.0</td>\n",
       "      <td>10.0</td>\n",
       "    </tr>\n",
       "    <tr>\n",
       "      <th>8146</th>\n",
       "      <td>150211826</td>\n",
       "      <td>2019-10-13 00:00:53</td>\n",
       "      <td>13.043971</td>\n",
       "      <td>77.594109</td>\n",
       "      <td>2019</td>\n",
       "      <td>6</td>\n",
       "      <td>2019-10-13</td>\n",
       "      <td>00:00:53</td>\n",
       "      <td>13.043971</td>\n",
       "      <td>77.594109</td>\n",
       "      <td>2019-10-13 00:00:43</td>\n",
       "      <td>0.0</td>\n",
       "      <td>10.0</td>\n",
       "    </tr>\n",
       "  </tbody>\n",
       "</table>\n",
       "</div>"
      ],
      "text/plain": [
       "      DEVICE_ID            IST_DATE        LAT  LONGITUDE  YEAR  DAY  \\\n",
       "4050  150211826 2019-10-13 00:00:13  13.043971  77.594109  2019    6   \n",
       "5156  150211826 2019-10-13 00:00:23  13.043971  77.594109  2019    6   \n",
       "6241  150211826 2019-10-13 00:00:33  13.043971  77.594109  2019    6   \n",
       "7208  150211826 2019-10-13 00:00:43  13.043971  77.594109  2019    6   \n",
       "8146  150211826 2019-10-13 00:00:53  13.043971  77.594109  2019    6   \n",
       "\n",
       "            DATE      TIME   PREV_LAT  PREV_LONGITUDE       PREV_IST_DATE  \\\n",
       "4050  2019-10-13  00:00:13  13.043971       77.594109 2019-10-13 00:00:03   \n",
       "5156  2019-10-13  00:00:23  13.043971       77.594109 2019-10-13 00:00:13   \n",
       "6241  2019-10-13  00:00:33  13.043971       77.594109 2019-10-13 00:00:23   \n",
       "7208  2019-10-13  00:00:43  13.043971       77.594109 2019-10-13 00:00:33   \n",
       "8146  2019-10-13  00:00:53  13.043971       77.594109 2019-10-13 00:00:43   \n",
       "\n",
       "      DISTANCE  TIME_DIFF  \n",
       "4050       0.0       10.0  \n",
       "5156       0.0       10.0  \n",
       "6241       0.0       10.0  \n",
       "7208       0.0       10.0  \n",
       "8146       0.0       10.0  "
      ]
     },
     "execution_count": 64,
     "metadata": {},
     "output_type": "execute_result"
    }
   ],
   "source": [
    "print(len(gps_df))\n",
    "gps_df.head()"
   ]
  },
  {
   "cell_type": "code",
   "execution_count": 109,
   "id": "1f121a56",
   "metadata": {},
   "outputs": [],
   "source": [
    "sum(gps_df.groupby(['DEVICE_ID'])['DISTANCE'].sum() < 10000)\n",
    "gps_df = gps_df[gps_df.groupby(['DEVICE_ID'])['DISTANCE'].transform('sum') > 10000]\n",
    "\n",
    "# # plot the distance distribution\n",
    "# plt.figure(figsize=(10,5))\n",
    "# plt.hist(gps_df.groupby(['DEVICE_ID'])['DISTANCE'].sum(),bins=100)\n",
    "# plt.xlabel('Distance')\n",
    "# plt.ylabel('Frequency')\n",
    "# plt.title('Distance Distribution')\n",
    "# plt.show()\n"
   ]
  },
  {
   "cell_type": "code",
   "execution_count": 85,
   "id": "4cf846f453e1584a",
   "metadata": {
    "ExecuteTime": {
     "end_time": "2023-11-05T17:33:11.086444400Z",
     "start_time": "2023-11-05T17:33:08.885869300Z"
    },
    "collapsed": false
   },
   "outputs": [
    {
     "data": {
      "image/png": "[encoded data removed]",
      "text/plain": [
       "<Figure size 640x480 with 1 Axes>"
      ]
     },
     "metadata": {},
     "output_type": "display_data"
    }
   ],
   "source": [
    "# PLot the distance and time difference\n",
    "plt.scatter(gps_df['DISTANCE'],gps_df['TIME_DIFF'])\n",
    "plt.xlabel('Distance')\n",
    "plt.ylabel('Time Difference')\n",
    "plt.show()"
   ]
  },
  {
   "cell_type": "code",
   "execution_count": 110,
   "id": "9df5e6d8",
   "metadata": {},
   "outputs": [
    {
     "data": {
      "text/plain": [
       "TIME_DIFF\n",
       "10.0       20443840\n",
       "9.0         1822109\n",
       "11.0         604176\n",
       "60.0         529345\n",
       "59.0         279702\n",
       "             ...   \n",
       "2586.0            1\n",
       "2589.0            1\n",
       "2603.0            1\n",
       "2607.0            1\n",
       "73382.0           1\n",
       "Name: count, Length: 3514, dtype: int64"
      ]
     },
     "execution_count": 110,
     "metadata": {},
     "output_type": "execute_result"
    }
   ],
   "source": [
    "gps_df['TIME_DIFF'].sort_values(ascending=False).value_counts()"
   ]
  },
  {
   "cell_type": "code",
   "execution_count": 111,
   "id": "ca1fa399",
   "metadata": {},
   "outputs": [],
   "source": [
    "gps_df = gps_df[gps_df['TIME_DIFF'] <= 70]"
   ]
  },
  {
   "cell_type": "code",
   "execution_count": 112,
   "id": "d1710f26",
   "metadata": {},
   "outputs": [],
   "source": [
    "gps_df = gps_df[gps_df['TIME_DIFF'] != 0]"
   ]
  },
  {
   "cell_type": "code",
   "execution_count": 113,
   "id": "059c58ca",
   "metadata": {},
   "outputs": [
    {
     "data": {
      "text/plain": [
       "0"
      ]
     },
     "execution_count": 113,
     "metadata": {},
     "output_type": "execute_result"
    }
   ],
   "source": [
    "sum(gps_df['TIME_DIFF'] == 0)"
   ]
  },
  {
   "cell_type": "code",
   "execution_count": 114,
   "id": "c244a245",
   "metadata": {},
   "outputs": [
    {
     "data": {
      "image/png": "[encoded data removed]",
      "text/plain": [
       "<Figure size 640x480 with 1 Axes>"
      ]
     },
     "metadata": {},
     "output_type": "display_data"
    }
   ],
   "source": [
    "# plot the histogram of time difference \n",
    "plt.hist(gps_df['TIME_DIFF'],bins=100)\n",
    "plt.xlabel('Time Difference')\n",
    "plt.ylabel('Frequency')\n",
    "plt.xlim(0,70)\n",
    "plt.show()\n",
    "\n"
   ]
  },
  {
   "cell_type": "code",
   "execution_count": 118,
   "id": "30a09d8fb6020e6c",
   "metadata": {
    "ExecuteTime": {
     "end_time": "2023-11-05T17:33:12.609418600Z",
     "start_time": "2023-11-05T17:33:11.118103700Z"
    },
    "collapsed": false
   },
   "outputs": [
    {
     "data": {
      "image/png": "[encoded data removed]",
      "text/plain": [
       "<Figure size 640x480 with 1 Axes>"
      ]
     },
     "metadata": {},
     "output_type": "display_data"
    }
   ],
   "source": [
    "gps_df['SPEED'] = gps_df['DISTANCE'] / (gps_df['TIME_DIFF'] +0.0001) *18/5\n",
    "\n",
    "# Plot the scatter plot speed with respect index\n",
    "plt.scatter(gps_df.index,gps_df['SPEED'])\n",
    "plt.ylim(0,200)\n",
    "plt.xlabel('Index')\n",
    "plt.ylabel('Speed')\n",
    "plt.show()"
   ]
  },
  {
   "cell_type": "code",
   "execution_count": 117,
   "id": "62729ecc",
   "metadata": {},
   "outputs": [],
   "source": [
    "gps_df = gps_df[gps_df['SPEED'] <= 180] "
   ]
  },
  {
   "cell_type": "code",
   "execution_count": 120,
   "id": "e0fb46dc",
   "metadata": {},
   "outputs": [],
   "source": [
    "gps_df.to_csv(r\"../Datasets/GPS_clean.csv\",index=False)"
   ]
  },
  {
   "cell_type": "code",
   "execution_count": 119,
   "id": "ef35188073cdddd",
   "metadata": {
    "ExecuteTime": {
     "end_time": "2023-11-05T17:33:12.688108Z",
     "start_time": "2023-11-05T17:33:12.640821300Z"
    },
    "collapsed": false
   },
   "outputs": [
    {
     "data": {
      "text/plain": [
       "SPEED\n",
       "0.040030    364668\n",
       "0.040030    248851\n",
       "0.080060     88015\n",
       "0.040030     44881\n",
       "0.120089     39429\n",
       "             ...  \n",
       "0.322126         1\n",
       "0.618328         1\n",
       "0.350734         1\n",
       "0.350734         1\n",
       "0.814654         1\n",
       "Name: count, Length: 1146129, dtype: int64"
      ]
     },
     "execution_count": 119,
     "metadata": {},
     "output_type": "execute_result"
    }
   ],
   "source": [
    "# Value counts of speed between 0 and 1\n",
    "gps_df[(gps_df['SPEED'] > 0) & (gps_df['SPEED'] < 1)]['SPEED'].value_counts()"
   ]
  },
  {
   "cell_type": "code",
   "execution_count": 121,
   "id": "5c0ff4989291c83b",
   "metadata": {
    "ExecuteTime": {
     "end_time": "2023-11-05T17:33:30.104152200Z",
     "start_time": "2023-11-05T17:33:30.072937400Z"
    },
    "collapsed": false
   },
   "outputs": [
    {
     "data": {
      "text/plain": [
       "0.0"
      ]
     },
     "execution_count": 121,
     "metadata": {},
     "output_type": "execute_result"
    }
   ],
   "source": [
    "gps_df['SPEED'].min()"
   ]
  },
  {
   "cell_type": "code",
   "execution_count": 122,
   "id": "bf02cc57",
   "metadata": {},
   "outputs": [
    {
     "data": {
      "text/plain": [
       "(24105828, 14)"
      ]
     },
     "execution_count": 122,
     "metadata": {},
     "output_type": "execute_result"
    }
   ],
   "source": [
    "gps_df.shape"
   ]
  },
  {
   "cell_type": "code",
   "execution_count": 123,
   "id": "915489b490d956e6",
   "metadata": {
    "ExecuteTime": {
     "end_time": "2023-11-05T17:36:03.043806200Z",
     "start_time": "2023-11-05T17:33:36.675093200Z"
    },
    "collapsed": false
   },
   "outputs": [
    {
     "name": "stderr",
     "output_type": "stream",
     "text": [
      "100%|██████████| 13219539/13219539 [40:48<00:00, 5399.05it/s]\n"
     ]
    }
   ],
   "source": [
    "# reset the index\n",
    "gps_df = gps_df.reset_index(drop=True)\n",
    "\n",
    "# Add column stop_time and initialize it with 0\n",
    "gps_df['STOP_TIME'] = 0\n",
    "\n",
    "# Take the dataframe with speed 0\n",
    "gps_df0 = gps_df[gps_df['SPEED'] <= 1]\n",
    "\n",
    "# # Iterate over the dataframe with speed 0 and add the time_diff with the previous rows STOP_TIME to the current row STOP_TIME\n",
    "prev_index = 0\n",
    "for index,row in tqdm(gps_df0.iterrows(),total=len(gps_df0)):\n",
    "    if index > 0 and row['DEVICE_ID'] == gps_df0.loc[prev_index,'DEVICE_ID']:\n",
    "        gps_df.loc[index,'STOP_TIME'] = gps_df.loc[index-1,'STOP_TIME'] + row['TIME_DIFF']\n",
    "    else:\n",
    "        gps_df.loc[index,'STOP_TIME'] = row['TIME_DIFF']\n",
    "    prev_index = index\n",
    "    \n"
   ]
  },
  {
   "cell_type": "code",
   "execution_count": 124,
   "id": "07cbaee4",
   "metadata": {},
   "outputs": [],
   "source": [
    "gps_df.to_csv(r\"../Datasets/GPS_clean_1.csv\",index=False)"
   ]
  },
  {
   "cell_type": "code",
   "execution_count": 125,
   "id": "f0781e51",
   "metadata": {},
   "outputs": [],
   "source": [
    "gps_df_copy = gps_df.copy()"
   ]
  },
  {
   "cell_type": "code",
   "execution_count": 126,
   "id": "239c5d69",
   "metadata": {},
   "outputs": [
    {
     "data": {
      "image/png": "[encoded data removed]",
      "text/plain": [
       "<Figure size 640x480 with 1 Axes>"
      ]
     },
     "metadata": {},
     "output_type": "display_data"
    }
   ],
   "source": [
    "# plot IST_DATE of device id 150211826 with index\n",
    "plt.plot(gps_df[:]['IST_DATE'],gps_df.index)   \n",
    "plt.xlabel('IST_DATE')\n",
    "plt.ylabel('STOP_TIME')\n",
    "plt.xticks(rotation=45)\n",
    "plt.show()\n"
   ]
  },
  {
   "cell_type": "code",
   "execution_count": 127,
   "id": "8d603afe2f18c61a",
   "metadata": {
    "ExecuteTime": {
     "end_time": "2023-11-05T17:36:03.091101800Z",
     "start_time": "2023-11-05T17:36:03.080302100Z"
    },
    "collapsed": false
   },
   "outputs": [
    {
     "data": {
      "text/plain": [
       "13219539"
      ]
     },
     "execution_count": 127,
     "metadata": {},
     "output_type": "execute_result"
    }
   ],
   "source": [
    "len(gps_df0)"
   ]
  },
  {
   "cell_type": "code",
   "execution_count": 132,
   "id": "12724da3",
   "metadata": {},
   "outputs": [
    {
     "data": {
      "text/plain": [
       "(10338457,)"
      ]
     },
     "execution_count": 132,
     "metadata": {},
     "output_type": "execute_result"
    }
   ],
   "source": [
    "# number of unique lat and long\n",
    "gps_df.groupby(['LAT','LONGITUDE']).size().shape"
   ]
  },
  {
   "cell_type": "code",
   "execution_count": 129,
   "id": "2e8edde9",
   "metadata": {},
   "outputs": [
    {
     "data": {
      "text/plain": [
       "(24105828, 15)"
      ]
     },
     "execution_count": 129,
     "metadata": {},
     "output_type": "execute_result"
    }
   ],
   "source": [
    "gps_df.shape"
   ]
  },
  {
   "cell_type": "code",
   "execution_count": 130,
   "id": "d320e12343980035",
   "metadata": {
    "ExecuteTime": {
     "end_time": "2023-11-05T17:36:03.185683400Z",
     "start_time": "2023-11-05T17:36:03.091101800Z"
    },
    "collapsed": false
   },
   "outputs": [],
   "source": [
    "st = gps_df.loc[gps_df['STOP_TIME'] > 600,['LAT','LONGITUDE']].groupby(['LAT','LONGITUDE']).count()\n",
    "st = st.reset_index()"
   ]
  },
  {
   "cell_type": "code",
   "execution_count": 51,
   "id": "8e8913b4",
   "metadata": {},
   "outputs": [],
   "source": [
    "g = gps_df[((gps_df['LAT'].isin(st['LAT'])) & (gps_df['LONGITUDE'].isin(st['LONGITUDE'])) & (gps_df['SPEED'] > 10) & (gps_df['SPEED'] < 120))]"
   ]
  },
  {
   "cell_type": "code",
   "execution_count": 52,
   "id": "0eef4c4b",
   "metadata": {},
   "outputs": [
    {
     "data": {
      "text/plain": [
       "1208"
      ]
     },
     "execution_count": 52,
     "metadata": {},
     "output_type": "execute_result"
    }
   ],
   "source": [
    "len(g)"
   ]
  },
  {
   "cell_type": "code",
   "execution_count": 225,
   "id": "94d308ee",
   "metadata": {},
   "outputs": [],
   "source": [
    "m = folium.Map(location=[12.9716,77.5946],zoom_start=12)\n",
    "for id,row in g.iterrows():\n",
    "    folium.CircleMarker(location=[row['LAT'],row['LONGITUDE']],radius=0.01,color='red').add_to(m)\n",
    "m.save('map.html')"
   ]
  },
  {
   "cell_type": "code",
   "execution_count": 145,
   "id": "884a52e8fe9a9157",
   "metadata": {
    "ExecuteTime": {
     "end_time": "2023-11-05T17:36:03.408302200Z",
     "start_time": "2023-11-05T17:36:03.185683400Z"
    },
    "collapsed": false
   },
   "outputs": [
    {
     "data": {
      "text/plain": [
       "12765218"
      ]
     },
     "execution_count": 145,
     "metadata": {},
     "output_type": "execute_result"
    }
   ],
   "source": [
    "# Filter the gps_df with respect to STOP_TIME less than 600 and LAT and LONGITUDE are not in st\n",
    "gps_df = gps_df[gps_df['STOP_TIME'] < 300]\n",
    "\n",
    "gps_df = gps_df[~((gps_df['LAT'].isin(st['LAT'])) & (gps_df['LONGITUDE'].isin(st['LONGITUDE'])) & (gps_df['SPEED'] < 10))]\n",
    "\n",
    "len(gps_df)\n"
   ]
  },
  {
   "cell_type": "code",
   "execution_count": 136,
   "id": "77a2d553",
   "metadata": {},
   "outputs": [
    {
     "data": {
      "text/plain": [
       "(4684,)"
      ]
     },
     "execution_count": 136,
     "metadata": {},
     "output_type": "execute_result"
    }
   ],
   "source": [
    "gps_df['DEVICE_ID'].unique().shape"
   ]
  },
  {
   "cell_type": "code",
   "execution_count": 146,
   "id": "34204a06",
   "metadata": {},
   "outputs": [],
   "source": [
    "sum(gps_df.groupby(['DEVICE_ID'])['DISTANCE'].sum() < 20000)\n",
    "\n",
    "gps_df = gps_df[gps_df.groupby(['DEVICE_ID'])['DISTANCE'].transform('sum') > 20000]"
   ]
  },
  {
   "cell_type": "code",
   "execution_count": 147,
   "id": "3109747c",
   "metadata": {},
   "outputs": [
    {
     "data": {
      "text/plain": [
       "12765218"
      ]
     },
     "execution_count": 147,
     "metadata": {},
     "output_type": "execute_result"
    }
   ],
   "source": [
    "len(gps_df)"
   ]
  },
  {
   "cell_type": "code",
   "execution_count": 148,
   "id": "84f735f3",
   "metadata": {},
   "outputs": [],
   "source": [
    "gps_df_1 = gps_df[:1000][:]"
   ]
  },
  {
   "cell_type": "code",
   "execution_count": null,
   "id": "045fb0ac",
   "metadata": {},
   "outputs": [],
   "source": []
  },
  {
   "cell_type": "code",
   "execution_count": 149,
   "id": "40958698",
   "metadata": {},
   "outputs": [],
   "source": [
    "G = ox.graph_from_place(\"Bangalore, India\", network_type=\"drive\")"
   ]
  },
  {
   "cell_type": "code",
   "execution_count": null,
   "id": "d03147a1",
   "metadata": {},
   "outputs": [],
   "source": [
    "import geopandas as gpd\n",
    "from shapely.geometry import Point\n",
    "\n",
    "# Load OSMnx graph (replace with your OSMnx graph creation)\n",
    "# G = ox.graph_from_place(\"Bangalore, India\", network_type=\"drive\")\n",
    "\n",
    "# Assuming 'lat' and 'lon' are your latitude and longitude columns\n",
    "# Replace 'your_dataframe' with your actual DataFrame\n",
    "geometry = [Point(lon, lat) for lat, lon in zip(gps_df_1['LAT'], gps_df_1['LONGITUDE'])]\n",
    "gdf_points = gpd.GeoDataFrame(geometry=geometry, crs=\"EPSG:4326\")\n",
    "\n",
    "# Spatial index for the OSMnx graph\n",
    "spatial_index = gdf_points.sindex\n",
    "\n",
    "# Find the nearest edge for each point\n",
    "nearest_edges = []\n",
    "for point in gdf_points['geometry']:\n",
    "    possible_matches_index = list(spatial_index.intersection(point.bounds))\n",
    "    possible_matches = gdf_points.iloc[possible_matches_index]\n",
    "    nearest_edge = possible_matches.geometry.distance(point).idxmin()\n",
    "    nearest_edges.append(nearest_edge)\n",
    "\n",
    "# 'nearest_edges' now contains the indices of the nearest edge for each point\n"
   ]
  },
  {
   "cell_type": "code",
   "execution_count": null,
   "id": "d8d4afa8",
   "metadata": {},
   "outputs": [],
   "source": [
    "nearest_edges"
   ]
  },
  {
   "cell_type": "code",
   "execution_count": 227,
   "id": "78386d9c7c05ec5f",
   "metadata": {
    "ExecuteTime": {
     "end_time": "2023-11-05T17:36:12.010772700Z",
     "start_time": "2023-11-05T17:36:03.408302200Z"
    },
    "collapsed": false
   },
   "outputs": [],
   "source": [
    "# Plot the st and stops_df on folium plot in different colours and as circular markers\n",
    "m = folium.Map(location=[12.9716,77.5946],zoom_start=12)\n",
    "for index,row in st.iterrows():\n",
    "    folium.CircleMarker([row['LAT'],row['LONGITUDE']],radius=0.01,color='red',fill=True).add_to(m)\n",
    "for index,row in stops_df.iterrows():\n",
    "    folium.CircleMarker([row['latitude_current'],row['longitude_current']],radius=0.01,color='blue',fill=True).add_to(m)\n",
    "m.save('stops.html')"
   ]
  },
  {
   "cell_type": "code",
   "execution_count": 228,
   "id": "4c68e5f06fb1d7f7",
   "metadata": {
    "ExecuteTime": {
     "end_time": "2023-11-05T17:39:44.521532100Z",
     "start_time": "2023-11-05T17:36:12.010772700Z"
    },
    "collapsed": false
   },
   "outputs": [],
   "source": [
    "m = folium.Map(location=[12.9716,77.5946],zoom_start=12)\n",
    "for index,row in st.iterrows():\n",
    "    folium.CircleMarker([row['LAT'],row['LONGITUDE']],radius=0.01,color='red',fill=True).add_to(m)\n",
    "for index,row in gps_df.iterrows():\n",
    "    folium.CircleMarker([row['LAT'],row['LONGITUDE']],radius=0.01,color='blue',fill=True).add_to(m)\n",
    "m.save('pings.html')"
   ]
  },
  {
   "cell_type": "code",
   "execution_count": 230,
   "id": "f960c0a1cb9cdff9",
   "metadata": {
    "ExecuteTime": {
     "end_time": "2023-11-05T17:39:44.576677300Z",
     "start_time": "2023-11-05T17:39:44.521532100Z"
    },
    "collapsed": false
   },
   "outputs": [],
   "source": [
    "gps_df_copy = gps_df.copy()"
   ]
  },
  {
   "cell_type": "code",
   "execution_count": 229,
   "id": "bc9ff56c1e305700",
   "metadata": {
    "ExecuteTime": {
     "end_time": "2023-11-05T17:39:44.682804400Z",
     "start_time": "2023-11-05T17:39:44.554677900Z"
    },
    "collapsed": false
   },
   "outputs": [
    {
     "name": "stdout",
     "output_type": "stream",
     "text": [
      "11.621991914332925\n"
     ]
    }
   ],
   "source": [
    "# Filter the gps data with respect to speed less than 60\n",
    "gps_df = gps_df[gps_df['SPEED'] < 120]\n",
    "print(gps_df.SPEED.mean())"
   ]
  },
  {
   "cell_type": "code",
   "execution_count": 231,
   "id": "391caf5f6a68d8ab",
   "metadata": {
    "ExecuteTime": {
     "end_time": "2023-11-05T17:39:44.683806600Z",
     "start_time": "2023-11-05T17:39:44.633687300Z"
    },
    "collapsed": false
   },
   "outputs": [
    {
     "name": "stdout",
     "output_type": "stream",
     "text": [
      "108927\n"
     ]
    },
    {
     "data": {
      "text/plain": [
       "SPEED\n",
       "0.000000    27660\n",
       "0.040030     2544\n",
       "0.040030     1723\n",
       "0.080060      880\n",
       "0.120089      509\n",
       "            ...  \n",
       "0.447118        1\n",
       "0.393760        1\n",
       "0.644270        1\n",
       "1.024177        1\n",
       "6.419957        1\n",
       "Name: count, Length: 67719, dtype: int64"
      ]
     },
     "execution_count": 231,
     "metadata": {},
     "output_type": "execute_result"
    }
   ],
   "source": [
    "# Value counts of speed\n",
    "print(len(gps_df))\n",
    "gps_df['SPEED'].value_counts()"
   ]
  },
  {
   "cell_type": "code",
   "execution_count": 232,
   "id": "883e44cf2cf03576",
   "metadata": {
    "ExecuteTime": {
     "end_time": "2023-11-05T17:39:44.819029800Z",
     "start_time": "2023-11-05T17:39:44.668804Z"
    },
    "collapsed": false
   },
   "outputs": [
    {
     "data": {
      "text/html": [
       "<div>\n",
       "<style scoped>\n",
       "    .dataframe tbody tr th:only-of-type {\n",
       "        vertical-align: middle;\n",
       "    }\n",
       "\n",
       "    .dataframe tbody tr th {\n",
       "        vertical-align: top;\n",
       "    }\n",
       "\n",
       "    .dataframe thead th {\n",
       "        text-align: right;\n",
       "    }\n",
       "</style>\n",
       "<table border=\"1\" class=\"dataframe\">\n",
       "  <thead>\n",
       "    <tr style=\"text-align: right;\">\n",
       "      <th></th>\n",
       "      <th>LAT</th>\n",
       "      <th>LONGITUDE</th>\n",
       "      <th>count</th>\n",
       "    </tr>\n",
       "  </thead>\n",
       "  <tbody>\n",
       "    <tr>\n",
       "      <th>18165</th>\n",
       "      <td>12.918879</td>\n",
       "      <td>77.570648</td>\n",
       "      <td>62</td>\n",
       "    </tr>\n",
       "    <tr>\n",
       "      <th>15732</th>\n",
       "      <td>12.913798</td>\n",
       "      <td>77.486481</td>\n",
       "      <td>61</td>\n",
       "    </tr>\n",
       "    <tr>\n",
       "      <th>44192</th>\n",
       "      <td>12.979038</td>\n",
       "      <td>77.571579</td>\n",
       "      <td>61</td>\n",
       "    </tr>\n",
       "    <tr>\n",
       "      <th>41497</th>\n",
       "      <td>12.972120</td>\n",
       "      <td>77.441902</td>\n",
       "      <td>61</td>\n",
       "    </tr>\n",
       "    <tr>\n",
       "      <th>55025</th>\n",
       "      <td>13.016982</td>\n",
       "      <td>77.556625</td>\n",
       "      <td>61</td>\n",
       "    </tr>\n",
       "    <tr>\n",
       "      <th>...</th>\n",
       "      <td>...</td>\n",
       "      <td>...</td>\n",
       "      <td>...</td>\n",
       "    </tr>\n",
       "    <tr>\n",
       "      <th>27667</th>\n",
       "      <td>12.951047</td>\n",
       "      <td>77.537132</td>\n",
       "      <td>1</td>\n",
       "    </tr>\n",
       "    <tr>\n",
       "      <th>27666</th>\n",
       "      <td>12.951046</td>\n",
       "      <td>77.537086</td>\n",
       "      <td>1</td>\n",
       "    </tr>\n",
       "    <tr>\n",
       "      <th>27665</th>\n",
       "      <td>12.951042</td>\n",
       "      <td>77.537140</td>\n",
       "      <td>1</td>\n",
       "    </tr>\n",
       "    <tr>\n",
       "      <th>27664</th>\n",
       "      <td>12.951041</td>\n",
       "      <td>77.536324</td>\n",
       "      <td>1</td>\n",
       "    </tr>\n",
       "    <tr>\n",
       "      <th>39417</th>\n",
       "      <td>12.966045</td>\n",
       "      <td>77.534843</td>\n",
       "      <td>1</td>\n",
       "    </tr>\n",
       "  </tbody>\n",
       "</table>\n",
       "<p>78834 rows × 3 columns</p>\n",
       "</div>"
      ],
      "text/plain": [
       "             LAT  LONGITUDE  count\n",
       "18165  12.918879  77.570648     62\n",
       "15732  12.913798  77.486481     61\n",
       "44192  12.979038  77.571579     61\n",
       "41497  12.972120  77.441902     61\n",
       "55025  13.016982  77.556625     61\n",
       "...          ...        ...    ...\n",
       "27667  12.951047  77.537132      1\n",
       "27666  12.951046  77.537086      1\n",
       "27665  12.951042  77.537140      1\n",
       "27664  12.951041  77.536324      1\n",
       "39417  12.966045  77.534843      1\n",
       "\n",
       "[78834 rows x 3 columns]"
      ]
     },
     "execution_count": 232,
     "metadata": {},
     "output_type": "execute_result"
    }
   ],
   "source": [
    "# Get the number of unique gps based on LAT and LONGITUDE\n",
    "gps_df.groupby(['LAT','LONGITUDE']).size().reset_index().rename(columns={0:'count'}).sort_values(by='count',ascending=False)"
   ]
  },
  {
   "cell_type": "code",
   "execution_count": 233,
   "id": "dd717faafbe08986",
   "metadata": {
    "ExecuteTime": {
     "end_time": "2023-11-05T17:39:45.759534900Z",
     "start_time": "2023-11-05T17:39:44.809674100Z"
    },
    "collapsed": false
   },
   "outputs": [
    {
     "data": {
      "text/html": [
       "<div>\n",
       "<style scoped>\n",
       "    .dataframe tbody tr th:only-of-type {\n",
       "        vertical-align: middle;\n",
       "    }\n",
       "\n",
       "    .dataframe tbody tr th {\n",
       "        vertical-align: top;\n",
       "    }\n",
       "\n",
       "    .dataframe thead th {\n",
       "        text-align: right;\n",
       "    }\n",
       "</style>\n",
       "<table border=\"1\" class=\"dataframe\">\n",
       "  <thead>\n",
       "    <tr style=\"text-align: right;\">\n",
       "      <th></th>\n",
       "      <th>route_points_id</th>\n",
       "      <th>route_id</th>\n",
       "      <th>bus_stop_id</th>\n",
       "      <th>bus_stop_group_id</th>\n",
       "      <th>route_order</th>\n",
       "      <th>point_status</th>\n",
       "      <th>fare_stage</th>\n",
       "      <th>sub_stage</th>\n",
       "      <th>created_date</th>\n",
       "      <th>created_by</th>\n",
       "      <th>updated_date</th>\n",
       "      <th>updated_by</th>\n",
       "      <th>deleted_status</th>\n",
       "      <th>routepoint_route_id</th>\n",
       "      <th>sync_updated_date</th>\n",
       "    </tr>\n",
       "  </thead>\n",
       "  <tbody>\n",
       "    <tr>\n",
       "      <th>0</th>\n",
       "      <td>11459</td>\n",
       "      <td>1078</td>\n",
       "      <td>6461</td>\n",
       "      <td>16396</td>\n",
       "      <td>1</td>\n",
       "      <td>ACTIVE</td>\n",
       "      <td>Y</td>\n",
       "      <td>N</td>\n",
       "      <td>2014-08-20 12:09:54</td>\n",
       "      <td>10</td>\n",
       "      <td>NaN</td>\n",
       "      <td>NaN</td>\n",
       "      <td>0</td>\n",
       "      <td>NaN</td>\n",
       "      <td>2019-06-06 15:57:27</td>\n",
       "    </tr>\n",
       "    <tr>\n",
       "      <th>1</th>\n",
       "      <td>11460</td>\n",
       "      <td>1078</td>\n",
       "      <td>7193</td>\n",
       "      <td>16396</td>\n",
       "      <td>2</td>\n",
       "      <td>ACTIVE</td>\n",
       "      <td>N</td>\n",
       "      <td>N</td>\n",
       "      <td>2014-08-20 12:09:54</td>\n",
       "      <td>10</td>\n",
       "      <td>NaN</td>\n",
       "      <td>NaN</td>\n",
       "      <td>0</td>\n",
       "      <td>NaN</td>\n",
       "      <td>2019-06-06 15:57:27</td>\n",
       "    </tr>\n",
       "    <tr>\n",
       "      <th>2</th>\n",
       "      <td>11461</td>\n",
       "      <td>1078</td>\n",
       "      <td>6422</td>\n",
       "      <td>20415</td>\n",
       "      <td>3</td>\n",
       "      <td>ACTIVE</td>\n",
       "      <td>Y</td>\n",
       "      <td>N</td>\n",
       "      <td>2014-08-20 12:09:54</td>\n",
       "      <td>10</td>\n",
       "      <td>NaN</td>\n",
       "      <td>NaN</td>\n",
       "      <td>0</td>\n",
       "      <td>NaN</td>\n",
       "      <td>2018-02-19 12:10:14</td>\n",
       "    </tr>\n",
       "    <tr>\n",
       "      <th>3</th>\n",
       "      <td>11462</td>\n",
       "      <td>1078</td>\n",
       "      <td>6692</td>\n",
       "      <td>20417</td>\n",
       "      <td>4</td>\n",
       "      <td>ACTIVE</td>\n",
       "      <td>N</td>\n",
       "      <td>N</td>\n",
       "      <td>2014-08-20 12:09:54</td>\n",
       "      <td>10</td>\n",
       "      <td>NaN</td>\n",
       "      <td>NaN</td>\n",
       "      <td>0</td>\n",
       "      <td>NaN</td>\n",
       "      <td>2018-02-19 12:10:14</td>\n",
       "    </tr>\n",
       "    <tr>\n",
       "      <th>4</th>\n",
       "      <td>11463</td>\n",
       "      <td>1078</td>\n",
       "      <td>8537</td>\n",
       "      <td>20420</td>\n",
       "      <td>5</td>\n",
       "      <td>ACTIVE</td>\n",
       "      <td>N</td>\n",
       "      <td>N</td>\n",
       "      <td>2014-08-20 12:09:54</td>\n",
       "      <td>10</td>\n",
       "      <td>NaN</td>\n",
       "      <td>NaN</td>\n",
       "      <td>0</td>\n",
       "      <td>NaN</td>\n",
       "      <td>2018-02-19 12:10:14</td>\n",
       "    </tr>\n",
       "  </tbody>\n",
       "</table>\n",
       "</div>"
      ],
      "text/plain": [
       "   route_points_id  route_id  bus_stop_id  bus_stop_group_id  route_order  \\\n",
       "0            11459      1078         6461              16396            1   \n",
       "1            11460      1078         7193              16396            2   \n",
       "2            11461      1078         6422              20415            3   \n",
       "3            11462      1078         6692              20417            4   \n",
       "4            11463      1078         8537              20420            5   \n",
       "\n",
       "  point_status fare_stage sub_stage         created_date  created_by  \\\n",
       "0       ACTIVE          Y         N  2014-08-20 12:09:54          10   \n",
       "1       ACTIVE          N         N  2014-08-20 12:09:54          10   \n",
       "2       ACTIVE          Y         N  2014-08-20 12:09:54          10   \n",
       "3       ACTIVE          N         N  2014-08-20 12:09:54          10   \n",
       "4       ACTIVE          N         N  2014-08-20 12:09:54          10   \n",
       "\n",
       "   updated_date  updated_by  deleted_status  routepoint_route_id  \\\n",
       "0           NaN         NaN               0                  NaN   \n",
       "1           NaN         NaN               0                  NaN   \n",
       "2           NaN         NaN               0                  NaN   \n",
       "3           NaN         NaN               0                  NaN   \n",
       "4           NaN         NaN               0                  NaN   \n",
       "\n",
       "     sync_updated_date  \n",
       "0  2019-06-06 15:57:27  \n",
       "1  2019-06-06 15:57:27  \n",
       "2  2018-02-19 12:10:14  \n",
       "3  2018-02-19 12:10:14  \n",
       "4  2018-02-19 12:10:14  "
      ]
     },
     "execution_count": 233,
     "metadata": {},
     "output_type": "execute_result"
    }
   ],
   "source": [
    "# Find stop-stop segments from stop_times.txt\n",
    "stop_times_df = pd.read_csv(r\"../Datasets/route_point.csv\")\n",
    "stop_times_df.head()"
   ]
  },
  {
   "cell_type": "code",
   "execution_count": 235,
   "id": "9b1a975ee06cc02d",
   "metadata": {
    "ExecuteTime": {
     "end_time": "2023-11-05T17:39:45.859882100Z",
     "start_time": "2023-11-05T17:39:45.787420500Z"
    },
    "collapsed": false
   },
   "outputs": [],
   "source": [
    "def check_ping(point1,point2,ping):\n",
    "    if ping[0] >= min(point1[0],point2[0]) and ping[0] <= max(point1[0],point2[0]) and ping[1] >= min(point1[1],point2[1]) and ping[1] <= max(point1[1],point2[1]):\n",
    "        return True\n",
    "    else:\n",
    "        return False"
   ]
  },
  {
   "cell_type": "code",
   "execution_count": 236,
   "id": "2cb4df6cbd1f1852",
   "metadata": {
    "ExecuteTime": {
     "end_time": "2023-11-05T17:52:48.881752300Z",
     "start_time": "2023-11-05T17:52:48.834802700Z"
    },
    "collapsed": false
   },
   "outputs": [
    {
     "data": {
      "text/html": [
       "<div>\n",
       "<style scoped>\n",
       "    .dataframe tbody tr th:only-of-type {\n",
       "        vertical-align: middle;\n",
       "    }\n",
       "\n",
       "    .dataframe tbody tr th {\n",
       "        vertical-align: top;\n",
       "    }\n",
       "\n",
       "    .dataframe thead th {\n",
       "        text-align: right;\n",
       "    }\n",
       "</style>\n",
       "<table border=\"1\" class=\"dataframe\">\n",
       "  <thead>\n",
       "    <tr style=\"text-align: right;\">\n",
       "      <th></th>\n",
       "      <th>DEVICE_ID</th>\n",
       "      <th>IST_DATE</th>\n",
       "      <th>LAT</th>\n",
       "      <th>LONGITUDE</th>\n",
       "      <th>YEAR</th>\n",
       "      <th>DAY</th>\n",
       "      <th>DATE</th>\n",
       "      <th>TIME</th>\n",
       "      <th>PREV_LAT</th>\n",
       "      <th>PREV_LONGITUDE</th>\n",
       "      <th>PREV_IST_DATE</th>\n",
       "      <th>DISTANCE</th>\n",
       "      <th>TIME_DIFF</th>\n",
       "      <th>SPEED</th>\n",
       "      <th>STOP_TIME</th>\n",
       "    </tr>\n",
       "  </thead>\n",
       "  <tbody>\n",
       "    <tr>\n",
       "      <th>10219</th>\n",
       "      <td>150218092</td>\n",
       "      <td>2019-10-13 00:16:38</td>\n",
       "      <td>13.100882</td>\n",
       "      <td>77.594566</td>\n",
       "      <td>2019</td>\n",
       "      <td>6</td>\n",
       "      <td>2019-10-13</td>\n",
       "      <td>00:16:38</td>\n",
       "      <td>13.100743</td>\n",
       "      <td>77.595528</td>\n",
       "      <td>2019-10-13 00:16:28</td>\n",
       "      <td>105.325773</td>\n",
       "      <td>10.0</td>\n",
       "      <td>37.916899</td>\n",
       "      <td>0</td>\n",
       "    </tr>\n",
       "    <tr>\n",
       "      <th>10481</th>\n",
       "      <td>150218092</td>\n",
       "      <td>2019-10-13 01:05:38</td>\n",
       "      <td>13.100422</td>\n",
       "      <td>77.594093</td>\n",
       "      <td>2019</td>\n",
       "      <td>6</td>\n",
       "      <td>2019-10-13</td>\n",
       "      <td>01:05:38</td>\n",
       "      <td>13.101275</td>\n",
       "      <td>77.595047</td>\n",
       "      <td>2019-10-13 01:05:28</td>\n",
       "      <td>140.254232</td>\n",
       "      <td>10.0</td>\n",
       "      <td>50.491019</td>\n",
       "      <td>0</td>\n",
       "    </tr>\n",
       "    <tr>\n",
       "      <th>10494</th>\n",
       "      <td>150218092</td>\n",
       "      <td>2019-10-13 01:07:48</td>\n",
       "      <td>13.101042</td>\n",
       "      <td>77.594955</td>\n",
       "      <td>2019</td>\n",
       "      <td>6</td>\n",
       "      <td>2019-10-13</td>\n",
       "      <td>01:07:48</td>\n",
       "      <td>13.100422</td>\n",
       "      <td>77.594093</td>\n",
       "      <td>2019-10-13 01:07:38</td>\n",
       "      <td>116.052139</td>\n",
       "      <td>10.0</td>\n",
       "      <td>41.778352</td>\n",
       "      <td>0</td>\n",
       "    </tr>\n",
       "    <tr>\n",
       "      <th>10596</th>\n",
       "      <td>150218092</td>\n",
       "      <td>2019-10-13 01:24:44</td>\n",
       "      <td>13.100133</td>\n",
       "      <td>77.595184</td>\n",
       "      <td>2019</td>\n",
       "      <td>6</td>\n",
       "      <td>2019-10-13</td>\n",
       "      <td>01:24:44</td>\n",
       "      <td>13.101094</td>\n",
       "      <td>77.594727</td>\n",
       "      <td>2019-10-13 01:24:34</td>\n",
       "      <td>117.763951</td>\n",
       "      <td>10.0</td>\n",
       "      <td>42.394599</td>\n",
       "      <td>0</td>\n",
       "    </tr>\n",
       "    <tr>\n",
       "      <th>10632</th>\n",
       "      <td>150218092</td>\n",
       "      <td>2019-10-13 01:30:43</td>\n",
       "      <td>13.101383</td>\n",
       "      <td>77.594994</td>\n",
       "      <td>2019</td>\n",
       "      <td>6</td>\n",
       "      <td>2019-10-13</td>\n",
       "      <td>01:30:43</td>\n",
       "      <td>13.100133</td>\n",
       "      <td>77.595184</td>\n",
       "      <td>2019-10-13 01:30:33</td>\n",
       "      <td>140.508758</td>\n",
       "      <td>10.0</td>\n",
       "      <td>50.582647</td>\n",
       "      <td>0</td>\n",
       "    </tr>\n",
       "    <tr>\n",
       "      <th>...</th>\n",
       "      <td>...</td>\n",
       "      <td>...</td>\n",
       "      <td>...</td>\n",
       "      <td>...</td>\n",
       "      <td>...</td>\n",
       "      <td>...</td>\n",
       "      <td>...</td>\n",
       "      <td>...</td>\n",
       "      <td>...</td>\n",
       "      <td>...</td>\n",
       "      <td>...</td>\n",
       "      <td>...</td>\n",
       "      <td>...</td>\n",
       "      <td>...</td>\n",
       "      <td>...</td>\n",
       "    </tr>\n",
       "    <tr>\n",
       "      <th>18142</th>\n",
       "      <td>150218177</td>\n",
       "      <td>2019-10-13 00:13:08</td>\n",
       "      <td>13.042373</td>\n",
       "      <td>77.590225</td>\n",
       "      <td>2019</td>\n",
       "      <td>6</td>\n",
       "      <td>2019-10-13</td>\n",
       "      <td>00:13:08</td>\n",
       "      <td>13.043338</td>\n",
       "      <td>77.590660</td>\n",
       "      <td>2019-10-13 00:12:58</td>\n",
       "      <td>117.194156</td>\n",
       "      <td>10.0</td>\n",
       "      <td>42.189474</td>\n",
       "      <td>0</td>\n",
       "    </tr>\n",
       "    <tr>\n",
       "      <th>18143</th>\n",
       "      <td>150218177</td>\n",
       "      <td>2019-10-13 00:13:18</td>\n",
       "      <td>13.041087</td>\n",
       "      <td>77.589867</td>\n",
       "      <td>2019</td>\n",
       "      <td>6</td>\n",
       "      <td>2019-10-13</td>\n",
       "      <td>00:13:18</td>\n",
       "      <td>13.042373</td>\n",
       "      <td>77.590225</td>\n",
       "      <td>2019-10-13 00:13:08</td>\n",
       "      <td>148.162324</td>\n",
       "      <td>10.0</td>\n",
       "      <td>53.337903</td>\n",
       "      <td>0</td>\n",
       "    </tr>\n",
       "    <tr>\n",
       "      <th>18144</th>\n",
       "      <td>150218177</td>\n",
       "      <td>2019-10-13 00:13:28</td>\n",
       "      <td>13.039785</td>\n",
       "      <td>77.589577</td>\n",
       "      <td>2019</td>\n",
       "      <td>6</td>\n",
       "      <td>2019-10-13</td>\n",
       "      <td>00:13:28</td>\n",
       "      <td>13.041087</td>\n",
       "      <td>77.589867</td>\n",
       "      <td>2019-10-13 00:13:18</td>\n",
       "      <td>148.145161</td>\n",
       "      <td>10.0</td>\n",
       "      <td>53.331725</td>\n",
       "      <td>0</td>\n",
       "    </tr>\n",
       "    <tr>\n",
       "      <th>18148</th>\n",
       "      <td>150218177</td>\n",
       "      <td>2019-10-13 00:14:08</td>\n",
       "      <td>13.037017</td>\n",
       "      <td>77.589294</td>\n",
       "      <td>2019</td>\n",
       "      <td>6</td>\n",
       "      <td>2019-10-13</td>\n",
       "      <td>00:14:08</td>\n",
       "      <td>13.038179</td>\n",
       "      <td>77.589371</td>\n",
       "      <td>2019-10-13 00:13:58</td>\n",
       "      <td>129.477648</td>\n",
       "      <td>10.0</td>\n",
       "      <td>46.611487</td>\n",
       "      <td>0</td>\n",
       "    </tr>\n",
       "    <tr>\n",
       "      <th>18149</th>\n",
       "      <td>150218177</td>\n",
       "      <td>2019-10-13 00:14:18</td>\n",
       "      <td>13.035694</td>\n",
       "      <td>77.589005</td>\n",
       "      <td>2019</td>\n",
       "      <td>6</td>\n",
       "      <td>2019-10-13</td>\n",
       "      <td>00:14:18</td>\n",
       "      <td>13.037017</td>\n",
       "      <td>77.589294</td>\n",
       "      <td>2019-10-13 00:14:08</td>\n",
       "      <td>150.405489</td>\n",
       "      <td>10.0</td>\n",
       "      <td>54.145435</td>\n",
       "      <td>0</td>\n",
       "    </tr>\n",
       "  </tbody>\n",
       "</table>\n",
       "<p>100 rows × 15 columns</p>\n",
       "</div>"
      ],
      "text/plain": [
       "       DEVICE_ID            IST_DATE        LAT  LONGITUDE  YEAR  DAY  \\\n",
       "10219  150218092 2019-10-13 00:16:38  13.100882  77.594566  2019    6   \n",
       "10481  150218092 2019-10-13 01:05:38  13.100422  77.594093  2019    6   \n",
       "10494  150218092 2019-10-13 01:07:48  13.101042  77.594955  2019    6   \n",
       "10596  150218092 2019-10-13 01:24:44  13.100133  77.595184  2019    6   \n",
       "10632  150218092 2019-10-13 01:30:43  13.101383  77.594994  2019    6   \n",
       "...          ...                 ...        ...        ...   ...  ...   \n",
       "18142  150218177 2019-10-13 00:13:08  13.042373  77.590225  2019    6   \n",
       "18143  150218177 2019-10-13 00:13:18  13.041087  77.589867  2019    6   \n",
       "18144  150218177 2019-10-13 00:13:28  13.039785  77.589577  2019    6   \n",
       "18148  150218177 2019-10-13 00:14:08  13.037017  77.589294  2019    6   \n",
       "18149  150218177 2019-10-13 00:14:18  13.035694  77.589005  2019    6   \n",
       "\n",
       "             DATE      TIME   PREV_LAT  PREV_LONGITUDE       PREV_IST_DATE  \\\n",
       "10219  2019-10-13  00:16:38  13.100743       77.595528 2019-10-13 00:16:28   \n",
       "10481  2019-10-13  01:05:38  13.101275       77.595047 2019-10-13 01:05:28   \n",
       "10494  2019-10-13  01:07:48  13.100422       77.594093 2019-10-13 01:07:38   \n",
       "10596  2019-10-13  01:24:44  13.101094       77.594727 2019-10-13 01:24:34   \n",
       "10632  2019-10-13  01:30:43  13.100133       77.595184 2019-10-13 01:30:33   \n",
       "...           ...       ...        ...             ...                 ...   \n",
       "18142  2019-10-13  00:13:08  13.043338       77.590660 2019-10-13 00:12:58   \n",
       "18143  2019-10-13  00:13:18  13.042373       77.590225 2019-10-13 00:13:08   \n",
       "18144  2019-10-13  00:13:28  13.041087       77.589867 2019-10-13 00:13:18   \n",
       "18148  2019-10-13  00:14:08  13.038179       77.589371 2019-10-13 00:13:58   \n",
       "18149  2019-10-13  00:14:18  13.037017       77.589294 2019-10-13 00:14:08   \n",
       "\n",
       "         DISTANCE  TIME_DIFF      SPEED  STOP_TIME  \n",
       "10219  105.325773       10.0  37.916899          0  \n",
       "10481  140.254232       10.0  50.491019          0  \n",
       "10494  116.052139       10.0  41.778352          0  \n",
       "10596  117.763951       10.0  42.394599          0  \n",
       "10632  140.508758       10.0  50.582647          0  \n",
       "...           ...        ...        ...        ...  \n",
       "18142  117.194156       10.0  42.189474          0  \n",
       "18143  148.162324       10.0  53.337903          0  \n",
       "18144  148.145161       10.0  53.331725          0  \n",
       "18148  129.477648       10.0  46.611487          0  \n",
       "18149  150.405489       10.0  54.145435          0  \n",
       "\n",
       "[100 rows x 15 columns]"
      ]
     },
     "execution_count": 236,
     "metadata": {},
     "output_type": "execute_result"
    }
   ],
   "source": [
    "# Filter the gps_df with respect to DISTANCE more than 10\n",
    "gps_df.loc[gps_df['DISTANCE'] > 100,:].head(100)"
   ]
  },
  {
   "cell_type": "code",
   "execution_count": 237,
   "id": "46d5e8e9069797e4",
   "metadata": {
    "ExecuteTime": {
     "end_time": "2023-11-05T17:54:19.318737700Z",
     "start_time": "2023-11-05T17:54:19.271401100Z"
    },
    "collapsed": false
   },
   "outputs": [
    {
     "data": {
      "text/html": [
       "<div>\n",
       "<style scoped>\n",
       "    .dataframe tbody tr th:only-of-type {\n",
       "        vertical-align: middle;\n",
       "    }\n",
       "\n",
       "    .dataframe tbody tr th {\n",
       "        vertical-align: top;\n",
       "    }\n",
       "\n",
       "    .dataframe thead th {\n",
       "        text-align: right;\n",
       "    }\n",
       "</style>\n",
       "<table border=\"1\" class=\"dataframe\">\n",
       "  <thead>\n",
       "    <tr style=\"text-align: right;\">\n",
       "      <th></th>\n",
       "      <th>DEVICE_ID</th>\n",
       "      <th>IST_DATE</th>\n",
       "      <th>LAT</th>\n",
       "      <th>LONGITUDE</th>\n",
       "      <th>YEAR</th>\n",
       "      <th>DAY</th>\n",
       "      <th>DATE</th>\n",
       "      <th>TIME</th>\n",
       "      <th>PREV_LAT</th>\n",
       "      <th>PREV_LONGITUDE</th>\n",
       "      <th>PREV_IST_DATE</th>\n",
       "      <th>DISTANCE</th>\n",
       "      <th>TIME_DIFF</th>\n",
       "      <th>SPEED</th>\n",
       "      <th>STOP_TIME</th>\n",
       "    </tr>\n",
       "  </thead>\n",
       "  <tbody>\n",
       "    <tr>\n",
       "      <th>18060</th>\n",
       "      <td>150218177</td>\n",
       "      <td>2019-10-13 00:00:11</td>\n",
       "      <td>13.172057</td>\n",
       "      <td>77.633171</td>\n",
       "      <td>2019</td>\n",
       "      <td>6</td>\n",
       "      <td>2019-10-13</td>\n",
       "      <td>00:00:11</td>\n",
       "      <td>13.173712</td>\n",
       "      <td>77.633881</td>\n",
       "      <td>2019-10-13 00:00:01</td>\n",
       "      <td>199.437765</td>\n",
       "      <td>10.0</td>\n",
       "      <td>71.796877</td>\n",
       "      <td>0</td>\n",
       "    </tr>\n",
       "    <tr>\n",
       "      <th>18061</th>\n",
       "      <td>150218177</td>\n",
       "      <td>2019-10-13 00:00:21</td>\n",
       "      <td>13.170369</td>\n",
       "      <td>77.632385</td>\n",
       "      <td>2019</td>\n",
       "      <td>6</td>\n",
       "      <td>2019-10-13</td>\n",
       "      <td>00:00:21</td>\n",
       "      <td>13.172057</td>\n",
       "      <td>77.633171</td>\n",
       "      <td>2019-10-13 00:00:11</td>\n",
       "      <td>206.088118</td>\n",
       "      <td>10.0</td>\n",
       "      <td>74.190981</td>\n",
       "      <td>0</td>\n",
       "    </tr>\n",
       "    <tr>\n",
       "      <th>18062</th>\n",
       "      <td>150218177</td>\n",
       "      <td>2019-10-13 00:00:31</td>\n",
       "      <td>13.168621</td>\n",
       "      <td>77.631561</td>\n",
       "      <td>2019</td>\n",
       "      <td>6</td>\n",
       "      <td>2019-10-13</td>\n",
       "      <td>00:00:31</td>\n",
       "      <td>13.170369</td>\n",
       "      <td>77.632385</td>\n",
       "      <td>2019-10-13 00:00:21</td>\n",
       "      <td>213.865922</td>\n",
       "      <td>10.0</td>\n",
       "      <td>76.990962</td>\n",
       "      <td>0</td>\n",
       "    </tr>\n",
       "    <tr>\n",
       "      <th>18063</th>\n",
       "      <td>150218177</td>\n",
       "      <td>2019-10-13 00:00:41</td>\n",
       "      <td>13.167176</td>\n",
       "      <td>77.630875</td>\n",
       "      <td>2019</td>\n",
       "      <td>6</td>\n",
       "      <td>2019-10-13</td>\n",
       "      <td>00:00:41</td>\n",
       "      <td>13.168621</td>\n",
       "      <td>77.631561</td>\n",
       "      <td>2019-10-13 00:00:31</td>\n",
       "      <td>177.013323</td>\n",
       "      <td>10.0</td>\n",
       "      <td>63.724159</td>\n",
       "      <td>0</td>\n",
       "    </tr>\n",
       "    <tr>\n",
       "      <th>18064</th>\n",
       "      <td>150218177</td>\n",
       "      <td>2019-10-13 00:00:51</td>\n",
       "      <td>13.165515</td>\n",
       "      <td>77.630089</td>\n",
       "      <td>2019</td>\n",
       "      <td>6</td>\n",
       "      <td>2019-10-13</td>\n",
       "      <td>00:00:51</td>\n",
       "      <td>13.167176</td>\n",
       "      <td>77.630875</td>\n",
       "      <td>2019-10-13 00:00:41</td>\n",
       "      <td>203.358253</td>\n",
       "      <td>10.0</td>\n",
       "      <td>73.208239</td>\n",
       "      <td>0</td>\n",
       "    </tr>\n",
       "    <tr>\n",
       "      <th>...</th>\n",
       "      <td>...</td>\n",
       "      <td>...</td>\n",
       "      <td>...</td>\n",
       "      <td>...</td>\n",
       "      <td>...</td>\n",
       "      <td>...</td>\n",
       "      <td>...</td>\n",
       "      <td>...</td>\n",
       "      <td>...</td>\n",
       "      <td>...</td>\n",
       "      <td>...</td>\n",
       "      <td>...</td>\n",
       "      <td>...</td>\n",
       "      <td>...</td>\n",
       "      <td>...</td>\n",
       "    </tr>\n",
       "    <tr>\n",
       "      <th>18155</th>\n",
       "      <td>150218177</td>\n",
       "      <td>2019-10-13 00:15:08</td>\n",
       "      <td>13.027748</td>\n",
       "      <td>77.585861</td>\n",
       "      <td>2019</td>\n",
       "      <td>6</td>\n",
       "      <td>2019-10-13</td>\n",
       "      <td>00:15:08</td>\n",
       "      <td>13.029371</td>\n",
       "      <td>77.586540</td>\n",
       "      <td>2019-10-13 00:14:58</td>\n",
       "      <td>194.884696</td>\n",
       "      <td>10.0</td>\n",
       "      <td>70.157789</td>\n",
       "      <td>0</td>\n",
       "    </tr>\n",
       "    <tr>\n",
       "      <th>18156</th>\n",
       "      <td>150218177</td>\n",
       "      <td>2019-10-13 00:15:17</td>\n",
       "      <td>13.026059</td>\n",
       "      <td>77.585358</td>\n",
       "      <td>2019</td>\n",
       "      <td>6</td>\n",
       "      <td>2019-10-13</td>\n",
       "      <td>00:15:17</td>\n",
       "      <td>13.027748</td>\n",
       "      <td>77.585861</td>\n",
       "      <td>2019-10-13 00:15:08</td>\n",
       "      <td>195.554019</td>\n",
       "      <td>9.0</td>\n",
       "      <td>78.220739</td>\n",
       "      <td>0</td>\n",
       "    </tr>\n",
       "    <tr>\n",
       "      <th>18157</th>\n",
       "      <td>150218177</td>\n",
       "      <td>2019-10-13 00:15:25</td>\n",
       "      <td>13.024752</td>\n",
       "      <td>77.585060</td>\n",
       "      <td>2019</td>\n",
       "      <td>6</td>\n",
       "      <td>2019-10-13</td>\n",
       "      <td>00:15:25</td>\n",
       "      <td>13.026059</td>\n",
       "      <td>77.585358</td>\n",
       "      <td>2019-10-13 00:15:17</td>\n",
       "      <td>148.874474</td>\n",
       "      <td>8.0</td>\n",
       "      <td>66.992676</td>\n",
       "      <td>0</td>\n",
       "    </tr>\n",
       "    <tr>\n",
       "      <th>18158</th>\n",
       "      <td>150218177</td>\n",
       "      <td>2019-10-13 00:15:27</td>\n",
       "      <td>13.024473</td>\n",
       "      <td>77.584984</td>\n",
       "      <td>2019</td>\n",
       "      <td>6</td>\n",
       "      <td>2019-10-13</td>\n",
       "      <td>00:15:27</td>\n",
       "      <td>13.024752</td>\n",
       "      <td>77.585060</td>\n",
       "      <td>2019-10-13 00:15:25</td>\n",
       "      <td>32.097386</td>\n",
       "      <td>2.0</td>\n",
       "      <td>57.772405</td>\n",
       "      <td>0</td>\n",
       "    </tr>\n",
       "    <tr>\n",
       "      <th>18159</th>\n",
       "      <td>150218177</td>\n",
       "      <td>2019-10-13 00:15:37</td>\n",
       "      <td>13.023172</td>\n",
       "      <td>77.584633</td>\n",
       "      <td>2019</td>\n",
       "      <td>6</td>\n",
       "      <td>2019-10-13</td>\n",
       "      <td>00:15:37</td>\n",
       "      <td>13.024473</td>\n",
       "      <td>77.584984</td>\n",
       "      <td>2019-10-13 00:15:27</td>\n",
       "      <td>149.578884</td>\n",
       "      <td>10.0</td>\n",
       "      <td>53.847860</td>\n",
       "      <td>0</td>\n",
       "    </tr>\n",
       "  </tbody>\n",
       "</table>\n",
       "<p>100 rows × 15 columns</p>\n",
       "</div>"
      ],
      "text/plain": [
       "       DEVICE_ID            IST_DATE        LAT  LONGITUDE  YEAR  DAY  \\\n",
       "18060  150218177 2019-10-13 00:00:11  13.172057  77.633171  2019    6   \n",
       "18061  150218177 2019-10-13 00:00:21  13.170369  77.632385  2019    6   \n",
       "18062  150218177 2019-10-13 00:00:31  13.168621  77.631561  2019    6   \n",
       "18063  150218177 2019-10-13 00:00:41  13.167176  77.630875  2019    6   \n",
       "18064  150218177 2019-10-13 00:00:51  13.165515  77.630089  2019    6   \n",
       "...          ...                 ...        ...        ...   ...  ...   \n",
       "18155  150218177 2019-10-13 00:15:08  13.027748  77.585861  2019    6   \n",
       "18156  150218177 2019-10-13 00:15:17  13.026059  77.585358  2019    6   \n",
       "18157  150218177 2019-10-13 00:15:25  13.024752  77.585060  2019    6   \n",
       "18158  150218177 2019-10-13 00:15:27  13.024473  77.584984  2019    6   \n",
       "18159  150218177 2019-10-13 00:15:37  13.023172  77.584633  2019    6   \n",
       "\n",
       "             DATE      TIME   PREV_LAT  PREV_LONGITUDE       PREV_IST_DATE  \\\n",
       "18060  2019-10-13  00:00:11  13.173712       77.633881 2019-10-13 00:00:01   \n",
       "18061  2019-10-13  00:00:21  13.172057       77.633171 2019-10-13 00:00:11   \n",
       "18062  2019-10-13  00:00:31  13.170369       77.632385 2019-10-13 00:00:21   \n",
       "18063  2019-10-13  00:00:41  13.168621       77.631561 2019-10-13 00:00:31   \n",
       "18064  2019-10-13  00:00:51  13.167176       77.630875 2019-10-13 00:00:41   \n",
       "...           ...       ...        ...             ...                 ...   \n",
       "18155  2019-10-13  00:15:08  13.029371       77.586540 2019-10-13 00:14:58   \n",
       "18156  2019-10-13  00:15:17  13.027748       77.585861 2019-10-13 00:15:08   \n",
       "18157  2019-10-13  00:15:25  13.026059       77.585358 2019-10-13 00:15:17   \n",
       "18158  2019-10-13  00:15:27  13.024752       77.585060 2019-10-13 00:15:25   \n",
       "18159  2019-10-13  00:15:37  13.024473       77.584984 2019-10-13 00:15:27   \n",
       "\n",
       "         DISTANCE  TIME_DIFF      SPEED  STOP_TIME  \n",
       "18060  199.437765       10.0  71.796877          0  \n",
       "18061  206.088118       10.0  74.190981          0  \n",
       "18062  213.865922       10.0  76.990962          0  \n",
       "18063  177.013323       10.0  63.724159          0  \n",
       "18064  203.358253       10.0  73.208239          0  \n",
       "...           ...        ...        ...        ...  \n",
       "18155  194.884696       10.0  70.157789          0  \n",
       "18156  195.554019        9.0  78.220739          0  \n",
       "18157  148.874474        8.0  66.992676          0  \n",
       "18158   32.097386        2.0  57.772405          0  \n",
       "18159  149.578884       10.0  53.847860          0  \n",
       "\n",
       "[100 rows x 15 columns]"
      ]
     },
     "execution_count": 237,
     "metadata": {},
     "output_type": "execute_result"
    }
   ],
   "source": [
    "gps_df_bus1 = gps_df.loc[gps_df['DEVICE_ID'] == 150218177,:]\n",
    "gps_df_bus1.head(100)"
   ]
  },
  {
   "cell_type": "code",
   "execution_count": 304,
   "id": "49ee3b22f8afa0e7",
   "metadata": {
    "ExecuteTime": {
     "end_time": "2023-11-05T17:41:26.501682700Z",
     "start_time": "2023-11-05T17:41:26.342190800Z"
    },
    "collapsed": false
   },
   "outputs": [
    {
     "data": {
      "text/html": [
       "<div>\n",
       "<style scoped>\n",
       "    .dataframe tbody tr th:only-of-type {\n",
       "        vertical-align: middle;\n",
       "    }\n",
       "\n",
       "    .dataframe tbody tr th {\n",
       "        vertical-align: top;\n",
       "    }\n",
       "\n",
       "    .dataframe thead th {\n",
       "        text-align: right;\n",
       "    }\n",
       "</style>\n",
       "<table border=\"1\" class=\"dataframe\">\n",
       "  <thead>\n",
       "    <tr style=\"text-align: right;\">\n",
       "      <th></th>\n",
       "      <th>route_points_id</th>\n",
       "      <th>route_id</th>\n",
       "      <th>bus_stop_id</th>\n",
       "      <th>bus_stop_group_id</th>\n",
       "      <th>route_order</th>\n",
       "      <th>point_status</th>\n",
       "      <th>fare_stage</th>\n",
       "      <th>sub_stage</th>\n",
       "      <th>created_date</th>\n",
       "      <th>created_by</th>\n",
       "      <th>updated_date</th>\n",
       "      <th>updated_by</th>\n",
       "      <th>deleted_status</th>\n",
       "      <th>routepoint_route_id</th>\n",
       "      <th>sync_updated_date</th>\n",
       "      <th>latitude_current</th>\n",
       "      <th>longitude_current</th>\n",
       "    </tr>\n",
       "  </thead>\n",
       "  <tbody>\n",
       "    <tr>\n",
       "      <th>0</th>\n",
       "      <td>11467</td>\n",
       "      <td>1078</td>\n",
       "      <td>8552</td>\n",
       "      <td>20434</td>\n",
       "      <td>9</td>\n",
       "      <td>ACTIVE</td>\n",
       "      <td>N</td>\n",
       "      <td>N</td>\n",
       "      <td>2014-08-20 12:09:54</td>\n",
       "      <td>10</td>\n",
       "      <td>NaN</td>\n",
       "      <td>NaN</td>\n",
       "      <td>0</td>\n",
       "      <td>NaN</td>\n",
       "      <td>2018-02-19 12:10:14</td>\n",
       "      <td>13.217564</td>\n",
       "      <td>77.831298</td>\n",
       "    </tr>\n",
       "    <tr>\n",
       "      <th>1</th>\n",
       "      <td>216766</td>\n",
       "      <td>6963</td>\n",
       "      <td>8552</td>\n",
       "      <td>20434</td>\n",
       "      <td>9</td>\n",
       "      <td>ACTIVE</td>\n",
       "      <td>N</td>\n",
       "      <td>N</td>\n",
       "      <td>2015-01-16 16:43:34</td>\n",
       "      <td>9</td>\n",
       "      <td>NaN</td>\n",
       "      <td>NaN</td>\n",
       "      <td>0</td>\n",
       "      <td>NaN</td>\n",
       "      <td>2018-02-19 12:10:14</td>\n",
       "      <td>13.217564</td>\n",
       "      <td>77.831298</td>\n",
       "    </tr>\n",
       "    <tr>\n",
       "      <th>2</th>\n",
       "      <td>731613</td>\n",
       "      <td>24529</td>\n",
       "      <td>8552</td>\n",
       "      <td>20434</td>\n",
       "      <td>15</td>\n",
       "      <td>ACTIVE</td>\n",
       "      <td>Y</td>\n",
       "      <td>N</td>\n",
       "      <td>2015-11-19 16:08:01</td>\n",
       "      <td>7</td>\n",
       "      <td>NaN</td>\n",
       "      <td>NaN</td>\n",
       "      <td>0</td>\n",
       "      <td>NaN</td>\n",
       "      <td>2018-02-19 12:10:14</td>\n",
       "      <td>13.217564</td>\n",
       "      <td>77.831298</td>\n",
       "    </tr>\n",
       "    <tr>\n",
       "      <th>3</th>\n",
       "      <td>1050626</td>\n",
       "      <td>34364</td>\n",
       "      <td>8552</td>\n",
       "      <td>20434</td>\n",
       "      <td>9</td>\n",
       "      <td>ACTIVE</td>\n",
       "      <td>N</td>\n",
       "      <td>N</td>\n",
       "      <td>2016-08-13 11:32:05</td>\n",
       "      <td>287</td>\n",
       "      <td>NaN</td>\n",
       "      <td>NaN</td>\n",
       "      <td>0</td>\n",
       "      <td>NaN</td>\n",
       "      <td>2018-02-19 12:10:14</td>\n",
       "      <td>13.217564</td>\n",
       "      <td>77.831298</td>\n",
       "    </tr>\n",
       "    <tr>\n",
       "      <th>4</th>\n",
       "      <td>1236873</td>\n",
       "      <td>41973</td>\n",
       "      <td>8552</td>\n",
       "      <td>20434</td>\n",
       "      <td>9</td>\n",
       "      <td>ACTIVE</td>\n",
       "      <td>N</td>\n",
       "      <td>N</td>\n",
       "      <td>2018-03-02 15:07:31</td>\n",
       "      <td>287</td>\n",
       "      <td>NaN</td>\n",
       "      <td>NaN</td>\n",
       "      <td>0</td>\n",
       "      <td>NaN</td>\n",
       "      <td>2019-06-06 15:57:27</td>\n",
       "      <td>13.217564</td>\n",
       "      <td>77.831298</td>\n",
       "    </tr>\n",
       "  </tbody>\n",
       "</table>\n",
       "</div>"
      ],
      "text/plain": [
       "   route_points_id  route_id  bus_stop_id  bus_stop_group_id  route_order  \\\n",
       "0            11467      1078         8552              20434            9   \n",
       "1           216766      6963         8552              20434            9   \n",
       "2           731613     24529         8552              20434           15   \n",
       "3          1050626     34364         8552              20434            9   \n",
       "4          1236873     41973         8552              20434            9   \n",
       "\n",
       "  point_status fare_stage sub_stage         created_date  created_by  \\\n",
       "0       ACTIVE          N         N  2014-08-20 12:09:54          10   \n",
       "1       ACTIVE          N         N  2015-01-16 16:43:34           9   \n",
       "2       ACTIVE          Y         N  2015-11-19 16:08:01           7   \n",
       "3       ACTIVE          N         N  2016-08-13 11:32:05         287   \n",
       "4       ACTIVE          N         N  2018-03-02 15:07:31         287   \n",
       "\n",
       "   updated_date  updated_by  deleted_status  routepoint_route_id  \\\n",
       "0           NaN         NaN               0                  NaN   \n",
       "1           NaN         NaN               0                  NaN   \n",
       "2           NaN         NaN               0                  NaN   \n",
       "3           NaN         NaN               0                  NaN   \n",
       "4           NaN         NaN               0                  NaN   \n",
       "\n",
       "     sync_updated_date  latitude_current  longitude_current  \n",
       "0  2018-02-19 12:10:14         13.217564          77.831298  \n",
       "1  2018-02-19 12:10:14         13.217564          77.831298  \n",
       "2  2018-02-19 12:10:14         13.217564          77.831298  \n",
       "3  2018-02-19 12:10:14         13.217564          77.831298  \n",
       "4  2019-06-06 15:57:27         13.217564          77.831298  "
      ]
     },
     "execution_count": 304,
     "metadata": {},
     "output_type": "execute_result"
    }
   ],
   "source": [
    "mergerd_busstops_routepoints = pd.merge(stop_times_df,stops_df[['bus_stop_id','latitude_current','longitude_current']],on='bus_stop_id')\n",
    "mergerd_busstops_routepoints.head(5)"
   ]
  },
  {
   "cell_type": "code",
   "execution_count": 305,
   "id": "81251013e3f3184",
   "metadata": {
    "ExecuteTime": {
     "end_time": "2023-11-05T17:41:29.202794800Z",
     "start_time": "2023-11-05T17:41:28.948343300Z"
    },
    "collapsed": false
   },
   "outputs": [
    {
     "data": {
      "text/html": [
       "<div>\n",
       "<style scoped>\n",
       "    .dataframe tbody tr th:only-of-type {\n",
       "        vertical-align: middle;\n",
       "    }\n",
       "\n",
       "    .dataframe tbody tr th {\n",
       "        vertical-align: top;\n",
       "    }\n",
       "\n",
       "    .dataframe thead th {\n",
       "        text-align: right;\n",
       "    }\n",
       "</style>\n",
       "<table border=\"1\" class=\"dataframe\">\n",
       "  <thead>\n",
       "    <tr style=\"text-align: right;\">\n",
       "      <th></th>\n",
       "      <th>route_points_id</th>\n",
       "      <th>route_id</th>\n",
       "      <th>bus_stop_id</th>\n",
       "      <th>bus_stop_group_id</th>\n",
       "      <th>route_order</th>\n",
       "      <th>point_status</th>\n",
       "      <th>fare_stage</th>\n",
       "      <th>sub_stage</th>\n",
       "      <th>created_date</th>\n",
       "      <th>created_by</th>\n",
       "      <th>updated_date</th>\n",
       "      <th>updated_by</th>\n",
       "      <th>deleted_status</th>\n",
       "      <th>routepoint_route_id</th>\n",
       "      <th>sync_updated_date</th>\n",
       "      <th>latitude_current</th>\n",
       "      <th>longitude_current</th>\n",
       "    </tr>\n",
       "  </thead>\n",
       "  <tbody>\n",
       "    <tr>\n",
       "      <th>0</th>\n",
       "      <td>11467</td>\n",
       "      <td>1078</td>\n",
       "      <td>8552</td>\n",
       "      <td>20434</td>\n",
       "      <td>9</td>\n",
       "      <td>ACTIVE</td>\n",
       "      <td>N</td>\n",
       "      <td>N</td>\n",
       "      <td>2014-08-20 12:09:54</td>\n",
       "      <td>10</td>\n",
       "      <td>NaN</td>\n",
       "      <td>NaN</td>\n",
       "      <td>0</td>\n",
       "      <td>NaN</td>\n",
       "      <td>2018-02-19 12:10:14</td>\n",
       "      <td>13.217564</td>\n",
       "      <td>77.831298</td>\n",
       "    </tr>\n",
       "    <tr>\n",
       "      <th>6</th>\n",
       "      <td>11469</td>\n",
       "      <td>1078</td>\n",
       "      <td>7184</td>\n",
       "      <td>23583</td>\n",
       "      <td>11</td>\n",
       "      <td>ACTIVE</td>\n",
       "      <td>N</td>\n",
       "      <td>N</td>\n",
       "      <td>2014-08-20 12:09:54</td>\n",
       "      <td>10</td>\n",
       "      <td>NaN</td>\n",
       "      <td>NaN</td>\n",
       "      <td>0</td>\n",
       "      <td>NaN</td>\n",
       "      <td>2018-02-19 12:10:14</td>\n",
       "      <td>13.200463</td>\n",
       "      <td>77.824973</td>\n",
       "    </tr>\n",
       "    <tr>\n",
       "      <th>14</th>\n",
       "      <td>11470</td>\n",
       "      <td>1078</td>\n",
       "      <td>8551</td>\n",
       "      <td>20509</td>\n",
       "      <td>12</td>\n",
       "      <td>ACTIVE</td>\n",
       "      <td>N</td>\n",
       "      <td>N</td>\n",
       "      <td>2014-08-20 12:09:54</td>\n",
       "      <td>10</td>\n",
       "      <td>NaN</td>\n",
       "      <td>NaN</td>\n",
       "      <td>0</td>\n",
       "      <td>NaN</td>\n",
       "      <td>2018-02-19 12:10:14</td>\n",
       "      <td>13.193236</td>\n",
       "      <td>77.813080</td>\n",
       "    </tr>\n",
       "    <tr>\n",
       "      <th>21</th>\n",
       "      <td>11471</td>\n",
       "      <td>1078</td>\n",
       "      <td>7182</td>\n",
       "      <td>20511</td>\n",
       "      <td>13</td>\n",
       "      <td>ACTIVE</td>\n",
       "      <td>N</td>\n",
       "      <td>N</td>\n",
       "      <td>2014-08-20 12:09:54</td>\n",
       "      <td>10</td>\n",
       "      <td>NaN</td>\n",
       "      <td>NaN</td>\n",
       "      <td>0</td>\n",
       "      <td>NaN</td>\n",
       "      <td>2019-06-06 15:57:27</td>\n",
       "      <td>13.188939</td>\n",
       "      <td>77.805421</td>\n",
       "    </tr>\n",
       "    <tr>\n",
       "      <th>30</th>\n",
       "      <td>11472</td>\n",
       "      <td>1078</td>\n",
       "      <td>6380</td>\n",
       "      <td>20511</td>\n",
       "      <td>14</td>\n",
       "      <td>ACTIVE</td>\n",
       "      <td>Y</td>\n",
       "      <td>N</td>\n",
       "      <td>2014-08-20 12:09:54</td>\n",
       "      <td>10</td>\n",
       "      <td>NaN</td>\n",
       "      <td>NaN</td>\n",
       "      <td>0</td>\n",
       "      <td>NaN</td>\n",
       "      <td>2018-02-19 12:10:14</td>\n",
       "      <td>13.186616</td>\n",
       "      <td>77.803090</td>\n",
       "    </tr>\n",
       "  </tbody>\n",
       "</table>\n",
       "</div>"
      ],
      "text/plain": [
       "    route_points_id  route_id  bus_stop_id  bus_stop_group_id  route_order  \\\n",
       "0             11467      1078         8552              20434            9   \n",
       "6             11469      1078         7184              23583           11   \n",
       "14            11470      1078         8551              20509           12   \n",
       "21            11471      1078         7182              20511           13   \n",
       "30            11472      1078         6380              20511           14   \n",
       "\n",
       "   point_status fare_stage sub_stage         created_date  created_by  \\\n",
       "0        ACTIVE          N         N  2014-08-20 12:09:54          10   \n",
       "6        ACTIVE          N         N  2014-08-20 12:09:54          10   \n",
       "14       ACTIVE          N         N  2014-08-20 12:09:54          10   \n",
       "21       ACTIVE          N         N  2014-08-20 12:09:54          10   \n",
       "30       ACTIVE          Y         N  2014-08-20 12:09:54          10   \n",
       "\n",
       "    updated_date  updated_by  deleted_status  routepoint_route_id  \\\n",
       "0            NaN         NaN               0                  NaN   \n",
       "6            NaN         NaN               0                  NaN   \n",
       "14           NaN         NaN               0                  NaN   \n",
       "21           NaN         NaN               0                  NaN   \n",
       "30           NaN         NaN               0                  NaN   \n",
       "\n",
       "      sync_updated_date  latitude_current  longitude_current  \n",
       "0   2018-02-19 12:10:14         13.217564          77.831298  \n",
       "6   2018-02-19 12:10:14         13.200463          77.824973  \n",
       "14  2018-02-19 12:10:14         13.193236          77.813080  \n",
       "21  2019-06-06 15:57:27         13.188939          77.805421  \n",
       "30  2018-02-19 12:10:14         13.186616          77.803090  "
      ]
     },
     "execution_count": 305,
     "metadata": {},
     "output_type": "execute_result"
    }
   ],
   "source": [
    "# sortby route_id and then by route_order\n",
    "mergerd_busstops_routepoints = mergerd_busstops_routepoints.sort_values(by=['route_id','route_order'])\n",
    "mergerd_busstops_routepoints.head(5)"
   ]
  },
  {
   "cell_type": "code",
   "execution_count": 306,
   "id": "a4c31a2895928b52",
   "metadata": {
    "ExecuteTime": {
     "end_time": "2023-11-05T17:41:32.284323200Z",
     "start_time": "2023-11-05T17:41:32.260230700Z"
    },
    "collapsed": false
   },
   "outputs": [
    {
     "name": "stdout",
     "output_type": "stream",
     "text": [
      "603027\n",
      "24052\n"
     ]
    }
   ],
   "source": [
    "print(len(mergerd_busstops_routepoints))\n",
    "print(mergerd_busstops_routepoints.route_id.nunique())"
   ]
  },
  {
   "cell_type": "code",
   "execution_count": 307,
   "id": "91b654b42a8fe699",
   "metadata": {
    "ExecuteTime": {
     "end_time": "2023-11-05T17:41:47.640962300Z",
     "start_time": "2023-11-05T17:41:34.736159200Z"
    },
    "collapsed": false
   },
   "outputs": [],
   "source": [
    "# Rename latitude_current and longitude_current to origin_lat and origin_long\n",
    "mergerd_busstops_routepoints = mergerd_busstops_routepoints.rename(columns={'latitude_current':'origin_lat','longitude_current':'origin_long'})\n"
   ]
  },
  {
   "cell_type": "code",
   "execution_count": 308,
   "id": "6f933e12",
   "metadata": {},
   "outputs": [
    {
     "data": {
      "text/html": [
       "<div>\n",
       "<style scoped>\n",
       "    .dataframe tbody tr th:only-of-type {\n",
       "        vertical-align: middle;\n",
       "    }\n",
       "\n",
       "    .dataframe tbody tr th {\n",
       "        vertical-align: top;\n",
       "    }\n",
       "\n",
       "    .dataframe thead th {\n",
       "        text-align: right;\n",
       "    }\n",
       "</style>\n",
       "<table border=\"1\" class=\"dataframe\">\n",
       "  <thead>\n",
       "    <tr style=\"text-align: right;\">\n",
       "      <th></th>\n",
       "      <th>route_points_id</th>\n",
       "      <th>route_id</th>\n",
       "      <th>bus_stop_id</th>\n",
       "      <th>bus_stop_group_id</th>\n",
       "      <th>route_order</th>\n",
       "      <th>point_status</th>\n",
       "      <th>fare_stage</th>\n",
       "      <th>sub_stage</th>\n",
       "      <th>created_date</th>\n",
       "      <th>created_by</th>\n",
       "      <th>updated_date</th>\n",
       "      <th>updated_by</th>\n",
       "      <th>deleted_status</th>\n",
       "      <th>routepoint_route_id</th>\n",
       "      <th>sync_updated_date</th>\n",
       "      <th>origin_lat</th>\n",
       "      <th>origin_long</th>\n",
       "      <th>destination_lat</th>\n",
       "      <th>destination_long</th>\n",
       "    </tr>\n",
       "  </thead>\n",
       "  <tbody>\n",
       "    <tr>\n",
       "      <th>0</th>\n",
       "      <td>11467</td>\n",
       "      <td>1078</td>\n",
       "      <td>8552</td>\n",
       "      <td>20434</td>\n",
       "      <td>9</td>\n",
       "      <td>ACTIVE</td>\n",
       "      <td>N</td>\n",
       "      <td>N</td>\n",
       "      <td>2014-08-20 12:09:54</td>\n",
       "      <td>10</td>\n",
       "      <td>NaN</td>\n",
       "      <td>NaN</td>\n",
       "      <td>0</td>\n",
       "      <td>NaN</td>\n",
       "      <td>2018-02-19 12:10:14</td>\n",
       "      <td>13.217564</td>\n",
       "      <td>77.831298</td>\n",
       "      <td>13.200463</td>\n",
       "      <td>77.824973</td>\n",
       "    </tr>\n",
       "    <tr>\n",
       "      <th>6</th>\n",
       "      <td>11469</td>\n",
       "      <td>1078</td>\n",
       "      <td>7184</td>\n",
       "      <td>23583</td>\n",
       "      <td>11</td>\n",
       "      <td>ACTIVE</td>\n",
       "      <td>N</td>\n",
       "      <td>N</td>\n",
       "      <td>2014-08-20 12:09:54</td>\n",
       "      <td>10</td>\n",
       "      <td>NaN</td>\n",
       "      <td>NaN</td>\n",
       "      <td>0</td>\n",
       "      <td>NaN</td>\n",
       "      <td>2018-02-19 12:10:14</td>\n",
       "      <td>13.200463</td>\n",
       "      <td>77.824973</td>\n",
       "      <td>13.193236</td>\n",
       "      <td>77.813080</td>\n",
       "    </tr>\n",
       "    <tr>\n",
       "      <th>14</th>\n",
       "      <td>11470</td>\n",
       "      <td>1078</td>\n",
       "      <td>8551</td>\n",
       "      <td>20509</td>\n",
       "      <td>12</td>\n",
       "      <td>ACTIVE</td>\n",
       "      <td>N</td>\n",
       "      <td>N</td>\n",
       "      <td>2014-08-20 12:09:54</td>\n",
       "      <td>10</td>\n",
       "      <td>NaN</td>\n",
       "      <td>NaN</td>\n",
       "      <td>0</td>\n",
       "      <td>NaN</td>\n",
       "      <td>2018-02-19 12:10:14</td>\n",
       "      <td>13.193236</td>\n",
       "      <td>77.813080</td>\n",
       "      <td>13.188939</td>\n",
       "      <td>77.805421</td>\n",
       "    </tr>\n",
       "    <tr>\n",
       "      <th>21</th>\n",
       "      <td>11471</td>\n",
       "      <td>1078</td>\n",
       "      <td>7182</td>\n",
       "      <td>20511</td>\n",
       "      <td>13</td>\n",
       "      <td>ACTIVE</td>\n",
       "      <td>N</td>\n",
       "      <td>N</td>\n",
       "      <td>2014-08-20 12:09:54</td>\n",
       "      <td>10</td>\n",
       "      <td>NaN</td>\n",
       "      <td>NaN</td>\n",
       "      <td>0</td>\n",
       "      <td>NaN</td>\n",
       "      <td>2019-06-06 15:57:27</td>\n",
       "      <td>13.188939</td>\n",
       "      <td>77.805421</td>\n",
       "      <td>13.186616</td>\n",
       "      <td>77.803090</td>\n",
       "    </tr>\n",
       "    <tr>\n",
       "      <th>30</th>\n",
       "      <td>11472</td>\n",
       "      <td>1078</td>\n",
       "      <td>6380</td>\n",
       "      <td>20511</td>\n",
       "      <td>14</td>\n",
       "      <td>ACTIVE</td>\n",
       "      <td>Y</td>\n",
       "      <td>N</td>\n",
       "      <td>2014-08-20 12:09:54</td>\n",
       "      <td>10</td>\n",
       "      <td>NaN</td>\n",
       "      <td>NaN</td>\n",
       "      <td>0</td>\n",
       "      <td>NaN</td>\n",
       "      <td>2018-02-19 12:10:14</td>\n",
       "      <td>13.186616</td>\n",
       "      <td>77.803090</td>\n",
       "      <td>13.185551</td>\n",
       "      <td>77.800190</td>\n",
       "    </tr>\n",
       "  </tbody>\n",
       "</table>\n",
       "</div>"
      ],
      "text/plain": [
       "    route_points_id  route_id  bus_stop_id  bus_stop_group_id  route_order  \\\n",
       "0             11467      1078         8552              20434            9   \n",
       "6             11469      1078         7184              23583           11   \n",
       "14            11470      1078         8551              20509           12   \n",
       "21            11471      1078         7182              20511           13   \n",
       "30            11472      1078         6380              20511           14   \n",
       "\n",
       "   point_status fare_stage sub_stage         created_date  created_by  \\\n",
       "0        ACTIVE          N         N  2014-08-20 12:09:54          10   \n",
       "6        ACTIVE          N         N  2014-08-20 12:09:54          10   \n",
       "14       ACTIVE          N         N  2014-08-20 12:09:54          10   \n",
       "21       ACTIVE          N         N  2014-08-20 12:09:54          10   \n",
       "30       ACTIVE          Y         N  2014-08-20 12:09:54          10   \n",
       "\n",
       "    updated_date  updated_by  deleted_status  routepoint_route_id  \\\n",
       "0            NaN         NaN               0                  NaN   \n",
       "6            NaN         NaN               0                  NaN   \n",
       "14           NaN         NaN               0                  NaN   \n",
       "21           NaN         NaN               0                  NaN   \n",
       "30           NaN         NaN               0                  NaN   \n",
       "\n",
       "      sync_updated_date  origin_lat  origin_long  destination_lat  \\\n",
       "0   2018-02-19 12:10:14   13.217564    77.831298        13.200463   \n",
       "6   2018-02-19 12:10:14   13.200463    77.824973        13.193236   \n",
       "14  2018-02-19 12:10:14   13.193236    77.813080        13.188939   \n",
       "21  2019-06-06 15:57:27   13.188939    77.805421        13.186616   \n",
       "30  2018-02-19 12:10:14   13.186616    77.803090        13.185551   \n",
       "\n",
       "    destination_long  \n",
       "0          77.824973  \n",
       "6          77.813080  \n",
       "14         77.805421  \n",
       "21         77.803090  \n",
       "30         77.800190  "
      ]
     },
     "execution_count": 308,
     "metadata": {},
     "output_type": "execute_result"
    }
   ],
   "source": [
    "# Create a new column destination_lat and destination_long and assign with the next row's origin_lat and origin_long for same route_id\n",
    "mergerd_busstops_routepoints['destination_lat'] = mergerd_busstops_routepoints.groupby(['route_id'])['origin_lat'].shift(-1)\n",
    "mergerd_busstops_routepoints['destination_long'] = mergerd_busstops_routepoints.groupby(['route_id'])['origin_long'].shift(-1)\n",
    "# Drop the na values based on destination_lat and destination_long\n",
    "mergerd_busstops_routepoints = mergerd_busstops_routepoints.dropna(subset=['destination_lat','destination_long'])\n",
    "mergerd_busstops_routepoints.head(5)\n"
   ]
  },
  {
   "cell_type": "code",
   "execution_count": 309,
   "id": "de4a8878",
   "metadata": {},
   "outputs": [
    {
     "name": "stdout",
     "output_type": "stream",
     "text": [
      "578975\n"
     ]
    }
   ],
   "source": [
    "# print the length of the dataframe\n",
    "print(len(mergerd_busstops_routepoints))"
   ]
  },
  {
   "cell_type": "code",
   "execution_count": 310,
   "id": "638abf3cd7128250",
   "metadata": {
    "ExecuteTime": {
     "end_time": "2023-11-05T17:47:13.630748500Z",
     "start_time": "2023-11-05T17:47:13.583095600Z"
    },
    "collapsed": false
   },
   "outputs": [
    {
     "name": "stdout",
     "output_type": "stream",
     "text": [
      "37114\n"
     ]
    }
   ],
   "source": [
    "# Drop the duplicates based on origin_lat, origin_long, destination_lat and destination_long\n",
    "mergerd_busstops_routepoints = mergerd_busstops_routepoints.drop_duplicates(subset=['origin_lat','origin_long','destination_lat','destination_long'])\n",
    "# reset the index\n",
    "mergerd_busstops_routepoints = mergerd_busstops_routepoints.reset_index(drop=True)\n",
    "print(len(mergerd_busstops_routepoints))"
   ]
  },
  {
   "cell_type": "code",
   "execution_count": 311,
   "id": "2e1e9f7c",
   "metadata": {},
   "outputs": [],
   "source": [
    "# Create length column and calculate the distance between origin_lat, origin_long and destination_lat, destination_long using haversine formula\n",
    "mergerd_busstops_routepoints['length'] = haversine_vector(mergerd_busstops_routepoints[['origin_lat','origin_long']],mergerd_busstops_routepoints[['destination_lat','destination_long']],Unit.METERS)\n"
   ]
  },
  {
   "cell_type": "code",
   "execution_count": 312,
   "id": "c09572aa",
   "metadata": {},
   "outputs": [
    {
     "data": {
      "text/plain": [
       "Text(0.5, 0, 'Index')"
      ]
     },
     "execution_count": 312,
     "metadata": {},
     "output_type": "execute_result"
    },
    {
     "data": {
      "image/png": "[encoded data removed]",
      "text/plain": [
       "<Figure size 640x480 with 1 Axes>"
      ]
     },
     "metadata": {},
     "output_type": "display_data"
    }
   ],
   "source": [
    "# Scatter Plot the length column\n",
    "plt.scatter(mergerd_busstops_routepoints.index,mergerd_busstops_routepoints['length'])\n",
    "plt.xlabel('Index')"
   ]
  },
  {
   "cell_type": "code",
   "execution_count": 313,
   "id": "e7ae1452",
   "metadata": {},
   "outputs": [],
   "source": [
    "mergerd_busstops_routepoints_copy = mergerd_busstops_routepoints.copy()"
   ]
  },
  {
   "cell_type": "code",
   "execution_count": 375,
   "id": "0d9cc94f",
   "metadata": {},
   "outputs": [
    {
     "data": {
      "image/png": "[encoded data removed]",
      "text/plain": [
       "<Figure size 640x480 with 1 Axes>"
      ]
     },
     "metadata": {},
     "output_type": "display_data"
    }
   ],
   "source": [
    "# Find the number of segments with length more than 5000\n",
    "mergerd_busstops_routepoints = mergerd_busstops_routepoints_copy.copy()\n",
    "\n",
    "# Filter the mergerd_busstops_routepoints with length more than 5000\n",
    "# mergerd_busstops_routepoints = mergerd_busstops_routepoints[mergerd_busstops_routepoints['length'] < 2000]\n",
    "\n",
    "# Plot the scatter plot of length column\n",
    "plt.scatter(mergerd_busstops_routepoints.index,mergerd_busstops_routepoints['length'])\n",
    "plt.xlabel('Index')\n",
    "plt.ylabel('Length')\n",
    "plt.show()"
   ]
  },
  {
   "cell_type": "code",
   "execution_count": 315,
   "id": "bf2cda51be57469d",
   "metadata": {
    "ExecuteTime": {
     "end_time": "2023-11-05T17:54:51.301242600Z",
     "start_time": "2023-11-05T17:54:45.919216800Z"
    },
    "collapsed": false
   },
   "outputs": [],
   "source": [
    "from rtree import index\n",
    "# Create an R-tree index\n",
    "idx = index.Index()\n",
    " \n",
    "# Populate the R-tree index with stop segments\n",
    "for i, row in mergerd_busstops_routepoints.iterrows():\n",
    "    start_lat, start_lon, end_lat, end_lon = row['origin_lat'], row['origin_long'], row['destination_lat'], row['destination_long']\n",
    "    idx.insert(i, (min(start_lat, end_lat), min(start_lon, end_lon), max(start_lat, end_lat), max(start_lon, end_lon)))"
   ]
  },
  {
   "cell_type": "code",
   "execution_count": 355,
   "id": "57ae858cc02cd5b9",
   "metadata": {
    "ExecuteTime": {
     "end_time": "2023-11-05T17:54:51.316711400Z",
     "start_time": "2023-11-05T17:54:51.301242600Z"
    },
    "collapsed": false
   },
   "outputs": [],
   "source": [
    "# Function to find the stop segment for a given GPS ping\n",
    "def find_stop_segment(gps_lat, gps_lon):\n",
    "    for segment_id in idx.intersection((gps_lat, gps_lon, gps_lat, gps_lon)):\n",
    "        start_lat, start_lon, end_lat, end_lon = mergerd_busstops_routepoints.loc[segment_id, ['origin_lat', 'origin_long', 'destination_lat', 'destination_long']]\n",
    "        if min(start_lat, end_lat) <= gps_lat <= max(start_lat, end_lat) and min(start_lon, end_lon) <= gps_lon <= max(start_lon, end_lon):\n",
    "            l1 = haversine((gps_lat, gps_lon), (start_lat, start_lon), Unit.METERS)\n",
    "            l2 = haversine((gps_lat, gps_lon), (end_lat, end_lon), Unit.METERS)\n",
    "            l3 = haversine((start_lat, start_lon), (end_lat, end_lon), Unit.METERS)\n",
    "            if l1 + l2 <= 1.02 * l3:\n",
    "                return segment_id\n",
    "    return None  # GPS ping does not belong to any stop segment"
   ]
  },
  {
   "cell_type": "code",
   "execution_count": 336,
   "id": "9af9bd20",
   "metadata": {},
   "outputs": [],
   "source": [
    "import osmnx as ox\n",
    "\n",
    "G = ox.graph_from_point((13.172057, 77.633171), dist=1000, network_type='drive')\n",
    "\n",
    "org,dest,distance = ox.nearest_edges(G, 13.172057, 77.633171)\n",
    "# nodes_gdf, edges_gdf = ox.graph_to_gdfs(G)\n",
    "\n",
    "# # Ensure that the 'osmid' column is present in the nodes_gdf dataframe\n",
    "# if 'osmid' not in nodes_gdf.columns:\n",
    "#     nodes_gdf['osmid'] = nodes_gdf.index.astype(str)\n",
    "\n",
    "# org_coordinates = nodes_gdf[nodes_gdf['osmid'] == str(org)][['y', 'x']]\n",
    "# dest_coordinates = nodes_gdf[nodes_gdf['osmid'] == str(dest)][['geometry', 'y', 'x']]\n"
   ]
  },
  {
   "cell_type": "code",
   "execution_count": 381,
   "id": "b428f5f8",
   "metadata": {},
   "outputs": [
    {
     "name": "stderr",
     "output_type": "stream",
     "text": [
      "C:\\Users\\CiSTUP\\AppData\\Local\\Temp\\ipykernel_11588\\1785965460.py:4: SettingWithCopyWarning: \n",
      "A value is trying to be set on a copy of a slice from a DataFrame.\n",
      "Try using .loc[row_indexer,col_indexer] = value instead\n",
      "\n",
      "See the caveats in the documentation: https://pandas.pydata.org/pandas-docs/stable/user_guide/indexing.html#returning-a-view-versus-a-copy\n",
      "  gps_df_bus1['start'] = 0\n",
      "C:\\Users\\CiSTUP\\AppData\\Local\\Temp\\ipykernel_11588\\1785965460.py:5: SettingWithCopyWarning: \n",
      "A value is trying to be set on a copy of a slice from a DataFrame.\n",
      "Try using .loc[row_indexer,col_indexer] = value instead\n",
      "\n",
      "See the caveats in the documentation: https://pandas.pydata.org/pandas-docs/stable/user_guide/indexing.html#returning-a-view-versus-a-copy\n",
      "  gps_df_bus1['end'] = 0\n",
      "C:\\Users\\CiSTUP\\AppData\\Local\\Temp\\ipykernel_11588\\1785965460.py:6: SettingWithCopyWarning: \n",
      "A value is trying to be set on a copy of a slice from a DataFrame.\n",
      "Try using .loc[row_indexer,col_indexer] = value instead\n",
      "\n",
      "See the caveats in the documentation: https://pandas.pydata.org/pandas-docs/stable/user_guide/indexing.html#returning-a-view-versus-a-copy\n",
      "  gps_df_bus1['distance'] = 0\n",
      "100%|██████████| 404/404 [06:27<00:00,  1.04it/s]\n"
     ]
    }
   ],
   "source": [
    "# for all the gps_bus1 points create a graph for each lat long and find the nearest edge and then find the distance between the gps point and the nearest edge\n",
    "\n",
    "# Create a new column segment_id and initialize it with 0\n",
    "gps_df_bus1['start'] = 0\n",
    "gps_df_bus1['end'] = 0\n",
    "gps_df_bus1['distance'] = 0\n",
    "\n",
    "# Iterate over the gps_df_bus1 dataframe\n",
    "\n",
    "for index,row in tqdm(gps_df_bus1.iterrows(),total=len(gps_df_bus1)):\n",
    "\n",
    "    G = ox.graph_from_point((row['LAT'], row['LONGITUDE']), dist=1000, network_type='drive')\n",
    "    # Find the nearest edge and the distance between the gps point and the nearest edge\n",
    "    org,dest,distance = ox.nearest_edges(G, row['LAT'], row['LONGITUDE'])\n",
    "    # append start, end and distance to the gps_df_bus1 dataframe\n",
    "    gps_df_bus1.loc[index,'start'] = org\n",
    "    gps_df_bus1.loc[index,'end'] = dest\n",
    "    gps_df_bus1.loc[index,'distance'] = distance\n",
    "\n"
   ]
  },
  {
   "cell_type": "code",
   "execution_count": 346,
   "id": "9560be7a",
   "metadata": {},
   "outputs": [
    {
     "data": {
      "text/plain": [
       "distance\n",
       "0    400\n",
       "1      4\n",
       "Name: count, dtype: int64"
      ]
     },
     "execution_count": 346,
     "metadata": {},
     "output_type": "execute_result"
    }
   ],
   "source": [
    "gps_df_bus1.distance.value_counts()"
   ]
  },
  {
   "cell_type": "code",
   "execution_count": 359,
   "id": "d63daf8b",
   "metadata": {},
   "outputs": [
    {
     "data": {
      "text/html": [
       "<div>\n",
       "<style scoped>\n",
       "    .dataframe tbody tr th:only-of-type {\n",
       "        vertical-align: middle;\n",
       "    }\n",
       "\n",
       "    .dataframe tbody tr th {\n",
       "        vertical-align: top;\n",
       "    }\n",
       "\n",
       "    .dataframe thead th {\n",
       "        text-align: right;\n",
       "    }\n",
       "</style>\n",
       "<table border=\"1\" class=\"dataframe\">\n",
       "  <thead>\n",
       "    <tr style=\"text-align: right;\">\n",
       "      <th></th>\n",
       "      <th>route_points_id</th>\n",
       "      <th>route_id</th>\n",
       "      <th>bus_stop_id</th>\n",
       "      <th>bus_stop_group_id</th>\n",
       "      <th>route_order</th>\n",
       "      <th>point_status</th>\n",
       "      <th>fare_stage</th>\n",
       "      <th>sub_stage</th>\n",
       "      <th>created_date</th>\n",
       "      <th>created_by</th>\n",
       "      <th>updated_date</th>\n",
       "      <th>updated_by</th>\n",
       "      <th>deleted_status</th>\n",
       "      <th>routepoint_route_id</th>\n",
       "      <th>sync_updated_date</th>\n",
       "      <th>origin_lat</th>\n",
       "      <th>origin_long</th>\n",
       "      <th>destination_lat</th>\n",
       "      <th>destination_long</th>\n",
       "      <th>length</th>\n",
       "    </tr>\n",
       "  </thead>\n",
       "  <tbody>\n",
       "    <tr>\n",
       "      <th>1</th>\n",
       "      <td>11469</td>\n",
       "      <td>1078</td>\n",
       "      <td>7184</td>\n",
       "      <td>23583</td>\n",
       "      <td>11</td>\n",
       "      <td>ACTIVE</td>\n",
       "      <td>N</td>\n",
       "      <td>N</td>\n",
       "      <td>2014-08-20 12:09:54</td>\n",
       "      <td>10</td>\n",
       "      <td>NaN</td>\n",
       "      <td>NaN</td>\n",
       "      <td>0</td>\n",
       "      <td>NaN</td>\n",
       "      <td>2018-02-19 12:10:14</td>\n",
       "      <td>13.200463</td>\n",
       "      <td>77.824973</td>\n",
       "      <td>13.193236</td>\n",
       "      <td>77.813080</td>\n",
       "      <td>1517.679032</td>\n",
       "    </tr>\n",
       "    <tr>\n",
       "      <th>2</th>\n",
       "      <td>11470</td>\n",
       "      <td>1078</td>\n",
       "      <td>8551</td>\n",
       "      <td>20509</td>\n",
       "      <td>12</td>\n",
       "      <td>ACTIVE</td>\n",
       "      <td>N</td>\n",
       "      <td>N</td>\n",
       "      <td>2014-08-20 12:09:54</td>\n",
       "      <td>10</td>\n",
       "      <td>NaN</td>\n",
       "      <td>NaN</td>\n",
       "      <td>0</td>\n",
       "      <td>NaN</td>\n",
       "      <td>2018-02-19 12:10:14</td>\n",
       "      <td>13.193236</td>\n",
       "      <td>77.813080</td>\n",
       "      <td>13.188939</td>\n",
       "      <td>77.805421</td>\n",
       "      <td>957.059694</td>\n",
       "    </tr>\n",
       "    <tr>\n",
       "      <th>3</th>\n",
       "      <td>11471</td>\n",
       "      <td>1078</td>\n",
       "      <td>7182</td>\n",
       "      <td>20511</td>\n",
       "      <td>13</td>\n",
       "      <td>ACTIVE</td>\n",
       "      <td>N</td>\n",
       "      <td>N</td>\n",
       "      <td>2014-08-20 12:09:54</td>\n",
       "      <td>10</td>\n",
       "      <td>NaN</td>\n",
       "      <td>NaN</td>\n",
       "      <td>0</td>\n",
       "      <td>NaN</td>\n",
       "      <td>2019-06-06 15:57:27</td>\n",
       "      <td>13.188939</td>\n",
       "      <td>77.805421</td>\n",
       "      <td>13.186616</td>\n",
       "      <td>77.803090</td>\n",
       "      <td>361.103895</td>\n",
       "    </tr>\n",
       "    <tr>\n",
       "      <th>4</th>\n",
       "      <td>11472</td>\n",
       "      <td>1078</td>\n",
       "      <td>6380</td>\n",
       "      <td>20511</td>\n",
       "      <td>14</td>\n",
       "      <td>ACTIVE</td>\n",
       "      <td>Y</td>\n",
       "      <td>N</td>\n",
       "      <td>2014-08-20 12:09:54</td>\n",
       "      <td>10</td>\n",
       "      <td>NaN</td>\n",
       "      <td>NaN</td>\n",
       "      <td>0</td>\n",
       "      <td>NaN</td>\n",
       "      <td>2018-02-19 12:10:14</td>\n",
       "      <td>13.186616</td>\n",
       "      <td>77.803090</td>\n",
       "      <td>13.185551</td>\n",
       "      <td>77.800190</td>\n",
       "      <td>335.573525</td>\n",
       "    </tr>\n",
       "    <tr>\n",
       "      <th>5</th>\n",
       "      <td>11473</td>\n",
       "      <td>1078</td>\n",
       "      <td>5910</td>\n",
       "      <td>20511</td>\n",
       "      <td>15</td>\n",
       "      <td>ACTIVE</td>\n",
       "      <td>N</td>\n",
       "      <td>N</td>\n",
       "      <td>2014-08-20 12:09:54</td>\n",
       "      <td>10</td>\n",
       "      <td>NaN</td>\n",
       "      <td>NaN</td>\n",
       "      <td>0</td>\n",
       "      <td>NaN</td>\n",
       "      <td>2019-06-06 15:57:27</td>\n",
       "      <td>13.185551</td>\n",
       "      <td>77.800190</td>\n",
       "      <td>13.184737</td>\n",
       "      <td>77.797917</td>\n",
       "      <td>262.146791</td>\n",
       "    </tr>\n",
       "  </tbody>\n",
       "</table>\n",
       "</div>"
      ],
      "text/plain": [
       "   route_points_id  route_id  bus_stop_id  bus_stop_group_id  route_order  \\\n",
       "1            11469      1078         7184              23583           11   \n",
       "2            11470      1078         8551              20509           12   \n",
       "3            11471      1078         7182              20511           13   \n",
       "4            11472      1078         6380              20511           14   \n",
       "5            11473      1078         5910              20511           15   \n",
       "\n",
       "  point_status fare_stage sub_stage         created_date  created_by  \\\n",
       "1       ACTIVE          N         N  2014-08-20 12:09:54          10   \n",
       "2       ACTIVE          N         N  2014-08-20 12:09:54          10   \n",
       "3       ACTIVE          N         N  2014-08-20 12:09:54          10   \n",
       "4       ACTIVE          Y         N  2014-08-20 12:09:54          10   \n",
       "5       ACTIVE          N         N  2014-08-20 12:09:54          10   \n",
       "\n",
       "   updated_date  updated_by  deleted_status  routepoint_route_id  \\\n",
       "1           NaN         NaN               0                  NaN   \n",
       "2           NaN         NaN               0                  NaN   \n",
       "3           NaN         NaN               0                  NaN   \n",
       "4           NaN         NaN               0                  NaN   \n",
       "5           NaN         NaN               0                  NaN   \n",
       "\n",
       "     sync_updated_date  origin_lat  origin_long  destination_lat  \\\n",
       "1  2018-02-19 12:10:14   13.200463    77.824973        13.193236   \n",
       "2  2018-02-19 12:10:14   13.193236    77.813080        13.188939   \n",
       "3  2019-06-06 15:57:27   13.188939    77.805421        13.186616   \n",
       "4  2018-02-19 12:10:14   13.186616    77.803090        13.185551   \n",
       "5  2019-06-06 15:57:27   13.185551    77.800190        13.184737   \n",
       "\n",
       "   destination_long       length  \n",
       "1         77.813080  1517.679032  \n",
       "2         77.805421   957.059694  \n",
       "3         77.803090   361.103895  \n",
       "4         77.800190   335.573525  \n",
       "5         77.797917   262.146791  "
      ]
     },
     "execution_count": 359,
     "metadata": {},
     "output_type": "execute_result"
    }
   ],
   "source": [
    "mergerd_busstops_routepoints.head(5)"
   ]
  },
  {
   "cell_type": "code",
   "execution_count": null,
   "id": "2b3297e5",
   "metadata": {},
   "outputs": [],
   "source": [
    "import osmnx as ox\n",
    "import networkx as nx\n",
    "import matplotlib.pyplot as plt\n",
    "\n",
    "# Replace this with the node numbers you have\n",
    "node_ids = [123456, 789012, ...]  # List of node numbers\n",
    "\n",
    "# Create a graph from OSMnx for the city or area of your interest\n",
    "place_name = \"City, Country\"  # Replace with the appropriate place name\n",
    "G = ox.graph_from_place(place_name, network_type='drive')\n",
    "\n",
    "# Create a subgraph using the specified nodes\n",
    "subgraph = nx.subgraph(G, node_ids)\n",
    "\n",
    "# Plot the subgraph\n",
    "fig, ax = ox.plot_graph(subgraph, node_size=0, edge_color='b', bgcolor='w', show=False, close=False)\n",
    "ox.plot_graph(G, node_size=0, edge_color='k', ax=ax, bgcolor='w', show=True)\n",
    "\n",
    "# Display the plot\n",
    "plt.show()\n"
   ]
  },
  {
   "cell_type": "code",
   "execution_count": 356,
   "id": "44d03c18a59917e7",
   "metadata": {
    "ExecuteTime": {
     "end_time": "2023-11-05T17:54:54.097575600Z",
     "start_time": "2023-11-05T17:54:53.756267700Z"
    },
    "collapsed": false
   },
   "outputs": [
    {
     "name": "stderr",
     "output_type": "stream",
     "text": [
      "C:\\Users\\CiSTUP\\AppData\\Local\\Temp\\ipykernel_11588\\2056264803.py:2: SettingWithCopyWarning: \n",
      "A value is trying to be set on a copy of a slice from a DataFrame.\n",
      "Try using .loc[row_indexer,col_indexer] = value instead\n",
      "\n",
      "See the caveats in the documentation: https://pandas.pydata.org/pandas-docs/stable/user_guide/indexing.html#returning-a-view-versus-a-copy\n",
      "  gps_df_bus1['segment_id'] = gps_df_bus1.apply(lambda x: find_stop_segment(x['LAT'],x['LONGITUDE']),axis=1)\n"
     ]
    },
    {
     "data": {
      "text/html": [
       "<div>\n",
       "<style scoped>\n",
       "    .dataframe tbody tr th:only-of-type {\n",
       "        vertical-align: middle;\n",
       "    }\n",
       "\n",
       "    .dataframe tbody tr th {\n",
       "        vertical-align: top;\n",
       "    }\n",
       "\n",
       "    .dataframe thead th {\n",
       "        text-align: right;\n",
       "    }\n",
       "</style>\n",
       "<table border=\"1\" class=\"dataframe\">\n",
       "  <thead>\n",
       "    <tr style=\"text-align: right;\">\n",
       "      <th></th>\n",
       "      <th>DEVICE_ID</th>\n",
       "      <th>IST_DATE</th>\n",
       "      <th>LAT</th>\n",
       "      <th>LONGITUDE</th>\n",
       "      <th>YEAR</th>\n",
       "      <th>DAY</th>\n",
       "      <th>DATE</th>\n",
       "      <th>TIME</th>\n",
       "      <th>PREV_LAT</th>\n",
       "      <th>PREV_LONGITUDE</th>\n",
       "      <th>PREV_IST_DATE</th>\n",
       "      <th>DISTANCE</th>\n",
       "      <th>TIME_DIFF</th>\n",
       "      <th>SPEED</th>\n",
       "      <th>STOP_TIME</th>\n",
       "      <th>segment_id</th>\n",
       "      <th>start</th>\n",
       "      <th>end</th>\n",
       "      <th>distance</th>\n",
       "    </tr>\n",
       "  </thead>\n",
       "  <tbody>\n",
       "    <tr>\n",
       "      <th>18060</th>\n",
       "      <td>150218177</td>\n",
       "      <td>2019-10-13 00:00:11</td>\n",
       "      <td>13.172057</td>\n",
       "      <td>77.633171</td>\n",
       "      <td>2019</td>\n",
       "      <td>6</td>\n",
       "      <td>2019-10-13</td>\n",
       "      <td>00:00:11</td>\n",
       "      <td>13.173712</td>\n",
       "      <td>77.633881</td>\n",
       "      <td>2019-10-13 00:00:01</td>\n",
       "      <td>199.437765</td>\n",
       "      <td>10.0</td>\n",
       "      <td>71.796877</td>\n",
       "      <td>0</td>\n",
       "      <td>800.0</td>\n",
       "      <td>11124434889</td>\n",
       "      <td>4676387494</td>\n",
       "      <td>0</td>\n",
       "    </tr>\n",
       "    <tr>\n",
       "      <th>18061</th>\n",
       "      <td>150218177</td>\n",
       "      <td>2019-10-13 00:00:21</td>\n",
       "      <td>13.170369</td>\n",
       "      <td>77.632385</td>\n",
       "      <td>2019</td>\n",
       "      <td>6</td>\n",
       "      <td>2019-10-13</td>\n",
       "      <td>00:00:21</td>\n",
       "      <td>13.172057</td>\n",
       "      <td>77.633171</td>\n",
       "      <td>2019-10-13 00:00:11</td>\n",
       "      <td>206.088118</td>\n",
       "      <td>10.0</td>\n",
       "      <td>74.190981</td>\n",
       "      <td>0</td>\n",
       "      <td>800.0</td>\n",
       "      <td>11124434889</td>\n",
       "      <td>4676387494</td>\n",
       "      <td>0</td>\n",
       "    </tr>\n",
       "    <tr>\n",
       "      <th>18062</th>\n",
       "      <td>150218177</td>\n",
       "      <td>2019-10-13 00:00:31</td>\n",
       "      <td>13.168621</td>\n",
       "      <td>77.631561</td>\n",
       "      <td>2019</td>\n",
       "      <td>6</td>\n",
       "      <td>2019-10-13</td>\n",
       "      <td>00:00:31</td>\n",
       "      <td>13.170369</td>\n",
       "      <td>77.632385</td>\n",
       "      <td>2019-10-13 00:00:21</td>\n",
       "      <td>213.865922</td>\n",
       "      <td>10.0</td>\n",
       "      <td>76.990962</td>\n",
       "      <td>0</td>\n",
       "      <td>800.0</td>\n",
       "      <td>6758973422</td>\n",
       "      <td>6758973400</td>\n",
       "      <td>0</td>\n",
       "    </tr>\n",
       "    <tr>\n",
       "      <th>18063</th>\n",
       "      <td>150218177</td>\n",
       "      <td>2019-10-13 00:00:41</td>\n",
       "      <td>13.167176</td>\n",
       "      <td>77.630875</td>\n",
       "      <td>2019</td>\n",
       "      <td>6</td>\n",
       "      <td>2019-10-13</td>\n",
       "      <td>00:00:41</td>\n",
       "      <td>13.168621</td>\n",
       "      <td>77.631561</td>\n",
       "      <td>2019-10-13 00:00:31</td>\n",
       "      <td>177.013323</td>\n",
       "      <td>10.0</td>\n",
       "      <td>63.724159</td>\n",
       "      <td>0</td>\n",
       "      <td>7324.0</td>\n",
       "      <td>6758973400</td>\n",
       "      <td>6758973422</td>\n",
       "      <td>0</td>\n",
       "    </tr>\n",
       "    <tr>\n",
       "      <th>18064</th>\n",
       "      <td>150218177</td>\n",
       "      <td>2019-10-13 00:00:51</td>\n",
       "      <td>13.165515</td>\n",
       "      <td>77.630089</td>\n",
       "      <td>2019</td>\n",
       "      <td>6</td>\n",
       "      <td>2019-10-13</td>\n",
       "      <td>00:00:51</td>\n",
       "      <td>13.167176</td>\n",
       "      <td>77.630875</td>\n",
       "      <td>2019-10-13 00:00:41</td>\n",
       "      <td>203.358253</td>\n",
       "      <td>10.0</td>\n",
       "      <td>73.208239</td>\n",
       "      <td>0</td>\n",
       "      <td>7324.0</td>\n",
       "      <td>11302131407</td>\n",
       "      <td>2645625964</td>\n",
       "      <td>0</td>\n",
       "    </tr>\n",
       "    <tr>\n",
       "      <th>...</th>\n",
       "      <td>...</td>\n",
       "      <td>...</td>\n",
       "      <td>...</td>\n",
       "      <td>...</td>\n",
       "      <td>...</td>\n",
       "      <td>...</td>\n",
       "      <td>...</td>\n",
       "      <td>...</td>\n",
       "      <td>...</td>\n",
       "      <td>...</td>\n",
       "      <td>...</td>\n",
       "      <td>...</td>\n",
       "      <td>...</td>\n",
       "      <td>...</td>\n",
       "      <td>...</td>\n",
       "      <td>...</td>\n",
       "      <td>...</td>\n",
       "      <td>...</td>\n",
       "      <td>...</td>\n",
       "    </tr>\n",
       "    <tr>\n",
       "      <th>18155</th>\n",
       "      <td>150218177</td>\n",
       "      <td>2019-10-13 00:15:08</td>\n",
       "      <td>13.027748</td>\n",
       "      <td>77.585861</td>\n",
       "      <td>2019</td>\n",
       "      <td>6</td>\n",
       "      <td>2019-10-13</td>\n",
       "      <td>00:15:08</td>\n",
       "      <td>13.029371</td>\n",
       "      <td>77.586540</td>\n",
       "      <td>2019-10-13 00:14:58</td>\n",
       "      <td>194.884696</td>\n",
       "      <td>10.0</td>\n",
       "      <td>70.157789</td>\n",
       "      <td>0</td>\n",
       "      <td>17536.0</td>\n",
       "      <td>6738845517</td>\n",
       "      <td>529277388</td>\n",
       "      <td>0</td>\n",
       "    </tr>\n",
       "    <tr>\n",
       "      <th>18156</th>\n",
       "      <td>150218177</td>\n",
       "      <td>2019-10-13 00:15:17</td>\n",
       "      <td>13.026059</td>\n",
       "      <td>77.585358</td>\n",
       "      <td>2019</td>\n",
       "      <td>6</td>\n",
       "      <td>2019-10-13</td>\n",
       "      <td>00:15:17</td>\n",
       "      <td>13.027748</td>\n",
       "      <td>77.585861</td>\n",
       "      <td>2019-10-13 00:15:08</td>\n",
       "      <td>195.554019</td>\n",
       "      <td>9.0</td>\n",
       "      <td>78.220739</td>\n",
       "      <td>0</td>\n",
       "      <td>17162.0</td>\n",
       "      <td>529291262</td>\n",
       "      <td>10994338900</td>\n",
       "      <td>0</td>\n",
       "    </tr>\n",
       "    <tr>\n",
       "      <th>18157</th>\n",
       "      <td>150218177</td>\n",
       "      <td>2019-10-13 00:15:25</td>\n",
       "      <td>13.024752</td>\n",
       "      <td>77.585060</td>\n",
       "      <td>2019</td>\n",
       "      <td>6</td>\n",
       "      <td>2019-10-13</td>\n",
       "      <td>00:15:25</td>\n",
       "      <td>13.026059</td>\n",
       "      <td>77.585358</td>\n",
       "      <td>2019-10-13 00:15:17</td>\n",
       "      <td>148.874474</td>\n",
       "      <td>8.0</td>\n",
       "      <td>66.992676</td>\n",
       "      <td>0</td>\n",
       "      <td>7735.0</td>\n",
       "      <td>529291227</td>\n",
       "      <td>529321200</td>\n",
       "      <td>0</td>\n",
       "    </tr>\n",
       "    <tr>\n",
       "      <th>18158</th>\n",
       "      <td>150218177</td>\n",
       "      <td>2019-10-13 00:15:27</td>\n",
       "      <td>13.024473</td>\n",
       "      <td>77.584984</td>\n",
       "      <td>2019</td>\n",
       "      <td>6</td>\n",
       "      <td>2019-10-13</td>\n",
       "      <td>00:15:27</td>\n",
       "      <td>13.024752</td>\n",
       "      <td>77.585060</td>\n",
       "      <td>2019-10-13 00:15:25</td>\n",
       "      <td>32.097386</td>\n",
       "      <td>2.0</td>\n",
       "      <td>57.772405</td>\n",
       "      <td>0</td>\n",
       "      <td>7735.0</td>\n",
       "      <td>529277356</td>\n",
       "      <td>529018582</td>\n",
       "      <td>0</td>\n",
       "    </tr>\n",
       "    <tr>\n",
       "      <th>18159</th>\n",
       "      <td>150218177</td>\n",
       "      <td>2019-10-13 00:15:37</td>\n",
       "      <td>13.023172</td>\n",
       "      <td>77.584633</td>\n",
       "      <td>2019</td>\n",
       "      <td>6</td>\n",
       "      <td>2019-10-13</td>\n",
       "      <td>00:15:37</td>\n",
       "      <td>13.024473</td>\n",
       "      <td>77.584984</td>\n",
       "      <td>2019-10-13 00:15:27</td>\n",
       "      <td>149.578884</td>\n",
       "      <td>10.0</td>\n",
       "      <td>53.847860</td>\n",
       "      <td>0</td>\n",
       "      <td>7735.0</td>\n",
       "      <td>529018583</td>\n",
       "      <td>431537124</td>\n",
       "      <td>0</td>\n",
       "    </tr>\n",
       "  </tbody>\n",
       "</table>\n",
       "<p>100 rows × 19 columns</p>\n",
       "</div>"
      ],
      "text/plain": [
       "       DEVICE_ID            IST_DATE        LAT  LONGITUDE  YEAR  DAY  \\\n",
       "18060  150218177 2019-10-13 00:00:11  13.172057  77.633171  2019    6   \n",
       "18061  150218177 2019-10-13 00:00:21  13.170369  77.632385  2019    6   \n",
       "18062  150218177 2019-10-13 00:00:31  13.168621  77.631561  2019    6   \n",
       "18063  150218177 2019-10-13 00:00:41  13.167176  77.630875  2019    6   \n",
       "18064  150218177 2019-10-13 00:00:51  13.165515  77.630089  2019    6   \n",
       "...          ...                 ...        ...        ...   ...  ...   \n",
       "18155  150218177 2019-10-13 00:15:08  13.027748  77.585861  2019    6   \n",
       "18156  150218177 2019-10-13 00:15:17  13.026059  77.585358  2019    6   \n",
       "18157  150218177 2019-10-13 00:15:25  13.024752  77.585060  2019    6   \n",
       "18158  150218177 2019-10-13 00:15:27  13.024473  77.584984  2019    6   \n",
       "18159  150218177 2019-10-13 00:15:37  13.023172  77.584633  2019    6   \n",
       "\n",
       "             DATE      TIME   PREV_LAT  PREV_LONGITUDE       PREV_IST_DATE  \\\n",
       "18060  2019-10-13  00:00:11  13.173712       77.633881 2019-10-13 00:00:01   \n",
       "18061  2019-10-13  00:00:21  13.172057       77.633171 2019-10-13 00:00:11   \n",
       "18062  2019-10-13  00:00:31  13.170369       77.632385 2019-10-13 00:00:21   \n",
       "18063  2019-10-13  00:00:41  13.168621       77.631561 2019-10-13 00:00:31   \n",
       "18064  2019-10-13  00:00:51  13.167176       77.630875 2019-10-13 00:00:41   \n",
       "...           ...       ...        ...             ...                 ...   \n",
       "18155  2019-10-13  00:15:08  13.029371       77.586540 2019-10-13 00:14:58   \n",
       "18156  2019-10-13  00:15:17  13.027748       77.585861 2019-10-13 00:15:08   \n",
       "18157  2019-10-13  00:15:25  13.026059       77.585358 2019-10-13 00:15:17   \n",
       "18158  2019-10-13  00:15:27  13.024752       77.585060 2019-10-13 00:15:25   \n",
       "18159  2019-10-13  00:15:37  13.024473       77.584984 2019-10-13 00:15:27   \n",
       "\n",
       "         DISTANCE  TIME_DIFF      SPEED  STOP_TIME  segment_id        start  \\\n",
       "18060  199.437765       10.0  71.796877          0       800.0  11124434889   \n",
       "18061  206.088118       10.0  74.190981          0       800.0  11124434889   \n",
       "18062  213.865922       10.0  76.990962          0       800.0   6758973422   \n",
       "18063  177.013323       10.0  63.724159          0      7324.0   6758973400   \n",
       "18064  203.358253       10.0  73.208239          0      7324.0  11302131407   \n",
       "...           ...        ...        ...        ...         ...          ...   \n",
       "18155  194.884696       10.0  70.157789          0     17536.0   6738845517   \n",
       "18156  195.554019        9.0  78.220739          0     17162.0    529291262   \n",
       "18157  148.874474        8.0  66.992676          0      7735.0    529291227   \n",
       "18158   32.097386        2.0  57.772405          0      7735.0    529277356   \n",
       "18159  149.578884       10.0  53.847860          0      7735.0    529018583   \n",
       "\n",
       "               end  distance  \n",
       "18060   4676387494         0  \n",
       "18061   4676387494         0  \n",
       "18062   6758973400         0  \n",
       "18063   6758973422         0  \n",
       "18064   2645625964         0  \n",
       "...            ...       ...  \n",
       "18155    529277388         0  \n",
       "18156  10994338900         0  \n",
       "18157    529321200         0  \n",
       "18158    529018582         0  \n",
       "18159    431537124         0  \n",
       "\n",
       "[100 rows x 19 columns]"
      ]
     },
     "execution_count": 356,
     "metadata": {},
     "output_type": "execute_result"
    }
   ],
   "source": [
    "# create a new column segment id and find it using find_stop_segment function\n",
    "gps_df_bus1['segment_id'] = gps_df_bus1.apply(lambda x: find_stop_segment(x['LAT'],x['LONGITUDE']),axis=1)\n",
    "gps_df_bus1.head(100)"
   ]
  },
  {
   "cell_type": "code",
   "execution_count": 362,
   "id": "1e1d4035ac21102e",
   "metadata": {
    "ExecuteTime": {
     "end_time": "2023-11-05T17:54:58.601035800Z",
     "start_time": "2023-11-05T17:54:58.578290700Z"
    },
    "collapsed": false
   },
   "outputs": [
    {
     "name": "stderr",
     "output_type": "stream",
     "text": [
      "C:\\Users\\CiSTUP\\AppData\\Local\\Temp\\ipykernel_11588\\2416260331.py:1: DtypeWarning: Columns (16,34) have mixed types. Specify dtype option on import or set low_memory=False.\n",
      "  waybill_df = pd.read_csv(r\"../Datasets/waybill.csv\")\n"
     ]
    },
    {
     "data": {
      "text/html": [
       "<div>\n",
       "<style scoped>\n",
       "    .dataframe tbody tr th:only-of-type {\n",
       "        vertical-align: middle;\n",
       "    }\n",
       "\n",
       "    .dataframe tbody tr th {\n",
       "        vertical-align: top;\n",
       "    }\n",
       "\n",
       "    .dataframe thead th {\n",
       "        text-align: right;\n",
       "    }\n",
       "</style>\n",
       "<table border=\"1\" class=\"dataframe\">\n",
       "  <thead>\n",
       "    <tr style=\"text-align: right;\">\n",
       "      <th></th>\n",
       "      <th>ID</th>\n",
       "      <th>WAYBILL_ID</th>\n",
       "      <th>WAYBILL_NO</th>\n",
       "      <th>DUTY_DT</th>\n",
       "      <th>COND_ID</th>\n",
       "      <th>COND_NAME</th>\n",
       "      <th>COND_TOKEN_NO</th>\n",
       "      <th>DRIVER_ID</th>\n",
       "      <th>DRIVER_NAME</th>\n",
       "      <th>DRIVER_TOKEN_NO</th>\n",
       "      <th>...</th>\n",
       "      <th>TRIP_END_TIME</th>\n",
       "      <th>TRIP_CANCEL</th>\n",
       "      <th>TRIP_CANCEL_TIME</th>\n",
       "      <th>DIST_TRAVELLED</th>\n",
       "      <th>exp_packet</th>\n",
       "      <th>act_packet</th>\n",
       "      <th>sch_travel_dist</th>\n",
       "      <th>act_trip_start_time</th>\n",
       "      <th>cancel_km</th>\n",
       "      <th>cancel_status</th>\n",
       "    </tr>\n",
       "  </thead>\n",
       "  <tbody>\n",
       "    <tr>\n",
       "      <th>0</th>\n",
       "      <td>128221084</td>\n",
       "      <td>68648</td>\n",
       "      <td>D4619101300001</td>\n",
       "      <td>2019-10-13</td>\n",
       "      <td>40720</td>\n",
       "      <td>Subramani M S</td>\n",
       "      <td>8625</td>\n",
       "      <td>37086</td>\n",
       "      <td>Venkatesh</td>\n",
       "      <td>21498</td>\n",
       "      <td>...</td>\n",
       "      <td>NaN</td>\n",
       "      <td>N</td>\n",
       "      <td>NaN</td>\n",
       "      <td>31.840099</td>\n",
       "      <td>625</td>\n",
       "      <td>438</td>\n",
       "      <td>268.04</td>\n",
       "      <td>2019-10-13 19:11:26</td>\n",
       "      <td>0.0</td>\n",
       "      <td>N</td>\n",
       "    </tr>\n",
       "    <tr>\n",
       "      <th>1</th>\n",
       "      <td>128221088</td>\n",
       "      <td>68648</td>\n",
       "      <td>D4619101300001</td>\n",
       "      <td>2019-10-13</td>\n",
       "      <td>40720</td>\n",
       "      <td>Subramani M S</td>\n",
       "      <td>8625</td>\n",
       "      <td>37086</td>\n",
       "      <td>Venkatesh</td>\n",
       "      <td>21498</td>\n",
       "      <td>...</td>\n",
       "      <td>NaN</td>\n",
       "      <td>N</td>\n",
       "      <td>NaN</td>\n",
       "      <td>0.000000</td>\n",
       "      <td>0</td>\n",
       "      <td>0</td>\n",
       "      <td>268.04</td>\n",
       "      <td>2019-10-13 15:32:06</td>\n",
       "      <td>0.0</td>\n",
       "      <td>N</td>\n",
       "    </tr>\n",
       "    <tr>\n",
       "      <th>2</th>\n",
       "      <td>128221091</td>\n",
       "      <td>68648</td>\n",
       "      <td>D4619101300001</td>\n",
       "      <td>2019-10-13</td>\n",
       "      <td>40720</td>\n",
       "      <td>Subramani M S</td>\n",
       "      <td>8625</td>\n",
       "      <td>37086</td>\n",
       "      <td>Venkatesh</td>\n",
       "      <td>21498</td>\n",
       "      <td>...</td>\n",
       "      <td>NaN</td>\n",
       "      <td>N</td>\n",
       "      <td>NaN</td>\n",
       "      <td>28.934273</td>\n",
       "      <td>506</td>\n",
       "      <td>327</td>\n",
       "      <td>268.04</td>\n",
       "      <td>2019-10-14 10:33:51</td>\n",
       "      <td>0.0</td>\n",
       "      <td>N</td>\n",
       "    </tr>\n",
       "    <tr>\n",
       "      <th>3</th>\n",
       "      <td>128221097</td>\n",
       "      <td>68648</td>\n",
       "      <td>D4619101300001</td>\n",
       "      <td>2019-10-13</td>\n",
       "      <td>40720</td>\n",
       "      <td>Subramani M S</td>\n",
       "      <td>8625</td>\n",
       "      <td>37086</td>\n",
       "      <td>Venkatesh</td>\n",
       "      <td>21498</td>\n",
       "      <td>...</td>\n",
       "      <td>NaN</td>\n",
       "      <td>N</td>\n",
       "      <td>NaN</td>\n",
       "      <td>39.712216</td>\n",
       "      <td>3359</td>\n",
       "      <td>497</td>\n",
       "      <td>268.04</td>\n",
       "      <td>2019-10-13 21:29:51</td>\n",
       "      <td>0.0</td>\n",
       "      <td>N</td>\n",
       "    </tr>\n",
       "    <tr>\n",
       "      <th>4</th>\n",
       "      <td>128221102</td>\n",
       "      <td>68648</td>\n",
       "      <td>D4619101300001</td>\n",
       "      <td>2019-10-13</td>\n",
       "      <td>40720</td>\n",
       "      <td>Subramani M S</td>\n",
       "      <td>8625</td>\n",
       "      <td>37086</td>\n",
       "      <td>Venkatesh</td>\n",
       "      <td>21498</td>\n",
       "      <td>...</td>\n",
       "      <td>NaN</td>\n",
       "      <td>N</td>\n",
       "      <td>NaN</td>\n",
       "      <td>0.603681</td>\n",
       "      <td>9</td>\n",
       "      <td>9</td>\n",
       "      <td>268.04</td>\n",
       "      <td>2019-10-13 15:32:46</td>\n",
       "      <td>0.0</td>\n",
       "      <td>N</td>\n",
       "    </tr>\n",
       "  </tbody>\n",
       "</table>\n",
       "<p>5 rows × 91 columns</p>\n",
       "</div>"
      ],
      "text/plain": [
       "          ID  WAYBILL_ID      WAYBILL_NO     DUTY_DT  COND_ID      COND_NAME  \\\n",
       "0  128221084       68648  D4619101300001  2019-10-13    40720  Subramani M S   \n",
       "1  128221088       68648  D4619101300001  2019-10-13    40720  Subramani M S   \n",
       "2  128221091       68648  D4619101300001  2019-10-13    40720  Subramani M S   \n",
       "3  128221097       68648  D4619101300001  2019-10-13    40720  Subramani M S   \n",
       "4  128221102       68648  D4619101300001  2019-10-13    40720  Subramani M S   \n",
       "\n",
       "   COND_TOKEN_NO  DRIVER_ID DRIVER_NAME  DRIVER_TOKEN_NO  ... TRIP_END_TIME  \\\n",
       "0           8625      37086  Venkatesh             21498  ...           NaN   \n",
       "1           8625      37086  Venkatesh             21498  ...           NaN   \n",
       "2           8625      37086  Venkatesh             21498  ...           NaN   \n",
       "3           8625      37086  Venkatesh             21498  ...           NaN   \n",
       "4           8625      37086  Venkatesh             21498  ...           NaN   \n",
       "\n",
       "  TRIP_CANCEL TRIP_CANCEL_TIME  DIST_TRAVELLED exp_packet act_packet  \\\n",
       "0           N              NaN       31.840099        625        438   \n",
       "1           N              NaN        0.000000          0          0   \n",
       "2           N              NaN       28.934273        506        327   \n",
       "3           N              NaN       39.712216       3359        497   \n",
       "4           N              NaN        0.603681          9          9   \n",
       "\n",
       "  sch_travel_dist  act_trip_start_time  cancel_km  cancel_status  \n",
       "0          268.04  2019-10-13 19:11:26        0.0              N  \n",
       "1          268.04  2019-10-13 15:32:06        0.0              N  \n",
       "2          268.04  2019-10-14 10:33:51        0.0              N  \n",
       "3          268.04  2019-10-13 21:29:51        0.0              N  \n",
       "4          268.04  2019-10-13 15:32:46        0.0              N  \n",
       "\n",
       "[5 rows x 91 columns]"
      ]
     },
     "execution_count": 362,
     "metadata": {},
     "output_type": "execute_result"
    }
   ],
   "source": [
    "waybill_df = pd.read_csv(r\"../Datasets/waybill.csv\")\n",
    "waybill_df.head()"
   ]
  },
  {
   "cell_type": "code",
   "execution_count": 364,
   "id": "bdd74714",
   "metadata": {},
   "outputs": [],
   "source": [
    "waybill_df.columns\n",
    "columns = ['ID','DEVICE_ID','ROUTE_ID']\n",
    "waybill_df = waybill_df[columns]"
   ]
  },
  {
   "cell_type": "code",
   "execution_count": 376,
   "id": "5b8dfb7f",
   "metadata": {},
   "outputs": [
    {
     "data": {
      "text/plain": [
       "4137"
      ]
     },
     "execution_count": 376,
     "metadata": {},
     "output_type": "execute_result"
    }
   ],
   "source": [
    "# Check the number of route_id in waybill_df present in mergerd_busstops_routepoints\n",
    "waybill_df[waybill_df['ROUTE_ID'].isin(mergerd_busstops_routepoints['route_id'])]['ROUTE_ID'].nunique()"
   ]
  },
  {
   "cell_type": "code",
   "execution_count": 369,
   "id": "93444f03",
   "metadata": {},
   "outputs": [],
   "source": [
    "# Find the route corrsponding to the DEVICE_ID == 150218177\n",
    "routes = waybill_df[waybill_df['DEVICE_ID'] == 150218177]['ROUTE_ID'].unique()"
   ]
  },
  {
   "cell_type": "code",
   "execution_count": 378,
   "id": "2fffc92c",
   "metadata": {},
   "outputs": [
    {
     "name": "stdout",
     "output_type": "stream",
     "text": [
      "16215\n",
      "16215\n",
      "41261\n",
      "41261\n",
      "41261\n",
      "41261\n",
      "41261\n",
      "41261\n",
      "41272\n",
      "41272\n",
      "41272\n",
      "41272\n",
      "41272\n",
      "41272\n"
     ]
    }
   ],
   "source": [
    "# Plot the map in folium with respect to DEVICE_ID == 150218177 in  and route_id in routes\n",
    "m = folium.Map(location=[12.9716,77.5946],zoom_start=12)\n",
    "for index,row in mergerd_busstops_routepoints.iterrows():\n",
    "    if row['route_id'] in routes:\n",
    "        print(row['route_id'])\n",
    "        folium.Marker([row['origin_lat'],row['origin_long']],radius=0.01,color='red',fill=True).add_to(m)\n",
    "        folium.PolyLine([[row['origin_lat'],row['origin_long']],[row['destination_lat'],row['destination_long']]],color='blue').add_to(m)\n",
    "        folium.Marker([row['destination_lat'],row['destination_long']],radius=0.01,color='red',fill=True).add_to(m)\n",
    "for index,row in gps_df_bus1.iterrows():\n",
    "    folium.CircleMarker([row['LAT'],row['LONGITUDE']],radius=0.01,color='blue',fill=True).add_to(m)\n",
    "m.save('route.html')"
   ]
  },
  {
   "cell_type": "code",
   "execution_count": 373,
   "id": "2fabff36",
   "metadata": {},
   "outputs": [
    {
     "data": {
      "text/plain": [
       "array([41261, 16215, 41272, 43801, 42489, 42493], dtype=int64)"
      ]
     },
     "execution_count": 373,
     "metadata": {},
     "output_type": "execute_result"
    }
   ],
   "source": [
    "routes"
   ]
  },
  {
   "cell_type": "code",
   "execution_count": 377,
   "id": "1ef2a21c18c5f108",
   "metadata": {
    "ExecuteTime": {
     "end_time": "2023-11-05T17:55:07.895038400Z",
     "start_time": "2023-11-05T17:55:03.523254Z"
    },
    "collapsed": false
   },
   "outputs": [],
   "source": [
    "# Plot the gps pings present in gps_df_bus1 as circular marker and origin lat and origin long as red marker from merged_busstops_routepoints as marker\n",
    "m = folium.Map(location=[12.9716,77.5946],zoom_start=12)\n",
    "for idex,row in mergerd_busstops_routepoints.iterrows():\n",
    "    if idex in gps_df_bus1['segment_id'].unique():\n",
    "        folium.Marker([row['origin_lat'],row['origin_long']],popup=row['route_id'],icon=folium.Icon(color='red')).add_to(m)\n",
    "        folium.Marker([row['destination_lat'],row['destination_long']],popup=row['route_id'],icon=folium.Icon(color='red')).add_to(m)\n",
    "        folium.PolyLine([[row['origin_lat'],row['origin_long']],[row['destination_lat'],row['destination_long']]],color='red').add_to(m)\n",
    "    # folium.Marker([row['origin_lat'],row['origin_long']],popup=row['route_id'],icon=folium.Icon(color='red')).add_to(m)\n",
    "for index,row in gps_df_bus1.iterrows():\n",
    "    folium.CircleMarker([row['LAT'],row['LONGITUDE']],radius=0.01,color='blue',fill=True).add_to(m)\n",
    "\n",
    "m.save('bus1.html')\n",
    "    "
   ]
  },
  {
   "cell_type": "code",
   "execution_count": null,
   "id": "e3284deb",
   "metadata": {},
   "outputs": [],
   "source": [
    "# Get the stops cooresponding to the route_id == 1078\n",
    "stops = stop_times_df.loc[stop_times_df['route_id'] == 1078,'bus_stop_id']\n",
    "# Merge the stops_df with stops on bus_stop_id \n",
    "stops = pd.merge(stops,stops_df[['bus_stop_id','latitude_current','longitude_current']],on='bus_stop_id')"
   ]
  },
  {
   "cell_type": "code",
   "execution_count": 290,
   "id": "bb4a20a1932cb87d",
   "metadata": {
    "ExecuteTime": {
     "end_time": "2023-11-05T14:11:50.841827900Z",
     "start_time": "2023-11-05T14:11:50.778363100Z"
    },
    "collapsed": false
   },
   "outputs": [],
   "source": [
    "# Plot the stop_lat_long using Folium\n",
    "import folium\n",
    "m = folium.Map(location=[12.9716,77.5946],zoom_start=12)\n",
    "lat_list = stops['latitude_current'].tolist()\n",
    "long_list = stops['longitude_current'].tolist()\n",
    "for i in range(len(lat_list)-1):\n",
    "    folium.Marker([lat_list[i],long_list[i]],icon=folium.Icon(color='blue')).add_to(m)\n",
    "    folium.PolyLine([[lat_list[i],long_list[i]],[lat_list[i+1],long_list[i+1]]],color='red').add_to(m)       \n",
    "# Save the map as html file\n",
    "m.save('stops_full.html')"
   ]
  },
  {
   "cell_type": "code",
   "execution_count": null,
   "id": "b2eeada474d94603",
   "metadata": {
    "ExecuteTime": {
     "end_time": "2023-11-05T11:30:42.272061100Z",
     "start_time": "2023-11-05T11:30:36.401365900Z"
    },
    "collapsed": false
   },
   "outputs": [],
   "source": [
    "# Plot the gps pings of DEVICE_ID == 150211826\n",
    "m = folium.Map(location=[12.9716,77.5946],zoom_start=12)\n",
    "for index,row in gps_df.loc[gps_df['DEVICE_ID'] == 150218012,:].iterrows():\n",
    "    folium.Marker([row['LAT'],row['LONGITUDE']],popup=row['DEVICE_ID']).add_to(m)\n",
    "\n",
    "m.save('gps.html')"
   ]
  },
  {
   "cell_type": "code",
   "execution_count": null,
   "id": "9d5af1b85b895b1",
   "metadata": {
    "ExecuteTime": {
     "end_time": "2023-11-05T11:30:42.322356900Z",
     "start_time": "2023-11-05T11:30:42.272061100Z"
    },
    "collapsed": false
   },
   "outputs": [],
   "source": [
    "gps_df.loc[gps_df['DEVICE_ID'] == 150211826,:].count()"
   ]
  },
  {
   "cell_type": "code",
   "execution_count": null,
   "id": "a73af3a202787f9c",
   "metadata": {
    "ExecuteTime": {
     "end_time": "2023-11-05T11:24:14.515900700Z",
     "start_time": "2023-11-05T11:24:14.486224100Z"
    },
    "collapsed": false
   },
   "outputs": [],
   "source": [
    "gps_df.DEVICE_ID.unique()"
   ]
  }
 ],
 "metadata": {
  "kernelspec": {
   "display_name": "Python 3",
   "language": "python",
   "name": "python3"
  },
  "language_info": {
   "codemirror_mode": {
    "name": "ipython",
    "version": 3
   },
   "file_extension": ".py",
   "mimetype": "text/x-python",
   "name": "python",
   "nbconvert_exporter": "python",
   "pygments_lexer": "ipython3",
   "version": "3.11.6"
  }
 },
 "nbformat": 4,
 "nbformat_minor": 5
}
