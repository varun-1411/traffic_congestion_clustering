{
 "cells": [
  {
   "cell_type": "code",
   "execution_count": 280,
   "id": "initial_id",
   "metadata": {
    "collapsed": true,
    "ExecuteTime": {
     "end_time": "2023-11-05T17:54:35.578617900Z",
     "start_time": "2023-11-05T17:54:35.562987600Z"
    }
   },
   "outputs": [],
   "source": [
    "import pandas as pd\n",
    "import matplotlib.pyplot as plt\n",
    "from haversine import haversine_vector, Unit\n",
    "import osmnx as ox\n",
    "import pickle\n",
    "import os\n",
    "from tqdm import tqdm\n",
    "import folium\n",
    "from rtree import index"
   ]
  },
  {
   "cell_type": "code",
   "execution_count": 173,
   "outputs": [
    {
     "name": "stderr",
     "output_type": "stream",
     "text": [
      "C:\\Users\\Adarsh\\AppData\\Local\\Temp\\ipykernel_39468\\2268917618.py:1: DtypeWarning: Columns (6,16,17,18,19,21,22,23,25,26,27,28,29,32,35,36,40,53,58,59,61) have mixed types. Specify dtype option on import or set low_memory=False.\n",
      "  stops_df = pd.read_csv(r\"../Dataset/bus_stop.csv\")\n"
     ]
    }
   ],
   "source": [
    "stops_df = pd.read_csv(r\"../Dataset/bus_stop.csv\")"
   ],
   "metadata": {
    "collapsed": false,
    "ExecuteTime": {
     "end_time": "2023-11-05T15:14:23.672774900Z",
     "start_time": "2023-11-05T15:14:23.484412500Z"
    }
   },
   "id": "b5f5c444c3a6c31f"
  },
  {
   "cell_type": "code",
   "execution_count": 221,
   "outputs": [],
   "source": [
    "gps_df = pd.read_csv(r\"../Dataset/GPS.csv\",nrows=1000000)"
   ],
   "metadata": {
    "collapsed": false,
    "ExecuteTime": {
     "end_time": "2023-11-05T17:32:55.719335100Z",
     "start_time": "2023-11-05T17:32:55.265546300Z"
    }
   },
   "id": "c0b871044e81286d"
  },
  {
   "cell_type": "code",
   "execution_count": 222,
   "outputs": [
    {
     "name": "stdout",
     "output_type": "stream",
     "text": [
      "1000000\n"
     ]
    },
    {
     "data": {
      "text/plain": "    DEVICE_ID             IST_DATE        LAT  LONGITUDE\n0   181221399  2000-10-13 06:30:00   0.000000  77.701782\n1   181221399  2000-10-13 06:30:00   0.000000  77.701782\n2   181221399  2000-10-13 06:30:00   0.000000  77.701782\n3  9999572791  2019-10-13 00:15:18  13.029256  77.593023\n4  9999572791  2019-10-13 00:15:33  13.029256  77.593023",
      "text/html": "<div>\n<style scoped>\n    .dataframe tbody tr th:only-of-type {\n        vertical-align: middle;\n    }\n\n    .dataframe tbody tr th {\n        vertical-align: top;\n    }\n\n    .dataframe thead th {\n        text-align: right;\n    }\n</style>\n<table border=\"1\" class=\"dataframe\">\n  <thead>\n    <tr style=\"text-align: right;\">\n      <th></th>\n      <th>DEVICE_ID</th>\n      <th>IST_DATE</th>\n      <th>LAT</th>\n      <th>LONGITUDE</th>\n    </tr>\n  </thead>\n  <tbody>\n    <tr>\n      <th>0</th>\n      <td>181221399</td>\n      <td>2000-10-13 06:30:00</td>\n      <td>0.000000</td>\n      <td>77.701782</td>\n    </tr>\n    <tr>\n      <th>1</th>\n      <td>181221399</td>\n      <td>2000-10-13 06:30:00</td>\n      <td>0.000000</td>\n      <td>77.701782</td>\n    </tr>\n    <tr>\n      <th>2</th>\n      <td>181221399</td>\n      <td>2000-10-13 06:30:00</td>\n      <td>0.000000</td>\n      <td>77.701782</td>\n    </tr>\n    <tr>\n      <th>3</th>\n      <td>9999572791</td>\n      <td>2019-10-13 00:15:18</td>\n      <td>13.029256</td>\n      <td>77.593023</td>\n    </tr>\n    <tr>\n      <th>4</th>\n      <td>9999572791</td>\n      <td>2019-10-13 00:15:33</td>\n      <td>13.029256</td>\n      <td>77.593023</td>\n    </tr>\n  </tbody>\n</table>\n</div>"
     },
     "execution_count": 222,
     "metadata": {},
     "output_type": "execute_result"
    }
   ],
   "source": [
    "print(len(gps_df))\n",
    "gps_df.head()"
   ],
   "metadata": {
    "collapsed": false,
    "ExecuteTime": {
     "end_time": "2023-11-05T17:32:55.781910700Z",
     "start_time": "2023-11-05T17:32:55.750765300Z"
    }
   },
   "id": "cd02695e7b4ba920"
  },
  {
   "cell_type": "code",
   "execution_count": 223,
   "outputs": [],
   "source": [
    "# Drop duplicate based on DEVICE_ID, IST_DATE, LAT and LONGITUDE\n",
    "gps_df = gps_df.drop_duplicates(subset=['DEVICE_ID','IST_DATE','LAT','LONGITUDE'])"
   ],
   "metadata": {
    "collapsed": false,
    "ExecuteTime": {
     "end_time": "2023-11-05T17:32:57.331646700Z",
     "start_time": "2023-11-05T17:32:57.017850200Z"
    }
   },
   "id": "d3520e27597bd953"
  },
  {
   "cell_type": "code",
   "execution_count": 224,
   "outputs": [
    {
     "name": "stdout",
     "output_type": "stream",
     "text": [
      "949351\n"
     ]
    },
    {
     "data": {
      "text/plain": "    DEVICE_ID             IST_DATE        LAT  LONGITUDE\n3  9999572791  2019-10-13 00:15:18  13.029256  77.593023\n4  9999572791  2019-10-13 00:15:33  13.029256  77.593023\n5  9999572791  2019-10-13 00:15:46  13.029256  77.593023\n6  9999572791  2019-10-13 00:16:03  13.029256  77.593023\n7  9999572791  2019-10-13 00:16:18  13.029299  77.592891",
      "text/html": "<div>\n<style scoped>\n    .dataframe tbody tr th:only-of-type {\n        vertical-align: middle;\n    }\n\n    .dataframe tbody tr th {\n        vertical-align: top;\n    }\n\n    .dataframe thead th {\n        text-align: right;\n    }\n</style>\n<table border=\"1\" class=\"dataframe\">\n  <thead>\n    <tr style=\"text-align: right;\">\n      <th></th>\n      <th>DEVICE_ID</th>\n      <th>IST_DATE</th>\n      <th>LAT</th>\n      <th>LONGITUDE</th>\n    </tr>\n  </thead>\n  <tbody>\n    <tr>\n      <th>3</th>\n      <td>9999572791</td>\n      <td>2019-10-13 00:15:18</td>\n      <td>13.029256</td>\n      <td>77.593023</td>\n    </tr>\n    <tr>\n      <th>4</th>\n      <td>9999572791</td>\n      <td>2019-10-13 00:15:33</td>\n      <td>13.029256</td>\n      <td>77.593023</td>\n    </tr>\n    <tr>\n      <th>5</th>\n      <td>9999572791</td>\n      <td>2019-10-13 00:15:46</td>\n      <td>13.029256</td>\n      <td>77.593023</td>\n    </tr>\n    <tr>\n      <th>6</th>\n      <td>9999572791</td>\n      <td>2019-10-13 00:16:03</td>\n      <td>13.029256</td>\n      <td>77.593023</td>\n    </tr>\n    <tr>\n      <th>7</th>\n      <td>9999572791</td>\n      <td>2019-10-13 00:16:18</td>\n      <td>13.029299</td>\n      <td>77.592891</td>\n    </tr>\n  </tbody>\n</table>\n</div>"
     },
     "execution_count": 224,
     "metadata": {},
     "output_type": "execute_result"
    }
   ],
   "source": [
    "# Filter the rows which LAT and LONGITUDE are between 12 and 14 and 77 and 79\n",
    "stops_df = stops_df[(stops_df['latitude_current'] > 12) & (stops_df['latitude_current'] < 14) & (stops_df['longitude_current'] > 77) & (stops_df['longitude_current'] < 79)]\n",
    "gps_df = gps_df[(gps_df['LAT'] > 12) & (gps_df['LAT'] < 14) & (gps_df['LONGITUDE'] > 77) & (gps_df['LONGITUDE'] < 79)]\n",
    "print(len(gps_df))\n",
    "gps_df.head()"
   ],
   "metadata": {
    "collapsed": false,
    "ExecuteTime": {
     "end_time": "2023-11-05T17:32:57.414931600Z",
     "start_time": "2023-11-05T17:32:57.337580900Z"
    }
   },
   "id": "836d5faf87b54bb6"
  },
  {
   "cell_type": "code",
   "execution_count": 225,
   "outputs": [],
   "source": [
    "# Plot the data point based on year, Day and date\n",
    "gps_df['IST_DATE'] = pd.to_datetime(gps_df['IST_DATE'])\n",
    "gps_df['YEAR'] = gps_df['IST_DATE'].dt.year\n",
    "gps_df['DAY'] = gps_df['IST_DATE'].dt.dayofweek\n",
    "gps_df['DATE'] = gps_df['IST_DATE'].dt.date\n",
    "gps_df['TIME'] = gps_df['IST_DATE'].dt.time"
   ],
   "metadata": {
    "collapsed": false,
    "ExecuteTime": {
     "end_time": "2023-11-05T17:32:59.391961900Z",
     "start_time": "2023-11-05T17:32:58.689998600Z"
    }
   },
   "id": "1a28ddd5002b5c45"
  },
  {
   "cell_type": "code",
   "execution_count": 226,
   "outputs": [
    {
     "data": {
      "text/plain": "DATE\n2019-10-13    949351\nName: count, dtype: int64"
     },
     "execution_count": 226,
     "metadata": {},
     "output_type": "execute_result"
    }
   ],
   "source": [
    "gps_df['DATE'].value_counts()"
   ],
   "metadata": {
    "collapsed": false,
    "ExecuteTime": {
     "end_time": "2023-11-05T17:33:00.441944500Z",
     "start_time": "2023-11-05T17:33:00.274984200Z"
    }
   },
   "id": "36d8cbac53ee49f"
  },
  {
   "cell_type": "code",
   "execution_count": 227,
   "outputs": [],
   "source": [
    "# Remove the data points which are not in 2019\n",
    "gps_df = gps_df[gps_df['YEAR'] == 2019]"
   ],
   "metadata": {
    "collapsed": false,
    "ExecuteTime": {
     "end_time": "2023-11-05T17:33:01.764421100Z",
     "start_time": "2023-11-05T17:33:01.642658900Z"
    }
   },
   "id": "31542f2a751040fe"
  },
  {
   "cell_type": "code",
   "execution_count": 228,
   "outputs": [],
   "source": [
    "# Filter with respect to DEVICE_ID which having more than 1000 data points\n",
    "gps_df = gps_df.groupby('DEVICE_ID').filter(lambda x: len(x) > 100)"
   ],
   "metadata": {
    "collapsed": false,
    "ExecuteTime": {
     "end_time": "2023-11-05T17:33:02.448622600Z",
     "start_time": "2023-11-05T17:33:01.748791200Z"
    }
   },
   "id": "96b75bb039594e8a"
  },
  {
   "cell_type": "code",
   "execution_count": 229,
   "outputs": [
    {
     "data": {
      "text/plain": "      DEVICE_ID            IST_DATE        LAT  LONGITUDE  YEAR  DAY  \\\n2916  150211826 2019-10-13 00:00:03  13.043971  77.594109  2019    6   \n4050  150211826 2019-10-13 00:00:13  13.043971  77.594109  2019    6   \n5156  150211826 2019-10-13 00:00:23  13.043971  77.594109  2019    6   \n6241  150211826 2019-10-13 00:00:33  13.043971  77.594109  2019    6   \n7208  150211826 2019-10-13 00:00:43  13.043971  77.594109  2019    6   \n\n            DATE      TIME  \n2916  2019-10-13  00:00:03  \n4050  2019-10-13  00:00:13  \n5156  2019-10-13  00:00:23  \n6241  2019-10-13  00:00:33  \n7208  2019-10-13  00:00:43  ",
      "text/html": "<div>\n<style scoped>\n    .dataframe tbody tr th:only-of-type {\n        vertical-align: middle;\n    }\n\n    .dataframe tbody tr th {\n        vertical-align: top;\n    }\n\n    .dataframe thead th {\n        text-align: right;\n    }\n</style>\n<table border=\"1\" class=\"dataframe\">\n  <thead>\n    <tr style=\"text-align: right;\">\n      <th></th>\n      <th>DEVICE_ID</th>\n      <th>IST_DATE</th>\n      <th>LAT</th>\n      <th>LONGITUDE</th>\n      <th>YEAR</th>\n      <th>DAY</th>\n      <th>DATE</th>\n      <th>TIME</th>\n    </tr>\n  </thead>\n  <tbody>\n    <tr>\n      <th>2916</th>\n      <td>150211826</td>\n      <td>2019-10-13 00:00:03</td>\n      <td>13.043971</td>\n      <td>77.594109</td>\n      <td>2019</td>\n      <td>6</td>\n      <td>2019-10-13</td>\n      <td>00:00:03</td>\n    </tr>\n    <tr>\n      <th>4050</th>\n      <td>150211826</td>\n      <td>2019-10-13 00:00:13</td>\n      <td>13.043971</td>\n      <td>77.594109</td>\n      <td>2019</td>\n      <td>6</td>\n      <td>2019-10-13</td>\n      <td>00:00:13</td>\n    </tr>\n    <tr>\n      <th>5156</th>\n      <td>150211826</td>\n      <td>2019-10-13 00:00:23</td>\n      <td>13.043971</td>\n      <td>77.594109</td>\n      <td>2019</td>\n      <td>6</td>\n      <td>2019-10-13</td>\n      <td>00:00:23</td>\n    </tr>\n    <tr>\n      <th>6241</th>\n      <td>150211826</td>\n      <td>2019-10-13 00:00:33</td>\n      <td>13.043971</td>\n      <td>77.594109</td>\n      <td>2019</td>\n      <td>6</td>\n      <td>2019-10-13</td>\n      <td>00:00:33</td>\n    </tr>\n    <tr>\n      <th>7208</th>\n      <td>150211826</td>\n      <td>2019-10-13 00:00:43</td>\n      <td>13.043971</td>\n      <td>77.594109</td>\n      <td>2019</td>\n      <td>6</td>\n      <td>2019-10-13</td>\n      <td>00:00:43</td>\n    </tr>\n  </tbody>\n</table>\n</div>"
     },
     "execution_count": 229,
     "metadata": {},
     "output_type": "execute_result"
    }
   ],
   "source": [
    "# Sort the dataframe by DEVICE_ID and then by IST_DATE\n",
    "gps_df = gps_df.sort_values(by=['DEVICE_ID','IST_DATE'])\n",
    "gps_df.head()"
   ],
   "metadata": {
    "collapsed": false,
    "ExecuteTime": {
     "end_time": "2023-11-05T17:33:03.084120300Z",
     "start_time": "2023-11-05T17:33:02.486259300Z"
    }
   },
   "id": "4106d9dea507f390"
  },
  {
   "cell_type": "code",
   "execution_count": 230,
   "outputs": [
    {
     "data": {
      "text/plain": "      DEVICE_ID            IST_DATE        LAT  LONGITUDE  YEAR  DAY  \\\n2916  150211826 2019-10-13 00:00:03  13.043971  77.594109  2019    6   \n4050  150211826 2019-10-13 00:00:13  13.043971  77.594109  2019    6   \n5156  150211826 2019-10-13 00:00:23  13.043971  77.594109  2019    6   \n6241  150211826 2019-10-13 00:00:33  13.043971  77.594109  2019    6   \n7208  150211826 2019-10-13 00:00:43  13.043971  77.594109  2019    6   \n\n            DATE      TIME   PREV_LAT  PREV_LONGITUDE       PREV_IST_DATE  \n2916  2019-10-13  00:00:03        NaN             NaN                 NaT  \n4050  2019-10-13  00:00:13  13.043971       77.594109 2019-10-13 00:00:03  \n5156  2019-10-13  00:00:23  13.043971       77.594109 2019-10-13 00:00:13  \n6241  2019-10-13  00:00:33  13.043971       77.594109 2019-10-13 00:00:23  \n7208  2019-10-13  00:00:43  13.043971       77.594109 2019-10-13 00:00:33  ",
      "text/html": "<div>\n<style scoped>\n    .dataframe tbody tr th:only-of-type {\n        vertical-align: middle;\n    }\n\n    .dataframe tbody tr th {\n        vertical-align: top;\n    }\n\n    .dataframe thead th {\n        text-align: right;\n    }\n</style>\n<table border=\"1\" class=\"dataframe\">\n  <thead>\n    <tr style=\"text-align: right;\">\n      <th></th>\n      <th>DEVICE_ID</th>\n      <th>IST_DATE</th>\n      <th>LAT</th>\n      <th>LONGITUDE</th>\n      <th>YEAR</th>\n      <th>DAY</th>\n      <th>DATE</th>\n      <th>TIME</th>\n      <th>PREV_LAT</th>\n      <th>PREV_LONGITUDE</th>\n      <th>PREV_IST_DATE</th>\n    </tr>\n  </thead>\n  <tbody>\n    <tr>\n      <th>2916</th>\n      <td>150211826</td>\n      <td>2019-10-13 00:00:03</td>\n      <td>13.043971</td>\n      <td>77.594109</td>\n      <td>2019</td>\n      <td>6</td>\n      <td>2019-10-13</td>\n      <td>00:00:03</td>\n      <td>NaN</td>\n      <td>NaN</td>\n      <td>NaT</td>\n    </tr>\n    <tr>\n      <th>4050</th>\n      <td>150211826</td>\n      <td>2019-10-13 00:00:13</td>\n      <td>13.043971</td>\n      <td>77.594109</td>\n      <td>2019</td>\n      <td>6</td>\n      <td>2019-10-13</td>\n      <td>00:00:13</td>\n      <td>13.043971</td>\n      <td>77.594109</td>\n      <td>2019-10-13 00:00:03</td>\n    </tr>\n    <tr>\n      <th>5156</th>\n      <td>150211826</td>\n      <td>2019-10-13 00:00:23</td>\n      <td>13.043971</td>\n      <td>77.594109</td>\n      <td>2019</td>\n      <td>6</td>\n      <td>2019-10-13</td>\n      <td>00:00:23</td>\n      <td>13.043971</td>\n      <td>77.594109</td>\n      <td>2019-10-13 00:00:13</td>\n    </tr>\n    <tr>\n      <th>6241</th>\n      <td>150211826</td>\n      <td>2019-10-13 00:00:33</td>\n      <td>13.043971</td>\n      <td>77.594109</td>\n      <td>2019</td>\n      <td>6</td>\n      <td>2019-10-13</td>\n      <td>00:00:33</td>\n      <td>13.043971</td>\n      <td>77.594109</td>\n      <td>2019-10-13 00:00:23</td>\n    </tr>\n    <tr>\n      <th>7208</th>\n      <td>150211826</td>\n      <td>2019-10-13 00:00:43</td>\n      <td>13.043971</td>\n      <td>77.594109</td>\n      <td>2019</td>\n      <td>6</td>\n      <td>2019-10-13</td>\n      <td>00:00:43</td>\n      <td>13.043971</td>\n      <td>77.594109</td>\n      <td>2019-10-13 00:00:33</td>\n    </tr>\n  </tbody>\n</table>\n</div>"
     },
     "execution_count": 230,
     "metadata": {},
     "output_type": "execute_result"
    }
   ],
   "source": [
    "# Shift the rows by 1 and get the previous row's LAT and LONGITUDE and IST_DATE\n",
    "gps_df['PREV_LAT'] = gps_df.groupby(['DEVICE_ID'])['LAT'].shift(1)\n",
    "gps_df['PREV_LONGITUDE'] = gps_df.groupby(['DEVICE_ID'])['LONGITUDE'].shift(1)\n",
    "gps_df['PREV_IST_DATE'] = gps_df.groupby(['DEVICE_ID'])['IST_DATE'].shift(1)\n",
    "gps_df.head()"
   ],
   "metadata": {
    "collapsed": false,
    "ExecuteTime": {
     "end_time": "2023-11-05T17:33:03.272026100Z",
     "start_time": "2023-11-05T17:33:03.115380300Z"
    }
   },
   "id": "22c94ebc602feea2"
  },
  {
   "cell_type": "code",
   "execution_count": 231,
   "outputs": [],
   "source": [
    "# Drop the na values\n",
    "gps_df = gps_df.dropna()"
   ],
   "metadata": {
    "collapsed": false,
    "ExecuteTime": {
     "end_time": "2023-11-05T17:33:05.151810900Z",
     "start_time": "2023-11-05T17:33:04.860881600Z"
    }
   },
   "id": "c41e214a8295e529"
  },
  {
   "cell_type": "code",
   "execution_count": 232,
   "outputs": [],
   "source": [
    "# Calculate the distance between the current row and the previous row using haversine formula\n",
    "gps_df['DISTANCE'] = haversine_vector(gps_df[['LAT','LONGITUDE']],gps_df[['PREV_LAT','PREV_LONGITUDE']],Unit.METERS)"
   ],
   "metadata": {
    "collapsed": false,
    "ExecuteTime": {
     "end_time": "2023-11-05T17:33:06.481065600Z",
     "start_time": "2023-11-05T17:33:06.353789400Z"
    }
   },
   "id": "52da9167fbe954c9"
  },
  {
   "cell_type": "code",
   "execution_count": 233,
   "outputs": [],
   "source": [
    "# Calculate the time difference between the current row and the previous row\n",
    "gps_df['TIME_DIFF'] = (pd.to_datetime(gps_df['IST_DATE']) - pd.to_datetime(gps_df['PREV_IST_DATE'])).dt.total_seconds()"
   ],
   "metadata": {
    "collapsed": false,
    "ExecuteTime": {
     "end_time": "2023-11-05T17:33:07.545458400Z",
     "start_time": "2023-11-05T17:33:07.465287300Z"
    }
   },
   "id": "32e781fc40785c39"
  },
  {
   "cell_type": "code",
   "execution_count": 234,
   "outputs": [
    {
     "data": {
      "text/plain": "<Figure size 640x480 with 1 Axes>",
      "image/png": "[encoded data removed]"
     },
     "metadata": {},
     "output_type": "display_data"
    }
   ],
   "source": [
    "# PLot the distance and time difference\n",
    "plt.scatter(gps_df['DISTANCE'],gps_df['TIME_DIFF'])\n",
    "plt.xlabel('Distance')\n",
    "plt.ylabel('Time Difference')\n",
    "plt.show()"
   ],
   "metadata": {
    "collapsed": false,
    "ExecuteTime": {
     "end_time": "2023-11-05T17:33:11.086444400Z",
     "start_time": "2023-11-05T17:33:08.885869300Z"
    }
   },
   "id": "4cf846f453e1584a"
  },
  {
   "cell_type": "code",
   "execution_count": 235,
   "outputs": [
    {
     "data": {
      "text/plain": "<Figure size 640x480 with 1 Axes>",
      "image/png": "[encoded data removed]"
     },
     "metadata": {},
     "output_type": "display_data"
    }
   ],
   "source": [
    "gps_df['SPEED'] = gps_df['DISTANCE'] / (gps_df['TIME_DIFF'] +0.0001) *18/5\n",
    "\n",
    "# Plot the scatter plot speed with respect index\n",
    "plt.scatter(gps_df.index,gps_df['SPEED'])\n",
    "plt.ylim(0,5)\n",
    "plt.xlabel('Index')\n",
    "plt.ylabel('Speed')\n",
    "plt.show()"
   ],
   "metadata": {
    "collapsed": false,
    "ExecuteTime": {
     "end_time": "2023-11-05T17:33:12.609418600Z",
     "start_time": "2023-11-05T17:33:11.118103700Z"
    }
   },
   "id": "30a09d8fb6020e6c"
  },
  {
   "cell_type": "code",
   "execution_count": 236,
   "outputs": [
    {
     "data": {
      "text/plain": "SPEED\n0.040030    31683\n0.040030    21369\n0.080060     4692\n0.040030     4033\n0.044478     2372\n            ...  \n0.606563        1\n0.701421        1\n0.350741        1\n0.314616        1\n0.145019        1\nName: count, Length: 51155, dtype: int64"
     },
     "execution_count": 236,
     "metadata": {},
     "output_type": "execute_result"
    }
   ],
   "source": [
    "# Value counts of speed between 0 and 1\n",
    "gps_df[(gps_df['SPEED'] > 0) & (gps_df['SPEED'] < 1)]['SPEED'].value_counts()"
   ],
   "metadata": {
    "collapsed": false,
    "ExecuteTime": {
     "end_time": "2023-11-05T17:33:12.688108Z",
     "start_time": "2023-11-05T17:33:12.640821300Z"
    }
   },
   "id": "ef35188073cdddd"
  },
  {
   "cell_type": "code",
   "execution_count": 238,
   "outputs": [
    {
     "data": {
      "text/plain": "0.0"
     },
     "execution_count": 238,
     "metadata": {},
     "output_type": "execute_result"
    }
   ],
   "source": [
    "gps_df['SPEED'].min()"
   ],
   "metadata": {
    "collapsed": false,
    "ExecuteTime": {
     "end_time": "2023-11-05T17:33:30.104152200Z",
     "start_time": "2023-11-05T17:33:30.072937400Z"
    }
   },
   "id": "5c0ff4989291c83b"
  },
  {
   "cell_type": "code",
   "execution_count": 239,
   "outputs": [
    {
     "name": "stderr",
     "output_type": "stream",
     "text": [
      "100%|██████████| 663531/663531 [02:26<00:00, 4541.82it/s]\n"
     ]
    }
   ],
   "source": [
    "# reset the index\n",
    "gps_df = gps_df.reset_index(drop=True)\n",
    "\n",
    "# Add column stop_time and initialize it with 0\n",
    "gps_df['STOP_TIME'] = 0\n",
    "\n",
    "# Take the dataframe with speed 0\n",
    "gps_df0 = gps_df[gps_df['SPEED'] == 0]\n",
    "\n",
    "# # Iterate over the dataframe with speed 0 and add the time_diff with the previous rows STOP_TIME to the current row STOP_TIME\n",
    "prev_index = 0\n",
    "for index,row in tqdm(gps_df0.iterrows(),total=len(gps_df0)):\n",
    "    if index > 0 and row['DEVICE_ID'] == gps_df0.loc[prev_index,'DEVICE_ID']:\n",
    "        gps_df.loc[index,'STOP_TIME'] = gps_df.loc[index-1,'STOP_TIME'] + row['TIME_DIFF']\n",
    "    else:\n",
    "        gps_df.loc[index,'STOP_TIME'] = row['TIME_DIFF']\n",
    "    prev_index = index\n",
    "    \n"
   ],
   "metadata": {
    "collapsed": false,
    "ExecuteTime": {
     "end_time": "2023-11-05T17:36:03.043806200Z",
     "start_time": "2023-11-05T17:33:36.675093200Z"
    }
   },
   "id": "915489b490d956e6"
  },
  {
   "cell_type": "code",
   "execution_count": 240,
   "outputs": [
    {
     "data": {
      "text/plain": "663531"
     },
     "execution_count": 240,
     "metadata": {},
     "output_type": "execute_result"
    }
   ],
   "source": [
    "len(gps_df0)"
   ],
   "metadata": {
    "collapsed": false,
    "ExecuteTime": {
     "end_time": "2023-11-05T17:36:03.091101800Z",
     "start_time": "2023-11-05T17:36:03.080302100Z"
    }
   },
   "id": "8d603afe2f18c61a"
  },
  {
   "cell_type": "code",
   "execution_count": 241,
   "outputs": [],
   "source": [
    "st = gps_df.loc[gps_df['STOP_TIME'] > 600,['LAT','LONGITUDE']].groupby(['LAT','LONGITUDE']).count()\n",
    "st = st.reset_index()"
   ],
   "metadata": {
    "collapsed": false,
    "ExecuteTime": {
     "end_time": "2023-11-05T17:36:03.185683400Z",
     "start_time": "2023-11-05T17:36:03.091101800Z"
    }
   },
   "id": "d320e12343980035"
  },
  {
   "cell_type": "code",
   "execution_count": 242,
   "outputs": [
    {
     "data": {
      "text/plain": "443869"
     },
     "execution_count": 242,
     "metadata": {},
     "output_type": "execute_result"
    }
   ],
   "source": [
    "# Filter the gps_df with respect to STOP_TIME less than 600 and LAT and LONGITUDE are not in st\n",
    "gps_df = gps_df[gps_df['STOP_TIME'] < 600]\n",
    "\n",
    "gps_df = gps_df[~((gps_df['LAT'].isin(st['LAT'])) & (gps_df['LONGITUDE'].isin(st['LONGITUDE'])))]\n",
    "\n",
    "len(gps_df)\n"
   ],
   "metadata": {
    "collapsed": false,
    "ExecuteTime": {
     "end_time": "2023-11-05T17:36:03.408302200Z",
     "start_time": "2023-11-05T17:36:03.185683400Z"
    }
   },
   "id": "884a52e8fe9a9157"
  },
  {
   "cell_type": "code",
   "execution_count": 243,
   "outputs": [],
   "source": [
    "# Plot the st and stops_df on folium plot in different colours and as circular markers\n",
    "m = folium.Map(location=[12.9716,77.5946],zoom_start=12)\n",
    "for index,row in st.iterrows():\n",
    "    folium.CircleMarker([row['LAT'],row['LONGITUDE']],radius=0.01,color='red',fill=True).add_to(m)\n",
    "for index,row in stops_df.iterrows():\n",
    "    folium.CircleMarker([row['latitude_current'],row['longitude_current']],radius=0.01,color='blue',fill=True).add_to(m)\n",
    "m.save('stops.html')"
   ],
   "metadata": {
    "collapsed": false,
    "ExecuteTime": {
     "end_time": "2023-11-05T17:36:12.010772700Z",
     "start_time": "2023-11-05T17:36:03.408302200Z"
    }
   },
   "id": "78386d9c7c05ec5f"
  },
  {
   "cell_type": "code",
   "execution_count": 244,
   "outputs": [],
   "source": [
    "m = folium.Map(location=[12.9716,77.5946],zoom_start=12)\n",
    "for index,row in st.iterrows():\n",
    "    folium.CircleMarker([row['LAT'],row['LONGITUDE']],radius=0.01,color='red',fill=True).add_to(m)\n",
    "for index,row in gps_df.iterrows():\n",
    "    folium.CircleMarker([row['LAT'],row['LONGITUDE']],radius=0.01,color='blue',fill=True).add_to(m)\n",
    "m.save('pings.html')"
   ],
   "metadata": {
    "collapsed": false,
    "ExecuteTime": {
     "end_time": "2023-11-05T17:39:44.521532100Z",
     "start_time": "2023-11-05T17:36:12.010772700Z"
    }
   },
   "id": "4c68e5f06fb1d7f7"
  },
  {
   "cell_type": "code",
   "execution_count": 245,
   "outputs": [
    {
     "data": {
      "text/plain": "     DEVICE_ID            IST_DATE        LAT  LONGITUDE  YEAR  DAY  \\\n0    150211826 2019-10-13 00:00:13  13.043971  77.594109  2019    6   \n1    150211826 2019-10-13 00:00:23  13.043971  77.594109  2019    6   \n2    150211826 2019-10-13 00:00:33  13.043971  77.594109  2019    6   \n3    150211826 2019-10-13 00:00:43  13.043971  77.594109  2019    6   \n4    150211826 2019-10-13 00:00:53  13.043971  77.594109  2019    6   \n..         ...                 ...        ...        ...   ...  ...   \n116  150211826 2019-10-13 00:20:32  13.043591  77.594078  2019    6   \n117  150211826 2019-10-13 00:20:42  13.043591  77.594078  2019    6   \n118  150211826 2019-10-13 00:20:52  13.043591  77.594078  2019    6   \n119  150211826 2019-10-13 00:21:02  13.043591  77.594078  2019    6   \n134  150211826 2019-10-13 00:23:14  13.043615  77.594078  2019    6   \n\n           DATE      TIME   PREV_LAT  PREV_LONGITUDE       PREV_IST_DATE  \\\n0    2019-10-13  00:00:13  13.043971       77.594109 2019-10-13 00:00:03   \n1    2019-10-13  00:00:23  13.043971       77.594109 2019-10-13 00:00:13   \n2    2019-10-13  00:00:33  13.043971       77.594109 2019-10-13 00:00:23   \n3    2019-10-13  00:00:43  13.043971       77.594109 2019-10-13 00:00:33   \n4    2019-10-13  00:00:53  13.043971       77.594109 2019-10-13 00:00:43   \n..          ...       ...        ...             ...                 ...   \n116  2019-10-13  00:20:32  13.043591       77.594078 2019-10-13 00:20:22   \n117  2019-10-13  00:20:42  13.043591       77.594078 2019-10-13 00:20:32   \n118  2019-10-13  00:20:52  13.043591       77.594078 2019-10-13 00:20:42   \n119  2019-10-13  00:21:02  13.043591       77.594078 2019-10-13 00:20:52   \n134  2019-10-13  00:23:14  13.043615       77.594078 2019-10-13 00:23:12   \n\n     DISTANCE  TIME_DIFF  SPEED  STOP_TIME  \n0         0.0       10.0    0.0          0  \n1         0.0       10.0    0.0          0  \n2         0.0       10.0    0.0          0  \n3         0.0       10.0    0.0          0  \n4         0.0       10.0    0.0          0  \n..        ...        ...    ...        ...  \n116       0.0       10.0    0.0          0  \n117       0.0       10.0    0.0          0  \n118       0.0       10.0    0.0          0  \n119       0.0       10.0    0.0          0  \n134       0.0        2.0    0.0          0  \n\n[100 rows x 15 columns]",
      "text/html": "<div>\n<style scoped>\n    .dataframe tbody tr th:only-of-type {\n        vertical-align: middle;\n    }\n\n    .dataframe tbody tr th {\n        vertical-align: top;\n    }\n\n    .dataframe thead th {\n        text-align: right;\n    }\n</style>\n<table border=\"1\" class=\"dataframe\">\n  <thead>\n    <tr style=\"text-align: right;\">\n      <th></th>\n      <th>DEVICE_ID</th>\n      <th>IST_DATE</th>\n      <th>LAT</th>\n      <th>LONGITUDE</th>\n      <th>YEAR</th>\n      <th>DAY</th>\n      <th>DATE</th>\n      <th>TIME</th>\n      <th>PREV_LAT</th>\n      <th>PREV_LONGITUDE</th>\n      <th>PREV_IST_DATE</th>\n      <th>DISTANCE</th>\n      <th>TIME_DIFF</th>\n      <th>SPEED</th>\n      <th>STOP_TIME</th>\n    </tr>\n  </thead>\n  <tbody>\n    <tr>\n      <th>0</th>\n      <td>150211826</td>\n      <td>2019-10-13 00:00:13</td>\n      <td>13.043971</td>\n      <td>77.594109</td>\n      <td>2019</td>\n      <td>6</td>\n      <td>2019-10-13</td>\n      <td>00:00:13</td>\n      <td>13.043971</td>\n      <td>77.594109</td>\n      <td>2019-10-13 00:00:03</td>\n      <td>0.0</td>\n      <td>10.0</td>\n      <td>0.0</td>\n      <td>0</td>\n    </tr>\n    <tr>\n      <th>1</th>\n      <td>150211826</td>\n      <td>2019-10-13 00:00:23</td>\n      <td>13.043971</td>\n      <td>77.594109</td>\n      <td>2019</td>\n      <td>6</td>\n      <td>2019-10-13</td>\n      <td>00:00:23</td>\n      <td>13.043971</td>\n      <td>77.594109</td>\n      <td>2019-10-13 00:00:13</td>\n      <td>0.0</td>\n      <td>10.0</td>\n      <td>0.0</td>\n      <td>0</td>\n    </tr>\n    <tr>\n      <th>2</th>\n      <td>150211826</td>\n      <td>2019-10-13 00:00:33</td>\n      <td>13.043971</td>\n      <td>77.594109</td>\n      <td>2019</td>\n      <td>6</td>\n      <td>2019-10-13</td>\n      <td>00:00:33</td>\n      <td>13.043971</td>\n      <td>77.594109</td>\n      <td>2019-10-13 00:00:23</td>\n      <td>0.0</td>\n      <td>10.0</td>\n      <td>0.0</td>\n      <td>0</td>\n    </tr>\n    <tr>\n      <th>3</th>\n      <td>150211826</td>\n      <td>2019-10-13 00:00:43</td>\n      <td>13.043971</td>\n      <td>77.594109</td>\n      <td>2019</td>\n      <td>6</td>\n      <td>2019-10-13</td>\n      <td>00:00:43</td>\n      <td>13.043971</td>\n      <td>77.594109</td>\n      <td>2019-10-13 00:00:33</td>\n      <td>0.0</td>\n      <td>10.0</td>\n      <td>0.0</td>\n      <td>0</td>\n    </tr>\n    <tr>\n      <th>4</th>\n      <td>150211826</td>\n      <td>2019-10-13 00:00:53</td>\n      <td>13.043971</td>\n      <td>77.594109</td>\n      <td>2019</td>\n      <td>6</td>\n      <td>2019-10-13</td>\n      <td>00:00:53</td>\n      <td>13.043971</td>\n      <td>77.594109</td>\n      <td>2019-10-13 00:00:43</td>\n      <td>0.0</td>\n      <td>10.0</td>\n      <td>0.0</td>\n      <td>0</td>\n    </tr>\n    <tr>\n      <th>...</th>\n      <td>...</td>\n      <td>...</td>\n      <td>...</td>\n      <td>...</td>\n      <td>...</td>\n      <td>...</td>\n      <td>...</td>\n      <td>...</td>\n      <td>...</td>\n      <td>...</td>\n      <td>...</td>\n      <td>...</td>\n      <td>...</td>\n      <td>...</td>\n      <td>...</td>\n    </tr>\n    <tr>\n      <th>116</th>\n      <td>150211826</td>\n      <td>2019-10-13 00:20:32</td>\n      <td>13.043591</td>\n      <td>77.594078</td>\n      <td>2019</td>\n      <td>6</td>\n      <td>2019-10-13</td>\n      <td>00:20:32</td>\n      <td>13.043591</td>\n      <td>77.594078</td>\n      <td>2019-10-13 00:20:22</td>\n      <td>0.0</td>\n      <td>10.0</td>\n      <td>0.0</td>\n      <td>0</td>\n    </tr>\n    <tr>\n      <th>117</th>\n      <td>150211826</td>\n      <td>2019-10-13 00:20:42</td>\n      <td>13.043591</td>\n      <td>77.594078</td>\n      <td>2019</td>\n      <td>6</td>\n      <td>2019-10-13</td>\n      <td>00:20:42</td>\n      <td>13.043591</td>\n      <td>77.594078</td>\n      <td>2019-10-13 00:20:32</td>\n      <td>0.0</td>\n      <td>10.0</td>\n      <td>0.0</td>\n      <td>0</td>\n    </tr>\n    <tr>\n      <th>118</th>\n      <td>150211826</td>\n      <td>2019-10-13 00:20:52</td>\n      <td>13.043591</td>\n      <td>77.594078</td>\n      <td>2019</td>\n      <td>6</td>\n      <td>2019-10-13</td>\n      <td>00:20:52</td>\n      <td>13.043591</td>\n      <td>77.594078</td>\n      <td>2019-10-13 00:20:42</td>\n      <td>0.0</td>\n      <td>10.0</td>\n      <td>0.0</td>\n      <td>0</td>\n    </tr>\n    <tr>\n      <th>119</th>\n      <td>150211826</td>\n      <td>2019-10-13 00:21:02</td>\n      <td>13.043591</td>\n      <td>77.594078</td>\n      <td>2019</td>\n      <td>6</td>\n      <td>2019-10-13</td>\n      <td>00:21:02</td>\n      <td>13.043591</td>\n      <td>77.594078</td>\n      <td>2019-10-13 00:20:52</td>\n      <td>0.0</td>\n      <td>10.0</td>\n      <td>0.0</td>\n      <td>0</td>\n    </tr>\n    <tr>\n      <th>134</th>\n      <td>150211826</td>\n      <td>2019-10-13 00:23:14</td>\n      <td>13.043615</td>\n      <td>77.594078</td>\n      <td>2019</td>\n      <td>6</td>\n      <td>2019-10-13</td>\n      <td>00:23:14</td>\n      <td>13.043615</td>\n      <td>77.594078</td>\n      <td>2019-10-13 00:23:12</td>\n      <td>0.0</td>\n      <td>2.0</td>\n      <td>0.0</td>\n      <td>0</td>\n    </tr>\n  </tbody>\n</table>\n<p>100 rows × 15 columns</p>\n</div>"
     },
     "execution_count": 245,
     "metadata": {},
     "output_type": "execute_result"
    }
   ],
   "source": [
    "gps_df0.head(100)"
   ],
   "metadata": {
    "collapsed": false,
    "ExecuteTime": {
     "end_time": "2023-11-05T17:39:44.576677300Z",
     "start_time": "2023-11-05T17:39:44.521532100Z"
    }
   },
   "id": "f960c0a1cb9cdff9"
  },
  {
   "cell_type": "code",
   "execution_count": 246,
   "outputs": [
    {
     "name": "stdout",
     "output_type": "stream",
     "text": [
      "2.3560103340673018\n"
     ]
    }
   ],
   "source": [
    "# Filter the gps data with respect to speed less than 60\n",
    "gps_df = gps_df[gps_df['SPEED'] < 60]\n",
    "print(gps_df.SPEED.mean())"
   ],
   "metadata": {
    "collapsed": false,
    "ExecuteTime": {
     "end_time": "2023-11-05T17:39:44.682804400Z",
     "start_time": "2023-11-05T17:39:44.554677900Z"
    }
   },
   "id": "bc9ff56c1e305700"
  },
  {
   "cell_type": "code",
   "execution_count": 247,
   "outputs": [
    {
     "name": "stdout",
     "output_type": "stream",
     "text": [
      "439978\n"
     ]
    },
    {
     "data": {
      "text/plain": "SPEED\n0.000000     249151\n0.040030      31265\n0.040030      21102\n0.080060       4634\n0.040030       3976\n              ...  \n21.984164         1\n15.277730         1\n5.003729          1\n0.911346          1\n0.334814          1\nName: count, Length: 101447, dtype: int64"
     },
     "execution_count": 247,
     "metadata": {},
     "output_type": "execute_result"
    }
   ],
   "source": [
    "# Value counts of speed\n",
    "print(len(gps_df))\n",
    "gps_df['SPEED'].value_counts()"
   ],
   "metadata": {
    "collapsed": false,
    "ExecuteTime": {
     "end_time": "2023-11-05T17:39:44.683806600Z",
     "start_time": "2023-11-05T17:39:44.633687300Z"
    }
   },
   "id": "391caf5f6a68d8ab"
  },
  {
   "cell_type": "code",
   "execution_count": 248,
   "outputs": [
    {
     "data": {
      "text/plain": "             LAT  LONGITUDE  count\n17152  12.871454  77.721924    115\n75911  12.972237  77.441559    109\n18180  12.872490  77.585907    103\n5378   12.780834  77.634506     97\n2769   12.779082  77.770554     94\n...          ...        ...    ...\n62469  12.955254  77.595383      1\n62468  12.955254  77.595337      1\n62467  12.955254  77.595329      1\n62466  12.955254  77.595314      1\n78188  12.977319  77.718384      1\n\n[156376 rows x 3 columns]",
      "text/html": "<div>\n<style scoped>\n    .dataframe tbody tr th:only-of-type {\n        vertical-align: middle;\n    }\n\n    .dataframe tbody tr th {\n        vertical-align: top;\n    }\n\n    .dataframe thead th {\n        text-align: right;\n    }\n</style>\n<table border=\"1\" class=\"dataframe\">\n  <thead>\n    <tr style=\"text-align: right;\">\n      <th></th>\n      <th>LAT</th>\n      <th>LONGITUDE</th>\n      <th>count</th>\n    </tr>\n  </thead>\n  <tbody>\n    <tr>\n      <th>17152</th>\n      <td>12.871454</td>\n      <td>77.721924</td>\n      <td>115</td>\n    </tr>\n    <tr>\n      <th>75911</th>\n      <td>12.972237</td>\n      <td>77.441559</td>\n      <td>109</td>\n    </tr>\n    <tr>\n      <th>18180</th>\n      <td>12.872490</td>\n      <td>77.585907</td>\n      <td>103</td>\n    </tr>\n    <tr>\n      <th>5378</th>\n      <td>12.780834</td>\n      <td>77.634506</td>\n      <td>97</td>\n    </tr>\n    <tr>\n      <th>2769</th>\n      <td>12.779082</td>\n      <td>77.770554</td>\n      <td>94</td>\n    </tr>\n    <tr>\n      <th>...</th>\n      <td>...</td>\n      <td>...</td>\n      <td>...</td>\n    </tr>\n    <tr>\n      <th>62469</th>\n      <td>12.955254</td>\n      <td>77.595383</td>\n      <td>1</td>\n    </tr>\n    <tr>\n      <th>62468</th>\n      <td>12.955254</td>\n      <td>77.595337</td>\n      <td>1</td>\n    </tr>\n    <tr>\n      <th>62467</th>\n      <td>12.955254</td>\n      <td>77.595329</td>\n      <td>1</td>\n    </tr>\n    <tr>\n      <th>62466</th>\n      <td>12.955254</td>\n      <td>77.595314</td>\n      <td>1</td>\n    </tr>\n    <tr>\n      <th>78188</th>\n      <td>12.977319</td>\n      <td>77.718384</td>\n      <td>1</td>\n    </tr>\n  </tbody>\n</table>\n<p>156376 rows × 3 columns</p>\n</div>"
     },
     "execution_count": 248,
     "metadata": {},
     "output_type": "execute_result"
    }
   ],
   "source": [
    "# Get the number of unique gps based on LAT and LONGITUDE\n",
    "gps_df.groupby(['LAT','LONGITUDE']).size().reset_index().rename(columns={0:'count'}).sort_values(by='count',ascending=False)"
   ],
   "metadata": {
    "collapsed": false,
    "ExecuteTime": {
     "end_time": "2023-11-05T17:39:44.819029800Z",
     "start_time": "2023-11-05T17:39:44.668804Z"
    }
   },
   "id": "883e44cf2cf03576"
  },
  {
   "cell_type": "code",
   "execution_count": 249,
   "outputs": [
    {
     "data": {
      "text/plain": "   route_points_id  route_id  bus_stop_id  bus_stop_group_id  route_order  \\\n0            11459      1078         6461              16396            1   \n1            11460      1078         7193              16396            2   \n2            11461      1078         6422              20415            3   \n3            11462      1078         6692              20417            4   \n4            11463      1078         8537              20420            5   \n\n  point_status fare_stage sub_stage         created_date  created_by  \\\n0       ACTIVE          Y         N  2014-08-20 12:09:54          10   \n1       ACTIVE          N         N  2014-08-20 12:09:54          10   \n2       ACTIVE          Y         N  2014-08-20 12:09:54          10   \n3       ACTIVE          N         N  2014-08-20 12:09:54          10   \n4       ACTIVE          N         N  2014-08-20 12:09:54          10   \n\n   updated_date  updated_by  deleted_status  routepoint_route_id  \\\n0           NaN         NaN               0                  NaN   \n1           NaN         NaN               0                  NaN   \n2           NaN         NaN               0                  NaN   \n3           NaN         NaN               0                  NaN   \n4           NaN         NaN               0                  NaN   \n\n     sync_updated_date  \n0  2019-06-06 15:57:27  \n1  2019-06-06 15:57:27  \n2  2018-02-19 12:10:14  \n3  2018-02-19 12:10:14  \n4  2018-02-19 12:10:14  ",
      "text/html": "<div>\n<style scoped>\n    .dataframe tbody tr th:only-of-type {\n        vertical-align: middle;\n    }\n\n    .dataframe tbody tr th {\n        vertical-align: top;\n    }\n\n    .dataframe thead th {\n        text-align: right;\n    }\n</style>\n<table border=\"1\" class=\"dataframe\">\n  <thead>\n    <tr style=\"text-align: right;\">\n      <th></th>\n      <th>route_points_id</th>\n      <th>route_id</th>\n      <th>bus_stop_id</th>\n      <th>bus_stop_group_id</th>\n      <th>route_order</th>\n      <th>point_status</th>\n      <th>fare_stage</th>\n      <th>sub_stage</th>\n      <th>created_date</th>\n      <th>created_by</th>\n      <th>updated_date</th>\n      <th>updated_by</th>\n      <th>deleted_status</th>\n      <th>routepoint_route_id</th>\n      <th>sync_updated_date</th>\n    </tr>\n  </thead>\n  <tbody>\n    <tr>\n      <th>0</th>\n      <td>11459</td>\n      <td>1078</td>\n      <td>6461</td>\n      <td>16396</td>\n      <td>1</td>\n      <td>ACTIVE</td>\n      <td>Y</td>\n      <td>N</td>\n      <td>2014-08-20 12:09:54</td>\n      <td>10</td>\n      <td>NaN</td>\n      <td>NaN</td>\n      <td>0</td>\n      <td>NaN</td>\n      <td>2019-06-06 15:57:27</td>\n    </tr>\n    <tr>\n      <th>1</th>\n      <td>11460</td>\n      <td>1078</td>\n      <td>7193</td>\n      <td>16396</td>\n      <td>2</td>\n      <td>ACTIVE</td>\n      <td>N</td>\n      <td>N</td>\n      <td>2014-08-20 12:09:54</td>\n      <td>10</td>\n      <td>NaN</td>\n      <td>NaN</td>\n      <td>0</td>\n      <td>NaN</td>\n      <td>2019-06-06 15:57:27</td>\n    </tr>\n    <tr>\n      <th>2</th>\n      <td>11461</td>\n      <td>1078</td>\n      <td>6422</td>\n      <td>20415</td>\n      <td>3</td>\n      <td>ACTIVE</td>\n      <td>Y</td>\n      <td>N</td>\n      <td>2014-08-20 12:09:54</td>\n      <td>10</td>\n      <td>NaN</td>\n      <td>NaN</td>\n      <td>0</td>\n      <td>NaN</td>\n      <td>2018-02-19 12:10:14</td>\n    </tr>\n    <tr>\n      <th>3</th>\n      <td>11462</td>\n      <td>1078</td>\n      <td>6692</td>\n      <td>20417</td>\n      <td>4</td>\n      <td>ACTIVE</td>\n      <td>N</td>\n      <td>N</td>\n      <td>2014-08-20 12:09:54</td>\n      <td>10</td>\n      <td>NaN</td>\n      <td>NaN</td>\n      <td>0</td>\n      <td>NaN</td>\n      <td>2018-02-19 12:10:14</td>\n    </tr>\n    <tr>\n      <th>4</th>\n      <td>11463</td>\n      <td>1078</td>\n      <td>8537</td>\n      <td>20420</td>\n      <td>5</td>\n      <td>ACTIVE</td>\n      <td>N</td>\n      <td>N</td>\n      <td>2014-08-20 12:09:54</td>\n      <td>10</td>\n      <td>NaN</td>\n      <td>NaN</td>\n      <td>0</td>\n      <td>NaN</td>\n      <td>2018-02-19 12:10:14</td>\n    </tr>\n  </tbody>\n</table>\n</div>"
     },
     "execution_count": 249,
     "metadata": {},
     "output_type": "execute_result"
    }
   ],
   "source": [
    "# Find stop-stop segments from stop_times.txt\n",
    "stop_times_df = pd.read_csv(r\"../Dataset/route_point.csv\")\n",
    "stop_times_df.head()"
   ],
   "metadata": {
    "collapsed": false,
    "ExecuteTime": {
     "end_time": "2023-11-05T17:39:45.759534900Z",
     "start_time": "2023-11-05T17:39:44.809674100Z"
    }
   },
   "id": "dd717faafbe08986"
  },
  {
   "cell_type": "code",
   "execution_count": 250,
   "outputs": [],
   "source": [
    "# Get the stops cooresponding to the route_id == 1078\n",
    "stops = stop_times_df.loc[stop_times_df['route_id'] == 1078,'bus_stop_id']\n",
    "# Merge the stops_df with stops on bus_stop_id \n",
    "stops = pd.merge(stops,stops_df[['bus_stop_id','latitude_current','longitude_current']],on='bus_stop_id')"
   ],
   "metadata": {
    "collapsed": false,
    "ExecuteTime": {
     "end_time": "2023-11-05T17:39:45.812972700Z",
     "start_time": "2023-11-05T17:39:45.760531700Z"
    }
   },
   "id": "2aa5a17f665610e"
  },
  {
   "cell_type": "code",
   "execution_count": 251,
   "outputs": [],
   "source": [
    "def check_ping(point1,point2,ping):\n",
    "    if ping[0] >= min(point1[0],point2[0]) and ping[0] <= max(point1[0],point2[0]) and ping[1] >= min(point1[1],point2[1]) and ping[1] <= max(point1[1],point2[1]):\n",
    "        return True\n",
    "    else:\n",
    "        return False"
   ],
   "metadata": {
    "collapsed": false,
    "ExecuteTime": {
     "end_time": "2023-11-05T17:39:45.859882100Z",
     "start_time": "2023-11-05T17:39:45.787420500Z"
    }
   },
   "id": "9b1a975ee06cc02d"
  },
  {
   "cell_type": "code",
   "execution_count": 277,
   "outputs": [
    {
     "data": {
      "text/plain": "       DEVICE_ID            IST_DATE        LAT  LONGITUDE  YEAR  DAY  \\\n9581   150218092 2019-10-13 01:05:38  13.100422  77.594093  2019    6   \n9594   150218092 2019-10-13 01:07:48  13.101042  77.594955  2019    6   \n9696   150218092 2019-10-13 01:24:44  13.100133  77.595184  2019    6   \n9732   150218092 2019-10-13 01:30:43  13.101383  77.594994  2019    6   \n15324  150218137 2019-10-13 00:00:16  12.916446  77.639992  2019    6   \n...          ...                 ...        ...        ...   ...  ...   \n16631  150218177 2019-10-13 00:44:50  12.906312  77.581657  2019    6   \n16632  150218177 2019-10-13 00:45:00  12.906330  77.580658  2019    6   \n16640  150218177 2019-10-13 00:46:20  12.906402  77.577103  2019    6   \n16644  150218177 2019-10-13 00:47:00  12.906400  77.574081  2019    6   \n16649  150218177 2019-10-13 00:47:50  12.906994  77.571648  2019    6   \n\n             DATE      TIME   PREV_LAT  PREV_LONGITUDE       PREV_IST_DATE  \\\n9581   2019-10-13  01:05:38  13.101275       77.595047 2019-10-13 01:05:28   \n9594   2019-10-13  01:07:48  13.100422       77.594093 2019-10-13 01:07:38   \n9696   2019-10-13  01:24:44  13.101094       77.594727 2019-10-13 01:24:34   \n9732   2019-10-13  01:30:43  13.100133       77.595184 2019-10-13 01:30:33   \n15324  2019-10-13  00:00:16  12.917324       77.640999 2019-10-13 00:00:06   \n...           ...       ...        ...             ...                 ...   \n16631  2019-10-13  00:44:50  12.906270       77.582680 2019-10-13 00:44:40   \n16632  2019-10-13  00:45:00  12.906312       77.581657 2019-10-13 00:44:50   \n16640  2019-10-13  00:46:20  12.906358       77.578133 2019-10-13 00:46:09   \n16644  2019-10-13  00:47:00  12.906410       77.575050 2019-10-13 00:46:50   \n16649  2019-10-13  00:47:50  12.906549       77.572548 2019-10-13 00:47:40   \n\n         DISTANCE  TIME_DIFF      SPEED  STOP_TIME  \n9581   140.254232       10.0  50.491019          0  \n9594   116.052139       10.0  41.778352          0  \n9696   117.763951       10.0  42.394599          0  \n9732   140.508758       10.0  50.582647          0  \n15324  146.434339       10.0  52.715835          0  \n...           ...        ...        ...        ...  \n16631  110.977109       10.0  39.951360          0  \n16632  108.296021       10.0  38.986178          0  \n16640  111.744620       11.0  36.570634          0  \n16644  105.031798       10.0  37.811069          0  \n16649  109.379590       10.0  39.376259          0  \n\n[100 rows x 15 columns]",
      "text/html": "<div>\n<style scoped>\n    .dataframe tbody tr th:only-of-type {\n        vertical-align: middle;\n    }\n\n    .dataframe tbody tr th {\n        vertical-align: top;\n    }\n\n    .dataframe thead th {\n        text-align: right;\n    }\n</style>\n<table border=\"1\" class=\"dataframe\">\n  <thead>\n    <tr style=\"text-align: right;\">\n      <th></th>\n      <th>DEVICE_ID</th>\n      <th>IST_DATE</th>\n      <th>LAT</th>\n      <th>LONGITUDE</th>\n      <th>YEAR</th>\n      <th>DAY</th>\n      <th>DATE</th>\n      <th>TIME</th>\n      <th>PREV_LAT</th>\n      <th>PREV_LONGITUDE</th>\n      <th>PREV_IST_DATE</th>\n      <th>DISTANCE</th>\n      <th>TIME_DIFF</th>\n      <th>SPEED</th>\n      <th>STOP_TIME</th>\n    </tr>\n  </thead>\n  <tbody>\n    <tr>\n      <th>9581</th>\n      <td>150218092</td>\n      <td>2019-10-13 01:05:38</td>\n      <td>13.100422</td>\n      <td>77.594093</td>\n      <td>2019</td>\n      <td>6</td>\n      <td>2019-10-13</td>\n      <td>01:05:38</td>\n      <td>13.101275</td>\n      <td>77.595047</td>\n      <td>2019-10-13 01:05:28</td>\n      <td>140.254232</td>\n      <td>10.0</td>\n      <td>50.491019</td>\n      <td>0</td>\n    </tr>\n    <tr>\n      <th>9594</th>\n      <td>150218092</td>\n      <td>2019-10-13 01:07:48</td>\n      <td>13.101042</td>\n      <td>77.594955</td>\n      <td>2019</td>\n      <td>6</td>\n      <td>2019-10-13</td>\n      <td>01:07:48</td>\n      <td>13.100422</td>\n      <td>77.594093</td>\n      <td>2019-10-13 01:07:38</td>\n      <td>116.052139</td>\n      <td>10.0</td>\n      <td>41.778352</td>\n      <td>0</td>\n    </tr>\n    <tr>\n      <th>9696</th>\n      <td>150218092</td>\n      <td>2019-10-13 01:24:44</td>\n      <td>13.100133</td>\n      <td>77.595184</td>\n      <td>2019</td>\n      <td>6</td>\n      <td>2019-10-13</td>\n      <td>01:24:44</td>\n      <td>13.101094</td>\n      <td>77.594727</td>\n      <td>2019-10-13 01:24:34</td>\n      <td>117.763951</td>\n      <td>10.0</td>\n      <td>42.394599</td>\n      <td>0</td>\n    </tr>\n    <tr>\n      <th>9732</th>\n      <td>150218092</td>\n      <td>2019-10-13 01:30:43</td>\n      <td>13.101383</td>\n      <td>77.594994</td>\n      <td>2019</td>\n      <td>6</td>\n      <td>2019-10-13</td>\n      <td>01:30:43</td>\n      <td>13.100133</td>\n      <td>77.595184</td>\n      <td>2019-10-13 01:30:33</td>\n      <td>140.508758</td>\n      <td>10.0</td>\n      <td>50.582647</td>\n      <td>0</td>\n    </tr>\n    <tr>\n      <th>15324</th>\n      <td>150218137</td>\n      <td>2019-10-13 00:00:16</td>\n      <td>12.916446</td>\n      <td>77.639992</td>\n      <td>2019</td>\n      <td>6</td>\n      <td>2019-10-13</td>\n      <td>00:00:16</td>\n      <td>12.917324</td>\n      <td>77.640999</td>\n      <td>2019-10-13 00:00:06</td>\n      <td>146.434339</td>\n      <td>10.0</td>\n      <td>52.715835</td>\n      <td>0</td>\n    </tr>\n    <tr>\n      <th>...</th>\n      <td>...</td>\n      <td>...</td>\n      <td>...</td>\n      <td>...</td>\n      <td>...</td>\n      <td>...</td>\n      <td>...</td>\n      <td>...</td>\n      <td>...</td>\n      <td>...</td>\n      <td>...</td>\n      <td>...</td>\n      <td>...</td>\n      <td>...</td>\n      <td>...</td>\n    </tr>\n    <tr>\n      <th>16631</th>\n      <td>150218177</td>\n      <td>2019-10-13 00:44:50</td>\n      <td>12.906312</td>\n      <td>77.581657</td>\n      <td>2019</td>\n      <td>6</td>\n      <td>2019-10-13</td>\n      <td>00:44:50</td>\n      <td>12.906270</td>\n      <td>77.582680</td>\n      <td>2019-10-13 00:44:40</td>\n      <td>110.977109</td>\n      <td>10.0</td>\n      <td>39.951360</td>\n      <td>0</td>\n    </tr>\n    <tr>\n      <th>16632</th>\n      <td>150218177</td>\n      <td>2019-10-13 00:45:00</td>\n      <td>12.906330</td>\n      <td>77.580658</td>\n      <td>2019</td>\n      <td>6</td>\n      <td>2019-10-13</td>\n      <td>00:45:00</td>\n      <td>12.906312</td>\n      <td>77.581657</td>\n      <td>2019-10-13 00:44:50</td>\n      <td>108.296021</td>\n      <td>10.0</td>\n      <td>38.986178</td>\n      <td>0</td>\n    </tr>\n    <tr>\n      <th>16640</th>\n      <td>150218177</td>\n      <td>2019-10-13 00:46:20</td>\n      <td>12.906402</td>\n      <td>77.577103</td>\n      <td>2019</td>\n      <td>6</td>\n      <td>2019-10-13</td>\n      <td>00:46:20</td>\n      <td>12.906358</td>\n      <td>77.578133</td>\n      <td>2019-10-13 00:46:09</td>\n      <td>111.744620</td>\n      <td>11.0</td>\n      <td>36.570634</td>\n      <td>0</td>\n    </tr>\n    <tr>\n      <th>16644</th>\n      <td>150218177</td>\n      <td>2019-10-13 00:47:00</td>\n      <td>12.906400</td>\n      <td>77.574081</td>\n      <td>2019</td>\n      <td>6</td>\n      <td>2019-10-13</td>\n      <td>00:47:00</td>\n      <td>12.906410</td>\n      <td>77.575050</td>\n      <td>2019-10-13 00:46:50</td>\n      <td>105.031798</td>\n      <td>10.0</td>\n      <td>37.811069</td>\n      <td>0</td>\n    </tr>\n    <tr>\n      <th>16649</th>\n      <td>150218177</td>\n      <td>2019-10-13 00:47:50</td>\n      <td>12.906994</td>\n      <td>77.571648</td>\n      <td>2019</td>\n      <td>6</td>\n      <td>2019-10-13</td>\n      <td>00:47:50</td>\n      <td>12.906549</td>\n      <td>77.572548</td>\n      <td>2019-10-13 00:47:40</td>\n      <td>109.379590</td>\n      <td>10.0</td>\n      <td>39.376259</td>\n      <td>0</td>\n    </tr>\n  </tbody>\n</table>\n<p>100 rows × 15 columns</p>\n</div>"
     },
     "execution_count": 277,
     "metadata": {},
     "output_type": "execute_result"
    }
   ],
   "source": [
    "# Filter the gps_df with respect to DISTANCE more than 10\n",
    "gps_df.loc[gps_df['DISTANCE'] > 100,:].head(100)"
   ],
   "metadata": {
    "collapsed": false,
    "ExecuteTime": {
     "end_time": "2023-11-05T17:52:48.881752300Z",
     "start_time": "2023-11-05T17:52:48.834802700Z"
    }
   },
   "id": "2cb4df6cbd1f1852"
  },
  {
   "cell_type": "code",
   "execution_count": 279,
   "outputs": [
    {
     "data": {
      "text/plain": "       DEVICE_ID            IST_DATE        LAT  LONGITUDE  YEAR  DAY  \\\n16362  150218177 2019-10-13 00:01:01  13.164146  77.629158  2019    6   \n16409  150218177 2019-10-13 00:08:39  13.084632  77.594170  2019    6   \n16410  150218177 2019-10-13 00:08:49  13.083401  77.593681  2019    6   \n16411  150218177 2019-10-13 00:08:59  13.081986  77.593262  2019    6   \n16429  150218177 2019-10-13 00:11:38  13.051045  77.593193  2019    6   \n...          ...                 ...        ...        ...   ...  ...   \n16532  150218177 2019-10-13 00:28:24  12.956367  77.592331  2019    6   \n16533  150218177 2019-10-13 00:28:34  12.955678  77.592148  2019    6   \n16534  150218177 2019-10-13 00:28:44  12.955214  77.592552  2019    6   \n16535  150218177 2019-10-13 00:28:54  12.954757  77.592628  2019    6   \n16536  150218177 2019-10-13 00:29:04  12.954674  77.592598  2019    6   \n\n             DATE      TIME   PREV_LAT  PREV_LONGITUDE       PREV_IST_DATE  \\\n16362  2019-10-13  00:01:01  13.164267       77.629250 2019-10-13 00:00:59   \n16409  2019-10-13  00:08:39  13.085685       77.594604 2019-10-13 00:08:29   \n16410  2019-10-13  00:08:49  13.084632       77.594170 2019-10-13 00:08:39   \n16411  2019-10-13  00:08:59  13.083401       77.593681 2019-10-13 00:08:49   \n16429  2019-10-13  00:11:38  13.051375       77.593277 2019-10-13 00:11:35   \n...           ...       ...        ...             ...                 ...   \n16532  2019-10-13  00:28:24  12.957315       77.592690 2019-10-13 00:28:14   \n16533  2019-10-13  00:28:34  12.956367       77.592331 2019-10-13 00:28:24   \n16534  2019-10-13  00:28:44  12.955678       77.592148 2019-10-13 00:28:34   \n16535  2019-10-13  00:28:54  12.955214       77.592552 2019-10-13 00:28:44   \n16536  2019-10-13  00:29:04  12.954757       77.592628 2019-10-13 00:28:54   \n\n         DISTANCE  TIME_DIFF      SPEED  STOP_TIME  \n16362   16.740677        2.0  30.131712          0  \n16409  126.171413       10.0  45.421255          0  \n16410  146.770244       10.0  52.836760          0  \n16411  163.754933       10.0  58.951186          0  \n16429   37.805702        3.0  45.365330          0  \n...           ...        ...        ...        ...  \n16532  112.362380       10.0  40.450052          0  \n16533   79.138298       10.0  28.489502          0  \n16534   67.665503       10.0  24.359338          0  \n16535   51.479204       10.0  18.532328          0  \n16536    9.785021       10.0   3.522572          0  \n\n[100 rows x 15 columns]",
      "text/html": "<div>\n<style scoped>\n    .dataframe tbody tr th:only-of-type {\n        vertical-align: middle;\n    }\n\n    .dataframe tbody tr th {\n        vertical-align: top;\n    }\n\n    .dataframe thead th {\n        text-align: right;\n    }\n</style>\n<table border=\"1\" class=\"dataframe\">\n  <thead>\n    <tr style=\"text-align: right;\">\n      <th></th>\n      <th>DEVICE_ID</th>\n      <th>IST_DATE</th>\n      <th>LAT</th>\n      <th>LONGITUDE</th>\n      <th>YEAR</th>\n      <th>DAY</th>\n      <th>DATE</th>\n      <th>TIME</th>\n      <th>PREV_LAT</th>\n      <th>PREV_LONGITUDE</th>\n      <th>PREV_IST_DATE</th>\n      <th>DISTANCE</th>\n      <th>TIME_DIFF</th>\n      <th>SPEED</th>\n      <th>STOP_TIME</th>\n    </tr>\n  </thead>\n  <tbody>\n    <tr>\n      <th>16362</th>\n      <td>150218177</td>\n      <td>2019-10-13 00:01:01</td>\n      <td>13.164146</td>\n      <td>77.629158</td>\n      <td>2019</td>\n      <td>6</td>\n      <td>2019-10-13</td>\n      <td>00:01:01</td>\n      <td>13.164267</td>\n      <td>77.629250</td>\n      <td>2019-10-13 00:00:59</td>\n      <td>16.740677</td>\n      <td>2.0</td>\n      <td>30.131712</td>\n      <td>0</td>\n    </tr>\n    <tr>\n      <th>16409</th>\n      <td>150218177</td>\n      <td>2019-10-13 00:08:39</td>\n      <td>13.084632</td>\n      <td>77.594170</td>\n      <td>2019</td>\n      <td>6</td>\n      <td>2019-10-13</td>\n      <td>00:08:39</td>\n      <td>13.085685</td>\n      <td>77.594604</td>\n      <td>2019-10-13 00:08:29</td>\n      <td>126.171413</td>\n      <td>10.0</td>\n      <td>45.421255</td>\n      <td>0</td>\n    </tr>\n    <tr>\n      <th>16410</th>\n      <td>150218177</td>\n      <td>2019-10-13 00:08:49</td>\n      <td>13.083401</td>\n      <td>77.593681</td>\n      <td>2019</td>\n      <td>6</td>\n      <td>2019-10-13</td>\n      <td>00:08:49</td>\n      <td>13.084632</td>\n      <td>77.594170</td>\n      <td>2019-10-13 00:08:39</td>\n      <td>146.770244</td>\n      <td>10.0</td>\n      <td>52.836760</td>\n      <td>0</td>\n    </tr>\n    <tr>\n      <th>16411</th>\n      <td>150218177</td>\n      <td>2019-10-13 00:08:59</td>\n      <td>13.081986</td>\n      <td>77.593262</td>\n      <td>2019</td>\n      <td>6</td>\n      <td>2019-10-13</td>\n      <td>00:08:59</td>\n      <td>13.083401</td>\n      <td>77.593681</td>\n      <td>2019-10-13 00:08:49</td>\n      <td>163.754933</td>\n      <td>10.0</td>\n      <td>58.951186</td>\n      <td>0</td>\n    </tr>\n    <tr>\n      <th>16429</th>\n      <td>150218177</td>\n      <td>2019-10-13 00:11:38</td>\n      <td>13.051045</td>\n      <td>77.593193</td>\n      <td>2019</td>\n      <td>6</td>\n      <td>2019-10-13</td>\n      <td>00:11:38</td>\n      <td>13.051375</td>\n      <td>77.593277</td>\n      <td>2019-10-13 00:11:35</td>\n      <td>37.805702</td>\n      <td>3.0</td>\n      <td>45.365330</td>\n      <td>0</td>\n    </tr>\n    <tr>\n      <th>...</th>\n      <td>...</td>\n      <td>...</td>\n      <td>...</td>\n      <td>...</td>\n      <td>...</td>\n      <td>...</td>\n      <td>...</td>\n      <td>...</td>\n      <td>...</td>\n      <td>...</td>\n      <td>...</td>\n      <td>...</td>\n      <td>...</td>\n      <td>...</td>\n      <td>...</td>\n    </tr>\n    <tr>\n      <th>16532</th>\n      <td>150218177</td>\n      <td>2019-10-13 00:28:24</td>\n      <td>12.956367</td>\n      <td>77.592331</td>\n      <td>2019</td>\n      <td>6</td>\n      <td>2019-10-13</td>\n      <td>00:28:24</td>\n      <td>12.957315</td>\n      <td>77.592690</td>\n      <td>2019-10-13 00:28:14</td>\n      <td>112.362380</td>\n      <td>10.0</td>\n      <td>40.450052</td>\n      <td>0</td>\n    </tr>\n    <tr>\n      <th>16533</th>\n      <td>150218177</td>\n      <td>2019-10-13 00:28:34</td>\n      <td>12.955678</td>\n      <td>77.592148</td>\n      <td>2019</td>\n      <td>6</td>\n      <td>2019-10-13</td>\n      <td>00:28:34</td>\n      <td>12.956367</td>\n      <td>77.592331</td>\n      <td>2019-10-13 00:28:24</td>\n      <td>79.138298</td>\n      <td>10.0</td>\n      <td>28.489502</td>\n      <td>0</td>\n    </tr>\n    <tr>\n      <th>16534</th>\n      <td>150218177</td>\n      <td>2019-10-13 00:28:44</td>\n      <td>12.955214</td>\n      <td>77.592552</td>\n      <td>2019</td>\n      <td>6</td>\n      <td>2019-10-13</td>\n      <td>00:28:44</td>\n      <td>12.955678</td>\n      <td>77.592148</td>\n      <td>2019-10-13 00:28:34</td>\n      <td>67.665503</td>\n      <td>10.0</td>\n      <td>24.359338</td>\n      <td>0</td>\n    </tr>\n    <tr>\n      <th>16535</th>\n      <td>150218177</td>\n      <td>2019-10-13 00:28:54</td>\n      <td>12.954757</td>\n      <td>77.592628</td>\n      <td>2019</td>\n      <td>6</td>\n      <td>2019-10-13</td>\n      <td>00:28:54</td>\n      <td>12.955214</td>\n      <td>77.592552</td>\n      <td>2019-10-13 00:28:44</td>\n      <td>51.479204</td>\n      <td>10.0</td>\n      <td>18.532328</td>\n      <td>0</td>\n    </tr>\n    <tr>\n      <th>16536</th>\n      <td>150218177</td>\n      <td>2019-10-13 00:29:04</td>\n      <td>12.954674</td>\n      <td>77.592598</td>\n      <td>2019</td>\n      <td>6</td>\n      <td>2019-10-13</td>\n      <td>00:29:04</td>\n      <td>12.954757</td>\n      <td>77.592628</td>\n      <td>2019-10-13 00:28:54</td>\n      <td>9.785021</td>\n      <td>10.0</td>\n      <td>3.522572</td>\n      <td>0</td>\n    </tr>\n  </tbody>\n</table>\n<p>100 rows × 15 columns</p>\n</div>"
     },
     "execution_count": 279,
     "metadata": {},
     "output_type": "execute_result"
    }
   ],
   "source": [
    "gps_df_bus1 = gps_df.loc[gps_df['DEVICE_ID'] == 150218177,:]\n",
    "gps_df_bus1.head(100)"
   ],
   "metadata": {
    "collapsed": false,
    "ExecuteTime": {
     "end_time": "2023-11-05T17:54:19.318737700Z",
     "start_time": "2023-11-05T17:54:19.271401100Z"
    }
   },
   "id": "46d5e8e9069797e4"
  },
  {
   "cell_type": "code",
   "execution_count": 254,
   "outputs": [
    {
     "data": {
      "text/plain": "    route_points_id  route_id  bus_stop_id  bus_stop_group_id  route_order  \\\n0             11459      1078         6461              16396            1   \n1            146620      4897         6461              16396            1   \n2            216716      6961         6461              16396           75   \n3            216758      6963         6461              16396            1   \n4            679180     23026         6461              16396           32   \n..              ...       ...          ...                ...          ...   \n95           682802     23118         6380              20511           17   \n96           682846     23121         6380              20511           21   \n97           731618     24529         6380              20511           20   \n98           749808     25127         6380              20511           21   \n99           749889     25130         6380              20511           23   \n\n   point_status fare_stage sub_stage         created_date  created_by  \\\n0        ACTIVE          Y         N  2014-08-20 12:09:54          10   \n1        ACTIVE          Y         N  2014-11-03 09:41:02          41   \n2        ACTIVE          Y         N  2015-01-16 16:32:01           9   \n3        ACTIVE          Y         N  2015-01-16 16:43:34           9   \n4        ACTIVE          Y         N  2015-11-13 12:01:39         135   \n..          ...        ...       ...                  ...         ...   \n95       ACTIVE          Y         N  2015-11-13 14:33:54         135   \n96       ACTIVE          N         N  2015-11-13 14:38:03         135   \n97       ACTIVE          Y         N  2015-11-19 16:08:01           7   \n98       ACTIVE          N         N  2015-11-24 11:29:35          99   \n99       ACTIVE          Y         N  2015-11-24 11:33:27          99   \n\n    updated_date  updated_by  deleted_status  routepoint_route_id  \\\n0            NaN         NaN               0                  NaN   \n1            NaN         NaN               0                  NaN   \n2            NaN         NaN               0                  NaN   \n3            NaN         NaN               0                  NaN   \n4            NaN         NaN               0                  NaN   \n..           ...         ...             ...                  ...   \n95           NaN         NaN               0                  NaN   \n96           NaN         NaN               0                  NaN   \n97           NaN         NaN               0                  NaN   \n98           NaN         NaN               0                  NaN   \n99           NaN         NaN               0                  NaN   \n\n      sync_updated_date  latitude_current  longitude_current  \n0   2019-06-06 15:57:27         13.294807           77.80207  \n1   2019-06-06 15:57:27         13.294807           77.80207  \n2   2019-06-06 15:57:27         13.294807           77.80207  \n3   2019-06-06 15:57:27         13.294807           77.80207  \n4   2019-06-06 15:57:27         13.294807           77.80207  \n..                  ...               ...                ...  \n95  2018-02-19 12:10:14         13.186616           77.80309  \n96  2018-02-19 12:10:14         13.186616           77.80309  \n97  2018-02-19 12:10:14         13.186616           77.80309  \n98  2018-02-19 12:10:14         13.186616           77.80309  \n99  2018-02-19 12:10:14         13.186616           77.80309  \n\n[100 rows x 17 columns]",
      "text/html": "<div>\n<style scoped>\n    .dataframe tbody tr th:only-of-type {\n        vertical-align: middle;\n    }\n\n    .dataframe tbody tr th {\n        vertical-align: top;\n    }\n\n    .dataframe thead th {\n        text-align: right;\n    }\n</style>\n<table border=\"1\" class=\"dataframe\">\n  <thead>\n    <tr style=\"text-align: right;\">\n      <th></th>\n      <th>route_points_id</th>\n      <th>route_id</th>\n      <th>bus_stop_id</th>\n      <th>bus_stop_group_id</th>\n      <th>route_order</th>\n      <th>point_status</th>\n      <th>fare_stage</th>\n      <th>sub_stage</th>\n      <th>created_date</th>\n      <th>created_by</th>\n      <th>updated_date</th>\n      <th>updated_by</th>\n      <th>deleted_status</th>\n      <th>routepoint_route_id</th>\n      <th>sync_updated_date</th>\n      <th>latitude_current</th>\n      <th>longitude_current</th>\n    </tr>\n  </thead>\n  <tbody>\n    <tr>\n      <th>0</th>\n      <td>11459</td>\n      <td>1078</td>\n      <td>6461</td>\n      <td>16396</td>\n      <td>1</td>\n      <td>ACTIVE</td>\n      <td>Y</td>\n      <td>N</td>\n      <td>2014-08-20 12:09:54</td>\n      <td>10</td>\n      <td>NaN</td>\n      <td>NaN</td>\n      <td>0</td>\n      <td>NaN</td>\n      <td>2019-06-06 15:57:27</td>\n      <td>13.294807</td>\n      <td>77.80207</td>\n    </tr>\n    <tr>\n      <th>1</th>\n      <td>146620</td>\n      <td>4897</td>\n      <td>6461</td>\n      <td>16396</td>\n      <td>1</td>\n      <td>ACTIVE</td>\n      <td>Y</td>\n      <td>N</td>\n      <td>2014-11-03 09:41:02</td>\n      <td>41</td>\n      <td>NaN</td>\n      <td>NaN</td>\n      <td>0</td>\n      <td>NaN</td>\n      <td>2019-06-06 15:57:27</td>\n      <td>13.294807</td>\n      <td>77.80207</td>\n    </tr>\n    <tr>\n      <th>2</th>\n      <td>216716</td>\n      <td>6961</td>\n      <td>6461</td>\n      <td>16396</td>\n      <td>75</td>\n      <td>ACTIVE</td>\n      <td>Y</td>\n      <td>N</td>\n      <td>2015-01-16 16:32:01</td>\n      <td>9</td>\n      <td>NaN</td>\n      <td>NaN</td>\n      <td>0</td>\n      <td>NaN</td>\n      <td>2019-06-06 15:57:27</td>\n      <td>13.294807</td>\n      <td>77.80207</td>\n    </tr>\n    <tr>\n      <th>3</th>\n      <td>216758</td>\n      <td>6963</td>\n      <td>6461</td>\n      <td>16396</td>\n      <td>1</td>\n      <td>ACTIVE</td>\n      <td>Y</td>\n      <td>N</td>\n      <td>2015-01-16 16:43:34</td>\n      <td>9</td>\n      <td>NaN</td>\n      <td>NaN</td>\n      <td>0</td>\n      <td>NaN</td>\n      <td>2019-06-06 15:57:27</td>\n      <td>13.294807</td>\n      <td>77.80207</td>\n    </tr>\n    <tr>\n      <th>4</th>\n      <td>679180</td>\n      <td>23026</td>\n      <td>6461</td>\n      <td>16396</td>\n      <td>32</td>\n      <td>ACTIVE</td>\n      <td>Y</td>\n      <td>N</td>\n      <td>2015-11-13 12:01:39</td>\n      <td>135</td>\n      <td>NaN</td>\n      <td>NaN</td>\n      <td>0</td>\n      <td>NaN</td>\n      <td>2019-06-06 15:57:27</td>\n      <td>13.294807</td>\n      <td>77.80207</td>\n    </tr>\n    <tr>\n      <th>...</th>\n      <td>...</td>\n      <td>...</td>\n      <td>...</td>\n      <td>...</td>\n      <td>...</td>\n      <td>...</td>\n      <td>...</td>\n      <td>...</td>\n      <td>...</td>\n      <td>...</td>\n      <td>...</td>\n      <td>...</td>\n      <td>...</td>\n      <td>...</td>\n      <td>...</td>\n      <td>...</td>\n      <td>...</td>\n    </tr>\n    <tr>\n      <th>95</th>\n      <td>682802</td>\n      <td>23118</td>\n      <td>6380</td>\n      <td>20511</td>\n      <td>17</td>\n      <td>ACTIVE</td>\n      <td>Y</td>\n      <td>N</td>\n      <td>2015-11-13 14:33:54</td>\n      <td>135</td>\n      <td>NaN</td>\n      <td>NaN</td>\n      <td>0</td>\n      <td>NaN</td>\n      <td>2018-02-19 12:10:14</td>\n      <td>13.186616</td>\n      <td>77.80309</td>\n    </tr>\n    <tr>\n      <th>96</th>\n      <td>682846</td>\n      <td>23121</td>\n      <td>6380</td>\n      <td>20511</td>\n      <td>21</td>\n      <td>ACTIVE</td>\n      <td>N</td>\n      <td>N</td>\n      <td>2015-11-13 14:38:03</td>\n      <td>135</td>\n      <td>NaN</td>\n      <td>NaN</td>\n      <td>0</td>\n      <td>NaN</td>\n      <td>2018-02-19 12:10:14</td>\n      <td>13.186616</td>\n      <td>77.80309</td>\n    </tr>\n    <tr>\n      <th>97</th>\n      <td>731618</td>\n      <td>24529</td>\n      <td>6380</td>\n      <td>20511</td>\n      <td>20</td>\n      <td>ACTIVE</td>\n      <td>Y</td>\n      <td>N</td>\n      <td>2015-11-19 16:08:01</td>\n      <td>7</td>\n      <td>NaN</td>\n      <td>NaN</td>\n      <td>0</td>\n      <td>NaN</td>\n      <td>2018-02-19 12:10:14</td>\n      <td>13.186616</td>\n      <td>77.80309</td>\n    </tr>\n    <tr>\n      <th>98</th>\n      <td>749808</td>\n      <td>25127</td>\n      <td>6380</td>\n      <td>20511</td>\n      <td>21</td>\n      <td>ACTIVE</td>\n      <td>N</td>\n      <td>N</td>\n      <td>2015-11-24 11:29:35</td>\n      <td>99</td>\n      <td>NaN</td>\n      <td>NaN</td>\n      <td>0</td>\n      <td>NaN</td>\n      <td>2018-02-19 12:10:14</td>\n      <td>13.186616</td>\n      <td>77.80309</td>\n    </tr>\n    <tr>\n      <th>99</th>\n      <td>749889</td>\n      <td>25130</td>\n      <td>6380</td>\n      <td>20511</td>\n      <td>23</td>\n      <td>ACTIVE</td>\n      <td>Y</td>\n      <td>N</td>\n      <td>2015-11-24 11:33:27</td>\n      <td>99</td>\n      <td>NaN</td>\n      <td>NaN</td>\n      <td>0</td>\n      <td>NaN</td>\n      <td>2018-02-19 12:10:14</td>\n      <td>13.186616</td>\n      <td>77.80309</td>\n    </tr>\n  </tbody>\n</table>\n<p>100 rows × 17 columns</p>\n</div>"
     },
     "execution_count": 254,
     "metadata": {},
     "output_type": "execute_result"
    }
   ],
   "source": [
    "mergerd_busstops_routepoints = pd.merge(stop_times_df,stops_df[['bus_stop_id','latitude_current','longitude_current']],on='bus_stop_id')\n",
    "mergerd_busstops_routepoints.head(100)"
   ],
   "metadata": {
    "collapsed": false,
    "ExecuteTime": {
     "end_time": "2023-11-05T17:41:26.501682700Z",
     "start_time": "2023-11-05T17:41:26.342190800Z"
    }
   },
   "id": "49ee3b22f8afa0e7"
  },
  {
   "cell_type": "code",
   "execution_count": 255,
   "outputs": [
    {
     "data": {
      "text/plain": "       route_points_id  route_id  bus_stop_id  bus_stop_group_id  route_order  \\\n0                11459      1078         6461              16396            1   \n11               11460      1078         7193              16396            2   \n19               11461      1078         6422              20415            3   \n25               11462      1078         6692              20417            4   \n31               11463      1078         8537              20420            5   \n...                ...       ...          ...                ...          ...   \n20837            16830      1206          345              23832           14   \n20991            16831      1206         2731              23404           15   \n21124            16832      1206         2730              23877           16   \n21306            16833      1206         3017              19610           17   \n21711            16834      1206         8523                  0           18   \n\n      point_status fare_stage sub_stage         created_date  created_by  \\\n0           ACTIVE          Y         N  2014-08-20 12:09:54          10   \n11          ACTIVE          N         N  2014-08-20 12:09:54          10   \n19          ACTIVE          Y         N  2014-08-20 12:09:54          10   \n25          ACTIVE          N         N  2014-08-20 12:09:54          10   \n31          ACTIVE          N         N  2014-08-20 12:09:54          10   \n...            ...        ...       ...                  ...         ...   \n20837       ACTIVE          Y         N  2014-08-25 17:14:32           6   \n20991       ACTIVE          Y         N  2014-08-25 17:14:32           6   \n21124       ACTIVE          N         N  2014-08-25 17:14:32           6   \n21306       ACTIVE          N         N  2014-08-25 17:14:32           6   \n21711       ACTIVE          N         N  2014-08-25 17:14:32           6   \n\n       updated_date  updated_by  deleted_status  routepoint_route_id  \\\n0               NaN         NaN               0                  NaN   \n11              NaN         NaN               0                  NaN   \n19              NaN         NaN               0                  NaN   \n25              NaN         NaN               0                  NaN   \n31              NaN         NaN               0                  NaN   \n...             ...         ...             ...                  ...   \n20837           NaN         NaN               0                  NaN   \n20991           NaN         NaN               0                  NaN   \n21124           NaN         NaN               0                  NaN   \n21306           NaN         NaN               0                  NaN   \n21711           NaN         NaN               0                  NaN   \n\n         sync_updated_date  latitude_current  longitude_current  \n0      2019-06-06 15:57:27         13.294807          77.802070  \n11     2019-06-06 15:57:27         13.291506          77.806074  \n19     2018-02-19 12:10:14         13.279805          77.820746  \n25     2018-02-19 12:10:14         13.271906          77.844764  \n31     2018-02-19 12:10:14         13.270515          77.848786  \n...                    ...               ...                ...  \n20837  2018-02-19 12:10:14         12.943920          77.576796  \n20991  2018-02-19 12:10:14         12.953088          77.576745  \n21124  2018-02-19 12:10:14         12.955899          77.577194  \n21306  2018-02-19 12:10:14         12.958042          77.573800  \n21711  2018-02-19 12:10:14         12.961733          77.577006  \n\n[100 rows x 17 columns]",
      "text/html": "<div>\n<style scoped>\n    .dataframe tbody tr th:only-of-type {\n        vertical-align: middle;\n    }\n\n    .dataframe tbody tr th {\n        vertical-align: top;\n    }\n\n    .dataframe thead th {\n        text-align: right;\n    }\n</style>\n<table border=\"1\" class=\"dataframe\">\n  <thead>\n    <tr style=\"text-align: right;\">\n      <th></th>\n      <th>route_points_id</th>\n      <th>route_id</th>\n      <th>bus_stop_id</th>\n      <th>bus_stop_group_id</th>\n      <th>route_order</th>\n      <th>point_status</th>\n      <th>fare_stage</th>\n      <th>sub_stage</th>\n      <th>created_date</th>\n      <th>created_by</th>\n      <th>updated_date</th>\n      <th>updated_by</th>\n      <th>deleted_status</th>\n      <th>routepoint_route_id</th>\n      <th>sync_updated_date</th>\n      <th>latitude_current</th>\n      <th>longitude_current</th>\n    </tr>\n  </thead>\n  <tbody>\n    <tr>\n      <th>0</th>\n      <td>11459</td>\n      <td>1078</td>\n      <td>6461</td>\n      <td>16396</td>\n      <td>1</td>\n      <td>ACTIVE</td>\n      <td>Y</td>\n      <td>N</td>\n      <td>2014-08-20 12:09:54</td>\n      <td>10</td>\n      <td>NaN</td>\n      <td>NaN</td>\n      <td>0</td>\n      <td>NaN</td>\n      <td>2019-06-06 15:57:27</td>\n      <td>13.294807</td>\n      <td>77.802070</td>\n    </tr>\n    <tr>\n      <th>11</th>\n      <td>11460</td>\n      <td>1078</td>\n      <td>7193</td>\n      <td>16396</td>\n      <td>2</td>\n      <td>ACTIVE</td>\n      <td>N</td>\n      <td>N</td>\n      <td>2014-08-20 12:09:54</td>\n      <td>10</td>\n      <td>NaN</td>\n      <td>NaN</td>\n      <td>0</td>\n      <td>NaN</td>\n      <td>2019-06-06 15:57:27</td>\n      <td>13.291506</td>\n      <td>77.806074</td>\n    </tr>\n    <tr>\n      <th>19</th>\n      <td>11461</td>\n      <td>1078</td>\n      <td>6422</td>\n      <td>20415</td>\n      <td>3</td>\n      <td>ACTIVE</td>\n      <td>Y</td>\n      <td>N</td>\n      <td>2014-08-20 12:09:54</td>\n      <td>10</td>\n      <td>NaN</td>\n      <td>NaN</td>\n      <td>0</td>\n      <td>NaN</td>\n      <td>2018-02-19 12:10:14</td>\n      <td>13.279805</td>\n      <td>77.820746</td>\n    </tr>\n    <tr>\n      <th>25</th>\n      <td>11462</td>\n      <td>1078</td>\n      <td>6692</td>\n      <td>20417</td>\n      <td>4</td>\n      <td>ACTIVE</td>\n      <td>N</td>\n      <td>N</td>\n      <td>2014-08-20 12:09:54</td>\n      <td>10</td>\n      <td>NaN</td>\n      <td>NaN</td>\n      <td>0</td>\n      <td>NaN</td>\n      <td>2018-02-19 12:10:14</td>\n      <td>13.271906</td>\n      <td>77.844764</td>\n    </tr>\n    <tr>\n      <th>31</th>\n      <td>11463</td>\n      <td>1078</td>\n      <td>8537</td>\n      <td>20420</td>\n      <td>5</td>\n      <td>ACTIVE</td>\n      <td>N</td>\n      <td>N</td>\n      <td>2014-08-20 12:09:54</td>\n      <td>10</td>\n      <td>NaN</td>\n      <td>NaN</td>\n      <td>0</td>\n      <td>NaN</td>\n      <td>2018-02-19 12:10:14</td>\n      <td>13.270515</td>\n      <td>77.848786</td>\n    </tr>\n    <tr>\n      <th>...</th>\n      <td>...</td>\n      <td>...</td>\n      <td>...</td>\n      <td>...</td>\n      <td>...</td>\n      <td>...</td>\n      <td>...</td>\n      <td>...</td>\n      <td>...</td>\n      <td>...</td>\n      <td>...</td>\n      <td>...</td>\n      <td>...</td>\n      <td>...</td>\n      <td>...</td>\n      <td>...</td>\n      <td>...</td>\n    </tr>\n    <tr>\n      <th>20837</th>\n      <td>16830</td>\n      <td>1206</td>\n      <td>345</td>\n      <td>23832</td>\n      <td>14</td>\n      <td>ACTIVE</td>\n      <td>Y</td>\n      <td>N</td>\n      <td>2014-08-25 17:14:32</td>\n      <td>6</td>\n      <td>NaN</td>\n      <td>NaN</td>\n      <td>0</td>\n      <td>NaN</td>\n      <td>2018-02-19 12:10:14</td>\n      <td>12.943920</td>\n      <td>77.576796</td>\n    </tr>\n    <tr>\n      <th>20991</th>\n      <td>16831</td>\n      <td>1206</td>\n      <td>2731</td>\n      <td>23404</td>\n      <td>15</td>\n      <td>ACTIVE</td>\n      <td>Y</td>\n      <td>N</td>\n      <td>2014-08-25 17:14:32</td>\n      <td>6</td>\n      <td>NaN</td>\n      <td>NaN</td>\n      <td>0</td>\n      <td>NaN</td>\n      <td>2018-02-19 12:10:14</td>\n      <td>12.953088</td>\n      <td>77.576745</td>\n    </tr>\n    <tr>\n      <th>21124</th>\n      <td>16832</td>\n      <td>1206</td>\n      <td>2730</td>\n      <td>23877</td>\n      <td>16</td>\n      <td>ACTIVE</td>\n      <td>N</td>\n      <td>N</td>\n      <td>2014-08-25 17:14:32</td>\n      <td>6</td>\n      <td>NaN</td>\n      <td>NaN</td>\n      <td>0</td>\n      <td>NaN</td>\n      <td>2018-02-19 12:10:14</td>\n      <td>12.955899</td>\n      <td>77.577194</td>\n    </tr>\n    <tr>\n      <th>21306</th>\n      <td>16833</td>\n      <td>1206</td>\n      <td>3017</td>\n      <td>19610</td>\n      <td>17</td>\n      <td>ACTIVE</td>\n      <td>N</td>\n      <td>N</td>\n      <td>2014-08-25 17:14:32</td>\n      <td>6</td>\n      <td>NaN</td>\n      <td>NaN</td>\n      <td>0</td>\n      <td>NaN</td>\n      <td>2018-02-19 12:10:14</td>\n      <td>12.958042</td>\n      <td>77.573800</td>\n    </tr>\n    <tr>\n      <th>21711</th>\n      <td>16834</td>\n      <td>1206</td>\n      <td>8523</td>\n      <td>0</td>\n      <td>18</td>\n      <td>ACTIVE</td>\n      <td>N</td>\n      <td>N</td>\n      <td>2014-08-25 17:14:32</td>\n      <td>6</td>\n      <td>NaN</td>\n      <td>NaN</td>\n      <td>0</td>\n      <td>NaN</td>\n      <td>2018-02-19 12:10:14</td>\n      <td>12.961733</td>\n      <td>77.577006</td>\n    </tr>\n  </tbody>\n</table>\n<p>100 rows × 17 columns</p>\n</div>"
     },
     "execution_count": 255,
     "metadata": {},
     "output_type": "execute_result"
    }
   ],
   "source": [
    "# sortby route_id and then by route_order\n",
    "mergerd_busstops_routepoints = mergerd_busstops_routepoints.sort_values(by=['route_id','route_order'])\n",
    "mergerd_busstops_routepoints.head(100)"
   ],
   "metadata": {
    "collapsed": false,
    "ExecuteTime": {
     "end_time": "2023-11-05T17:41:29.202794800Z",
     "start_time": "2023-11-05T17:41:28.948343300Z"
    }
   },
   "id": "81251013e3f3184"
  },
  {
   "cell_type": "code",
   "execution_count": 256,
   "outputs": [
    {
     "name": "stdout",
     "output_type": "stream",
     "text": [
      "632273\n",
      "24233\n"
     ]
    }
   ],
   "source": [
    "print(len(mergerd_busstops_routepoints))\n",
    "print(mergerd_busstops_routepoints.route_id.nunique())"
   ],
   "metadata": {
    "collapsed": false,
    "ExecuteTime": {
     "end_time": "2023-11-05T17:41:32.284323200Z",
     "start_time": "2023-11-05T17:41:32.260230700Z"
    }
   },
   "id": "a4c31a2895928b52"
  },
  {
   "cell_type": "code",
   "execution_count": 257,
   "outputs": [
    {
     "name": "stdout",
     "output_type": "stream",
     "text": [
      "608040\n"
     ]
    }
   ],
   "source": [
    "# Rename latitude_current and longitude_current to origin_lat and origin_long\n",
    "mergerd_busstops_routepoints = mergerd_busstops_routepoints.rename(columns={'latitude_current':'origin_lat','longitude_current':'origin_long'})\n",
    "\n",
    "# Create a new column destination_lat and destination_long and assign with the next row's origin_lat and origin_long\n",
    "mergerd_busstops_routepoints['destination_lat'] = mergerd_busstops_routepoints['origin_lat'].shift(-1)\n",
    "mergerd_busstops_routepoints['destination_long'] = mergerd_busstops_routepoints['origin_long'].shift(-1)\n",
    "\n",
    "# Drop the last row for every route_id \n",
    "mergerd_busstops_routepoints = mergerd_busstops_routepoints.groupby('route_id').apply(lambda x: x.iloc[:-1]).reset_index(drop=True)\n",
    "\n",
    "# print the length of the dataframe\n",
    "print(len(mergerd_busstops_routepoints))"
   ],
   "metadata": {
    "collapsed": false,
    "ExecuteTime": {
     "end_time": "2023-11-05T17:41:47.640962300Z",
     "start_time": "2023-11-05T17:41:34.736159200Z"
    }
   },
   "id": "91b654b42a8fe699"
  },
  {
   "cell_type": "code",
   "execution_count": 269,
   "outputs": [
    {
     "name": "stdout",
     "output_type": "stream",
     "text": [
      "40668\n"
     ]
    }
   ],
   "source": [
    "# Drop the duplicates based on origin_lat, origin_long, destination_lat and destination_long\n",
    "mergerd_busstops_routepoints = mergerd_busstops_routepoints.drop_duplicates(subset=['origin_lat','origin_long','destination_lat','destination_long'])\n",
    "# reset the index\n",
    "mergerd_busstops_routepoints = mergerd_busstops_routepoints.reset_index(drop=True)\n",
    "print(len(mergerd_busstops_routepoints))"
   ],
   "metadata": {
    "collapsed": false,
    "ExecuteTime": {
     "end_time": "2023-11-05T17:47:13.630748500Z",
     "start_time": "2023-11-05T17:47:13.583095600Z"
    }
   },
   "id": "638abf3cd7128250"
  },
  {
   "cell_type": "code",
   "execution_count": 259,
   "outputs": [
    {
     "data": {
      "text/plain": "    route_points_id  route_id  bus_stop_id  bus_stop_group_id  route_order  \\\n0             11459      1078         6461              16396            1   \n1             11460      1078         7193              16396            2   \n2             11461      1078         6422              20415            3   \n3             11462      1078         6692              20417            4   \n4             11463      1078         8537              20420            5   \n..              ...       ...          ...                ...          ...   \n95            16833      1206         3017              19610           17   \n96            16834      1206         8523                  0           18   \n97            16835      1206         8522                  0           19   \n98            17529      1226         3014              19586            1   \n99            17530      1226         8442                  0            2   \n\n   point_status fare_stage sub_stage         created_date  created_by  \\\n0        ACTIVE          Y         N  2014-08-20 12:09:54          10   \n1        ACTIVE          N         N  2014-08-20 12:09:54          10   \n2        ACTIVE          Y         N  2014-08-20 12:09:54          10   \n3        ACTIVE          N         N  2014-08-20 12:09:54          10   \n4        ACTIVE          N         N  2014-08-20 12:09:54          10   \n..          ...        ...       ...                  ...         ...   \n95       ACTIVE          N         N  2014-08-25 17:14:32           6   \n96       ACTIVE          N         N  2014-08-25 17:14:32           6   \n97       ACTIVE          N         N  2014-08-25 17:14:32           6   \n98       ACTIVE          Y         N  2014-08-27 13:31:18           6   \n99       ACTIVE          N         N  2014-08-27 13:31:18           6   \n\n    updated_date  updated_by  deleted_status  routepoint_route_id  \\\n0            NaN         NaN               0                  NaN   \n1            NaN         NaN               0                  NaN   \n2            NaN         NaN               0                  NaN   \n3            NaN         NaN               0                  NaN   \n4            NaN         NaN               0                  NaN   \n..           ...         ...             ...                  ...   \n95           NaN         NaN               0                  NaN   \n96           NaN         NaN               0                  NaN   \n97           NaN         NaN               0                  NaN   \n98           NaN         NaN               0                  NaN   \n99           NaN         NaN               0                  NaN   \n\n      sync_updated_date  origin_lat  origin_long  destination_lat  \\\n0   2019-06-06 15:57:27   13.294807    77.802070        13.291506   \n1   2019-06-06 15:57:27   13.291506    77.806074        13.279805   \n2   2018-02-19 12:10:14   13.279805    77.820746        13.271906   \n3   2018-02-19 12:10:14   13.271906    77.844764        13.270515   \n4   2018-02-19 12:10:14   13.270515    77.848786        13.261363   \n..                  ...         ...          ...              ...   \n95  2018-02-19 12:10:14   12.958042    77.573800        12.961733   \n96  2018-02-19 12:10:14   12.961733    77.577006        12.961598   \n97  2018-02-19 12:10:14   12.961598    77.577355        12.960165   \n98  2018-02-19 12:10:14   12.960165    77.577171        12.959172   \n99  2018-02-19 12:10:14   12.959172    77.576735        12.959722   \n\n    destination_long  \n0          77.806074  \n1          77.820746  \n2          77.844764  \n3          77.848786  \n4          77.846914  \n..               ...  \n95         77.577006  \n96         77.577355  \n97         77.577171  \n98         77.576735  \n99         77.574589  \n\n[100 rows x 19 columns]",
      "text/html": "<div>\n<style scoped>\n    .dataframe tbody tr th:only-of-type {\n        vertical-align: middle;\n    }\n\n    .dataframe tbody tr th {\n        vertical-align: top;\n    }\n\n    .dataframe thead th {\n        text-align: right;\n    }\n</style>\n<table border=\"1\" class=\"dataframe\">\n  <thead>\n    <tr style=\"text-align: right;\">\n      <th></th>\n      <th>route_points_id</th>\n      <th>route_id</th>\n      <th>bus_stop_id</th>\n      <th>bus_stop_group_id</th>\n      <th>route_order</th>\n      <th>point_status</th>\n      <th>fare_stage</th>\n      <th>sub_stage</th>\n      <th>created_date</th>\n      <th>created_by</th>\n      <th>updated_date</th>\n      <th>updated_by</th>\n      <th>deleted_status</th>\n      <th>routepoint_route_id</th>\n      <th>sync_updated_date</th>\n      <th>origin_lat</th>\n      <th>origin_long</th>\n      <th>destination_lat</th>\n      <th>destination_long</th>\n    </tr>\n  </thead>\n  <tbody>\n    <tr>\n      <th>0</th>\n      <td>11459</td>\n      <td>1078</td>\n      <td>6461</td>\n      <td>16396</td>\n      <td>1</td>\n      <td>ACTIVE</td>\n      <td>Y</td>\n      <td>N</td>\n      <td>2014-08-20 12:09:54</td>\n      <td>10</td>\n      <td>NaN</td>\n      <td>NaN</td>\n      <td>0</td>\n      <td>NaN</td>\n      <td>2019-06-06 15:57:27</td>\n      <td>13.294807</td>\n      <td>77.802070</td>\n      <td>13.291506</td>\n      <td>77.806074</td>\n    </tr>\n    <tr>\n      <th>1</th>\n      <td>11460</td>\n      <td>1078</td>\n      <td>7193</td>\n      <td>16396</td>\n      <td>2</td>\n      <td>ACTIVE</td>\n      <td>N</td>\n      <td>N</td>\n      <td>2014-08-20 12:09:54</td>\n      <td>10</td>\n      <td>NaN</td>\n      <td>NaN</td>\n      <td>0</td>\n      <td>NaN</td>\n      <td>2019-06-06 15:57:27</td>\n      <td>13.291506</td>\n      <td>77.806074</td>\n      <td>13.279805</td>\n      <td>77.820746</td>\n    </tr>\n    <tr>\n      <th>2</th>\n      <td>11461</td>\n      <td>1078</td>\n      <td>6422</td>\n      <td>20415</td>\n      <td>3</td>\n      <td>ACTIVE</td>\n      <td>Y</td>\n      <td>N</td>\n      <td>2014-08-20 12:09:54</td>\n      <td>10</td>\n      <td>NaN</td>\n      <td>NaN</td>\n      <td>0</td>\n      <td>NaN</td>\n      <td>2018-02-19 12:10:14</td>\n      <td>13.279805</td>\n      <td>77.820746</td>\n      <td>13.271906</td>\n      <td>77.844764</td>\n    </tr>\n    <tr>\n      <th>3</th>\n      <td>11462</td>\n      <td>1078</td>\n      <td>6692</td>\n      <td>20417</td>\n      <td>4</td>\n      <td>ACTIVE</td>\n      <td>N</td>\n      <td>N</td>\n      <td>2014-08-20 12:09:54</td>\n      <td>10</td>\n      <td>NaN</td>\n      <td>NaN</td>\n      <td>0</td>\n      <td>NaN</td>\n      <td>2018-02-19 12:10:14</td>\n      <td>13.271906</td>\n      <td>77.844764</td>\n      <td>13.270515</td>\n      <td>77.848786</td>\n    </tr>\n    <tr>\n      <th>4</th>\n      <td>11463</td>\n      <td>1078</td>\n      <td>8537</td>\n      <td>20420</td>\n      <td>5</td>\n      <td>ACTIVE</td>\n      <td>N</td>\n      <td>N</td>\n      <td>2014-08-20 12:09:54</td>\n      <td>10</td>\n      <td>NaN</td>\n      <td>NaN</td>\n      <td>0</td>\n      <td>NaN</td>\n      <td>2018-02-19 12:10:14</td>\n      <td>13.270515</td>\n      <td>77.848786</td>\n      <td>13.261363</td>\n      <td>77.846914</td>\n    </tr>\n    <tr>\n      <th>...</th>\n      <td>...</td>\n      <td>...</td>\n      <td>...</td>\n      <td>...</td>\n      <td>...</td>\n      <td>...</td>\n      <td>...</td>\n      <td>...</td>\n      <td>...</td>\n      <td>...</td>\n      <td>...</td>\n      <td>...</td>\n      <td>...</td>\n      <td>...</td>\n      <td>...</td>\n      <td>...</td>\n      <td>...</td>\n      <td>...</td>\n      <td>...</td>\n    </tr>\n    <tr>\n      <th>95</th>\n      <td>16833</td>\n      <td>1206</td>\n      <td>3017</td>\n      <td>19610</td>\n      <td>17</td>\n      <td>ACTIVE</td>\n      <td>N</td>\n      <td>N</td>\n      <td>2014-08-25 17:14:32</td>\n      <td>6</td>\n      <td>NaN</td>\n      <td>NaN</td>\n      <td>0</td>\n      <td>NaN</td>\n      <td>2018-02-19 12:10:14</td>\n      <td>12.958042</td>\n      <td>77.573800</td>\n      <td>12.961733</td>\n      <td>77.577006</td>\n    </tr>\n    <tr>\n      <th>96</th>\n      <td>16834</td>\n      <td>1206</td>\n      <td>8523</td>\n      <td>0</td>\n      <td>18</td>\n      <td>ACTIVE</td>\n      <td>N</td>\n      <td>N</td>\n      <td>2014-08-25 17:14:32</td>\n      <td>6</td>\n      <td>NaN</td>\n      <td>NaN</td>\n      <td>0</td>\n      <td>NaN</td>\n      <td>2018-02-19 12:10:14</td>\n      <td>12.961733</td>\n      <td>77.577006</td>\n      <td>12.961598</td>\n      <td>77.577355</td>\n    </tr>\n    <tr>\n      <th>97</th>\n      <td>16835</td>\n      <td>1206</td>\n      <td>8522</td>\n      <td>0</td>\n      <td>19</td>\n      <td>ACTIVE</td>\n      <td>N</td>\n      <td>N</td>\n      <td>2014-08-25 17:14:32</td>\n      <td>6</td>\n      <td>NaN</td>\n      <td>NaN</td>\n      <td>0</td>\n      <td>NaN</td>\n      <td>2018-02-19 12:10:14</td>\n      <td>12.961598</td>\n      <td>77.577355</td>\n      <td>12.960165</td>\n      <td>77.577171</td>\n    </tr>\n    <tr>\n      <th>98</th>\n      <td>17529</td>\n      <td>1226</td>\n      <td>3014</td>\n      <td>19586</td>\n      <td>1</td>\n      <td>ACTIVE</td>\n      <td>Y</td>\n      <td>N</td>\n      <td>2014-08-27 13:31:18</td>\n      <td>6</td>\n      <td>NaN</td>\n      <td>NaN</td>\n      <td>0</td>\n      <td>NaN</td>\n      <td>2018-02-19 12:10:14</td>\n      <td>12.960165</td>\n      <td>77.577171</td>\n      <td>12.959172</td>\n      <td>77.576735</td>\n    </tr>\n    <tr>\n      <th>99</th>\n      <td>17530</td>\n      <td>1226</td>\n      <td>8442</td>\n      <td>0</td>\n      <td>2</td>\n      <td>ACTIVE</td>\n      <td>N</td>\n      <td>N</td>\n      <td>2014-08-27 13:31:18</td>\n      <td>6</td>\n      <td>NaN</td>\n      <td>NaN</td>\n      <td>0</td>\n      <td>NaN</td>\n      <td>2018-02-19 12:10:14</td>\n      <td>12.959172</td>\n      <td>77.576735</td>\n      <td>12.959722</td>\n      <td>77.574589</td>\n    </tr>\n  </tbody>\n</table>\n<p>100 rows × 19 columns</p>\n</div>"
     },
     "execution_count": 259,
     "metadata": {},
     "output_type": "execute_result"
    }
   ],
   "source": [
    "mergerd_busstops_routepoints.head(100)"
   ],
   "metadata": {
    "collapsed": false,
    "ExecuteTime": {
     "end_time": "2023-11-05T17:41:47.834309400Z",
     "start_time": "2023-11-05T17:41:47.783637800Z"
    }
   },
   "id": "52f5e80e1305bdec"
  },
  {
   "cell_type": "code",
   "execution_count": 281,
   "outputs": [],
   "source": [
    "# Create an R-tree index\n",
    "idx = index.Index()\n",
    " \n",
    "# Populate the R-tree index with stop segments\n",
    "for i, row in mergerd_busstops_routepoints.iterrows():\n",
    "    start_lat, start_lon, end_lat, end_lon = row['origin_lat'], row['origin_long'], row['destination_lat'], row['destination_long']\n",
    "    idx.insert(i, (min(start_lat, end_lat), min(start_lon, end_lon), max(start_lat, end_lat), max(start_lon, end_lon)))"
   ],
   "metadata": {
    "collapsed": false,
    "ExecuteTime": {
     "end_time": "2023-11-05T17:54:51.301242600Z",
     "start_time": "2023-11-05T17:54:45.919216800Z"
    }
   },
   "id": "bf2cda51be57469d"
  },
  {
   "cell_type": "code",
   "execution_count": 282,
   "outputs": [],
   "source": [
    "# Function to find the stop segment for a given GPS ping\n",
    "def find_stop_segment(gps_lat, gps_lon):\n",
    "    for segment_id in idx.intersection((gps_lat, gps_lon, gps_lat, gps_lon)):\n",
    "        start_lat, start_lon, end_lat, end_lon = mergerd_busstops_routepoints.loc[segment_id, ['origin_lat', 'origin_long', 'destination_lat', 'destination_long']]\n",
    "        if min(start_lat, end_lat) <= gps_lat <= max(start_lat, end_lat) and min(start_lon, end_lon) <= gps_lon <= max(start_lon, end_lon):\n",
    "            return segment_id\n",
    "    return None  # GPS ping does not belong to any stop segment"
   ],
   "metadata": {
    "collapsed": false,
    "ExecuteTime": {
     "end_time": "2023-11-05T17:54:51.316711400Z",
     "start_time": "2023-11-05T17:54:51.301242600Z"
    }
   },
   "id": "57ae858cc02cd5b9"
  },
  {
   "cell_type": "code",
   "execution_count": 283,
   "outputs": [
    {
     "name": "stderr",
     "output_type": "stream",
     "text": [
      "C:\\Users\\Adarsh\\AppData\\Local\\Temp\\ipykernel_39468\\1827242174.py:2: SettingWithCopyWarning: \n",
      "A value is trying to be set on a copy of a slice from a DataFrame.\n",
      "Try using .loc[row_indexer,col_indexer] = value instead\n",
      "\n",
      "See the caveats in the documentation: https://pandas.pydata.org/pandas-docs/stable/user_guide/indexing.html#returning-a-view-versus-a-copy\n",
      "  gps_df_bus1['segment_id'] = gps_df_bus1.apply(lambda x: find_stop_segment(x['LAT'],x['LONGITUDE']),axis=1)\n"
     ]
    },
    {
     "data": {
      "text/plain": "       DEVICE_ID            IST_DATE        LAT  LONGITUDE  YEAR  DAY  \\\n16362  150218177 2019-10-13 00:01:01  13.164146  77.629158  2019    6   \n16409  150218177 2019-10-13 00:08:39  13.084632  77.594170  2019    6   \n16410  150218177 2019-10-13 00:08:49  13.083401  77.593681  2019    6   \n16411  150218177 2019-10-13 00:08:59  13.081986  77.593262  2019    6   \n16429  150218177 2019-10-13 00:11:38  13.051045  77.593193  2019    6   \n...          ...                 ...        ...        ...   ...  ...   \n16532  150218177 2019-10-13 00:28:24  12.956367  77.592331  2019    6   \n16533  150218177 2019-10-13 00:28:34  12.955678  77.592148  2019    6   \n16534  150218177 2019-10-13 00:28:44  12.955214  77.592552  2019    6   \n16535  150218177 2019-10-13 00:28:54  12.954757  77.592628  2019    6   \n16536  150218177 2019-10-13 00:29:04  12.954674  77.592598  2019    6   \n\n             DATE      TIME   PREV_LAT  PREV_LONGITUDE       PREV_IST_DATE  \\\n16362  2019-10-13  00:01:01  13.164267       77.629250 2019-10-13 00:00:59   \n16409  2019-10-13  00:08:39  13.085685       77.594604 2019-10-13 00:08:29   \n16410  2019-10-13  00:08:49  13.084632       77.594170 2019-10-13 00:08:39   \n16411  2019-10-13  00:08:59  13.083401       77.593681 2019-10-13 00:08:49   \n16429  2019-10-13  00:11:38  13.051375       77.593277 2019-10-13 00:11:35   \n...           ...       ...        ...             ...                 ...   \n16532  2019-10-13  00:28:24  12.957315       77.592690 2019-10-13 00:28:14   \n16533  2019-10-13  00:28:34  12.956367       77.592331 2019-10-13 00:28:24   \n16534  2019-10-13  00:28:44  12.955678       77.592148 2019-10-13 00:28:34   \n16535  2019-10-13  00:28:54  12.955214       77.592552 2019-10-13 00:28:44   \n16536  2019-10-13  00:29:04  12.954757       77.592628 2019-10-13 00:28:54   \n\n         DISTANCE  TIME_DIFF      SPEED  STOP_TIME  segment_id  \n16362   16.740677        2.0  30.131712          0        8168  \n16409  126.171413       10.0  45.421255          0       32207  \n16410  146.770244       10.0  52.836760          0       32207  \n16411  163.754933       10.0  58.951186          0       32207  \n16429   37.805702        3.0  45.365330          0       34130  \n...           ...        ...        ...        ...         ...  \n16532  112.362380       10.0  40.450052          0       11241  \n16533   79.138298       10.0  28.489502          0       11241  \n16534   67.665503       10.0  24.359338          0       11241  \n16535   51.479204       10.0  18.532328          0       11241  \n16536    9.785021       10.0   3.522572          0       11241  \n\n[100 rows x 16 columns]",
      "text/html": "<div>\n<style scoped>\n    .dataframe tbody tr th:only-of-type {\n        vertical-align: middle;\n    }\n\n    .dataframe tbody tr th {\n        vertical-align: top;\n    }\n\n    .dataframe thead th {\n        text-align: right;\n    }\n</style>\n<table border=\"1\" class=\"dataframe\">\n  <thead>\n    <tr style=\"text-align: right;\">\n      <th></th>\n      <th>DEVICE_ID</th>\n      <th>IST_DATE</th>\n      <th>LAT</th>\n      <th>LONGITUDE</th>\n      <th>YEAR</th>\n      <th>DAY</th>\n      <th>DATE</th>\n      <th>TIME</th>\n      <th>PREV_LAT</th>\n      <th>PREV_LONGITUDE</th>\n      <th>PREV_IST_DATE</th>\n      <th>DISTANCE</th>\n      <th>TIME_DIFF</th>\n      <th>SPEED</th>\n      <th>STOP_TIME</th>\n      <th>segment_id</th>\n    </tr>\n  </thead>\n  <tbody>\n    <tr>\n      <th>16362</th>\n      <td>150218177</td>\n      <td>2019-10-13 00:01:01</td>\n      <td>13.164146</td>\n      <td>77.629158</td>\n      <td>2019</td>\n      <td>6</td>\n      <td>2019-10-13</td>\n      <td>00:01:01</td>\n      <td>13.164267</td>\n      <td>77.629250</td>\n      <td>2019-10-13 00:00:59</td>\n      <td>16.740677</td>\n      <td>2.0</td>\n      <td>30.131712</td>\n      <td>0</td>\n      <td>8168</td>\n    </tr>\n    <tr>\n      <th>16409</th>\n      <td>150218177</td>\n      <td>2019-10-13 00:08:39</td>\n      <td>13.084632</td>\n      <td>77.594170</td>\n      <td>2019</td>\n      <td>6</td>\n      <td>2019-10-13</td>\n      <td>00:08:39</td>\n      <td>13.085685</td>\n      <td>77.594604</td>\n      <td>2019-10-13 00:08:29</td>\n      <td>126.171413</td>\n      <td>10.0</td>\n      <td>45.421255</td>\n      <td>0</td>\n      <td>32207</td>\n    </tr>\n    <tr>\n      <th>16410</th>\n      <td>150218177</td>\n      <td>2019-10-13 00:08:49</td>\n      <td>13.083401</td>\n      <td>77.593681</td>\n      <td>2019</td>\n      <td>6</td>\n      <td>2019-10-13</td>\n      <td>00:08:49</td>\n      <td>13.084632</td>\n      <td>77.594170</td>\n      <td>2019-10-13 00:08:39</td>\n      <td>146.770244</td>\n      <td>10.0</td>\n      <td>52.836760</td>\n      <td>0</td>\n      <td>32207</td>\n    </tr>\n    <tr>\n      <th>16411</th>\n      <td>150218177</td>\n      <td>2019-10-13 00:08:59</td>\n      <td>13.081986</td>\n      <td>77.593262</td>\n      <td>2019</td>\n      <td>6</td>\n      <td>2019-10-13</td>\n      <td>00:08:59</td>\n      <td>13.083401</td>\n      <td>77.593681</td>\n      <td>2019-10-13 00:08:49</td>\n      <td>163.754933</td>\n      <td>10.0</td>\n      <td>58.951186</td>\n      <td>0</td>\n      <td>32207</td>\n    </tr>\n    <tr>\n      <th>16429</th>\n      <td>150218177</td>\n      <td>2019-10-13 00:11:38</td>\n      <td>13.051045</td>\n      <td>77.593193</td>\n      <td>2019</td>\n      <td>6</td>\n      <td>2019-10-13</td>\n      <td>00:11:38</td>\n      <td>13.051375</td>\n      <td>77.593277</td>\n      <td>2019-10-13 00:11:35</td>\n      <td>37.805702</td>\n      <td>3.0</td>\n      <td>45.365330</td>\n      <td>0</td>\n      <td>34130</td>\n    </tr>\n    <tr>\n      <th>...</th>\n      <td>...</td>\n      <td>...</td>\n      <td>...</td>\n      <td>...</td>\n      <td>...</td>\n      <td>...</td>\n      <td>...</td>\n      <td>...</td>\n      <td>...</td>\n      <td>...</td>\n      <td>...</td>\n      <td>...</td>\n      <td>...</td>\n      <td>...</td>\n      <td>...</td>\n      <td>...</td>\n    </tr>\n    <tr>\n      <th>16532</th>\n      <td>150218177</td>\n      <td>2019-10-13 00:28:24</td>\n      <td>12.956367</td>\n      <td>77.592331</td>\n      <td>2019</td>\n      <td>6</td>\n      <td>2019-10-13</td>\n      <td>00:28:24</td>\n      <td>12.957315</td>\n      <td>77.592690</td>\n      <td>2019-10-13 00:28:14</td>\n      <td>112.362380</td>\n      <td>10.0</td>\n      <td>40.450052</td>\n      <td>0</td>\n      <td>11241</td>\n    </tr>\n    <tr>\n      <th>16533</th>\n      <td>150218177</td>\n      <td>2019-10-13 00:28:34</td>\n      <td>12.955678</td>\n      <td>77.592148</td>\n      <td>2019</td>\n      <td>6</td>\n      <td>2019-10-13</td>\n      <td>00:28:34</td>\n      <td>12.956367</td>\n      <td>77.592331</td>\n      <td>2019-10-13 00:28:24</td>\n      <td>79.138298</td>\n      <td>10.0</td>\n      <td>28.489502</td>\n      <td>0</td>\n      <td>11241</td>\n    </tr>\n    <tr>\n      <th>16534</th>\n      <td>150218177</td>\n      <td>2019-10-13 00:28:44</td>\n      <td>12.955214</td>\n      <td>77.592552</td>\n      <td>2019</td>\n      <td>6</td>\n      <td>2019-10-13</td>\n      <td>00:28:44</td>\n      <td>12.955678</td>\n      <td>77.592148</td>\n      <td>2019-10-13 00:28:34</td>\n      <td>67.665503</td>\n      <td>10.0</td>\n      <td>24.359338</td>\n      <td>0</td>\n      <td>11241</td>\n    </tr>\n    <tr>\n      <th>16535</th>\n      <td>150218177</td>\n      <td>2019-10-13 00:28:54</td>\n      <td>12.954757</td>\n      <td>77.592628</td>\n      <td>2019</td>\n      <td>6</td>\n      <td>2019-10-13</td>\n      <td>00:28:54</td>\n      <td>12.955214</td>\n      <td>77.592552</td>\n      <td>2019-10-13 00:28:44</td>\n      <td>51.479204</td>\n      <td>10.0</td>\n      <td>18.532328</td>\n      <td>0</td>\n      <td>11241</td>\n    </tr>\n    <tr>\n      <th>16536</th>\n      <td>150218177</td>\n      <td>2019-10-13 00:29:04</td>\n      <td>12.954674</td>\n      <td>77.592598</td>\n      <td>2019</td>\n      <td>6</td>\n      <td>2019-10-13</td>\n      <td>00:29:04</td>\n      <td>12.954757</td>\n      <td>77.592628</td>\n      <td>2019-10-13 00:28:54</td>\n      <td>9.785021</td>\n      <td>10.0</td>\n      <td>3.522572</td>\n      <td>0</td>\n      <td>11241</td>\n    </tr>\n  </tbody>\n</table>\n<p>100 rows × 16 columns</p>\n</div>"
     },
     "execution_count": 283,
     "metadata": {},
     "output_type": "execute_result"
    }
   ],
   "source": [
    "# create a new column segment id and find it using find_stop_segment function\n",
    "gps_df_bus1['segment_id'] = gps_df_bus1.apply(lambda x: find_stop_segment(x['LAT'],x['LONGITUDE']),axis=1)\n",
    "gps_df_bus1.head(100)"
   ],
   "metadata": {
    "collapsed": false,
    "ExecuteTime": {
     "end_time": "2023-11-05T17:54:54.097575600Z",
     "start_time": "2023-11-05T17:54:53.756267700Z"
    }
   },
   "id": "44d03c18a59917e7"
  },
  {
   "cell_type": "code",
   "execution_count": 284,
   "outputs": [
    {
     "data": {
      "text/plain": "segment_id\n35308    91\n35288    48\n11241    45\n486      38\n11707    26\n31170    11\n11780    10\n19270    10\n33188     8\n23152     7\n24118     6\n35254     4\n34130     4\n35162     3\n32207     3\n2480      2\n12116     2\n7950      2\n36169     2\n28463     2\n28462     2\n35255     1\n22510     1\n25985     1\n21481     1\n8168      1\nName: count, dtype: int64"
     },
     "execution_count": 284,
     "metadata": {},
     "output_type": "execute_result"
    }
   ],
   "source": [
    "gps_df_bus1.segment_id.value_counts()"
   ],
   "metadata": {
    "collapsed": false,
    "ExecuteTime": {
     "end_time": "2023-11-05T17:54:58.601035800Z",
     "start_time": "2023-11-05T17:54:58.578290700Z"
    }
   },
   "id": "1e1d4035ac21102e"
  },
  {
   "cell_type": "code",
   "execution_count": 285,
   "outputs": [],
   "source": [
    "# Plot the gps pings present in gps_df_bus1 as circular marker and origin lat and origin long as red marker from merged_busstops_routepoints as marker\n",
    "m = folium.Map(location=[12.9716,77.5946],zoom_start=12)\n",
    "for idex,row in mergerd_busstops_routepoints.iterrows():\n",
    "    if idex in gps_df_bus1['segment_id'].unique():\n",
    "        folium.Marker([row['origin_lat'],row['origin_long']],popup=row['route_id'],icon=folium.Icon(color='red')).add_to(m)\n",
    "    # folium.Marker([row['origin_lat'],row['origin_long']],popup=row['route_id'],icon=folium.Icon(color='red')).add_to(m)\n",
    "for index,row in gps_df_bus1.iterrows():\n",
    "    folium.CircleMarker([row['LAT'],row['LONGITUDE']],radius=0.01,color='blue',fill=True).add_to(m)\n",
    "\n",
    "m.save('bus1.html')\n",
    "    "
   ],
   "metadata": {
    "collapsed": false,
    "ExecuteTime": {
     "end_time": "2023-11-05T17:55:07.895038400Z",
     "start_time": "2023-11-05T17:55:03.523254Z"
    }
   },
   "id": "1ef2a21c18c5f108"
  },
  {
   "cell_type": "code",
   "execution_count": 133,
   "outputs": [],
   "source": [
    "# Plot the stop_lat_long using Folium\n",
    "import folium\n",
    "m = folium.Map(location=[12.9716,77.5946],zoom_start=12)\n",
    "for index,row in stops.loc[:,:].iterrows():\n",
    "    folium.Marker([row['latitude_current'],row['longitude_current']],popup=row['bus_stop_id']).add_to(m)\n",
    "\n",
    "# Save the map as html file\n",
    "m.save('stops_full.html')"
   ],
   "metadata": {
    "collapsed": false,
    "ExecuteTime": {
     "end_time": "2023-11-05T14:11:50.841827900Z",
     "start_time": "2023-11-05T14:11:50.778363100Z"
    }
   },
   "id": "bb4a20a1932cb87d"
  },
  {
   "cell_type": "code",
   "execution_count": 131,
   "outputs": [],
   "source": [
    "# Plot the gps pings of DEVICE_ID == 150211826\n",
    "m = folium.Map(location=[12.9716,77.5946],zoom_start=12)\n",
    "for index,row in gps_df.loc[gps_df['DEVICE_ID'] == 150218012,:].iterrows():\n",
    "    folium.Marker([row['LAT'],row['LONGITUDE']],popup=row['DEVICE_ID']).add_to(m)\n",
    "\n",
    "m.save('gps.html')"
   ],
   "metadata": {
    "collapsed": false,
    "ExecuteTime": {
     "end_time": "2023-11-05T11:30:42.272061100Z",
     "start_time": "2023-11-05T11:30:36.401365900Z"
    }
   },
   "id": "b2eeada474d94603"
  },
  {
   "cell_type": "code",
   "execution_count": 132,
   "outputs": [
    {
     "data": {
      "text/plain": "DEVICE_ID         6602\nIST_DATE          6602\nLAT               6602\nLONGITUDE         6602\nYEAR              6602\nDAY               6602\nDATE              6602\nTIME              6602\nPREV_LAT          6602\nPREV_LONGITUDE    6602\nPREV_IST_DATE     6602\nDISTANCE          6602\nTIME_DIFF         6602\nSPEED             6602\ndtype: int64"
     },
     "execution_count": 132,
     "metadata": {},
     "output_type": "execute_result"
    }
   ],
   "source": [
    "gps_df.loc[gps_df['DEVICE_ID'] == 150211826,:].count()"
   ],
   "metadata": {
    "collapsed": false,
    "ExecuteTime": {
     "end_time": "2023-11-05T11:30:42.322356900Z",
     "start_time": "2023-11-05T11:30:42.272061100Z"
    }
   },
   "id": "9d5af1b85b895b1"
  },
  {
   "cell_type": "code",
   "execution_count": 112,
   "outputs": [
    {
     "data": {
      "text/plain": "array([150211826, 150218002, 150218006, ..., 181222810, 181222856,\n       181222935], dtype=int64)"
     },
     "execution_count": 112,
     "metadata": {},
     "output_type": "execute_result"
    }
   ],
   "source": [
    "gps_df.DEVICE_ID.unique()"
   ],
   "metadata": {
    "collapsed": false,
    "ExecuteTime": {
     "end_time": "2023-11-05T11:24:14.515900700Z",
     "start_time": "2023-11-05T11:24:14.486224100Z"
    }
   },
   "id": "a73af3a202787f9c"
  }
 ],
 "metadata": {
  "kernelspec": {
   "display_name": "Python 3",
   "language": "python",
   "name": "python3"
  },
  "language_info": {
   "codemirror_mode": {
    "name": "ipython",
    "version": 2
   },
   "file_extension": ".py",
   "mimetype": "text/x-python",
   "name": "python",
   "nbconvert_exporter": "python",
   "pygments_lexer": "ipython2",
   "version": "2.7.6"
  }
 },
 "nbformat": 4,
 "nbformat_minor": 5
}
