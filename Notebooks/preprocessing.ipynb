{
 "cells": [
  {
   "cell_type": "code",
   "execution_count": 96,
   "id": "initial_id",
   "metadata": {
    "collapsed": true,
    "ExecuteTime": {
     "end_time": "2023-11-11T12:59:30.495438100Z",
     "start_time": "2023-11-11T12:59:30.463780100Z"
    }
   },
   "outputs": [],
   "source": [
    "import pandas as pd\n",
    "import matplotlib.pyplot as plt\n",
    "from haversine import haversine_vector, Unit, haversine\n",
    "import osmnx as ox\n",
    "import pickle\n",
    "import os\n",
    "from tqdm import tqdm\n",
    "import folium\n",
    "from rtree import index"
   ]
  },
  {
   "cell_type": "markdown",
   "source": [],
   "metadata": {
    "collapsed": false
   },
   "id": "5edb06bf6382da00"
  },
  {
   "cell_type": "code",
   "execution_count": null,
   "id": "b5f5c444c3a6c31f",
   "metadata": {
    "collapsed": false
   },
   "outputs": [],
   "source": [
    "stops_df = pd.read_csv(r\"../Dataset/bus_stop.csv\")"
   ]
  },
  {
   "cell_type": "code",
   "execution_count": null,
   "id": "c0b871044e81286d",
   "metadata": {
    "collapsed": false
   },
   "outputs": [],
   "source": [
    "gps_df = pd.read_csv(r\"../Dataset/GPS.csv\")"
   ]
  },
  {
   "cell_type": "code",
   "execution_count": null,
   "id": "cd02695e7b4ba920",
   "metadata": {
    "collapsed": false
   },
   "outputs": [],
   "source": [
    "print(len(gps_df))\n",
    "gps_df.head()"
   ]
  },
  {
   "cell_type": "code",
   "execution_count": null,
   "id": "d3520e27597bd953",
   "metadata": {
    "collapsed": false
   },
   "outputs": [],
   "source": [
    "# Drop duplicate based on DEVICE_ID, IST_DATE, LAT and LONGITUDE\n",
    "gps_df = gps_df.drop_duplicates(subset=['DEVICE_ID','IST_DATE','LAT','LONGITUDE'])"
   ]
  },
  {
   "cell_type": "code",
   "execution_count": null,
   "id": "836d5faf87b54bb6",
   "metadata": {
    "collapsed": false
   },
   "outputs": [],
   "source": [
    "# Filter the rows which LAT and LONGITUDE are between 12 and 14 and 77 and 79\n",
    "stops_df = stops_df[(stops_df['latitude_current'] > 12.8265) & (stops_df['latitude_current'] < 13.2694) & (stops_df['longitude_current'] > 77.3740) & (stops_df['longitude_current'] < 77.8313)]\n",
    "gps_df = gps_df[(gps_df['LAT'] > 12) & (gps_df['LAT'] < 13.2694) & (gps_df['LONGITUDE'] > 77.3740) & (gps_df['LONGITUDE'] < 77.8313)]\n",
    "print(len(gps_df))\n",
    "gps_df.head()"
   ]
  },
  {
   "cell_type": "code",
   "execution_count": null,
   "id": "1a28ddd5002b5c45",
   "metadata": {
    "collapsed": false
   },
   "outputs": [],
   "source": [
    "# Plot the data point based on year, Day and date\n",
    "gps_df['IST_DATE'] = pd.to_datetime(gps_df['IST_DATE'])\n",
    "gps_df['YEAR'] = gps_df['IST_DATE'].dt.year\n",
    "gps_df['DAY'] = gps_df['IST_DATE'].dt.dayofweek\n",
    "gps_df['DATE'] = gps_df['IST_DATE'].dt.date\n",
    "gps_df['TIME'] = gps_df['IST_DATE'].dt.time"
   ]
  },
  {
   "cell_type": "code",
   "execution_count": null,
   "id": "36d8cbac53ee49f",
   "metadata": {
    "collapsed": false
   },
   "outputs": [],
   "source": [
    "gps_df['DATE'].value_counts()"
   ]
  },
  {
   "cell_type": "code",
   "execution_count": null,
   "id": "31542f2a751040fe",
   "metadata": {
    "collapsed": false
   },
   "outputs": [],
   "source": [
    "# Remove the data points which are not in 2019\n",
    "gps_df = gps_df[gps_df['YEAR'] == 2019]"
   ]
  },
  {
   "cell_type": "code",
   "execution_count": null,
   "id": "4106d9dea507f390",
   "metadata": {
    "collapsed": false
   },
   "outputs": [],
   "source": [
    "# Sort the dataframe by DEVICE_ID and then by IST_DATE\n",
    "gps_df = gps_df.sort_values(by=['DEVICE_ID','IST_DATE'])\n",
    "gps_df.head()"
   ]
  },
  {
   "cell_type": "code",
   "execution_count": null,
   "id": "22c94ebc602feea2",
   "metadata": {
    "collapsed": false
   },
   "outputs": [],
   "source": [
    "# Shift the rows by 1 and get the previous row's LAT and LONGITUDE and IST_DATE\n",
    "gps_df['PREV_LAT'] = gps_df.groupby(['DEVICE_ID'])['LAT'].shift(1)\n",
    "gps_df['PREV_LONGITUDE'] = gps_df.groupby(['DEVICE_ID'])['LONGITUDE'].shift(1)\n",
    "gps_df['PREV_IST_DATE'] = gps_df.groupby(['DEVICE_ID'])['IST_DATE'].shift(1)\n",
    "gps_df.head()"
   ]
  },
  {
   "cell_type": "code",
   "execution_count": null,
   "id": "c41e214a8295e529",
   "metadata": {
    "collapsed": false
   },
   "outputs": [],
   "source": [
    "# Drop the na values\n",
    "gps_df = gps_df.dropna()"
   ]
  },
  {
   "cell_type": "code",
   "execution_count": null,
   "id": "52da9167fbe954c9",
   "metadata": {
    "collapsed": false
   },
   "outputs": [],
   "source": [
    "# Calculate the distance between the current row and the previous row using haversine formula\n",
    "gps_df['DISTANCE'] = haversine_vector(gps_df[['LAT','LONGITUDE']],gps_df[['PREV_LAT','PREV_LONGITUDE']],Unit.METERS)"
   ]
  },
  {
   "cell_type": "code",
   "execution_count": null,
   "id": "32e781fc40785c39",
   "metadata": {
    "collapsed": false
   },
   "outputs": [],
   "source": [
    "# Calculate the time difference between the current row and the previous row\n",
    "gps_df['TIME_DIFF'] = (pd.to_datetime(gps_df['IST_DATE']) - pd.to_datetime(gps_df['PREV_IST_DATE'])).dt.total_seconds()"
   ]
  },
  {
   "cell_type": "code",
   "execution_count": null,
   "id": "50dbba99",
   "metadata": {},
   "outputs": [],
   "source": [
    "print(len(gps_df))\n",
    "gps_df.head()"
   ]
  },
  {
   "cell_type": "code",
   "execution_count": null,
   "id": "4cf846f453e1584a",
   "metadata": {
    "collapsed": false
   },
   "outputs": [],
   "source": [
    "# PLot the distance and time difference\n",
    "plt.scatter(gps_df['DISTANCE'],gps_df['TIME_DIFF'])\n",
    "plt.xlabel('Distance')\n",
    "plt.ylabel('Time Difference')\n",
    "plt.show()"
   ]
  },
  {
   "cell_type": "code",
   "execution_count": null,
   "id": "30a09d8fb6020e6c",
   "metadata": {
    "collapsed": false
   },
   "outputs": [],
   "source": [
    "gps_df['SPEED'] = gps_df['DISTANCE'] / (gps_df['TIME_DIFF'] +0.0001) *18/5\n",
    "\n",
    "# Plot the scatter plot speed with respect index\n",
    "plt.scatter(gps_df.index,gps_df['SPEED'])\n",
    "plt.ylim(0,200)\n",
    "plt.xlabel('Index')\n",
    "plt.ylabel('Speed')\n",
    "plt.show()"
   ]
  },
  {
   "cell_type": "code",
   "execution_count": null,
   "id": "ef35188073cdddd",
   "metadata": {
    "collapsed": false
   },
   "outputs": [],
   "source": [
    "# Value counts of speed between 0 and 1\n",
    "gps_df[(gps_df['SPEED'] > 0) & (gps_df['SPEED'] < 1)]['SPEED'].count()"
   ]
  },
  {
   "cell_type": "code",
   "execution_count": null,
   "id": "5c0ff4989291c83b",
   "metadata": {
    "collapsed": false
   },
   "outputs": [],
   "source": [
    "gps_df['SPEED'].min()"
   ]
  },
  {
   "cell_type": "code",
   "execution_count": null,
   "outputs": [],
   "source": [
    "gps_df_copy = gps_df.copy()"
   ],
   "metadata": {
    "collapsed": false
   },
   "id": "f8e1d45eadda3a91"
  },
  {
   "cell_type": "code",
   "execution_count": null,
   "outputs": [],
   "source": [
    "gps_df = gps_df_copy.copy()\n",
    "gps_df = gps_df.loc[(gps_df[\"TIME_DIFF\"] < 70) & (gps_df[\"SPEED\"] < 100),:]"
   ],
   "metadata": {
    "collapsed": false
   },
   "id": "fab5666057fb4795"
  },
  {
   "cell_type": "code",
   "execution_count": null,
   "id": "915489b490d956e6",
   "metadata": {
    "collapsed": false
   },
   "outputs": [],
   "source": [
    "# reset the index\n",
    "gps_df = gps_df.reset_index(drop=True)\n",
    "\n",
    "# Add column stop_time and initialize it with 0\n",
    "gps_df['STOP_TIME'] = 0\n",
    "\n",
    "# Take the dataframe with speed 0\n",
    "gps_df0 = gps_df[gps_df['SPEED'] <= 1]\n",
    "\n",
    "# # # Iterate over the dataframe with speed 0 and add the time_diff with the previous rows STOP_TIME to the current row STOP_TIME\n",
    "# prev_index = 0\n",
    "# for index,row in tqdm(gps_df0.iterrows(),total=len(gps_df0)):\n",
    "#     if index > 0 and row['DEVICE_ID'] == gps_df0.loc[prev_index,'DEVICE_ID']:\n",
    "#         gps_df.loc[index,'STOP_TIME'] = gps_df.loc[index-1,'STOP_TIME'] + row['TIME_DIFF']\n",
    "#     else:\n",
    "#         gps_df.loc[index,'STOP_TIME'] = row['TIME_DIFF']\n",
    "#     prev_index = index\n",
    "    \n"
   ]
  },
  {
   "cell_type": "code",
   "execution_count": 169,
   "outputs": [],
   "source": [
    "gps_df = pd.read_csv(r\"../Dataset/gps_point1.csv\")"
   ],
   "metadata": {
    "collapsed": false,
    "ExecuteTime": {
     "end_time": "2023-11-11T18:13:22.955059700Z",
     "start_time": "2023-11-11T18:12:48.367719200Z"
    }
   },
   "id": "206f0828305ee22a"
  },
  {
   "cell_type": "code",
   "execution_count": 170,
   "outputs": [],
   "source": [
    "gps_df_copy = gps_df.copy()"
   ],
   "metadata": {
    "collapsed": false,
    "ExecuteTime": {
     "end_time": "2023-11-11T18:13:24.164102800Z",
     "start_time": "2023-11-11T18:13:22.955059700Z"
    }
   },
   "id": "f0781e51"
  },
  {
   "cell_type": "code",
   "execution_count": 171,
   "id": "d320e12343980035",
   "metadata": {
    "collapsed": false,
    "ExecuteTime": {
     "end_time": "2023-11-11T18:13:26.911036300Z",
     "start_time": "2023-11-11T18:13:24.164102800Z"
    }
   },
   "outputs": [
    {
     "data": {
      "text/plain": "530190"
     },
     "execution_count": 171,
     "metadata": {},
     "output_type": "execute_result"
    }
   ],
   "source": [
    "stop_time = 120\n",
    "gps_df = gps_df_copy.copy()\n",
    "st = gps_df.loc[gps_df['STOP_TIME'] > stop_time,['LAT','LONGITUDE']].groupby(['LAT','LONGITUDE']).count()\n",
    "st = st.reset_index()\n",
    "len(st)"
   ]
  },
  {
   "cell_type": "code",
   "execution_count": 172,
   "id": "884a52e8fe9a9157",
   "metadata": {
    "collapsed": false,
    "ExecuteTime": {
     "end_time": "2023-11-11T18:13:38.931594200Z",
     "start_time": "2023-11-11T18:13:35.626318600Z"
    }
   },
   "outputs": [
    {
     "data": {
      "text/plain": "6177166"
     },
     "execution_count": 172,
     "metadata": {},
     "output_type": "execute_result"
    }
   ],
   "source": [
    "# Filter the gps_df with respect to STOP_TIME less than 600 and LAT and LONGITUDE are not in st\n",
    "gps_df = gps_df_copy.copy()\n",
    "gps_df = gps_df[gps_df['STOP_TIME'] < stop_time]\n",
    "\n",
    "gps_df = gps_df[~((gps_df['LAT'].isin(st['LAT'])) & (gps_df['LONGITUDE'].isin(st['LONGITUDE'])) & (gps_df['SPEED'] < 10))]\n",
    "\n",
    "len(gps_df)"
   ]
  },
  {
   "cell_type": "code",
   "execution_count": 173,
   "outputs": [],
   "source": [
    "gps_df_copy = gps_df.copy()"
   ],
   "metadata": {
    "collapsed": false,
    "ExecuteTime": {
     "end_time": "2023-11-11T18:13:40.744629500Z",
     "start_time": "2023-11-11T18:13:39.969356700Z"
    }
   },
   "id": "c5c9d3069a6b9677"
  },
  {
   "cell_type": "code",
   "execution_count": 176,
   "outputs": [
    {
     "data": {
      "text/plain": "6133697"
     },
     "execution_count": 176,
     "metadata": {},
     "output_type": "execute_result"
    }
   ],
   "source": [
    "# Filter the gps_df with repect to DEVICE_ID where total distance greater than 10000\n",
    "gps_df = gps_df_copy.copy()\n",
    "gps_df = gps_df.groupby(['DEVICE_ID']).filter(lambda x: x['DISTANCE'].sum() > 50000)\n",
    "len(gps_df)"
   ],
   "metadata": {
    "collapsed": false,
    "ExecuteTime": {
     "end_time": "2023-11-11T18:14:07.056709200Z",
     "start_time": "2023-11-11T18:14:04.494136900Z"
    }
   },
   "id": "dbede94e5a1946eb"
  },
  {
   "cell_type": "code",
   "execution_count": 178,
   "outputs": [
    {
     "data": {
      "text/plain": "2382.9436674436674"
     },
     "execution_count": 178,
     "metadata": {},
     "output_type": "execute_result"
    }
   ],
   "source": [
    "gps_df.DEVICE_ID.value_counts().mean()"
   ],
   "metadata": {
    "collapsed": false,
    "ExecuteTime": {
     "end_time": "2023-11-11T18:15:03.694610900Z",
     "start_time": "2023-11-11T18:15:03.556785800Z"
    }
   },
   "id": "2e5c45fe97e30e11"
  },
  {
   "cell_type": "code",
   "execution_count": 181,
   "outputs": [
    {
     "data": {
      "text/plain": "4857906"
     },
     "execution_count": 181,
     "metadata": {},
     "output_type": "execute_result"
    }
   ],
   "source": [
    "# Filter the gps_df with repect to DEVICE_ID where number of pings greater than 1000\n",
    "gps_df2 = gps_df.groupby(['DEVICE_ID']).filter(lambda x: len(x) > 2000)\n",
    "len(gps_df2)"
   ],
   "metadata": {
    "collapsed": false,
    "ExecuteTime": {
     "end_time": "2023-11-11T18:15:54.525438400Z",
     "start_time": "2023-11-11T18:15:52.990074200Z"
    }
   },
   "id": "9ebd92e3a1ac7851"
  },
  {
   "cell_type": "code",
   "execution_count": 130,
   "outputs": [
    {
     "data": {
      "text/plain": "3876"
     },
     "execution_count": 130,
     "metadata": {},
     "output_type": "execute_result"
    }
   ],
   "source": [
    "gps_df_bus1 = gps_df.loc[gps_df['DEVICE_ID'] == 150218177,:]\n",
    "len(gps_df_bus1)"
   ],
   "metadata": {
    "collapsed": false,
    "ExecuteTime": {
     "start_time": "2023-11-11T17:15:29.985563100Z"
    }
   },
   "id": "46fa46673146d89"
  },
  {
   "cell_type": "code",
   "execution_count": null,
   "outputs": [],
   "source": [
    "# Create a map for each Device ID and plot the gps pings as circular markers\n",
    "for device_id in gps_df['DEVICE_ID'].unique()[:5]:\n",
    "    gps_df_bus1 = gps_df.loc[gps_df['DEVICE_ID'] == device_id,:]\n",
    "    m = folium.Map(location=[12.9716,77.5946],zoom_start=12)\n",
    "    for index,row in gps_df_bus1.iterrows():\n",
    "        folium.CircleMarker([row['LAT'],row['LONGITUDE']],radius=0.01,color='blue',fill=True).add_to(m)\n",
    "    m.save(f'./maps/bus_{device_id}.html')"
   ],
   "metadata": {
    "collapsed": false
   },
   "id": "4c68e5f06fb1d7f7"
  },
  {
   "cell_type": "code",
   "execution_count": null,
   "id": "bc9ff56c1e305700",
   "metadata": {
    "collapsed": false
   },
   "outputs": [],
   "source": [
    "# Filter the gps data with respect to speed less than 60\n",
    "gps_df = gps_df[gps_df['SPEED'] < 120]\n",
    "print(gps_df.SPEED.mean())"
   ]
  },
  {
   "cell_type": "code",
   "execution_count": null,
   "outputs": [],
   "source": [
    "gps_df_bus1_copy = gps_df_bus1.copy()"
   ],
   "metadata": {
    "collapsed": false
   },
   "id": "5d32c2a6da93f913"
  },
  {
   "cell_type": "code",
   "execution_count": null,
   "id": "46d5e8e9069797e4",
   "metadata": {
    "collapsed": false
   },
   "outputs": [],
   "source": [
    "gps_df_bus1 = gps_df.loc[gps_df['DEVICE_ID'] == 150218177,:]\n",
    "gps_df_bus1.head(100)"
   ]
  },
  {
   "cell_type": "code",
   "execution_count": 108,
   "outputs": [],
   "source": [
    "G = ox.graph_from_bbox(12.8265, 13.2694, 77.3740, 77.8313, network_type='drive')\n",
    "\n",
    "# edges from G\n",
    "edges = ox.graph_to_gdfs(G, nodes=False, edges=True)"
   ],
   "metadata": {
    "collapsed": false,
    "ExecuteTime": {
     "end_time": "2023-11-11T16:56:06.306809800Z",
     "start_time": "2023-11-11T16:54:00.536434900Z"
    }
   },
   "id": "6da46bdac5117053"
  },
  {
   "cell_type": "code",
   "execution_count": 187,
   "outputs": [],
   "source": [
    "edges_df = pd.DataFrame(edges)"
   ],
   "metadata": {
    "collapsed": false,
    "ExecuteTime": {
     "end_time": "2023-11-11T18:20:07.087972100Z",
     "start_time": "2023-11-11T18:20:07.068817400Z"
    }
   },
   "id": "10ff2dcdd7565900"
  },
  {
   "cell_type": "code",
   "execution_count": 188,
   "outputs": [],
   "source": [
    "# edges_df reset index\n",
    "edges_df = edges_df.reset_index(drop=False)\n",
    "# Filter the edges_df based on length\n",
    "edges_df = edges_df[(edges_df['length'] > 20) & (edges_df['length'] < 200)]\n",
    "\n",
    "# Consider only the columns osmid, highway, length, geometry,reversed, oneway, u,v\n",
    "edges_df = edges_df[['osmid','highway','length','geometry','reversed','oneway','u','v']]\n",
    "\n",
    "# Create lat_u, long_u, lat_v, long_v columns and assign from geometry\n",
    "edges_df['lat_u'] = edges_df['geometry'].apply(lambda x: x.coords[0][1])\n",
    "edges_df['long_u'] = edges_df['geometry'].apply(lambda x: x.coords[0][0])\n",
    "edges_df['lat_v'] = edges_df['geometry'].apply(lambda x: x.coords[-1][1])\n",
    "edges_df['long_v'] = edges_df['geometry'].apply(lambda x: x.coords[-1][0])"
   ],
   "metadata": {
    "collapsed": false,
    "ExecuteTime": {
     "end_time": "2023-11-11T18:20:32.103847800Z",
     "start_time": "2023-11-11T18:20:08.869071400Z"
    }
   },
   "id": "14a4561c2a5a1b52"
  },
  {
   "cell_type": "code",
   "execution_count": 189,
   "outputs": [
    {
     "data": {
      "text/plain": "        osmid      highway   length  \\\n2  1166304119    secondary   29.724   \n3    45443685  residential  122.135   \n4   148319042     tertiary   33.303   \n5   148319042     tertiary   84.413   \n6    23029696    secondary  107.589   \n\n                                            geometry reversed  oneway  \\\n2  LINESTRING (77.59872 12.91054, 77.59899 12.91056)    False    True   \n3  LINESTRING (77.57933 12.98596, 77.57841 12.98659)    False   False   \n4  LINESTRING (77.57933 12.98596, 77.57951 12.98620)    False   False   \n5  LINESTRING (77.57933 12.98596, 77.57921 12.985...     True   False   \n6  LINESTRING (77.60480 12.97090, 77.60476 12.970...    False    True   \n\n          u            v      lat_u     long_u      lat_v     long_v  \n2  17327095    305154531  12.910542  77.598721  12.910560  77.598994  \n3  17327433    578121591  12.985958  77.579330  12.986587  77.578405  \n4  17327433  10279595643  12.985958  77.579330  12.986202  77.579507  \n5  17327433    429286716  12.985958  77.579330  12.985321  77.578905  \n6  60952254    423784673  12.970899  77.604800  12.971792  77.604417  ",
      "text/html": "<div>\n<style scoped>\n    .dataframe tbody tr th:only-of-type {\n        vertical-align: middle;\n    }\n\n    .dataframe tbody tr th {\n        vertical-align: top;\n    }\n\n    .dataframe thead th {\n        text-align: right;\n    }\n</style>\n<table border=\"1\" class=\"dataframe\">\n  <thead>\n    <tr style=\"text-align: right;\">\n      <th></th>\n      <th>osmid</th>\n      <th>highway</th>\n      <th>length</th>\n      <th>geometry</th>\n      <th>reversed</th>\n      <th>oneway</th>\n      <th>u</th>\n      <th>v</th>\n      <th>lat_u</th>\n      <th>long_u</th>\n      <th>lat_v</th>\n      <th>long_v</th>\n    </tr>\n  </thead>\n  <tbody>\n    <tr>\n      <th>2</th>\n      <td>1166304119</td>\n      <td>secondary</td>\n      <td>29.724</td>\n      <td>LINESTRING (77.59872 12.91054, 77.59899 12.91056)</td>\n      <td>False</td>\n      <td>True</td>\n      <td>17327095</td>\n      <td>305154531</td>\n      <td>12.910542</td>\n      <td>77.598721</td>\n      <td>12.910560</td>\n      <td>77.598994</td>\n    </tr>\n    <tr>\n      <th>3</th>\n      <td>45443685</td>\n      <td>residential</td>\n      <td>122.135</td>\n      <td>LINESTRING (77.57933 12.98596, 77.57841 12.98659)</td>\n      <td>False</td>\n      <td>False</td>\n      <td>17327433</td>\n      <td>578121591</td>\n      <td>12.985958</td>\n      <td>77.579330</td>\n      <td>12.986587</td>\n      <td>77.578405</td>\n    </tr>\n    <tr>\n      <th>4</th>\n      <td>148319042</td>\n      <td>tertiary</td>\n      <td>33.303</td>\n      <td>LINESTRING (77.57933 12.98596, 77.57951 12.98620)</td>\n      <td>False</td>\n      <td>False</td>\n      <td>17327433</td>\n      <td>10279595643</td>\n      <td>12.985958</td>\n      <td>77.579330</td>\n      <td>12.986202</td>\n      <td>77.579507</td>\n    </tr>\n    <tr>\n      <th>5</th>\n      <td>148319042</td>\n      <td>tertiary</td>\n      <td>84.413</td>\n      <td>LINESTRING (77.57933 12.98596, 77.57921 12.985...</td>\n      <td>True</td>\n      <td>False</td>\n      <td>17327433</td>\n      <td>429286716</td>\n      <td>12.985958</td>\n      <td>77.579330</td>\n      <td>12.985321</td>\n      <td>77.578905</td>\n    </tr>\n    <tr>\n      <th>6</th>\n      <td>23029696</td>\n      <td>secondary</td>\n      <td>107.589</td>\n      <td>LINESTRING (77.60480 12.97090, 77.60476 12.970...</td>\n      <td>False</td>\n      <td>True</td>\n      <td>60952254</td>\n      <td>423784673</td>\n      <td>12.970899</td>\n      <td>77.604800</td>\n      <td>12.971792</td>\n      <td>77.604417</td>\n    </tr>\n  </tbody>\n</table>\n</div>"
     },
     "execution_count": 189,
     "metadata": {},
     "output_type": "execute_result"
    }
   ],
   "source": [
    "edges_df.head(5)"
   ],
   "metadata": {
    "collapsed": false,
    "ExecuteTime": {
     "end_time": "2023-11-11T18:21:15.158598200Z",
     "start_time": "2023-11-11T18:21:15.109310400Z"
    }
   },
   "id": "e5b38820182805bf"
  },
  {
   "cell_type": "code",
   "execution_count": 190,
   "id": "bf2cda51be57469d",
   "metadata": {
    "collapsed": false,
    "ExecuteTime": {
     "end_time": "2023-11-11T18:22:33.613717300Z",
     "start_time": "2023-11-11T18:21:19.212774600Z"
    }
   },
   "outputs": [
    {
     "name": "stderr",
     "output_type": "stream",
     "text": [
      "100%|██████████| 479348/479348 [01:14<00:00, 6445.68it/s]\n"
     ]
    }
   ],
   "source": [
    "from rtree import index\n",
    "# Create an R-tree index\n",
    "idx = index.Index()\n",
    " \n",
    "# Populate the R-tree index with stop segments\n",
    "for i, row in tqdm(edges_df.iterrows(),total=len(edges_df)):\n",
    "    start_lat, start_lon, end_lat, end_lon = row['lat_u'], row['long_u'], row['lat_v'], row['long_v']\n",
    "    idx.insert(i, (min(start_lat, end_lat), min(start_lon, end_lon), max(start_lat, end_lat), max(start_lon, end_lon)))"
   ]
  },
  {
   "cell_type": "code",
   "execution_count": 191,
   "outputs": [],
   "source": [
    "# Function to find the stop segment for a given GPS ping\n",
    "def find_stop_segment(gps_lat, gps_lon):\n",
    "    for segment_id in idx.intersection((gps_lat, gps_lon, gps_lat, gps_lon)):\n",
    "        start_lat, start_lon, end_lat, end_lon = edges_df.loc[segment_id, ['lat_u', 'long_u', 'lat_v', 'long_v']]\n",
    "        if min(start_lat, end_lat) <= gps_lat <= max(start_lat, end_lat) and min(start_lon, end_lon) <= gps_lon <= max(start_lon, end_lon):\n",
    "            l1 = haversine((gps_lat, gps_lon), (start_lat, start_lon), Unit.METERS)\n",
    "            l2 = haversine((gps_lat, gps_lon), (end_lat, end_lon), Unit.METERS)\n",
    "            l3 = haversine((start_lat, start_lon), (end_lat, end_lon), Unit.METERS)\n",
    "            if l1 + l2 <= 1.02 * l3:\n",
    "                return segment_id\n",
    "    return None  # GPS ping does not belong to any stop segment"
   ],
   "metadata": {
    "collapsed": false,
    "ExecuteTime": {
     "end_time": "2023-11-11T18:22:37.048551100Z",
     "start_time": "2023-11-11T18:22:37.026020500Z"
    }
   },
   "id": "57ae858cc02cd5b9"
  },
  {
   "cell_type": "code",
   "execution_count": 192,
   "id": "44d03c18a59917e7",
   "metadata": {
    "collapsed": false,
    "ExecuteTime": {
     "end_time": "2023-11-11T19:02:31.098454800Z",
     "start_time": "2023-11-11T18:22:41.954183400Z"
    }
   },
   "outputs": [
    {
     "name": "stdout",
     "output_type": "stream",
     "text": [
      "Mapping to nearest segment...\n"
     ]
    },
    {
     "name": "stderr",
     "output_type": "stream",
     "text": [
      "100%|██████████| 6133697/6133697 [39:49<00:00, 2567.35it/s]\n"
     ]
    }
   ],
   "source": [
    "# create a new column segment id and find it using find_stop_segment function using tqdm\n",
    "print(\"Mapping to nearest segment...\")\n",
    "length = len(gps_df)\n",
    "segment_list = []\n",
    "for index, row in tqdm(gps_df.iterrows(),total=length):\n",
    "    segment_list.append(find_stop_segment(row['LAT'], row['LONGITUDE']))"
   ]
  },
  {
   "cell_type": "code",
   "execution_count": 193,
   "outputs": [],
   "source": [
    "gps_df['segment_id'] = segment_list"
   ],
   "metadata": {
    "collapsed": false,
    "ExecuteTime": {
     "end_time": "2023-11-11T19:11:36.253653600Z",
     "start_time": "2023-11-11T19:11:35.420359700Z"
    }
   },
   "id": "ae898e1b4dddd3fb"
  },
  {
   "cell_type": "code",
   "execution_count": 195,
   "outputs": [],
   "source": [
    "# Save the gps_df to csv\n",
    "gps_df.to_csv(r\"../Dataset/gps_point2.csv\",index=False)"
   ],
   "metadata": {
    "collapsed": false,
    "ExecuteTime": {
     "end_time": "2023-11-11T19:13:18.544069400Z",
     "start_time": "2023-11-11T19:12:17.506260400Z"
    }
   },
   "id": "129eeb2b20a55f25"
  },
  {
   "cell_type": "code",
   "execution_count": 196,
   "outputs": [],
   "source": [
    "# Save the edges_df to csv\n",
    "edges_df.to_csv(r\"../Dataset/edges.csv\",index=False)"
   ],
   "metadata": {
    "collapsed": false,
    "ExecuteTime": {
     "end_time": "2023-11-11T19:13:38.589851400Z",
     "start_time": "2023-11-11T19:13:28.474241700Z"
    }
   },
   "id": "8a2335d3ef75ee82"
  },
  {
   "cell_type": "code",
   "execution_count": 197,
   "outputs": [
    {
     "data": {
      "text/plain": "2002917"
     },
     "execution_count": 197,
     "metadata": {},
     "output_type": "execute_result"
    }
   ],
   "source": [
    "gps_df.segment_id.notna().sum()"
   ],
   "metadata": {
    "collapsed": false,
    "ExecuteTime": {
     "end_time": "2023-11-11T19:14:18.569855800Z",
     "start_time": "2023-11-11T19:14:18.506499800Z"
    }
   },
   "id": "9df23c1495f2a3e"
  },
  {
   "cell_type": "code",
   "execution_count": null,
   "outputs": [],
   "source": [
    "gps_df.segment_id.value_counts().min()"
   ],
   "metadata": {
    "collapsed": false
   },
   "id": "22d0b913569d58f2"
  },
  {
   "cell_type": "code",
   "execution_count": 199,
   "outputs": [
    {
     "name": "stderr",
     "output_type": "stream",
     "text": [
      "2002917it [02:51, 11710.84it/s]\n",
      "31434it [00:06, 4562.48it/s]\n"
     ]
    }
   ],
   "source": [
    "gps_df_1 = gps_df.loc[gps_df.segment_id.notna(),:]\n",
    "segments = gps_df_1.segment_id.unique().tolist()\n",
    "\n",
    "segments_df = edges_df.loc[edges_df.index.isin(segments),['osmid','lat_u','long_u','lat_v','long_v']]\n",
    "# create folium map and plot the gps pings as circular markers and segments as lines and markers\n",
    "m = folium.Map(location=[12.9716,77.5946],zoom_start=12)\n",
    "for index,row in tqdm(gps_df_1.iterrows()):\n",
    "    folium.CircleMarker([row['LAT'],row['LONGITUDE']],radius=0.01,color='blue',fill=True).add_to(m)\n",
    "for index,row in tqdm(segments_df.iterrows()):\n",
    "    folium.PolyLine([[row['lat_u'],row['long_u']],[row['lat_v'],row['long_v']]],color='red').add_to(m)\n",
    "    folium.Marker([row['lat_u'],row['long_u']],icon=folium.Icon(color='red')).add_to(m)\n",
    "    folium.Marker([row['lat_v'],row['long_v']],icon=folium.Icon(color='red')).add_to(m)\n",
    "m.save('bus1.html')"
   ],
   "metadata": {
    "collapsed": false,
    "ExecuteTime": {
     "end_time": "2023-11-11T19:32:36.537208100Z",
     "start_time": "2023-11-11T19:16:22.826756900Z"
    }
   },
   "id": "a7bdf0a7bd1e568f"
  },
  {
   "cell_type": "code",
   "execution_count": 149,
   "outputs": [
    {
     "data": {
      "text/plain": "3876"
     },
     "execution_count": 149,
     "metadata": {},
     "output_type": "execute_result"
    }
   ],
   "source": [
    "len(gps_df_bus1)"
   ],
   "metadata": {
    "collapsed": false,
    "ExecuteTime": {
     "end_time": "2023-11-11T17:25:14.337820300Z",
     "start_time": "2023-11-11T17:25:14.321305900Z"
    }
   },
   "id": "2af81d49421d6042"
  },
  {
   "cell_type": "code",
   "execution_count": 157,
   "outputs": [],
   "source": [
    "gps_df_bus2 = gps_df_bus1.loc[gps_df_bus1.segment_id.notna(),:]\n",
    "segments = gps_df_bus2.segment_id.unique().tolist()\n",
    "\n",
    "segments_df = edges_df.loc[edges_df.index.isin(segments),['osmid','lat_u','long_u','lat_v','long_v']]\n",
    "# create folium map and plot the gps pings as circular markers and segments as lines and markers\n",
    "m = folium.Map(location=[12.9716,77.5946],zoom_start=12)\n",
    "for index,row in gps_df_bus2.iterrows():\n",
    "    folium.CircleMarker([row['LAT'],row['LONGITUDE']],radius=0.01,color='blue',fill=True).add_to(m)\n",
    "for index,row in segments_df.iterrows():\n",
    "    folium.PolyLine([[row['lat_u'],row['long_u']],[row['lat_v'],row['long_v']]],color='red').add_to(m)\n",
    "    folium.Marker([row['lat_u'],row['long_u']],icon=folium.Icon(color='red')).add_to(m)\n",
    "    folium.Marker([row['lat_v'],row['long_v']],icon=folium.Icon(color='red')).add_to(m)\n",
    "m.save('bus1.html')"
   ],
   "metadata": {
    "collapsed": false,
    "ExecuteTime": {
     "end_time": "2023-11-11T17:36:09.821772200Z",
     "start_time": "2023-11-11T17:36:08.119207900Z"
    }
   },
   "id": "f64fe9130209f01e"
  },
  {
   "cell_type": "code",
   "execution_count": 154,
   "outputs": [
    {
     "data": {
      "text/plain": "SPEED\n0.000000     55\n0.080060      4\n0.040030      4\n23.737688     2\n0.560418      2\n             ..\n39.293305     1\n27.122865     1\n11.618949     1\n27.401550     1\n84.389435     1\nName: count, Length: 2079, dtype: int64"
     },
     "execution_count": 154,
     "metadata": {},
     "output_type": "execute_result"
    }
   ],
   "source": [
    "gps_df_bus1[gps_df_bus1['segment_id'].isna()].SPEED.value_counts()"
   ],
   "metadata": {
    "collapsed": false,
    "ExecuteTime": {
     "end_time": "2023-11-11T17:32:27.025275800Z",
     "start_time": "2023-11-11T17:32:27.003634400Z"
    }
   },
   "id": "159516f64f7bb574"
  }
 ],
 "metadata": {
  "kernelspec": {
   "display_name": "Python 3",
   "language": "python",
   "name": "python3"
  },
  "language_info": {
   "codemirror_mode": {
    "name": "ipython",
    "version": 2
   },
   "file_extension": ".py",
   "mimetype": "text/x-python",
   "name": "python",
   "nbconvert_exporter": "python",
   "pygments_lexer": "ipython2",
   "version": "2.7.6"
  }
 },
 "nbformat": 4,
 "nbformat_minor": 5
}
