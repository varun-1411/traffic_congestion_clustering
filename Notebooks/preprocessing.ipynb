{
 "cells": [
  {
   "cell_type": "code",
   "execution_count": 96,
   "id": "initial_id",
   "metadata": {
    "collapsed": true,
    "ExecuteTime": {
     "end_time": "2023-11-11T12:59:30.495438100Z",
     "start_time": "2023-11-11T12:59:30.463780100Z"
    }
   },
   "outputs": [],
   "source": [
    "import pandas as pd\n",
    "import matplotlib.pyplot as plt\n",
    "from haversine import haversine_vector, Unit, haversine\n",
    "import osmnx as ox\n",
    "import pickle\n",
    "import os\n",
    "from tqdm import tqdm\n",
    "import folium\n",
    "from rtree import index"
   ]
  },
  {
   "cell_type": "markdown",
   "source": [],
   "metadata": {
    "collapsed": false
   },
   "id": "5edb06bf6382da00"
  },
  {
   "cell_type": "code",
   "execution_count": null,
   "id": "b5f5c444c3a6c31f",
   "metadata": {
    "collapsed": false
   },
   "outputs": [],
   "source": [
    "stops_df = pd.read_csv(r\"../Dataset/bus_stop.csv\")"
   ]
  },
  {
   "cell_type": "code",
   "execution_count": null,
   "id": "c0b871044e81286d",
   "metadata": {
    "collapsed": false
   },
   "outputs": [],
   "source": [
    "gps_df = pd.read_csv(r\"../Dataset/GPS.csv\")"
   ]
  },
  {
   "cell_type": "code",
   "execution_count": null,
   "id": "cd02695e7b4ba920",
   "metadata": {
    "collapsed": false
   },
   "outputs": [],
   "source": [
    "print(len(gps_df))\n",
    "gps_df.head()"
   ]
  },
  {
   "cell_type": "code",
   "execution_count": null,
   "id": "d3520e27597bd953",
   "metadata": {
    "collapsed": false
   },
   "outputs": [],
   "source": [
    "# Drop duplicate based on DEVICE_ID, IST_DATE, LAT and LONGITUDE\n",
    "gps_df = gps_df.drop_duplicates(subset=['DEVICE_ID','IST_DATE','LAT','LONGITUDE'])"
   ]
  },
  {
   "cell_type": "code",
   "execution_count": null,
   "id": "836d5faf87b54bb6",
   "metadata": {
    "collapsed": false
   },
   "outputs": [],
   "source": [
    "# Filter the rows which LAT and LONGITUDE are between 12 and 14 and 77 and 79\n",
    "stops_df = stops_df[(stops_df['latitude_current'] > 12.8265) & (stops_df['latitude_current'] < 13.2694) & (stops_df['longitude_current'] > 77.3740) & (stops_df['longitude_current'] < 77.8313)]\n",
    "gps_df = gps_df[(gps_df['LAT'] > 12) & (gps_df['LAT'] < 13.2694) & (gps_df['LONGITUDE'] > 77.3740) & (gps_df['LONGITUDE'] < 77.8313)]\n",
    "print(len(gps_df))\n",
    "gps_df.head()"
   ]
  },
  {
   "cell_type": "code",
   "execution_count": null,
   "id": "1a28ddd5002b5c45",
   "metadata": {
    "collapsed": false
   },
   "outputs": [],
   "source": [
    "# Plot the data point based on year, Day and date\n",
    "gps_df['IST_DATE'] = pd.to_datetime(gps_df['IST_DATE'])\n",
    "gps_df['YEAR'] = gps_df['IST_DATE'].dt.year\n",
    "gps_df['DAY'] = gps_df['IST_DATE'].dt.dayofweek\n",
    "gps_df['DATE'] = gps_df['IST_DATE'].dt.date\n",
    "gps_df['TIME'] = gps_df['IST_DATE'].dt.time"
   ]
  },
  {
   "cell_type": "code",
   "execution_count": null,
   "id": "36d8cbac53ee49f",
   "metadata": {
    "collapsed": false
   },
   "outputs": [],
   "source": [
    "gps_df['DATE'].value_counts()"
   ]
  },
  {
   "cell_type": "code",
   "execution_count": null,
   "id": "31542f2a751040fe",
   "metadata": {
    "collapsed": false
   },
   "outputs": [],
   "source": [
    "# Remove the data points which are not in 2019\n",
    "gps_df = gps_df[gps_df['YEAR'] == 2019]"
   ]
  },
  {
   "cell_type": "code",
   "execution_count": null,
   "id": "4106d9dea507f390",
   "metadata": {
    "collapsed": false
   },
   "outputs": [],
   "source": [
    "# Sort the dataframe by DEVICE_ID and then by IST_DATE\n",
    "gps_df = gps_df.sort_values(by=['DEVICE_ID','IST_DATE'])\n",
    "gps_df.head()"
   ]
  },
  {
   "cell_type": "code",
   "execution_count": null,
   "id": "22c94ebc602feea2",
   "metadata": {
    "collapsed": false
   },
   "outputs": [],
   "source": [
    "# Shift the rows by 1 and get the previous row's LAT and LONGITUDE and IST_DATE\n",
    "gps_df['PREV_LAT'] = gps_df.groupby(['DEVICE_ID'])['LAT'].shift(1)\n",
    "gps_df['PREV_LONGITUDE'] = gps_df.groupby(['DEVICE_ID'])['LONGITUDE'].shift(1)\n",
    "gps_df['PREV_IST_DATE'] = gps_df.groupby(['DEVICE_ID'])['IST_DATE'].shift(1)\n",
    "gps_df.head()"
   ]
  },
  {
   "cell_type": "code",
   "execution_count": null,
   "id": "c41e214a8295e529",
   "metadata": {
    "collapsed": false
   },
   "outputs": [],
   "source": [
    "# Drop the na values\n",
    "gps_df = gps_df.dropna()"
   ]
  },
  {
   "cell_type": "code",
   "execution_count": null,
   "id": "52da9167fbe954c9",
   "metadata": {
    "collapsed": false
   },
   "outputs": [],
   "source": [
    "# Calculate the distance between the current row and the previous row using haversine formula\n",
    "gps_df['DISTANCE'] = haversine_vector(gps_df[['LAT','LONGITUDE']],gps_df[['PREV_LAT','PREV_LONGITUDE']],Unit.METERS)"
   ]
  },
  {
   "cell_type": "code",
   "execution_count": null,
   "id": "32e781fc40785c39",
   "metadata": {
    "collapsed": false
   },
   "outputs": [],
   "source": [
    "# Calculate the time difference between the current row and the previous row\n",
    "gps_df['TIME_DIFF'] = (pd.to_datetime(gps_df['IST_DATE']) - pd.to_datetime(gps_df['PREV_IST_DATE'])).dt.total_seconds()"
   ]
  },
  {
   "cell_type": "code",
   "execution_count": null,
   "id": "50dbba99",
   "metadata": {},
   "outputs": [],
   "source": [
    "print(len(gps_df))\n",
    "gps_df.head()"
   ]
  },
  {
   "cell_type": "code",
   "execution_count": null,
   "id": "4cf846f453e1584a",
   "metadata": {
    "collapsed": false
   },
   "outputs": [],
   "source": [
    "# PLot the distance and time difference\n",
    "plt.scatter(gps_df['DISTANCE'],gps_df['TIME_DIFF'])\n",
    "plt.xlabel('Distance')\n",
    "plt.ylabel('Time Difference')\n",
    "plt.show()"
   ]
  },
  {
   "cell_type": "code",
   "execution_count": null,
   "id": "30a09d8fb6020e6c",
   "metadata": {
    "collapsed": false
   },
   "outputs": [],
   "source": [
    "gps_df['SPEED'] = gps_df['DISTANCE'] / (gps_df['TIME_DIFF'] +0.0001) *18/5\n",
    "\n",
    "# Plot the scatter plot speed with respect index\n",
    "plt.scatter(gps_df.index,gps_df['SPEED'])\n",
    "plt.ylim(0,200)\n",
    "plt.xlabel('Index')\n",
    "plt.ylabel('Speed')\n",
    "plt.show()"
   ]
  },
  {
   "cell_type": "code",
   "execution_count": null,
   "id": "ef35188073cdddd",
   "metadata": {
    "collapsed": false
   },
   "outputs": [],
   "source": [
    "# Value counts of speed between 0 and 1\n",
    "gps_df[(gps_df['SPEED'] > 0) & (gps_df['SPEED'] < 1)]['SPEED'].count()"
   ]
  },
  {
   "cell_type": "code",
   "execution_count": null,
   "id": "5c0ff4989291c83b",
   "metadata": {
    "collapsed": false
   },
   "outputs": [],
   "source": [
    "gps_df['SPEED'].min()"
   ]
  },
  {
   "cell_type": "code",
   "execution_count": null,
   "outputs": [],
   "source": [
    "gps_df_copy = gps_df.copy()"
   ],
   "metadata": {
    "collapsed": false
   },
   "id": "f8e1d45eadda3a91"
  },
  {
   "cell_type": "code",
   "execution_count": null,
   "outputs": [],
   "source": [
    "gps_df = gps_df_copy.copy()\n",
    "gps_df = gps_df.loc[(gps_df[\"TIME_DIFF\"] < 70) & (gps_df[\"SPEED\"] < 100),:]"
   ],
   "metadata": {
    "collapsed": false
   },
   "id": "fab5666057fb4795"
  },
  {
   "cell_type": "code",
   "execution_count": null,
   "id": "915489b490d956e6",
   "metadata": {
    "collapsed": false
   },
   "outputs": [],
   "source": [
    "# reset the index\n",
    "gps_df = gps_df.reset_index(drop=True)\n",
    "\n",
    "# Add column stop_time and initialize it with 0\n",
    "gps_df['STOP_TIME'] = 0\n",
    "\n",
    "# Take the dataframe with speed 0\n",
    "gps_df0 = gps_df[gps_df['SPEED'] <= 1]\n",
    "\n",
    "# # # Iterate over the dataframe with speed 0 and add the time_diff with the previous rows STOP_TIME to the current row STOP_TIME\n",
    "# prev_index = 0\n",
    "# for index,row in tqdm(gps_df0.iterrows(),total=len(gps_df0)):\n",
    "#     if index > 0 and row['DEVICE_ID'] == gps_df0.loc[prev_index,'DEVICE_ID']:\n",
    "#         gps_df.loc[index,'STOP_TIME'] = gps_df.loc[index-1,'STOP_TIME'] + row['TIME_DIFF']\n",
    "#     else:\n",
    "#         gps_df.loc[index,'STOP_TIME'] = row['TIME_DIFF']\n",
    "#     prev_index = index\n",
    "    \n"
   ]
  },
  {
   "cell_type": "code",
   "execution_count": 95,
   "outputs": [],
   "source": [
    "gps_df = pd.read_csv(r\"../Dataset/gps_point1.csv\")"
   ],
   "metadata": {
    "collapsed": false
   },
   "id": "206f0828305ee22a"
  },
  {
   "cell_type": "code",
   "execution_count": null,
   "outputs": [],
   "source": [
    "gps_df_copy = gps_df.copy()"
   ],
   "metadata": {
    "collapsed": false
   },
   "id": "f0781e51"
  },
  {
   "cell_type": "code",
   "execution_count": null,
   "id": "d320e12343980035",
   "metadata": {
    "collapsed": false
   },
   "outputs": [],
   "source": [
    "stop_time = 120\n",
    "gps_df = gps_df_copy.copy()\n",
    "st = gps_df.loc[gps_df['STOP_TIME'] > stop_time,['LAT','LONGITUDE']].groupby(['LAT','LONGITUDE']).count()\n",
    "st = st.reset_index()\n",
    "len(st)"
   ]
  },
  {
   "cell_type": "code",
   "execution_count": null,
   "id": "884a52e8fe9a9157",
   "metadata": {
    "collapsed": false
   },
   "outputs": [],
   "source": [
    "# Filter the gps_df with respect to STOP_TIME less than 600 and LAT and LONGITUDE are not in st\n",
    "gps_df = gps_df_copy.copy()\n",
    "gps_df = gps_df[gps_df['STOP_TIME'] < stop_time]\n",
    "\n",
    "gps_df = gps_df[~((gps_df['LAT'].isin(st['LAT'])) & (gps_df['LONGITUDE'].isin(st['LONGITUDE'])) & (gps_df['SPEED'] < 10))]\n",
    "\n",
    "len(gps_df)"
   ]
  },
  {
   "cell_type": "code",
   "execution_count": null,
   "id": "78386d9c7c05ec5f",
   "metadata": {
    "collapsed": false
   },
   "outputs": [],
   "source": [
    "# # Plot the st and stops_df on folium plot in different colours and as circular markers\n",
    "# m = folium.Map(location=[12.9716,77.5946],zoom_start=12)\n",
    "# for index,row in st.iterrows():\n",
    "#     folium.CircleMarker([row['LAT'],row['LONGITUDE']],radius=0.01,color='red',fill=True).add_to(m)\n",
    "# for index,row in stops_df.iterrows():\n",
    "#     folium.CircleMarker([row['latitude_current'],row['longitude_current']],radius=0.01,color='blue',fill=True).add_to(m)\n",
    "# m.save('stops.html')"
   ]
  },
  {
   "cell_type": "code",
   "execution_count": null,
   "outputs": [],
   "source": [
    "gps_df_bus1 = gps_df.loc[gps_df['DEVICE_ID'] == 150218177,:]\n",
    "len(gps_df_bus1)"
   ],
   "metadata": {
    "collapsed": false
   },
   "id": "46fa46673146d89"
  },
  {
   "cell_type": "code",
   "execution_count": null,
   "outputs": [],
   "source": [
    "# Count of pings with respect to DEVICE_ID \n",
    "gps_df.groupby(['DEVICE_ID']).size().reset_index().rename(columns={0:'count'}).sort_values(by='count',ascending=False)"
   ],
   "metadata": {
    "collapsed": false
   },
   "id": "dbede94e5a1946eb"
  },
  {
   "cell_type": "code",
   "execution_count": null,
   "outputs": [],
   "source": [
    "# Create a map for each Device ID and plot the gps pings as circular markers\n",
    "for device_id in gps_df['DEVICE_ID'].unique()[:5]:\n",
    "    gps_df_bus1 = gps_df.loc[gps_df['DEVICE_ID'] == device_id,:]\n",
    "    m = folium.Map(location=[12.9716,77.5946],zoom_start=12)\n",
    "    for index,row in gps_df_bus1.iterrows():\n",
    "        folium.CircleMarker([row['LAT'],row['LONGITUDE']],radius=0.01,color='blue',fill=True).add_to(m)\n",
    "    m.save(f'./maps/bus_{device_id}.html')"
   ],
   "metadata": {
    "collapsed": false
   },
   "id": "4c68e5f06fb1d7f7"
  },
  {
   "cell_type": "code",
   "execution_count": null,
   "id": "bc9ff56c1e305700",
   "metadata": {
    "collapsed": false
   },
   "outputs": [],
   "source": [
    "# Filter the gps data with respect to speed less than 60\n",
    "gps_df = gps_df[gps_df['SPEED'] < 120]\n",
    "print(gps_df.SPEED.mean())"
   ]
  },
  {
   "cell_type": "code",
   "execution_count": null,
   "outputs": [],
   "source": [
    "gps_df_bus1_copy = gps_df_bus1.copy()"
   ],
   "metadata": {
    "collapsed": false
   },
   "id": "5d32c2a6da93f913"
  },
  {
   "cell_type": "code",
   "execution_count": null,
   "outputs": [],
   "source": [
    "import osmnx as ox\n",
    "import pandas as pd\n",
    "from shapely.geometry import LineString\n",
    "\n",
    "# Your coordinates or a bounding box to retrieve the road network\n",
    "# Example: coordinates = (latitude, longitude)\n",
    "# Example: bounding_box = (north, south, east, west)\n",
    "\n",
    "\n",
    "# Assuming you have a DataFrame named gps_df with 'latitude' and 'longitude' columns\n",
    "# and 'segment' column obtained using some clustering or other method\n",
    "# This can also be a DataFrame with raw GPS points\n",
    "\n",
    "# Function to map each GPS point to the nearest road segment\n",
    "def map_to_nearest_segment(row):\n",
    "    coordinates = (row['LAT'], row['LONGITUDE'])\n",
    "    G = ox.graph_from_point(coordinates, dist=500, network_type='drive')\n",
    "    try:\n",
    "        nearest_node = ox.distance.nearest_nodes(G, row['LONGITUDE'], row['LAT'])\n",
    "        edge = ox.distance.nearest_edges(G, row['LONGITUDE'], row['LAT'])\n",
    "        edge_data = G.get_edge_data(edge[0], edge[1])\n",
    "    except:\n",
    "        return None, None, None\n",
    "    # print(edge_data,1,row['LONGITUDE'], row['LAT'])\n",
    "    # Extracting geometry if available\n",
    "    if 'geometry' in edge_data:\n",
    "        edge_geometry = edge_data['geometry']\n",
    "        edge_coordinates = LineString(edge_geometry).coords.xy\n",
    "        node_coordinates = nodes[['y', 'x']].values\n",
    "        return nearest_node, edge, list(zip(edge_coordinates[1], edge_coordinates[0]))\n",
    "    else:\n",
    "        return nearest_node, edge, None\n",
    "\n",
    "gps_df_bus1 = gps_df_bus1.iloc[:100,:]\n",
    "\n",
    "# Apply the mapping function to each row\n",
    "tqdm.pandas(desc=\"Mapping to nearest segment\", total=len(gps_df_bus1))\n",
    "gps_df_bus1[['nearest_node', 'nearest_edge', 'edge_coordinates']] = gps_df_bus1.progress_apply(map_to_nearest_segment, axis=1, result_type='expand')\n",
    "\n",
    "# Display the resulting DataFrame\n",
    "print(gps_df_bus1)\n"
   ],
   "metadata": {
    "collapsed": false
   },
   "id": "11aaa25231b57f8d"
  },
  {
   "cell_type": "code",
   "execution_count": null,
   "outputs": [],
   "source": [
    "import osmnx as ox\n",
    "import geopandas as gpd\n",
    "from shapely.geometry import Point\n",
    "\n",
    "# Your coordinates or a bounding box to retrieve the road network\n",
    "# Example: coordinates = (latitude, longitude)\n",
    "# Example: bounding_box = (north, south, east, west)\n",
    "coordinates = (40.748817, -73.985428)\n",
    "G = ox.graph_from_point(coordinates, dist=5000, network_type='drive')\n",
    "\n",
    "# Assuming you have a DataFrame named gps_df with 'latitude' and 'longitude' columns\n",
    "# This can also be a DataFrame with raw GPS points\n",
    "\n",
    "# Convert the DataFrame to a GeoDataFrame\n",
    "geometry = [Point(lon, lat) for lon, lat in zip(gps_df_bus1['LAT'], gps_df_bus1['LONGITUDE'])]\n",
    "gps_gdf = gpd.GeoDataFrame(gps_df_bus1, geometry=geometry, crs='EPSG:4326')\n",
    "\n",
    "# Spatial index for road segments\n",
    "segments= ox.graph_to_gdfs(G, nodes=False, edges=True)\n",
    "\n",
    "# Use spatial indexing to find the nearest road segment for each GPS point\n",
    "nearest_segments = gpd.sjoin(gps_gdf, segments, op='intersects', how='left')\n",
    "\n",
    "# Display the resulting DataFrame with road segments\n",
    "print(nearest_segments[['LAT', 'LONGITUDE', 'key', 'highway']])\n"
   ],
   "metadata": {
    "collapsed": false
   },
   "id": "234a7c2badc8b4a3"
  },
  {
   "cell_type": "code",
   "execution_count": null,
   "outputs": [],
   "source": [
    "# Spatial index for road segments\n",
    "segments= ox.graph_to_gdfs(G, nodes=False, edges=True)\n",
    "\n",
    "# Use spatial indexing to find the nearest road segment for each GPS point\n",
    "nearest_segments = gpd.sjoin(gps_gdf, segments, op='intersects', how='left')\n",
    "\n",
    "# Display the resulting DataFrame with road segments\n",
    "print(nearest_segments[['LAT', 'LONGITUDE', 'key', 'highway']])"
   ],
   "metadata": {
    "collapsed": false
   },
   "id": "b02e99095a02ee15"
  },
  {
   "cell_type": "code",
   "execution_count": null,
   "outputs": [],
   "source": [
    "haversine(gps_df_bus1.iloc[0,:][['LAT','LONGITUDE']],gps_df_bus1.iloc[-1,:][['LAT','LONGITUDE']],Unit.METERS)"
   ],
   "metadata": {
    "collapsed": false
   },
   "id": "b2760aa9d08591ff"
  },
  {
   "cell_type": "code",
   "execution_count": null,
   "id": "391caf5f6a68d8ab",
   "metadata": {
    "collapsed": false
   },
   "outputs": [],
   "source": [
    "# Value counts of speed\n",
    "print(len(gps_df))\n",
    "gps_df['SPEED'].value_counts()"
   ]
  },
  {
   "cell_type": "code",
   "execution_count": null,
   "id": "883e44cf2cf03576",
   "metadata": {
    "collapsed": false
   },
   "outputs": [],
   "source": [
    "# Get the number of unique gps based on LAT and LONGITUDE\n",
    "gps_df.groupby(['LAT','LONGITUDE']).size().reset_index().rename(columns={0:'count'}).sort_values(by='count',ascending=False)"
   ]
  },
  {
   "cell_type": "code",
   "execution_count": null,
   "id": "dd717faafbe08986",
   "metadata": {
    "collapsed": false
   },
   "outputs": [],
   "source": [
    "# Find stop-stop segments from stop_times.txt\n",
    "stop_times_df = pd.read_csv(r\"../Dataset/route_point.csv\")\n",
    "stop_times_df.head()"
   ]
  },
  {
   "cell_type": "code",
   "execution_count": null,
   "id": "9b1a975ee06cc02d",
   "metadata": {
    "collapsed": false
   },
   "outputs": [],
   "source": [
    "def check_ping(point1,point2,ping):\n",
    "    if ping[0] >= min(point1[0],point2[0]) and ping[0] <= max(point1[0],point2[0]) and ping[1] >= min(point1[1],point2[1]) and ping[1] <= max(point1[1],point2[1]):\n",
    "        return True\n",
    "    else:\n",
    "        return False"
   ]
  },
  {
   "cell_type": "code",
   "execution_count": null,
   "id": "2cb4df6cbd1f1852",
   "metadata": {
    "collapsed": false
   },
   "outputs": [],
   "source": [
    "# Filter the gps_df with respect to DISTANCE more than 10\n",
    "gps_df.loc[gps_df['DISTANCE'] > 100,:].head(100)"
   ]
  },
  {
   "cell_type": "code",
   "execution_count": null,
   "id": "46d5e8e9069797e4",
   "metadata": {
    "collapsed": false
   },
   "outputs": [],
   "source": [
    "gps_df_bus1 = gps_df.loc[gps_df['DEVICE_ID'] == 150218177,:]\n",
    "gps_df_bus1.head(100)"
   ]
  },
  {
   "cell_type": "code",
   "execution_count": null,
   "id": "49ee3b22f8afa0e7",
   "metadata": {
    "collapsed": false
   },
   "outputs": [],
   "source": [
    "mergerd_busstops_routepoints = pd.merge(stop_times_df,stops_df[['bus_stop_id','latitude_current','longitude_current']],on='bus_stop_id')\n",
    "mergerd_busstops_routepoints.head(5)"
   ]
  },
  {
   "cell_type": "code",
   "execution_count": null,
   "id": "81251013e3f3184",
   "metadata": {
    "collapsed": false
   },
   "outputs": [],
   "source": [
    "# sortby route_id and then by route_order\n",
    "mergerd_busstops_routepoints = mergerd_busstops_routepoints.sort_values(by=['route_id','route_order'])\n",
    "mergerd_busstops_routepoints.head(5)"
   ]
  },
  {
   "cell_type": "code",
   "execution_count": null,
   "id": "a4c31a2895928b52",
   "metadata": {
    "collapsed": false
   },
   "outputs": [],
   "source": [
    "print(len(mergerd_busstops_routepoints))\n",
    "print(mergerd_busstops_routepoints.route_id.nunique())"
   ]
  },
  {
   "cell_type": "code",
   "execution_count": null,
   "id": "91b654b42a8fe699",
   "metadata": {
    "collapsed": false
   },
   "outputs": [],
   "source": [
    "# Rename latitude_current and longitude_current to origin_lat and origin_long\n",
    "mergerd_busstops_routepoints = mergerd_busstops_routepoints.rename(columns={'latitude_current':'origin_lat','longitude_current':'origin_long'})\n"
   ]
  },
  {
   "cell_type": "code",
   "execution_count": null,
   "id": "6f933e12",
   "metadata": {},
   "outputs": [],
   "source": [
    "# Create a new column destination_lat and destination_long and assign with the next row's origin_lat and origin_long for same route_id\n",
    "mergerd_busstops_routepoints['destination_lat'] = mergerd_busstops_routepoints.groupby(['route_id'])['origin_lat'].shift(-1)\n",
    "mergerd_busstops_routepoints['destination_long'] = mergerd_busstops_routepoints.groupby(['route_id'])['origin_long'].shift(-1)\n",
    "# Drop the na values based on destination_lat and destination_long\n",
    "mergerd_busstops_routepoints = mergerd_busstops_routepoints.dropna(subset=['destination_lat','destination_long'])\n",
    "mergerd_busstops_routepoints.head(5)\n"
   ]
  },
  {
   "cell_type": "code",
   "execution_count": null,
   "id": "de4a8878",
   "metadata": {},
   "outputs": [],
   "source": [
    "# print the length of the dataframe\n",
    "print(len(mergerd_busstops_routepoints))"
   ]
  },
  {
   "cell_type": "code",
   "execution_count": null,
   "id": "638abf3cd7128250",
   "metadata": {
    "collapsed": false
   },
   "outputs": [],
   "source": [
    "# Drop the duplicates based on origin_lat, origin_long, destination_lat and destination_long\n",
    "mergerd_busstops_routepoints = mergerd_busstops_routepoints.drop_duplicates(subset=['origin_lat','origin_long','destination_lat','destination_long'])\n",
    "# reset the index\n",
    "mergerd_busstops_routepoints = mergerd_busstops_routepoints.reset_index(drop=True)\n",
    "print(len(mergerd_busstops_routepoints))"
   ]
  },
  {
   "cell_type": "code",
   "execution_count": null,
   "id": "2e1e9f7c",
   "metadata": {},
   "outputs": [],
   "source": [
    "# Create length column and calculate the distance between origin_lat, origin_long and destination_lat, destination_long using haversine formula\n",
    "mergerd_busstops_routepoints['length'] = haversine_vector(mergerd_busstops_routepoints[['origin_lat','origin_long']],mergerd_busstops_routepoints[['destination_lat','destination_long']],Unit.METERS)\n"
   ]
  },
  {
   "cell_type": "code",
   "execution_count": null,
   "id": "c09572aa",
   "metadata": {},
   "outputs": [],
   "source": [
    "# Scatter Plot the length column\n",
    "plt.scatter(mergerd_busstops_routepoints.index,mergerd_busstops_routepoints['length'])\n",
    "plt.xlabel('Index')"
   ]
  },
  {
   "cell_type": "code",
   "execution_count": null,
   "id": "e7ae1452",
   "metadata": {},
   "outputs": [],
   "source": [
    "mergerd_busstops_routepoints_copy = mergerd_busstops_routepoints.copy()"
   ]
  },
  {
   "cell_type": "code",
   "execution_count": null,
   "id": "0d9cc94f",
   "metadata": {},
   "outputs": [],
   "source": [
    "# Find the number of segments with length more than 5000\n",
    "mergerd_busstops_routepoints = mergerd_busstops_routepoints_copy.copy()\n",
    "\n",
    "# Filter the mergerd_busstops_routepoints with length more than 5000\n",
    "# mergerd_busstops_routepoints = mergerd_busstops_routepoints[mergerd_busstops_routepoints['length'] < 2000]\n",
    "\n",
    "# Plot the scatter plot of length column\n",
    "plt.scatter(mergerd_busstops_routepoints.index,mergerd_busstops_routepoints['length'])\n",
    "plt.xlabel('Index')\n",
    "plt.ylabel('Length')\n",
    "plt.show()"
   ]
  },
  {
   "cell_type": "code",
   "execution_count": null,
   "id": "bf2cda51be57469d",
   "metadata": {
    "collapsed": false
   },
   "outputs": [],
   "source": [
    "from rtree import index\n",
    "# Create an R-tree index\n",
    "idx = index.Index()\n",
    " \n",
    "# Populate the R-tree index with stop segments\n",
    "for i, row in mergerd_busstops_routepoints.iterrows():\n",
    "    start_lat, start_lon, end_lat, end_lon = row['origin_lat'], row['origin_long'], row['destination_lat'], row['destination_long']\n",
    "    idx.insert(i, (min(start_lat, end_lat), min(start_lon, end_lon), max(start_lat, end_lat), max(start_lon, end_lon)))"
   ]
  },
  {
   "cell_type": "code",
   "execution_count": null,
   "id": "57ae858cc02cd5b9",
   "metadata": {
    "collapsed": false
   },
   "outputs": [],
   "source": [
    "# Function to find the stop segment for a given GPS ping\n",
    "def find_stop_segment(gps_lat, gps_lon):\n",
    "    for segment_id in idx.intersection((gps_lat, gps_lon, gps_lat, gps_lon)):\n",
    "        start_lat, start_lon, end_lat, end_lon = mergerd_busstops_routepoints.loc[segment_id, ['origin_lat', 'origin_long', 'destination_lat', 'destination_long']]\n",
    "        if min(start_lat, end_lat) <= gps_lat <= max(start_lat, end_lat) and min(start_lon, end_lon) <= gps_lon <= max(start_lon, end_lon):\n",
    "            l1 = haversine((gps_lat, gps_lon), (start_lat, start_lon), Unit.METERS)\n",
    "            l2 = haversine((gps_lat, gps_lon), (end_lat, end_lon), Unit.METERS)\n",
    "            l3 = haversine((start_lat, start_lon), (end_lat, end_lon), Unit.METERS)\n",
    "            if l1 + l2 <= 1.02 * l3:\n",
    "                return segment_id\n",
    "    return None  # GPS ping does not belong to any stop segment"
   ]
  },
  {
   "cell_type": "code",
   "execution_count": null,
   "id": "9af9bd20",
   "metadata": {},
   "outputs": [],
   "source": [
    "import osmnx as ox\n",
    "\n",
    "G = ox.graph_from_point((13.172057, 77.633171), dist=1000, network_type='drive')\n",
    "\n",
    "org,dest,distance = ox.nearest_edges(G, 13.172057, 77.633171)\n",
    "# nodes_gdf, edges_gdf = ox.graph_to_gdfs(G)\n",
    "\n",
    "# # Ensure that the 'osmid' column is present in the nodes_gdf dataframe\n",
    "# if 'osmid' not in nodes_gdf.columns:\n",
    "#     nodes_gdf['osmid'] = nodes_gdf.index.astype(str)\n",
    "\n",
    "# org_coordinates = nodes_gdf[nodes_gdf['osmid'] == str(org)][['y', 'x']]\n",
    "# dest_coordinates = nodes_gdf[nodes_gdf['osmid'] == str(dest)][['geometry', 'y', 'x']]\n"
   ]
  },
  {
   "cell_type": "code",
   "execution_count": null,
   "id": "b428f5f8",
   "metadata": {},
   "outputs": [],
   "source": [
    "# for all the gps_bus1 points create a graph for each lat long and find the nearest edge and then find the distance between the gps point and the nearest edge\n",
    "\n",
    "# Create a new column segment_id and initialize it with 0\n",
    "gps_df_bus1['start'] = 0\n",
    "gps_df_bus1['end'] = 0\n",
    "gps_df_bus1['distance'] = 0\n",
    "\n",
    "# Iterate over the gps_df_bus1 dataframe\n",
    "\n",
    "for index,row in tqdm(gps_df_bus1.iterrows(),total=len(gps_df_bus1)):\n",
    "\n",
    "    G = ox.graph_from_point((row['LAT'], row['LONGITUDE']), dist=1000, network_type='drive')\n",
    "    # Find the nearest edge and the distance between the gps point and the nearest edge\n",
    "    org,dest,distance = ox.nearest_edges(G, row['LAT'], row['LONGITUDE'])\n",
    "    # append start, end and distance to the gps_df_bus1 dataframe\n",
    "    gps_df_bus1.loc[index,'start'] = org\n",
    "    gps_df_bus1.loc[index,'end'] = dest\n",
    "    gps_df_bus1.loc[index,'distance'] = distance\n",
    "\n"
   ]
  },
  {
   "cell_type": "code",
   "execution_count": null,
   "id": "9560be7a",
   "metadata": {},
   "outputs": [],
   "source": [
    "gps_df_bus1.distance.value_counts()"
   ]
  },
  {
   "cell_type": "code",
   "execution_count": null,
   "id": "d63daf8b",
   "metadata": {},
   "outputs": [],
   "source": [
    "mergerd_busstops_routepoints.head(5)"
   ]
  },
  {
   "cell_type": "code",
   "execution_count": null,
   "id": "2b3297e5",
   "metadata": {},
   "outputs": [],
   "source": [
    "import osmnx as ox\n",
    "import networkx as nx\n",
    "import matplotlib.pyplot as plt\n",
    "\n",
    "# Replace this with the node numbers you have\n",
    "node_ids = [123456, 789012, ...]  # List of node numbers\n",
    "\n",
    "# Create a graph from OSMnx for the city or area of your interest\n",
    "place_name = \"City, Country\"  # Replace with the appropriate place name\n",
    "G = ox.graph_from_place(place_name, network_type='drive')\n",
    "\n",
    "# Create a subgraph using the specified nodes\n",
    "subgraph = nx.subgraph(G, node_ids)\n",
    "\n",
    "# Plot the subgraph\n",
    "fig, ax = ox.plot_graph(subgraph, node_size=0, edge_color='b', bgcolor='w', show=False, close=False)\n",
    "ox.plot_graph(G, node_size=0, edge_color='k', ax=ax, bgcolor='w', show=True)\n",
    "\n",
    "# Display the plot\n",
    "plt.show()\n"
   ]
  },
  {
   "cell_type": "code",
   "execution_count": null,
   "id": "44d03c18a59917e7",
   "metadata": {
    "collapsed": false
   },
   "outputs": [],
   "source": [
    "# create a new column segment id and find it using find_stop_segment function\n",
    "gps_df_bus1['segment_id'] = gps_df_bus1.apply(lambda x: find_stop_segment(x['LAT'],x['LONGITUDE']),axis=1)\n",
    "gps_df_bus1.head(100)"
   ]
  },
  {
   "cell_type": "code",
   "execution_count": null,
   "id": "1e1d4035ac21102e",
   "metadata": {
    "collapsed": false
   },
   "outputs": [],
   "source": [
    "waybill_df = pd.read_csv(r\"../Datasets/waybill.csv\")\n",
    "waybill_df.head()"
   ]
  },
  {
   "cell_type": "code",
   "execution_count": null,
   "id": "bdd74714",
   "metadata": {},
   "outputs": [],
   "source": [
    "waybill_df.columns\n",
    "columns = ['ID','DEVICE_ID','ROUTE_ID']\n",
    "waybill_df = waybill_df[columns]"
   ]
  },
  {
   "cell_type": "code",
   "execution_count": null,
   "id": "5b8dfb7f",
   "metadata": {},
   "outputs": [],
   "source": [
    "# Check the number of route_id in waybill_df present in mergerd_busstops_routepoints\n",
    "waybill_df[waybill_df['ROUTE_ID'].isin(mergerd_busstops_routepoints['route_id'])]['ROUTE_ID'].nunique()"
   ]
  },
  {
   "cell_type": "code",
   "execution_count": null,
   "id": "93444f03",
   "metadata": {},
   "outputs": [],
   "source": [
    "# Find the route corrsponding to the DEVICE_ID == 150218177\n",
    "routes = waybill_df[waybill_df['DEVICE_ID'] == 150218177]['ROUTE_ID'].unique()"
   ]
  },
  {
   "cell_type": "code",
   "execution_count": null,
   "id": "2fffc92c",
   "metadata": {},
   "outputs": [],
   "source": [
    "# Plot the map in folium with respect to DEVICE_ID == 150218177 in  and route_id in routes\n",
    "m = folium.Map(location=[12.9716,77.5946],zoom_start=12)\n",
    "for index,row in mergerd_busstops_routepoints.iterrows():\n",
    "    if row['route_id'] in routes:\n",
    "        print(row['route_id'])\n",
    "        folium.Marker([row['origin_lat'],row['origin_long']],radius=0.01,color='red',fill=True).add_to(m)\n",
    "        folium.PolyLine([[row['origin_lat'],row['origin_long']],[row['destination_lat'],row['destination_long']]],color='blue').add_to(m)\n",
    "        folium.Marker([row['destination_lat'],row['destination_long']],radius=0.01,color='red',fill=True).add_to(m)\n",
    "for index,row in gps_df_bus1.iterrows():\n",
    "    folium.CircleMarker([row['LAT'],row['LONGITUDE']],radius=0.01,color='blue',fill=True).add_to(m)\n",
    "m.save('route.html')"
   ]
  },
  {
   "cell_type": "code",
   "execution_count": null,
   "id": "2fabff36",
   "metadata": {},
   "outputs": [],
   "source": [
    "routes"
   ]
  },
  {
   "cell_type": "code",
   "execution_count": null,
   "id": "1ef2a21c18c5f108",
   "metadata": {
    "collapsed": false
   },
   "outputs": [],
   "source": [
    "# Plot the gps pings present in gps_df_bus1 as circular marker and origin lat and origin long as red marker from merged_busstops_routepoints as marker\n",
    "m = folium.Map(location=[12.9716,77.5946],zoom_start=12)\n",
    "for idex,row in mergerd_busstops_routepoints.iterrows():\n",
    "    if idex in gps_df_bus1['segment_id'].unique():\n",
    "        folium.Marker([row['origin_lat'],row['origin_long']],popup=row['route_id'],icon=folium.Icon(color='red')).add_to(m)\n",
    "        folium.Marker([row['destination_lat'],row['destination_long']],popup=row['route_id'],icon=folium.Icon(color='red')).add_to(m)\n",
    "        folium.PolyLine([[row['origin_lat'],row['origin_long']],[row['destination_lat'],row['destination_long']]],color='red').add_to(m)\n",
    "    # folium.Marker([row['origin_lat'],row['origin_long']],popup=row['route_id'],icon=folium.Icon(color='red')).add_to(m)\n",
    "for index,row in gps_df_bus1.iterrows():\n",
    "    folium.CircleMarker([row['LAT'],row['LONGITUDE']],radius=0.01,color='blue',fill=True).add_to(m)\n",
    "\n",
    "m.save('bus1.html')\n",
    "    "
   ]
  },
  {
   "cell_type": "code",
   "execution_count": null,
   "id": "e3284deb",
   "metadata": {},
   "outputs": [],
   "source": [
    "# Get the stops cooresponding to the route_id == 1078\n",
    "stops = stop_times_df.loc[stop_times_df['route_id'] == 1078,'bus_stop_id']\n",
    "# Merge the stops_df with stops on bus_stop_id \n",
    "stops = pd.merge(stops,stops_df[['bus_stop_id','latitude_current','longitude_current']],on='bus_stop_id')"
   ]
  },
  {
   "cell_type": "code",
   "execution_count": null,
   "id": "bb4a20a1932cb87d",
   "metadata": {
    "collapsed": false
   },
   "outputs": [],
   "source": [
    "# Plot the stop_lat_long using Folium\n",
    "import folium\n",
    "m = folium.Map(location=[12.9716,77.5946],zoom_start=12)\n",
    "lat_list = stops['latitude_current'].tolist()\n",
    "long_list = stops['longitude_current'].tolist()\n",
    "for i in range(len(lat_list)-1):\n",
    "    folium.Marker([lat_list[i],long_list[i]],icon=folium.Icon(color='blue')).add_to(m)\n",
    "    folium.PolyLine([[lat_list[i],long_list[i]],[lat_list[i+1],long_list[i+1]]],color='red').add_to(m)       \n",
    "# Save the map as html file\n",
    "m.save('stops_full.html')"
   ]
  },
  {
   "cell_type": "code",
   "execution_count": null,
   "id": "b2eeada474d94603",
   "metadata": {
    "collapsed": false
   },
   "outputs": [],
   "source": [
    "# Plot the gps pings of DEVICE_ID == 150211826\n",
    "m = folium.Map(location=[12.9716,77.5946],zoom_start=12)\n",
    "for index,row in gps_df.loc[gps_df['DEVICE_ID'] == 150218012,:].iterrows():\n",
    "    folium.Marker([row['LAT'],row['LONGITUDE']],popup=row['DEVICE_ID']).add_to(m)\n",
    "\n",
    "m.save('gps.html')"
   ]
  },
  {
   "cell_type": "code",
   "execution_count": null,
   "id": "9d5af1b85b895b1",
   "metadata": {
    "collapsed": false
   },
   "outputs": [],
   "source": [
    "gps_df.loc[gps_df['DEVICE_ID'] == 150211826,:].count()"
   ]
  },
  {
   "cell_type": "code",
   "execution_count": null,
   "id": "a73af3a202787f9c",
   "metadata": {
    "collapsed": false
   },
   "outputs": [],
   "source": [
    "gps_df.DEVICE_ID.unique()"
   ]
  }
 ],
 "metadata": {
  "kernelspec": {
   "display_name": "Python 3",
   "language": "python",
   "name": "python3"
  },
  "language_info": {
   "codemirror_mode": {
    "name": "ipython",
    "version": 2
   },
   "file_extension": ".py",
   "mimetype": "text/x-python",
   "name": "python",
   "nbconvert_exporter": "python",
   "pygments_lexer": "ipython2",
   "version": "2.7.6"
  }
 },
 "nbformat": 4,
 "nbformat_minor": 5
}
